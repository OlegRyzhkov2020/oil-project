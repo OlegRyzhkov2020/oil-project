{
 "cells": [
  {
   "cell_type": "markdown",
   "metadata": {},
   "source": [
    "# Oil Project\n",
    "### Market Analysis by Countries"
   ]
  },
  {
   "cell_type": "code",
   "execution_count": 1,
   "metadata": {},
   "outputs": [],
   "source": [
    "import sqlalchemy as sqlalchemy_package\n",
    "from sqlalchemy.ext.automap import automap_base\n",
    "from sqlalchemy.orm import Session\n",
    "from sqlalchemy.orm import sessionmaker\n",
    "from sqlalchemy.orm import relationship\n",
    "from sqlalchemy.ext.automap import automap_base\n",
    "from sqlalchemy.ext.declarative import declarative_base\n",
    "from sqlalchemy.ext.declarative import DeferredReflection\n",
    "from sqlalchemy import *\n",
    "import pandas as pd\n",
    "import gmaps\n",
    "import warnings\n",
    "import config as creds\n",
    "import seaborn as sns\n",
    "import matplotlib.pyplot as plt\n",
    "from matplotlib.pylab import rcParams\n",
    "from matplotlib.cm import viridis, plasma\n",
    "from my_func import GoogleMapClient, GmapsAnalysis\n",
    "\n",
    "sns.set()\n",
    "warnings.filterwarnings('ignore')\n",
    "plt.rc('lines', linewidth=1)\n",
    "rcParams['figure.figsize'] = 12,6\n",
    "pd.set_option('display.max_colwidth', 40)\n",
    "pd.options.display.float_format = '{:,.2f}'.format"
   ]
  },
  {
   "cell_type": "code",
   "execution_count": 2,
   "metadata": {},
   "outputs": [],
   "source": [
    "# Set up a connection to the postgres server\n",
    "class postgre_sql():\n",
    "    def __init__(self, dbase = creds.PGDATABASE, dbschema = 'countries'):\n",
    "        DATABASE_URL = f\"postgres://{creds.PGUSER}:{creds.PGPASSWORD}@{creds.PGHOST}:5433/{dbase}\"\n",
    "        engine = sqlalchemy_package.create_engine(DATABASE_URL,\n",
    "                connect_args={'options': '-csearch_path={}'.format(dbschema)})\n",
    "        self.engine = engine\n",
    "    def auto_map(self):\n",
    "        # Declare a Base with explicit schema using `automap_base()`\n",
    "        Base = automap_base(bind=self.engine)\n",
    "        # Use the Base class to reflect the database tables\n",
    "        Base.prepare(self.engine, reflect=True)\n",
    "        return Base\n",
    "    def read_df(self, table='countries'):\n",
    "        return pd.read_sql(table, self.engine)"
   ]
  },
  {
   "cell_type": "code",
   "execution_count": 3,
   "metadata": {},
   "outputs": [
    {
     "data": {
      "text/plain": [
       "[]"
      ]
     },
     "execution_count": 3,
     "metadata": {},
     "output_type": "execute_result"
    }
   ],
   "source": [
    "# Print all of the classes mapped to the Base\n",
    "countries_db = postgre_sql()\n",
    "base = countries_db.auto_map()\n",
    "base.classes.keys()"
   ]
  },
  {
   "cell_type": "code",
   "execution_count": 4,
   "metadata": {},
   "outputs": [
    {
     "data": {
      "text/plain": [
       "'\\n--Top 10 countries by Oil, NGPL and other liquids Production in 2019\\nSELECT o.country, round(AVG(o.oil_prod),2) AS avg_oil\\nFROM countries AS c\\nINNER JOIN oil_production as o\\nON c.country_code = o.code\\nINNER JOIN petrol_production as p\\nON c.country_code = p.code\\nWHERE o.year = 2019\\nGROUP BY o.country\\nORDER BY avg_oil DESC\\nLIMIT 10\\n'"
      ]
     },
     "execution_count": 4,
     "metadata": {},
     "output_type": "execute_result"
    }
   ],
   "source": [
    "\"\"\"\n",
    "--Top 10 countries by Oil, NGPL and other liquids Production in 2019\n",
    "SELECT o.country, round(AVG(o.oil_prod),2) AS avg_oil\n",
    "FROM countries AS c\n",
    "INNER JOIN oil_production as o\n",
    "ON c.country_code = o.code\n",
    "INNER JOIN petrol_production as p\n",
    "ON c.country_code = p.code\n",
    "WHERE o.year = 2019\n",
    "GROUP BY o.country\n",
    "ORDER BY avg_oil DESC\n",
    "LIMIT 10\n",
    "\"\"\""
   ]
  },
  {
   "cell_type": "code",
   "execution_count": 13,
   "metadata": {},
   "outputs": [
    {
     "data": {
      "text/html": [
       "<div>\n",
       "<style scoped>\n",
       "    .dataframe tbody tr th:only-of-type {\n",
       "        vertical-align: middle;\n",
       "    }\n",
       "\n",
       "    .dataframe tbody tr th {\n",
       "        vertical-align: top;\n",
       "    }\n",
       "\n",
       "    .dataframe thead th {\n",
       "        text-align: right;\n",
       "    }\n",
       "</style>\n",
       "<table border=\"1\" class=\"dataframe\">\n",
       "  <thead>\n",
       "    <tr style=\"text-align: right;\">\n",
       "      <th></th>\n",
       "      <th>country</th>\n",
       "      <th>production</th>\n",
       "    </tr>\n",
       "  </thead>\n",
       "  <tbody>\n",
       "    <tr>\n",
       "      <th>0</th>\n",
       "      <td>United States</td>\n",
       "      <td>18,388.33</td>\n",
       "    </tr>\n",
       "    <tr>\n",
       "      <th>1</th>\n",
       "      <td>Saudi Arabia</td>\n",
       "      <td>11,789.92</td>\n",
       "    </tr>\n",
       "    <tr>\n",
       "      <th>2</th>\n",
       "      <td>Russia</td>\n",
       "      <td>11,457.83</td>\n",
       "    </tr>\n",
       "    <tr>\n",
       "      <th>3</th>\n",
       "      <td>Canada</td>\n",
       "      <td>5,418.92</td>\n",
       "    </tr>\n",
       "    <tr>\n",
       "      <th>4</th>\n",
       "      <td>Iraq</td>\n",
       "      <td>4,755.00</td>\n",
       "    </tr>\n",
       "    <tr>\n",
       "      <th>5</th>\n",
       "      <td>China</td>\n",
       "      <td>4,533.83</td>\n",
       "    </tr>\n",
       "    <tr>\n",
       "      <th>6</th>\n",
       "      <td>United Arab Emirates</td>\n",
       "      <td>3,996.17</td>\n",
       "    </tr>\n",
       "    <tr>\n",
       "      <th>7</th>\n",
       "      <td>Brazil</td>\n",
       "      <td>3,595.67</td>\n",
       "    </tr>\n",
       "    <tr>\n",
       "      <th>8</th>\n",
       "      <td>Iran</td>\n",
       "      <td>3,214.00</td>\n",
       "    </tr>\n",
       "    <tr>\n",
       "      <th>9</th>\n",
       "      <td>Kuwait</td>\n",
       "      <td>2,940.83</td>\n",
       "    </tr>\n",
       "  </tbody>\n",
       "</table>\n",
       "</div>"
      ],
      "text/plain": [
       "                country  production\n",
       "0         United States   18,388.33\n",
       "1          Saudi Arabia   11,789.92\n",
       "2                Russia   11,457.83\n",
       "3                Canada    5,418.92\n",
       "4                  Iraq    4,755.00\n",
       "5                 China    4,533.83\n",
       "6  United Arab Emirates    3,996.17\n",
       "7                Brazil    3,595.67\n",
       "8                  Iran    3,214.00\n",
       "9                Kuwait    2,940.83"
      ]
     },
     "execution_count": 13,
     "metadata": {},
     "output_type": "execute_result"
    }
   ],
   "source": [
    "sql_product = base.classes.oil_production\n",
    "countries = base.classes.countries\n",
    "# Create a session\n",
    "session = Session(countries_db.engine)\n",
    "# Use the session to query countries table and display data for 2019\n",
    "stmt = session.query(sql_product.country, func.avg(sql_product.oil_prod).label('production')).\\\n",
    "                    filter(sql_product.year == 2019).group_by(sql_product.country).\\\n",
    "                    order_by(desc('production')).statement\n",
    "data = pd.read_sql_query(stmt, session.bind)\n",
    "data.head(10)"
   ]
  },
  {
   "cell_type": "code",
   "execution_count": 23,
   "metadata": {},
   "outputs": [
    {
     "data": {
      "text/html": [
       "<div>\n",
       "<style scoped>\n",
       "    .dataframe tbody tr th:only-of-type {\n",
       "        vertical-align: middle;\n",
       "    }\n",
       "\n",
       "    .dataframe tbody tr th {\n",
       "        vertical-align: top;\n",
       "    }\n",
       "\n",
       "    .dataframe thead th {\n",
       "        text-align: right;\n",
       "    }\n",
       "</style>\n",
       "<table border=\"1\" class=\"dataframe\">\n",
       "  <thead>\n",
       "    <tr style=\"text-align: right;\">\n",
       "      <th></th>\n",
       "      <th>country</th>\n",
       "      <th>country_code</th>\n",
       "      <th>production</th>\n",
       "    </tr>\n",
       "  </thead>\n",
       "  <tbody>\n",
       "    <tr>\n",
       "      <th>0</th>\n",
       "      <td>United States</td>\n",
       "      <td>USA</td>\n",
       "      <td>18,388.33</td>\n",
       "    </tr>\n",
       "    <tr>\n",
       "      <th>1</th>\n",
       "      <td>Saudi Arabia</td>\n",
       "      <td>SAU</td>\n",
       "      <td>11,789.92</td>\n",
       "    </tr>\n",
       "    <tr>\n",
       "      <th>2</th>\n",
       "      <td>Russia</td>\n",
       "      <td>RUS</td>\n",
       "      <td>11,457.83</td>\n",
       "    </tr>\n",
       "    <tr>\n",
       "      <th>3</th>\n",
       "      <td>Canada</td>\n",
       "      <td>CAN</td>\n",
       "      <td>5,418.92</td>\n",
       "    </tr>\n",
       "    <tr>\n",
       "      <th>4</th>\n",
       "      <td>Iraq</td>\n",
       "      <td>IRQ</td>\n",
       "      <td>4,755.00</td>\n",
       "    </tr>\n",
       "  </tbody>\n",
       "</table>\n",
       "</div>"
      ],
      "text/plain": [
       "         country country_code  production\n",
       "0  United States          USA   18,388.33\n",
       "1   Saudi Arabia          SAU   11,789.92\n",
       "2         Russia          RUS   11,457.83\n",
       "3         Canada          CAN    5,418.92\n",
       "4           Iraq          IRQ    4,755.00"
      ]
     },
     "execution_count": 23,
     "metadata": {},
     "output_type": "execute_result"
    }
   ],
   "source": [
    "sql_product = base.classes.oil_production\n",
    "countries = base.classes.countries\n",
    "# Create a session\n",
    "session = Session(countries_db.engine)\n",
    "# Use the session to query countries table and display data for 2019\n",
    "stmt = session.query(sql_product.country, countries.country_code, func.avg(sql_product.oil_prod).label('production')).\\\n",
    "                    join(countries, sql_product.code == countries.country_code).\\\n",
    "                    filter(sql_product.year == 2019).group_by(sql_product.country, countries.country_code).\\\n",
    "                    order_by(desc('production')).statement\n",
    "data = pd.read_sql_query(stmt, session.bind)\n",
    "data.head()"
   ]
  },
  {
   "cell_type": "code",
   "execution_count": 24,
   "metadata": {},
   "outputs": [],
   "source": [
    "data.to_csv('../outputs/product_2019.csv')"
   ]
  },
  {
   "cell_type": "code",
   "execution_count": 7,
   "metadata": {},
   "outputs": [
    {
     "data": {
      "application/vnd.jupyter.widget-view+json": {
       "model_id": "3af39699123845c0abc711f079cf2a36",
       "version_major": 2,
       "version_minor": 0
      },
      "text/plain": [
       "Figure(layout=FigureLayout(height='420px'))"
      ]
     },
     "metadata": {},
     "output_type": "display_data"
    }
   ],
   "source": [
    "oil_map = GmapsAnalysis(data)\n",
    "oil_map.color_map(cmap_color = plasma)\n",
    "oil_map.fig"
   ]
  },
  {
   "cell_type": "markdown",
   "metadata": {},
   "source": [
    "![oil_map](images/oil_prod_2019.png)"
   ]
  },
  {
   "cell_type": "code",
   "execution_count": null,
   "metadata": {},
   "outputs": [],
   "source": []
  }
 ],
 "metadata": {
  "kernelspec": {
   "display_name": "Python 3",
   "language": "python",
   "name": "python3"
  },
  "language_info": {
   "codemirror_mode": {
    "name": "ipython",
    "version": 3
   },
   "file_extension": ".py",
   "mimetype": "text/x-python",
   "name": "python",
   "nbconvert_exporter": "python",
   "pygments_lexer": "ipython3",
   "version": "3.6.10"
  }
 },
 "nbformat": 4,
 "nbformat_minor": 4
}
