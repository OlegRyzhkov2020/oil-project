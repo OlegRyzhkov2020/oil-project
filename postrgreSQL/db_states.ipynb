{
 "cells": [
  {
   "cell_type": "code",
   "execution_count": 1,
   "metadata": {},
   "outputs": [],
   "source": [
    "%matplotlib inline\n",
    "from matplotlib import style\n",
    "style.use('fivethirtyeight')\n",
    "import matplotlib.pyplot as plt\n",
    "import seaborn as sns\n",
    "sns.set()\n",
    "import numpy as np\n",
    "import pandas as pd\n",
    "import datetime as dt\n",
    "import gmaps\n",
    "import gmaps.geojson_geometries\n",
    "\n",
    "import sqlalchemy as sqlalchemy_package\n",
    "from sqlalchemy.ext.automap import automap_base\n",
    "from sqlalchemy.orm import Session\n",
    "from sqlalchemy.orm import sessionmaker\n",
    "from sqlalchemy.orm import relationship\n",
    "from sqlalchemy.ext.automap import automap_base\n",
    "from sqlalchemy.ext.declarative import declarative_base\n",
    "from sqlalchemy.ext.declarative import DeferredReflection\n",
    "from sqlalchemy import *\n",
    "\n",
    "import requests\n",
    "import pickle\n",
    "import config as creds\n",
    "from urllib.parse import urlencode, urlparse, parse_qsl\n",
    "\n",
    "from my_func import GoogleMapClient\n",
    "# Import my GoogleMap object with following methods:\n",
    "        # extract_lat_lng(location)\n",
    "        # search(keyword, radius = 1000, location=None)\n",
    "        # detail(place_id, fields=[\"name\", \"rating\", \"formatted_phone_number\", \"formatted_address\"])"
   ]
  },
  {
   "cell_type": "code",
   "execution_count": 8,
   "metadata": {},
   "outputs": [],
   "source": [
    "import json"
   ]
  },
  {
   "cell_type": "code",
   "execution_count": 2,
   "metadata": {},
   "outputs": [],
   "source": [
    "# Set up a connection to the postgres server\n",
    "DATABASE_URL = f\"postgres://{creds.PGUSER}:{creds.PGPASSWORD}@{creds.PGHOST}:5432/{creds.PGDATABASE}\"\n",
    "engine = sqlalchemy_package.create_engine(DATABASE_URL)\n",
    "\n",
    "# US Energy Information Administration API Query Browser, Open Data Source\n",
    "class EIA_Client():\n",
    "    api_key=None\n",
    "    def __init__(self, api_key=creds.eai_key, data='category', *args, **kwargs):\n",
    "        super().__init__(*args, **kwargs)\n",
    "        if api_key == None:\n",
    "            raise Exception('Api key is required')\n",
    "        self.api_key = api_key\n",
    "        self. eia_url = f\"http://api.eia.gov/{data}/\"\n",
    "    def category(self, cat = 1293027):\n",
    "        params = {'api_key': self.api_key, 'category_id':cat}\n",
    "        params_url = urlencode(params)\n",
    "        url = f\"{self.eia_url}?{params_url}\"\n",
    "        response = requests.get(url).json()\n",
    "        return response\n",
    "    def series(self, ser = 'INTL.55-1-AFG-TBPD.M'):\n",
    "        params = {'api_key': self.api_key, 'series_id':ser}\n",
    "        params_url = urlencode(params)\n",
    "        url = f\"{self.eia_url}?{params_url}\"\n",
    "        response = requests.get(url).json()\n",
    "        return response\n",
    "eia_client = EIA_Client()"
   ]
  },
  {
   "cell_type": "markdown",
   "metadata": {},
   "source": [
    "## Define Schema and Tables for States Data"
   ]
  },
  {
   "cell_type": "code",
   "execution_count": 3,
   "metadata": {},
   "outputs": [],
   "source": [
    "Base = declarative_base()\n",
    "\n",
    "# Creating Schema States\n",
    "class States(Base):\n",
    "    __tablename__ = \"states\"\n",
    "    state_code = Column(String, primary_key=True)\n",
    "    state = Column(String)\n",
    "    state_lat = Column(Float)\n",
    "    state_lng = Column(Float)\n",
    "    state_refineries = relationship('Refineries', backref = 'states')\n",
    "    state_ports = relationship('Ports', backref = 'states')\n",
    "\n",
    "class Ports(Base):\n",
    "    __tablename__ = \"ports\"\n",
    "    port_eia_id = Column(Integer, primary_key=True)\n",
    "    state_code = Column(String, ForeignKey('states.state_code'))\n",
    "    port_name = Column(String)\n",
    "    port_lat = Column(Float)\n",
    "    port_lng = Column(Float)\n",
    "\n",
    "class Refineries(Base):\n",
    "    __tablename__ = \"refineries\"\n",
    "    ref_eia_id = Column(Integer, primary_key=True)\n",
    "    state_code = Column(String, ForeignKey('states.state_code'))\n",
    "    refinery_name = Column(String)\n",
    "    refinery_place = Column(String)\n",
    "    refinery_lat = Column(Float)\n",
    "    refinery_lng = Column(Float)\n",
    "    \n",
    "States.__table__.create(bind=engine, checkfirst=True)\n",
    "Ports.__table__.create(bind=engine, checkfirst=True)\n",
    "Refineries.__table__.create(bind=engine, checkfirst=True)"
   ]
  },
  {
   "cell_type": "markdown",
   "metadata": {},
   "source": [
    "## Clean and Transform States Data"
   ]
  },
  {
   "cell_type": "code",
   "execution_count": 4,
   "metadata": {},
   "outputs": [
    {
     "name": "stdout",
     "output_type": "stream",
     "text": [
      "Processing records: appended  10  of ports\n",
      "Processing records: appended  20  of ports\n",
      "Processing records: appended  30  of ports\n",
      "Processing records: appended  40  of ports\n",
      "Processing records: appended  50  of ports\n",
      "Processing records: appended  60  of ports\n",
      "Processing records: appended  70  of ports\n",
      "Processing records: appended  80  of ports\n",
      "Processing records: appended  90  of ports\n",
      "Processing records: appended  100  of ports\n",
      "Processing records: appended  110  of ports\n"
     ]
    }
   ],
   "source": [
    "# Transform Nested JSON from API request into a list of dictionaries\n",
    "# Ports Data\n",
    "ports_json = eia_client.category()['category']['childcategories']\n",
    "ports=[]\n",
    "for result in ports_json:\n",
    "    row = {}\n",
    "    port_id, port_full_name = result.get('category_id'), result.get('name')\n",
    "    port_full_name = port_full_name.split(\", \", 2)\n",
    "    port_name = port_full_name[0]\n",
    "    state_code = port_full_name[1]\n",
    "    client = GoogleMapClient(api_key = creds.g_key, address_or_postal_code = f\"{port_name}, {state_code}\")\n",
    "    lat, lng = client.extract_lat_lng()\n",
    "    row['port_eia_id'] = port_id\n",
    "    row['state_code'] = state_code \n",
    "    row['port_name'] = port_name\n",
    "    row['port_lat'] = lat\n",
    "    row['port_lng'] = lng\n",
    "    ports.append(row)\n",
    "    num_of_ports = len(ports)\n",
    "    if num_of_ports % 10 == 0: \n",
    "            print('Processing records: appended ', num_of_ports,' of ports')"
   ]
  },
  {
   "cell_type": "code",
   "execution_count": 15,
   "metadata": {},
   "outputs": [],
   "source": [
    "# Saving data to json file\n",
    "# with open('../data_visualization/us_ports.json', 'w') as fout:\n",
    "#    json.dump(ports , fout)"
   ]
  },
  {
   "cell_type": "code",
   "execution_count": 5,
   "metadata": {},
   "outputs": [],
   "source": [
    "# Refineries Data   \n",
    "refinery_json = eia_client.category(cat=1292739)['category']['childcategories']\n",
    "refineries = []\n",
    "for result in refinery_json:\n",
    "    row = {}\n",
    "    refinery_id, refinery_full_name = result.get('category_id'), result.get('name')\n",
    "    refinery_full_name = refinery_full_name.split(\" / \", 3)\n",
    "    refinery_name = refinery_full_name[0]\n",
    "    refinery_place = refinery_full_name[1]\n",
    "    state_code = refinery_full_name[2]\n",
    "    client = GoogleMapClient(api_key = creds.g_key, address_or_postal_code = f\"{refinery_full_name}\")\n",
    "    lat, lng = client.extract_lat_lng()\n",
    "    if state_code == 'SUGARLAND': state_code = 'TX'\n",
    "    if state_code == 'WILMINGTON': state_code = 'CA'\n",
    "    row['ref_eia_id'] = refinery_id\n",
    "    row['state_code'] = state_code\n",
    "    row['refinery_name'] = refinery_name\n",
    "    row['refinery_place'] = refinery_place\n",
    "    row['refinery_lat'] = lat\n",
    "    row['refinery_lng'] = lng \n",
    "    if 'UNKNOWN' not in refinery_name: refineries.append(row)\n",
    "    num_of_refineries = len(ports)\n",
    "    if num_of_refineries % 30 == 0: \n",
    "            print('Processing records: appended ', num_of_refineries,' of refineries')"
   ]
  },
  {
   "cell_type": "code",
   "execution_count": 14,
   "metadata": {},
   "outputs": [],
   "source": [
    "# Saving data to json file\n",
    "# with open('../data_visualization/us_refineries.json', 'w') as fout:\n",
    "#    json.dump(refineries , fout)"
   ]
  },
  {
   "cell_type": "code",
   "execution_count": 12,
   "metadata": {},
   "outputs": [],
   "source": [
    "# Transform States Data from CSV\n",
    "states_df = pd.read_csv('../resources/us_states.csv')\n",
    "states =[]\n",
    "for result in states_df.itertuples():\n",
    "    row = {}\n",
    "    row['state_code'] = result.State\n",
    "    row['state'] = result.City\n",
    "    row['state_lat'] = round(result.Latitude, 4)\n",
    "    row['state_lng'] = round(result.Longitude, 4)\n",
    "    states.append(row)\n",
    "virgin_islands = {'state_code': 'VI', 'state': 'US Virgin Islands',\n",
    "                  'state_lat': 18.3434, 'state_lng': -64.8672}\n",
    "states.append(virgin_islands)"
   ]
  },
  {
   "cell_type": "code",
   "execution_count": 13,
   "metadata": {},
   "outputs": [],
   "source": [
    "# Saving data to json file\n",
    "# with open('../data_visualization/us_states.json', 'w') as fout:\n",
    "#    json.dump(states , fout)"
   ]
  },
  {
   "cell_type": "markdown",
   "metadata": {},
   "source": [
    "## Load Data into the Database via Session API"
   ]
  },
  {
   "cell_type": "code",
   "execution_count": null,
   "metadata": {},
   "outputs": [],
   "source": [
    "Session = sessionmaker(bind=engine)\n",
    "session = Session()\n",
    "\n",
    "# Uploading states\n",
    "for state in states:\n",
    "    row = States(**state)\n",
    "    session.add(row)\n",
    "\n",
    "# Uploading ports\n",
    "for port in ports:\n",
    "    row = Ports(**port)\n",
    "    session.add(row)\n",
    "\n",
    "# Uploading refineries\n",
    "for refinery in refineries:\n",
    "    row = Refineries(**refinery)\n",
    "    session.add(row)\n",
    "    \n",
    "session.commit()"
   ]
  }
 ],
 "metadata": {
  "kernelspec": {
   "display_name": "Python 3",
   "language": "python",
   "name": "python3"
  },
  "language_info": {
   "codemirror_mode": {
    "name": "ipython",
    "version": 3
   },
   "file_extension": ".py",
   "mimetype": "text/x-python",
   "name": "python",
   "nbconvert_exporter": "python",
   "pygments_lexer": "ipython3",
   "version": "3.8.2"
  }
 },
 "nbformat": 4,
 "nbformat_minor": 4
}
