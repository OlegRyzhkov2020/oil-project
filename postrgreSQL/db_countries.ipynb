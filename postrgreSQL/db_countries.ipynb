{
 "cells": [
  {
   "cell_type": "code",
   "execution_count": 1,
   "metadata": {},
   "outputs": [],
   "source": [
    "%matplotlib inline\n",
    "from matplotlib import style\n",
    "style.use('fivethirtyeight')\n",
    "import matplotlib.pyplot as plt\n",
    "import seaborn as sns\n",
    "sns.set()\n",
    "import numpy as np\n",
    "import pandas as pd\n",
    "import datetime as dt\n",
    "import gmaps\n",
    "import gmaps.geojson_geometries\n",
    "\n",
    "import sqlalchemy as sqlalchemy_package\n",
    "from sqlalchemy.ext.automap import automap_base\n",
    "from sqlalchemy.orm import Session\n",
    "from sqlalchemy.orm import sessionmaker\n",
    "from sqlalchemy.orm import relationship\n",
    "from sqlalchemy.ext.automap import automap_base\n",
    "from sqlalchemy.ext.declarative import declarative_base\n",
    "from sqlalchemy.ext.declarative import DeferredReflection\n",
    "from sqlalchemy import *\n",
    "\n",
    "import requests\n",
    "import pickle\n",
    "import config as creds\n",
    "from urllib.parse import urlencode, urlparse, parse_qsl\n",
    "\n",
    "from my_func import GoogleMapClient\n",
    "# Import my GoogleMap object with following methods:\n",
    "        # extract_lat_lng(location)\n",
    "        # search(keyword, radius = 1000, location=None)\n",
    "        # detail(place_id, fields=[\"name\", \"rating\", \"formatt"
   ]
  },
  {
   "cell_type": "code",
   "execution_count": 2,
   "metadata": {},
   "outputs": [],
   "source": [
    "# Set up a connection to the postgres server\n",
    "class postgre_sql():\n",
    "    def __init__(self, dbase = creds.PGDATABASE, dbschema = 'countries'):\n",
    "        DATABASE_URL = f\"postgres://{creds.PGUSER}:{creds.PGPASSWORD}@{creds.PGHOST}:5433/{dbase}\"\n",
    "        engine = sqlalchemy_package.create_engine(DATABASE_URL,\n",
    "                connect_args={'options': '-csearch_path={}'.format(dbschema)})\n",
    "        self.engine = engine\n",
    "    def declare(self):\n",
    "        # Declare a Base with explicit schema using `automap_base()`\n",
    "        Base = declarative_base()\n",
    "        return Base\n",
    "\n",
    "# US Energy Information Administration API Query Browser, Open Data Source\n",
    "class EIA_Client():\n",
    "    api_key=None\n",
    "    def __init__(self, api_key=creds.eai_key, data='category', *args, **kwargs):\n",
    "        super().__init__(*args, **kwargs)\n",
    "        if api_key == None:\n",
    "            raise Exception('Api key is required')\n",
    "        self.api_key = api_key\n",
    "        self. eia_url = f\"http://api.eia.gov/{data}/\"\n",
    "    def category(self, cat = 1293027):\n",
    "        params = {'api_key': self.api_key, 'category_id':cat}\n",
    "        params_url = urlencode(params)\n",
    "        url = f\"{self.eia_url}?{params_url}\"\n",
    "        response = requests.get(url).json()\n",
    "        return response\n",
    "    def series(self, ser = 'INTL.55-1-AFG-TBPD.M'):\n",
    "        params = {'api_key': self.api_key, 'series_id':ser}\n",
    "        params_url = urlencode(params)\n",
    "        url = f\"{self.eia_url}?{params_url}\"\n",
    "        response = requests.get(url).json()\n",
    "        return response"
   ]
  },
  {
   "cell_type": "code",
   "execution_count": 3,
   "metadata": {},
   "outputs": [],
   "source": [
    "# Creating objects\n",
    "countries_db = postgre_sql()\n",
    "base_db = countries_db.declare()\n",
    "eia_client = EIA_Client()"
   ]
  },
  {
   "cell_type": "markdown",
   "metadata": {},
   "source": [
    "## Clean, Transform and Normalization of Countries Data from EIA"
   ]
  },
  {
   "cell_type": "code",
   "execution_count": 5,
   "metadata": {},
   "outputs": [],
   "source": [
    "remove_list = ['Africa', 'Asia & Oceania', 'Central & South America', 'European Union', 'Eurasia', 'Europe', 'IEA',\n",
    "              'Middle East', 'North America', 'Non-OECD', 'OECD - Asia And Oceania', 'OECD', 'OECD - Europe', 'OECD - North America',\n",
    "               'OPEC - Africa', 'OPEC', 'Non-OPEC', 'OPEC - South America', 'Persian Gulf', 'Former Serbia and Montenegro', 'Former U.S.S.R.',\n",
    "               'World', 'Australia and New Zealand', 'IEO - Africa', 'Mexico and Chile', 'IEO - Middle East', 'IEO OECD - Europe',\n",
    "               'Other Non-OECD - America', 'Other Non-OECD - Asia', 'Other Non-OECD - Europe and Eurasia']\n",
    "rename_dict = {'Aruba': 'Netherlands', 'Bermuda': 'United Kingdom', 'Cote d?Ivoire': 'Ivory Coast', 'Congo-Kinshasa': 'Democratic Republic of the Congo',\n",
    "               'Congo-Brazzaville': 'Republic of Congo', 'Cook Islands': 'New Zealand', 'Cabo Verde':'Guinea Bissau', 'Gibraltar':'United Kingdom',\n",
    "               'Guadeloupe':'France', 'Guinea-Bissau':'Guinea Bissau', 'French Guiana':'France', 'Hawaiian Trade Zone': 'United States of America',\n",
    "               'Hong Kong':'Hong Kong S.A.R.', 'Macau':'China', 'Maldives':'United Kingdom', 'North Macedonia':'Macedonia', 'Burma':'Myanmar',\n",
    "               'Montserrat':'United Kingdom', 'Martinique':'France', 'Netherlands Antilles':'Netherlands', 'Nauru':'Australia', \n",
    "               'Palestinian Territories':'Palestine','Reunion':'France', 'Serbia':'Republic of Serbia', 'Eswatini':'Swaziland',\n",
    "               'Seychelles':'United Kingdom', 'Turks and Caicos Islands':'United Kingdom', 'Timor-Leste':'United Kingdom',\n",
    "               'Tanzania':'United Republic of Tanzania', 'U.S. Virgin Islands':'United States Virgin Islands', 'United States':'United States of America',\n",
    "               'U.S. Pacific Islands':'United States of America', 'Saint Vincent/Grenadines':'Saint Vincent and the Grenadines', 'British Virgin Islands':'United Kingdom',\n",
    "               'Wake Island':'United States of America'\n",
    "                  }\n",
    "norm_countries = pickle.load(open('../outputs/norm_countries.pkl', 'rb'))"
   ]
  },
  {
   "cell_type": "code",
   "execution_count": 6,
   "metadata": {},
   "outputs": [],
   "source": [
    "# Cleaning records for countries considering remove_list, rename_dict\n",
    "def clean_data(data_list, remove_list=remove_list, rename_dict=rename_dict):\n",
    "    clean_data = []\n",
    "    for record in data_list:\n",
    "        if record['code'] in rename_dict.keys():\n",
    "            record['code'] = rename_dict[record['code']]\n",
    "        if record['code'] not in remove_list:\n",
    "            clean_data.append(record)\n",
    "    return clean_data\n",
    "\n",
    "# Normalize Data Country_Code\n",
    "def norm_data(data_list):\n",
    "    for record in data_list:\n",
    "        for row in norm_countries:\n",
    "            if record['code'] == row['country']:\n",
    "                record['code'] = row['country_code']\n",
    "    return data_list"
   ]
  },
  {
   "cell_type": "markdown",
   "metadata": {},
   "source": [
    "#### Creating Countries List"
   ]
  },
  {
   "cell_type": "code",
   "execution_count": 7,
   "metadata": {},
   "outputs": [
    {
     "name": "stdout",
     "output_type": "stream",
     "text": [
      "List of official names of 206 world countries:\n",
      " ['Afghanistan', 'Albania', 'Algeria', 'Andorra', 'Angola', 'Antigua and Barbuda', 'Argentina', 'Armenia', 'Australia', 'Austria', 'Azerbaijan', 'Bahamas', 'Bahrain', 'Bangladesh', 'Barbados', 'Belarus', 'Belgium', 'Belize', 'Benin', 'Bhutan', 'Bolivia (Plurinational State of)', 'Bosnia and Herzegovina', 'Botswana', 'Brazil', 'Brunei Darussalam', 'Bulgaria', 'Burkina Faso', 'Burundi', 'Cabo Verde', 'Cambodia', 'Cameroon', 'Canada', 'Central African Republic', 'Chad', 'Chile', 'China', 'Colombia', 'Comoros', 'Congo', 'Congo, Democratic Republic of the', 'Costa Rica', \"Côte d'Ivoire\", 'Croatia', 'Cuba', 'Cyprus', 'Czechia', 'Denmark', 'Djibouti', 'Dominica', 'Dominican Republic', 'Ecuador', 'Egypt', 'El Salvador', 'Equatorial Guinea', 'Eritrea', 'Estonia', 'Eswatini', 'Ethiopia', 'Fiji', 'Finland', 'France', 'Gabon', 'Gambia', 'Georgia', 'Germany', 'Ghana', 'Greece', 'Grenada', 'Guatemala', 'Guinea', 'Guinea-Bissau', 'Guyana', 'Haiti', 'Honduras', 'Hungary', 'Iceland', 'India', 'Indonesia', 'Iran (Islamic Republic of)', 'Iraq', 'Ireland', 'Israel', 'Italy', 'Jamaica', 'Japan', 'Jordan', 'Kazakhstan', 'Kenya', 'Kiribati', \"Korea (Democratic People's Republic of)\", 'Korea, Republic of', 'Kuwait', 'Kyrgyzstan', \"Lao People's Democratic Republic\", 'Latvia', 'Lebanon', 'Lesotho', 'Liberia', 'Libya', 'Liechtenstein', 'Lithuania', 'Luxembourg', 'Madagascar', 'Malawi', 'Malaysia', 'Maldives', 'Mali', 'Malta', 'Marshall Islands', 'Mauritania', 'Mauritius', 'Mexico', 'Micronesia (Federated States of)', 'Moldova, Republic of', 'Monaco', 'Mongolia', 'Montenegro', 'Morocco', 'Mozambique', 'Myanmar', 'Namibia', 'Nauru', 'Nepal', 'Netherlands', 'New Zealand', 'Nicaragua', 'Niger', 'Nigeria', 'North Macedonia', 'Norway', 'Oman', 'Pakistan', 'Palau', 'Panama', 'Papua New Guinea', 'Paraguay', 'Peru', 'Philippines', 'Poland', 'Portugal', 'Qatar', 'Romania', 'Russian Federation', 'Rwanda', 'Saint Kitts and Nevis', 'Saint Lucia', 'Saint Vincent and the Grenadines', 'Samoa', 'San Marino', 'Sao Tome and Principe', 'Saudi Arabia', 'Senegal', 'Serbia', 'Seychelles', 'Sierra Leone', 'Singapore', 'Slovakia', 'Slovenia', 'Solomon Islands', 'Somalia', 'South Africa', 'South Sudan', 'Spain', 'Sri Lanka', 'Sudan', 'Suriname', 'Sweden', 'Switzerland', 'Syrian Arab Republic', 'Tajikistan', 'Tanzania, United Republic of', 'Thailand', 'Timor-Leste', 'Togo', 'Tonga', 'Trinidad and Tobago', 'Tunisia', 'Turkey', 'Turkmenistan', 'Tuvalu', 'Uganda', 'Ukraine', 'United Arab Emirates', 'United Kingdom of Great Britain and Northern Ireland', 'United States of America', 'Uruguay', 'Uzbekistan', 'Vanuatu', 'Venezuela (Bolivarian Republic of)', 'Viet Nam', 'Yemen', 'Zambia', 'Zimbabwe']\n"
     ]
    }
   ],
   "source": [
    "# Transform Countries Data from CSV\n",
    "countries_df = pd.read_csv('../countries/data/en/countries.csv')\n",
    "countries =[]\n",
    "for result in countries_df.itertuples():\n",
    "    row = {}\n",
    "    row['country_code'] = result.alpha3.upper()\n",
    "    row['country'] = result.name\n",
    "    countries.append(row)\n",
    "print('List of official names of 206 world countries:\\n', [row['country'] for row in countries])"
   ]
  },
  {
   "cell_type": "code",
   "execution_count": 8,
   "metadata": {},
   "outputs": [
    {
     "data": {
      "text/plain": [
       "217"
      ]
     },
     "execution_count": 8,
     "metadata": {},
     "output_type": "execute_result"
    }
   ],
   "source": [
    "# List of 217 World Countries in gmaps built in geometry JSON file\n",
    "countries_geojson = gmaps.geojson_geometries.load_geometry('countries')\n",
    "gmaps_list = []\n",
    "for feature in countries_geojson['features']:\n",
    "    gmaps_list.append(feature['properties']['name'])\n",
    "len(gmaps_list)"
   ]
  },
  {
   "cell_type": "code",
   "execution_count": 9,
   "metadata": {},
   "outputs": [
    {
     "data": {
      "text/plain": [
       "56"
      ]
     },
     "execution_count": 9,
     "metadata": {},
     "output_type": "execute_result"
    }
   ],
   "source": [
    "# Intersection between countries list (gmaps and CSV countries)\n",
    "world_list = []\n",
    "for row in countries:\n",
    "    world_list.append(row['country'])\n",
    "len([x for x in gmaps_list if x not in world_list])"
   ]
  },
  {
   "cell_type": "markdown",
   "metadata": {},
   "source": [
    "#### Extracting Oil, NGPL and other Liquids Production Data by Countries"
   ]
  },
  {
   "cell_type": "code",
   "execution_count": 10,
   "metadata": {},
   "outputs": [
    {
     "name": "stdout",
     "output_type": "stream",
     "text": [
      "Processing records: appended  3300  of countries records\n",
      "Processing records: appended  6600  of countries records\n",
      "Processing records: appended  9900  of countries records\n",
      "Processing records: appended  13200  of countries records\n",
      "Processing records: appended  16500  of countries records\n",
      "Processing records: appended  19800  of countries records\n",
      "Processing records: appended  23100  of countries records\n",
      "Processing records: appended  26400  of countries records\n"
     ]
    }
   ],
   "source": [
    "# Oil Production Data by Countries\n",
    "eia_client.__init__(data='category')\n",
    "production_json = eia_client.category(cat=2134947)\n",
    "production_list = production_json['category']['childseries']\n",
    "production_data = []\n",
    "eia_client.__init__(data='series')\n",
    "for record in production_list:\n",
    "    series_id, series_name, series_units = record.get('series_id'), record.get('name'), record.get('units')\n",
    "    series_name = series_name.split(\", \", 5)\n",
    "    if (series_name[4] == 'Monthly') & (series_name[3] not in [row['country'] for row in production_data]):\n",
    "        series_json = eia_client.series(ser = series_id)\n",
    "        series_data = series_json['series'][0]['data']\n",
    "        for ser in series_data:\n",
    "            row = {}\n",
    "            row['code'] = series_name[3]\n",
    "            row['country'] = series_name[3]\n",
    "            row['year'] = int(str(ser[0])[:4])\n",
    "            row['month'] = int(str(ser[0])[-2:])\n",
    "            row['oil_prod'] = [0 if isinstance(ser[1], str) else ser[1]][0] \n",
    "            production_data.append(row)\n",
    "        num_of_records = len(production_data)\n",
    "        if num_of_records % 100 == 0: \n",
    "            print('Processing records: appended ', num_of_records,' of countries records')"
   ]
  },
  {
   "cell_type": "code",
   "execution_count": 11,
   "metadata": {},
   "outputs": [
    {
     "name": "stdout",
     "output_type": "stream",
     "text": [
      "Number of inconsistent records:  84\n",
      "\n",
      "List of records, which are not consistent with the country list:\n",
      " ['Aruba', 'Africa', 'American Samoa', 'Asia & Oceania', 'Antarctica', 'The Bahamas', 'Bermuda', 'Bolivia', 'Brunei', 'Cote D?Ivoire', 'Congo-Kinshasa', 'Congo-Brazzaville', 'Cook Islands', 'Central & South America', 'Cayman Islands', 'Czech Republic', 'Western Sahara', 'European Union', 'Eurasia', 'Europe', 'Falkland Islands', 'Faroe Islands', 'United Kingdom', 'Gibraltar', 'Guadeloupe', 'Greenland', 'French Guiana', 'Guam', 'Hawaiian Trade Zone', 'Hong Kong', 'Iran', 'South Korea', 'Laos', 'Macau', 'Moldova', 'Middle East', 'Burma', 'Montserrat', 'Martinique', 'New Caledonia', 'Niue', 'Netherlands Antilles', 'North America', 'Non-Oecd', 'Oecd - Asia And Oceania', 'Oecd', 'Oecd - Europe', 'Oecd - North America', 'Opec - Africa', 'Opec', 'Non-Opec', 'Opec - South America', 'Persian Gulf', 'Puerto Rico', 'North Korea', 'Palestinian Territories', 'French Polynesia', 'Reunion', 'Russia', 'Former Serbia And Montenegro', 'Saint Helena', 'Saint Pierre And Miquelon', 'Former U.S.S.R.', 'Syria', 'Turks And Caicos Islands', 'Taiwan', 'Tanzania', 'United States', 'U.S. Pacific Islands', 'Saint Vincent/Grenadines', 'Venezuela', 'British Virgin Islands', 'U.S. Virgin Islands', 'Vietnam', 'Wake Island', 'World', 'Australia And New Zealand', 'Ieo - Africa', 'Mexico And Chile', 'Ieo - Middle East', 'Ieo Oecd - Europe', 'Other Non-Oecd - America', 'Other Non-Oecd - Asia', 'Other Non-Oecd - Europe And Eurasia']\n"
     ]
    }
   ],
   "source": [
    "# Check inconsistency in countries with monthly production data\n",
    "not_in_list = []\n",
    "for id in production_data:\n",
    "    if (id['country'] not in [row['country'] for row in countries]) and (id['country'] not in not_in_list):\n",
    "        not_in_list.append(id['country'])\n",
    "print('Number of inconsistent records: ', len(not_in_list))\n",
    "print('\\nList of records, which are not consistent with the country list:\\n', [not_in_list[i].title() for i in range(len(not_in_list))])"
   ]
  },
  {
   "cell_type": "code",
   "execution_count": 12,
   "metadata": {},
   "outputs": [
    {
     "name": "stdout",
     "output_type": "stream",
     "text": [
      "Number of inconsistent records:  64\n",
      "\n",
      "List of records, which are not consistent with the country list:\n",
      " ['Aruba', 'Africa', 'Asia & Oceania', 'Bermuda', 'Cote d?Ivoire', 'Congo-Kinshasa', 'Congo-Brazzaville', 'Cook Islands', 'Cabo Verde', 'Central & South America', 'European Union', 'Eurasia', 'Europe', 'Gibraltar', 'Guadeloupe', 'Guinea-Bissau', 'French Guiana', 'Hawaiian Trade Zone', 'Hong Kong', 'Macau', 'Maldives', 'Middle East', 'North Macedonia', 'Burma', 'Montserrat', 'Martinique', 'Netherlands Antilles', 'North America', 'Non-OECD', 'Nauru', 'OECD - Asia And Oceania', 'OECD', 'OECD - Europe', 'OECD - North America', 'OPEC - Africa', 'OPEC', 'Non-OPEC', 'OPEC - South America', 'Persian Gulf', 'Palestinian Territories', 'Reunion', 'Former Serbia and Montenegro', 'Serbia', 'Former U.S.S.R.', 'Eswatini', 'Seychelles', 'Turks and Caicos Islands', 'Timor-Leste', 'Tanzania', 'United States', 'U.S. Pacific Islands', 'Saint Vincent/Grenadines', 'British Virgin Islands', 'U.S. Virgin Islands', 'Wake Island', 'World', 'Australia and New Zealand', 'IEO - Africa', 'Mexico and Chile', 'IEO - Middle East', 'IEO OECD - Europe', 'Other Non-OECD - America', 'Other Non-OECD - Asia', 'Other Non-OECD - Europe and Eurasia']\n"
     ]
    }
   ],
   "source": [
    "# Check inconsistency in countries with monthly production data\n",
    "not_in_list = []\n",
    "for id in production_data:\n",
    "    if (id['country'] not in gmaps_list) and (id['country'] not in not_in_list):\n",
    "        not_in_list.append(id['country'])\n",
    "print('Number of inconsistent records: ', len(not_in_list))\n",
    "print('\\nList of records, which are not consistent with the country list:\\n', not_in_list)"
   ]
  },
  {
   "cell_type": "code",
   "execution_count": 13,
   "metadata": {},
   "outputs": [
    {
     "data": {
      "text/plain": [
       "71724"
      ]
     },
     "execution_count": 13,
     "metadata": {},
     "output_type": "execute_result"
    }
   ],
   "source": [
    "# Cleaning Data\n",
    "clean_production_data = clean_data(production_data, remove_list, rename_dict)\n",
    "# Adding country code in production data\n",
    "norm_production_data = norm_data(clean_production_data)\n",
    "len(norm_production_data)"
   ]
  },
  {
   "cell_type": "code",
   "execution_count": 14,
   "metadata": {},
   "outputs": [
    {
     "data": {
      "text/plain": [
       "{'code': 'AGO',\n",
       " 'country': 'Angola',\n",
       " 'year': 2019,\n",
       " 'month': 8,\n",
       " 'oil_prod': 1519.241}"
      ]
     },
     "execution_count": 14,
     "metadata": {},
     "output_type": "execute_result"
    }
   ],
   "source": [
    "production_data[1000]"
   ]
  },
  {
   "cell_type": "code",
   "execution_count": 15,
   "metadata": {},
   "outputs": [
    {
     "name": "stdout",
     "output_type": "stream",
     "text": [
      "Number of inconsistent records:  0\n",
      "\n",
      "List of records, which are not consistent with the country list:\n",
      " []\n"
     ]
    }
   ],
   "source": [
    "# Check inconsistency in countries with monthly production data\n",
    "not_in_list = []\n",
    "for id in norm_production_data:\n",
    "    if (id['code'] not in [row['country_code'] for row in norm_countries]) and (id['code'] not in not_in_list):\n",
    "        not_in_list.append(id['country'])\n",
    "print('Number of inconsistent records: ', len(not_in_list))\n",
    "print('\\nList of records, which are not consistent with the country list:\\n', not_in_list)"
   ]
  },
  {
   "cell_type": "code",
   "execution_count": 16,
   "metadata": {},
   "outputs": [
    {
     "data": {
      "text/plain": [
       "218"
      ]
     },
     "execution_count": 16,
     "metadata": {},
     "output_type": "execute_result"
    }
   ],
   "source": [
    "# Calculate the number of countries in normalized production data\n",
    "eia_countries_list = []\n",
    "for id in norm_production_data:\n",
    "    if (id['country'] not in eia_countries_list):\n",
    "        eia_countries_list.append(id['country'])\n",
    "len(eia_countries_list)"
   ]
  },
  {
   "cell_type": "code",
   "execution_count": 17,
   "metadata": {},
   "outputs": [
    {
     "data": {
      "text/plain": [
       "34"
      ]
     },
     "execution_count": 17,
     "metadata": {},
     "output_type": "execute_result"
    }
   ],
   "source": [
    "# Intersection between countries list (gmaps and CSV countries)\n",
    "not_eia_list = []\n",
    "for row in gmaps_list:\n",
    "    if row not in eia_countries_list:\n",
    "        not_eia_list.append(row)\n",
    "len(not_eia_list)"
   ]
  },
  {
   "cell_type": "code",
   "execution_count": 17,
   "metadata": {},
   "outputs": [
    {
     "data": {
      "text/plain": [
       "\"\\nfor record in norm_countries:\\n    if record['country'] == 'Somaliland': record['country_code'] = 'SOL'\\nwith open('outputs/norm_countries.pkl', 'wb') as f:\\n    pickle.dump(norm_countries, f)\\n\""
      ]
     },
     "execution_count": 17,
     "metadata": {},
     "output_type": "execute_result"
    }
   ],
   "source": [
    "\"\"\"\n",
    "norm_countries =[]\n",
    "for country in gmaps_list:\n",
    "    row = {}\n",
    "    for record in countries:\n",
    "        if country == record['country']:\n",
    "            row['country_code'] = record['country_code']\n",
    "            row['country'] = country\n",
    "            norm_countries.append(row)\n",
    "    if country not in world_list:\n",
    "        code = input(f'Input the country code for {country}: ')\n",
    "        row['country_code'] = code\n",
    "        row['country'] = country\n",
    "        norm_countries.append(row)\n",
    "len(norm_countries)\n",
    "\"\"\"\n",
    "\"\"\"\n",
    "for record in norm_countries:\n",
    "    if record['country'] == 'Somaliland': record['country_code'] = 'SOL'\n",
    "with open('outputs/norm_countries.pkl', 'wb') as f:\n",
    "    pickle.dump(norm_countries, f)\n",
    "\"\"\""
   ]
  },
  {
   "cell_type": "markdown",
   "metadata": {},
   "source": [
    "#### Extracting Petroleum Production Data by Countries"
   ]
  },
  {
   "cell_type": "code",
   "execution_count": 18,
   "metadata": {},
   "outputs": [
    {
     "name": "stdout",
     "output_type": "stream",
     "text": [
      "Processing records: appended  3300  of countries records\n",
      "Processing records: appended  6600  of countries records\n",
      "Processing records: appended  9900  of countries records\n",
      "Processing records: appended  13200  of countries records\n",
      "Processing records: appended  16500  of countries records\n",
      "Processing records: appended  19800  of countries records\n",
      "Processing records: appended  23100  of countries records\n",
      "Processing records: appended  26400  of countries records\n",
      "80976\n"
     ]
    }
   ],
   "source": [
    "# Refined Petroleum Products Data by Countries (category list by API request)\n",
    "eia_client.__init__(data='category')\n",
    "petrol_json = eia_client.category(cat=2134915)\n",
    "petrol_list = petrol_json['category']['childseries']\n",
    "# Series list by API request\n",
    "eia_client.__init__(data='series')\n",
    "petrol_data = []\n",
    "for record in petrol_list:\n",
    "    series_id, series_name, series_units = record.get('series_id'), record.get('name'), record.get('units')\n",
    "    series_name = series_name.split(\", \", 3)\n",
    "    if (series_name[2] == 'Monthly') & (series_name[1] not in [row['country'] for row in petrol_data]):\n",
    "        series_json = eia_client.series(ser = series_id)\n",
    "        series_data = series_json['series'][0]['data']\n",
    "        for ser in series_data:\n",
    "            row = {}\n",
    "            row['code'] = series_name[1]\n",
    "            row['country'] = series_name[1]\n",
    "            row['year'] = int(str(ser[0])[:4])\n",
    "            row['month'] = int(str(ser[0])[-2:])\n",
    "            row['petrol_prod'] = [0 if isinstance(ser[1], str) else ser[1]][0] \n",
    "            petrol_data.append(row)\n",
    "        num_of_records = len(petrol_data)\n",
    "        if num_of_records % 100 == 0: \n",
    "            print('Processing records: appended ', num_of_records,' of countries records')\n",
    "            \n",
    "print(len(petrol_data))"
   ]
  },
  {
   "cell_type": "code",
   "execution_count": 19,
   "metadata": {},
   "outputs": [
    {
     "data": {
      "text/plain": [
       "71724"
      ]
     },
     "execution_count": 19,
     "metadata": {},
     "output_type": "execute_result"
    }
   ],
   "source": [
    "# Cleaning Data\n",
    "clean_petrol_data = clean_data(petrol_data, remove_list, rename_dict)\n",
    "# Adding country code in production data\n",
    "norm_petrol_data = norm_data(clean_petrol_data)\n",
    "len(norm_petrol_data)"
   ]
  },
  {
   "cell_type": "markdown",
   "metadata": {},
   "source": [
    "## Define Schema and Tables for Countries Data"
   ]
  },
  {
   "cell_type": "code",
   "execution_count": 20,
   "metadata": {},
   "outputs": [],
   "source": [
    "# Creating Schema Countries\n",
    "class Countries(base_db):\n",
    "    __tablename__ = \"countries\"\n",
    "    country_code = Column(String, primary_key=True)\n",
    "    country = Column(String)\n",
    "    countries_oil = relationship('Oil_Production', backref = 'countries')\n",
    "    countries_petrol = relationship('Petrol_Production', backref = 'countries')\n",
    "\n",
    "class Oil_Production(base_db):\n",
    "    __tablename__ = \"oil_production\"\n",
    "    __table_args__ = {'schema': 'countries'}\n",
    "    id = Column(Integer, Sequence('user_id_seq'), primary_key=True)\n",
    "    code = Column(String, ForeignKey('countries.country_code'))\n",
    "    country = Column(String)\n",
    "    year = Column(Integer)\n",
    "    month = Column(Integer)\n",
    "    oil_prod = Column(Integer)\n",
    "    \n",
    "class Petrol_Production(base_db):\n",
    "    __tablename__ = \"petrol_production\"\n",
    "    __table_args__ = {'schema': 'countries'}\n",
    "    id = Column(Integer, Sequence('user_id_seq'), primary_key=True)\n",
    "    code = Column(String, ForeignKey('countries.country_code'))\n",
    "    country = Column(String)\n",
    "    year = Column(Integer)\n",
    "    month = Column(Integer)\n",
    "    petrol_prod = Column(Integer)"
   ]
  },
  {
   "cell_type": "code",
   "execution_count": 21,
   "metadata": {},
   "outputs": [],
   "source": [
    "Countries.__table__.create(bind=countries_db.engine, checkfirst=True)\n",
    "Oil_Production.__table__.create(bind=countries_db.engine, checkfirst=True)\n",
    "Petrol_Production.__table__.create(bind=countries_db.engine, checkfirst=True)"
   ]
  },
  {
   "cell_type": "markdown",
   "metadata": {},
   "source": [
    "## Load Data into the Database via Session API"
   ]
  },
  {
   "cell_type": "code",
   "execution_count": 22,
   "metadata": {},
   "outputs": [],
   "source": [
    "Session = sessionmaker(bind=countries_db.engine)\n",
    "session = Session()\n",
    "\n",
    "# Uploading countries\n",
    "for country in norm_countries:\n",
    "    row = Countries(**country)\n",
    "    session.add(row)\n",
    "\n",
    "# Uploading production\n",
    "for record in norm_petrol_data:\n",
    "    row = Petrol_Production(**record)\n",
    "    session.add(row)\n",
    "    \n",
    "# Uploading production\n",
    "for record in norm_production_data:\n",
    "    row = Oil_Production(**record)\n",
    "    session.add(row)\n",
    "\n",
    "session.commit()"
   ]
  },
  {
   "cell_type": "markdown",
   "metadata": {},
   "source": [
    "#### Extracting Crude Oil Production Data by Countries"
   ]
  },
  {
   "cell_type": "code",
   "execution_count": 23,
   "metadata": {},
   "outputs": [],
   "source": [
    "# Crude Oil Data by Countries (category list by API request)\n",
    "eia_client.__init__(data='category')\n",
    "crude_json = eia_client.category(cat=2134979)\n",
    "crude_list = crude_json['category']['childseries']"
   ]
  },
  {
   "cell_type": "code",
   "execution_count": 24,
   "metadata": {},
   "outputs": [
    {
     "name": "stdout",
     "output_type": "stream",
     "text": [
      "Processing records: appended  5100  of countries records\n",
      "Processing records: appended  8400  of countries records\n",
      "Processing records: appended  11700  of countries records\n",
      "Processing records: appended  12600  of countries records\n",
      "Processing records: appended  13500  of countries records\n",
      "Processing records: appended  17700  of countries records\n",
      "Processing records: appended  33000  of countries records\n",
      "Processing records: appended  38100  of countries records\n",
      "Processing records: appended  43200  of countries records\n",
      "Processing records: appended  47400  of countries records\n",
      "Processing records: appended  50700  of countries records\n",
      "Processing records: appended  55800  of countries records\n",
      "85428\n"
     ]
    }
   ],
   "source": [
    "# Series list by API request\n",
    "eia_client.__init__(data='series')\n",
    "crude_data = []\n",
    "for record in crude_list:\n",
    "    series_id, series_name, series_units = record.get('series_id'), record.get('name'), record.get('units')\n",
    "    series_name = series_name.split(\", \", 3)\n",
    "    if (series_name[2] == 'Monthly') & (series_name[1] not in [row['country'] for row in crude_data]):\n",
    "        series_json = eia_client.series(ser = series_id)\n",
    "        series_data = series_json['series'][0]['data']\n",
    "        for ser in series_data:\n",
    "            row = {}\n",
    "            row['code'] = series_name[1]\n",
    "            row['country'] = series_name[1]\n",
    "            row['year'] = int(str(ser[0])[:4])\n",
    "            row['month'] = int(str(ser[0])[-2:])\n",
    "            row['crude_prod'] = [0 if isinstance(ser[1], str) else ser[1]][0] \n",
    "            crude_data.append(row)\n",
    "        num_of_records = len(crude_data)\n",
    "        if num_of_records % 100 == 0: \n",
    "            print('Processing records: appended ', num_of_records,' of countries records')\n",
    "            \n",
    "print(len(crude_data))"
   ]
  },
  {
   "cell_type": "code",
   "execution_count": 25,
   "metadata": {},
   "outputs": [
    {
     "data": {
      "text/plain": [
       "77004"
      ]
     },
     "execution_count": 25,
     "metadata": {},
     "output_type": "execute_result"
    }
   ],
   "source": [
    "# Cleaning Data\n",
    "clean_crude_data = clean_data(crude_data, remove_list, rename_dict)\n",
    "# Adding country code in production data\n",
    "norm_crude_data = norm_data(clean_crude_data)\n",
    "len(norm_crude_data)"
   ]
  },
  {
   "cell_type": "code",
   "execution_count": 26,
   "metadata": {},
   "outputs": [],
   "source": [
    "class Crude_Production(base_db):\n",
    "    __tablename__ = \"crude_production\"\n",
    "    __table_args__ = {'schema': 'countries'}\n",
    "    id = Column(Integer, Sequence('user_id_seq'), primary_key=True)\n",
    "    code = Column(String)\n",
    "    country = Column(String)\n",
    "    year = Column(Integer)\n",
    "    month = Column(Integer)\n",
    "    crude_prod = Column(Integer)\n",
    "    \n",
    "Crude_Production.__table__.create(bind=countries_db.engine, checkfirst=True)    "
   ]
  },
  {
   "cell_type": "code",
   "execution_count": 27,
   "metadata": {},
   "outputs": [],
   "source": [
    "Session = sessionmaker(bind=countries_db.engine)\n",
    "session = Session()\n",
    "\n",
    "# Uploading crude oil production\n",
    "for record in norm_crude_data:\n",
    "    row = Crude_Production(**record)\n",
    "    session.add(row)\n",
    "    \n",
    "session.commit()"
   ]
  },
  {
   "cell_type": "code",
   "execution_count": 2,
   "metadata": {},
   "outputs": [
    {
     "data": {
      "text/plain": [
       "'localhost'"
      ]
     },
     "execution_count": 2,
     "metadata": {},
     "output_type": "execute_result"
    }
   ],
   "source": [
    "creds.PGHOST"
   ]
  },
  {
   "cell_type": "code",
   "execution_count": null,
   "metadata": {},
   "outputs": [],
   "source": []
  }
 ],
 "metadata": {
  "kernelspec": {
   "display_name": "Python 3",
   "language": "python",
   "name": "python3"
  },
  "language_info": {
   "codemirror_mode": {
    "name": "ipython",
    "version": 3
   },
   "file_extension": ".py",
   "mimetype": "text/x-python",
   "name": "python",
   "nbconvert_exporter": "python",
   "pygments_lexer": "ipython3",
   "version": "3.6.10"
  }
 },
 "nbformat": 4,
 "nbformat_minor": 4
}
