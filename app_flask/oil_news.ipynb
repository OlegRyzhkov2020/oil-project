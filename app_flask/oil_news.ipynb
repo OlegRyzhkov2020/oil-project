{
 "cells": [
  {
   "cell_type": "code",
   "execution_count": 1,
   "metadata": {},
   "outputs": [],
   "source": [
    "from splinter import Browser\n",
    "from bs4 import BeautifulSoup as bs\n",
    "import time\n",
    "import pymongo\n",
    "import re\n",
    "import pandas as pd\n",
    "import requests"
   ]
  },
  {
   "cell_type": "code",
   "execution_count": 2,
   "metadata": {},
   "outputs": [],
   "source": [
    "def init_browser():\n",
    "    # @NOTE: Replace the path with your actual path to the chromedriver\n",
    "    executable_path = {\"executable_path\": \"/usr/local/bin/chromedriver\"}\n",
    "    return Browser(\"chrome\", **executable_path, headless=False)\n",
    "\n",
    "def soup_url (url):\n",
    "    browser = init_browser()\n",
    "    # Visit url\n",
    "    browser.visit(url)\n",
    "    time.sleep(1)\n",
    "\n",
    "    # Scrape page into Soup\n",
    "    html = browser.html\n",
    "    soup_url = bs(html, \"html.parser\")\n",
    "    \n",
    "     # Close the browser after scraping\n",
    "    browser.quit()\n",
    "    \n",
    "    return soup_url\n",
    "\n",
    "def soup_class (soup, class_name):\n",
    "    \n",
    "    # Soup data list\n",
    "    soup_class = soup.find(class_= class_name)\n",
    "    \n",
    "    return soup_class \n",
    "\n",
    "def soup_class_list (soup, class_name):\n",
    "   \n",
    "    # Soup data list\n",
    "    soup_class_list = soup.find_all(class_= class_name)\n",
    "    \n",
    "    return soup_class_list\n",
    "\n",
    "def text_list (soup_class_list):\n",
    "    text_list = []\n",
    "    [text_list.append(record.text.replace(\"\\n\", \"\")) for record in soup_class_list]\n",
    "    return text_list"
   ]
  },
  {
   "cell_type": "markdown",
   "metadata": {},
   "source": [
    "# WEB Scrapping Latest Oil News"
   ]
  },
  {
   "cell_type": "code",
   "execution_count": 83,
   "metadata": {},
   "outputs": [],
   "source": [
    "# Visit oilprice.com\n",
    "base_url = \"https://oilprice.com\"\n",
    "url_news = \"https://oilprice.com/Latest-Energy-News/World-News/\"\n",
    "soup = soup_url(url_news)"
   ]
  },
  {
   "cell_type": "code",
   "execution_count": 84,
   "metadata": {},
   "outputs": [
    {
     "data": {
      "text/plain": [
       "'Oil News Today  | OilPrice.com'"
      ]
     },
     "execution_count": 84,
     "metadata": {},
     "output_type": "execute_result"
    }
   ],
   "source": [
    "page_title = soup.title.text\n",
    "page_title"
   ]
  },
  {
   "cell_type": "code",
   "execution_count": 85,
   "metadata": {},
   "outputs": [
    {
     "data": {
      "text/plain": [
       "[<img alt=\"Crude oil prices today - Oilprice.com\" class=\"desktop_logo\" src=\"https://d1o9e4un86hhpc.cloudfront.net/a/img/oilprice-logo.png?v=3\" title=\"Oil prices - Oilprice.com\"/>,\n",
       " <img alt=\"Crude oil prices today - Oilprice.com\" class=\"mobile_logo\" src=\"https://d1o9e4un86hhpc.cloudfront.net/a/img/common/header/mobile_logo.png?v=3\" title=\"Oil prices - Oilprice.com\"/>,\n",
       " <img alt=\"OilPrice GEA\" id=\"main_nav_button\" src=\"https://d1o9e4un86hhpc.cloudfront.net/a/img/common/nav_button_green.png\" style=\"height: 25px;\" title=\"Global Energy Alert\"/>,\n",
       " <img alt=\"Link\" height=\"21\" src=\"https://d1o9e4un86hhpc.cloudfront.net/a/img/common/header/link.png\" width=\"21\"/>,\n",
       " <img alt=\"Link\" src=\"https://d1o9e4un86hhpc.cloudfront.net/a/img/common/header/link.png\"/>,\n",
       " <img alt=\"Link\" src=\"https://d1o9e4un86hhpc.cloudfront.net/a/img/common/header/link.png\"/>,\n",
       " <img alt=\"Link\" height=\"21\" src=\"https://d1o9e4un86hhpc.cloudfront.net/a/img/common/header/link.png\" width=\"21\"/>,\n",
       " <img alt=\"Link\" height=\"21\" src=\"https://d1o9e4un86hhpc.cloudfront.net/a/img/common/header/link.png\" width=\"21\"/>,\n",
       " <img alt=\"Link\" src=\"https://d1o9e4un86hhpc.cloudfront.net/a/img/common/header/link.png\"/>,\n",
       " <img alt=\"Link\" src=\"https://d1o9e4un86hhpc.cloudfront.net/a/img/common/header/link.png\"/>,\n",
       " <img alt=\"Link\" height=\"21\" src=\"https://d1o9e4un86hhpc.cloudfront.net/a/img/common/header/link.png\" width=\"21\"/>,\n",
       " <img alt=\"Link\" src=\"https://d1o9e4un86hhpc.cloudfront.net/a/img/common/header/link.png\"/>,\n",
       " <img alt=\"Link\" src=\"https://d1o9e4un86hhpc.cloudfront.net/a/img/common/header/link.png\"/>,\n",
       " <img alt=\"Link\" height=\"21\" src=\"https://d1o9e4un86hhpc.cloudfront.net/a/img/common/header/link.png\" width=\"21\"/>,\n",
       " <img alt=\"Link\" src=\"https://d1o9e4un86hhpc.cloudfront.net/a/img/common/header/link.png\"/>,\n",
       " <img alt=\"Link\" src=\"https://d1o9e4un86hhpc.cloudfront.net/a/img/common/header/link.png\"/>,\n",
       " <img class=\"lozad opacity_0\" data-base=\"https://d32r1sh890xpii.cloudfront.net/header_graphs/blend_\" data-loaded=\"true\" data-src=\"https://d32r1sh890xpii.cloudfront.net/header_graphs/blend_45_2.png?cb=1605714313\" src=\"https://d32r1sh890xpii.cloudfront.net/header_graphs/blend_45_2.png?cb=1605714313\"/>,\n",
       " <img alt=\"Process Banned By President Carter Could Solve U.S. Nuclear Waste Problem\" class=\"articleOtherNews__image lozad opacity_0\" data-error_image=\"https://d1o9e4un86hhpc.cloudfront.net/a/img/content/115x85-default.png\" data-loaded=\"true\" data-src=\"https://d32r1sh890xpii.cloudfront.net/article/115x85/2020-11-17_vjt6zhiiqn.jpg\" src=\"https://d32r1sh890xpii.cloudfront.net/article/115x85/2020-11-17_vjt6zhiiqn.jpg\" title=\"Process Banned By President Carter Could Solve U.S. Nuclear Waste Problem\"/>,\n",
       " <img alt=\"Oil Demand Revised Down Once Again\" class=\"articleOtherNews__image lozad opacity_0\" data-error_image=\"https://d1o9e4un86hhpc.cloudfront.net/a/img/content/115x85-default.png\" data-loaded=\"true\" data-src=\"https://d32r1sh890xpii.cloudfront.net/article/115x85/2020-11-13_m9ekzuf1cy.jpg\" src=\"https://d32r1sh890xpii.cloudfront.net/article/115x85/2020-11-13_m9ekzuf1cy.jpg\" title=\"Oil Demand Revised Down Once Again\"/>,\n",
       " <img class=\"articleOtherNews__image\" src=\"https://d1o9e4un86hhpc.cloudfront.net/a/img/common/top3_ad_image.jpg\"/>,\n",
       " <img alt=\"Oil Prices Under Pressure After API Reports Crude Inventory Build\" class=\"categoryArticle__image lozad opacity_0\" data-error_image=\"https://d1o9e4un86hhpc.cloudfront.net/a/img/content/270x200-default.png\" data-loaded=\"true\" data-src=\"https://d32r1sh890xpii.cloudfront.net/news/270x200/2020-11-17_horjiau7be.jpg\" height=\"200\" src=\"https://d32r1sh890xpii.cloudfront.net/news/270x200/2020-11-17_horjiau7be.jpg\" width=\"270\"/>,\n",
       " <img alt=\"Australia-China Spat Threatens LNG Deal\" class=\"sidebarTrendingArticles__articleImage lozad opacity_0\" data-error_image=\"https://d1o9e4un86hhpc.cloudfront.net/a/img/content/115x85-default.png\" data-loaded=\"true\" data-src=\"https://d32r1sh890xpii.cloudfront.net/news/115x85/2020-11-12_y8sawifdgy.jpg\" src=\"https://d32r1sh890xpii.cloudfront.net/news/115x85/2020-11-12_y8sawifdgy.jpg\" title=\"Australia-China Spat Threatens LNG Deal\"/>,\n",
       " <img alt=\"Dianomi\" height=\"10\" src=\"https://www.dianomi.com/img/uploads/Ufe0-8CoyKoAADAkZXEAAAAK.png\" style=\"border: none; height: auto; outline: none; width: 10px;\" width=\"11\"/>,\n",
       " <img alt=\"E*TRADE Advisor Services\" border=\"0\" class=\"png\" height=\"90\" src=\"https://www.dianomi.com/img/a/sav2/153731/30/120x90.jpg\" srcset=\"https://www.dianomi.com/img/a/sav2/153731/30/169x127.jpg 2x,https://www.dianomi.com/img/a/sav2/153731/30/207x155.jpg 3x,https://www.dianomi.com/img/a/sav2/153731/30/240x180.jpg 4x\" style=\"display: block; float: none; height: 62.5px; margin: 0px 0px; position: absolute; width: 85px;\" width=\"120\"/>,\n",
       " <img class=\"dianomiTrack\" height=\"1\" src=\"https://ad.doubleclick.net/ddm/trackimp/N84001.3498843DIANOMI.COM/B24689438.283041750;dc_trk_aid=477038923;dc_trk_cid=138377627;ord=1605714442;dc_lat=;dc_rdid=;tag_for_child_directed_treatment=;tfua=;gdpr=${GDPR};gdpr_consent=${GDPR_CONSENT_755}?\" width=\"1\"/>,\n",
       " <img alt=\"OPEC+ Compliance With Cuts At 101% Ahead Of Crucial Meetings\" class=\"sidebarTrendingArticles__articleImage lozad opacity_0\" data-error_image=\"https://d1o9e4un86hhpc.cloudfront.net/a/img/content/115x85-default.png\" data-loaded=\"true\" data-src=\"https://d32r1sh890xpii.cloudfront.net/news/115x85/2020-11-13_on05iqr1ap.jpg\" src=\"https://d32r1sh890xpii.cloudfront.net/news/115x85/2020-11-13_on05iqr1ap.jpg\" title=\"OPEC+ Compliance With Cuts At 101% Ahead Of Crucial Meetings\"/>,\n",
       " <img alt=\"Quantcast\" border=\"0\" height=\"1\" src=\"//pixel.quantserve.com/pixel/p-mYGzvda-tntH2.gif\" width=\"1\">\n",
       " </img>,\n",
       " <img height=\"1\" src=\"https://www.facebook.com/tr?id=332667700771750&amp;ev=PageView&amp;noscript=1\" style=\"display:none\" width=\"1\">\n",
       " </img>,\n",
       " <img alt=\"\" border=\"0\" height=\"1\" src=\"https://p1.zemanta.com/p/1500/2012/\" width=\"1\"/>,\n",
       " <img alt=\"\" height=\"0\" id=\"batBeacon544234230041\" src=\"https://bat.bing.com/action/0?ti=26054419&amp;Ver=2&amp;mid=68ca69a2-335a-4fb8-987e-a4b76b8425d0&amp;sid=5939be1029b511ebb85397a77f2f3fcf&amp;vid=5939f02029b511ebab7d274f0782f042&amp;vids=1&amp;pi=1200101525&amp;lg=en-US&amp;sw=1440&amp;sh=900&amp;sc=30&amp;tl=Oil%20News%20Today%20%7C%20OilPrice.com&amp;p=https%3A%2F%2Foilprice.com%2FLatest-Energy-News%2FWorld-News%2F&amp;r=&amp;lt=1046&amp;evt=pageLoad&amp;msclkid=N&amp;sv=1&amp;rn=424163\" style=\"width:0px; height:0px; display:none; visibility:hidden;\" width=\"0\"/>]"
      ]
     },
     "execution_count": 85,
     "metadata": {},
     "output_type": "execute_result"
    }
   ],
   "source": [
    "image_holder = soup.find_all('img', src=True)\n",
    "image_holder"
   ]
  },
  {
   "cell_type": "code",
   "execution_count": 86,
   "metadata": {},
   "outputs": [
    {
     "data": {
      "text/plain": [
       "['https://d32r1sh890xpii.cloudfront.net/news/270x200/2020-11-17_horjiau7be.jpg',\n",
       " 'https://d32r1sh890xpii.cloudfront.net/news/270x200/2020-11-17_oegdfyad6t.jpg',\n",
       " 'https://d32r1sh890xpii.cloudfront.net/news/270x200/2020-11-17_x3qyhpqgif.jpg',\n",
       " 'https://d32r1sh890xpii.cloudfront.net/news/270x200/2020-11-17_kzqsdg6xcu.jpg',\n",
       " 'https://d32r1sh890xpii.cloudfront.net/news/270x200/2020-11-17_bhdfju3rtf.jpg',\n",
       " 'https://d32r1sh890xpii.cloudfront.net/news/270x200/2020-11-17_bvlq89cgmw.jpg',\n",
       " 'https://d32r1sh890xpii.cloudfront.net/news/270x200/2020-11-16_wgznwu6xqo.jpg',\n",
       " 'https://d32r1sh890xpii.cloudfront.net/news/270x200/2020-11-16_scg0olhwy4.jpg',\n",
       " 'https://d32r1sh890xpii.cloudfront.net/news/270x200/2020-11-16_vspkdhf2r5.jpg',\n",
       " 'https://d32r1sh890xpii.cloudfront.net/news/270x200/2020-11-16_p6izcafoeo.jpg',\n",
       " 'https://d32r1sh890xpii.cloudfront.net/news/270x200/2020-11-16_rlb18mgt0a.jpg',\n",
       " 'https://d32r1sh890xpii.cloudfront.net/news/270x200/2020-11-16_egusafn0xg.jpg',\n",
       " 'https://d32r1sh890xpii.cloudfront.net/news/270x200/2020-11-13_on05iqr1ap.jpg',\n",
       " 'https://d32r1sh890xpii.cloudfront.net/news/270x200/2020-11-13_uyytrqu2kh.jpg',\n",
       " 'https://d32r1sh890xpii.cloudfront.net/news/270x200/2020-11-13_kwronlvexb.jpg',\n",
       " 'https://d32r1sh890xpii.cloudfront.net/news/270x200/2020-11-13_fyq6uhenar.jpg',\n",
       " 'https://d32r1sh890xpii.cloudfront.net/news/270x200/2020-11-13_tqpvghbr5o.jpg',\n",
       " 'https://d32r1sh890xpii.cloudfront.net/news/270x200/2020-11-12_4ud1wktmso.jpg',\n",
       " 'https://d32r1sh890xpii.cloudfront.net/news/270x200/2020-11-12_vjw3vdlse9.jpg',\n",
       " 'https://d32r1sh890xpii.cloudfront.net/news/270x200/2020-11-12_pkefk19s7d.jpg']"
      ]
     },
     "execution_count": 86,
     "metadata": {},
     "output_type": "execute_result"
    }
   ],
   "source": [
    "# Scrapping News Data\n",
    "articles = soup.find_all(class_= \"categoryArticle\")\n",
    "title_list = []\n",
    "date_list = []\n",
    "excerpt_list = []\n",
    "author_list = []\n",
    "link_list = []\n",
    "for article in articles:\n",
    "    image_holder = article.find(class_= \"categoryArticle__imageHolder\")\n",
    "    img =image_holder.findAll('img')\n",
    "    link = img[0].get('data-src')\n",
    "    link_list.append(link)\n",
    "    title = article.find_all(class_= \"categoryArticle__title\")\n",
    "    full_date = article.find_all(class_= \"categoryArticle__meta\")\n",
    "    date = full_date[0].text.strip().split(\"|\")[0]\n",
    "    author = full_date[0].text.strip().split(\"|\")[1]\n",
    "    excerpt = article.find_all(class_= \"categoryArticle__excerpt\")\n",
    "    title_list.append(title[0].text.strip())\n",
    "    date_list.append(date)\n",
    "    author_list.append(author)\n",
    "    excerpt_list.append(excerpt[0].text.strip())\n",
    "link_list"
   ]
  },
  {
   "cell_type": "code",
   "execution_count": 87,
   "metadata": {},
   "outputs": [
    {
     "data": {
      "text/plain": [
       "[{'Date': 'Nov 17, 2020 at 15:48 ',\n",
       "  'News_Title': 'Oil Prices Under Pressure After API Reports Crude Inventory Build',\n",
       "  'News_Paragraph': 'The American Petroleum Institute (API) reported on Tuesday a build in crude oil inventories of 4.174 million barrels for the week ending November 13.\\nAnalysts had predicted an inventory build…',\n",
       "  'Author': ' Julianne Geiger',\n",
       "  'Image_URL': 'https://d32r1sh890xpii.cloudfront.net/news/270x200/2020-11-17_horjiau7be.jpg'},\n",
       " {'Date': 'Nov 17, 2020 at 14:38 ',\n",
       "  'News_Title': 'India Urges Oil Firms To Consider Foreign Partners To Boost Production',\n",
       "  'News_Paragraph': 'India’s oil and gas companies should consider selling stakes in their exploration acreage to foreign companies with the technology to tap more oil and gas resources, India’s Oil Minister Dharmendra…',\n",
       "  'Author': ' Charles Kennedy',\n",
       "  'Image_URL': 'https://d32r1sh890xpii.cloudfront.net/news/270x200/2020-11-17_oegdfyad6t.jpg'},\n",
       " {'Date': 'Nov 17, 2020 at 14:06 ',\n",
       "  'News_Title': 'Exxon’s Deepest Guyana Oil Well Disappoints',\n",
       "  'News_Paragraph': 'After a series of major oil discoveries offshore Guyana, ExxonMobil and partners found that the deepest well drilled so far offshore the Latin American country did not have commercial potential…',\n",
       "  'Author': ' Charles Kennedy',\n",
       "  'Image_URL': 'https://d32r1sh890xpii.cloudfront.net/news/270x200/2020-11-17_x3qyhpqgif.jpg'},\n",
       " {'Date': 'Nov 17, 2020 at 11:29 ',\n",
       "  'News_Title': 'COVID-19 Takes Major Toll On Australian Oil & Gas Jobs',\n",
       "  'News_Paragraph': 'The Covid-19 pandemic hit Australia’s already declining oil and gas workforce hard, causing a loss of over 28,000 jobs this year, equivalent to a quarter of the country’s total count,…',\n",
       "  'Author': ' Rystad Energy',\n",
       "  'Image_URL': 'https://d32r1sh890xpii.cloudfront.net/news/270x200/2020-11-17_kzqsdg6xcu.jpg'},\n",
       " {'Date': 'Nov 17, 2020 at 10:37 ',\n",
       "  'News_Title': 'Equinor Sees COVID Accelerating Peak Oil Demand To 2027-2028',\n",
       "  'News_Paragraph': 'Slower demand growth due to the pandemic and a drop in global oil supply due to low investments could result in peak oil demand 2-3 years sooner than an earlier…',\n",
       "  'Author': ' Tsvetana Paraskova',\n",
       "  'Image_URL': 'https://d32r1sh890xpii.cloudfront.net/news/270x200/2020-11-17_bhdfju3rtf.jpg'}]"
      ]
     },
     "execution_count": 87,
     "metadata": {},
     "output_type": "execute_result"
    }
   ],
   "source": [
    "news = []\n",
    "for i in range(len(title_list)):\n",
    "    row = {}\n",
    "    row['Date'] = date_list[i]\n",
    "    row[\"News_Title\"] = title_list[i]\n",
    "    row[\"News_Paragraph\"] = excerpt_list[i]\n",
    "    row[\"Author\"] = author_list[i]\n",
    "    row[\"Image_URL\"] = link_list[i]\n",
    "    news.append(row)\n",
    "news[:5]"
   ]
  },
  {
   "cell_type": "markdown",
   "metadata": {},
   "source": [
    "# WEB Scrapping Latest Oil Prices"
   ]
  },
  {
   "cell_type": "code",
   "execution_count": 75,
   "metadata": {},
   "outputs": [],
   "source": [
    "# Visit oilprice.com\n",
    "url_prices = \"https://oilprice.com/oil-price-charts/#prices\"\n",
    "soup_prices = soup_url(url_prices)"
   ]
  },
  {
   "cell_type": "code",
   "execution_count": 76,
   "metadata": {},
   "outputs": [
    {
     "data": {
      "text/plain": [
       "'Oil Price Charts | Oilprice.com'"
      ]
     },
     "execution_count": 76,
     "metadata": {},
     "output_type": "execute_result"
    }
   ],
   "source": [
    "page_title = soup_prices.title.text\n",
    "page_title"
   ]
  },
  {
   "cell_type": "code",
   "execution_count": 77,
   "metadata": {},
   "outputs": [
    {
     "data": {
      "text/plain": [
       "[<tr class=\"stripe show_graph update_on_load\" data-id=\"45\" data-spreadsheet=\"Crude Oil WTI\">\n",
       " <td class=\"flag_holder\"><div class=\"flag_usa\"></div></td><td>WTI Crude<i aria-hidden=\"true\" class=\"fa fa-plus user_add_blend hidden\" style=\"float:right;\" title=\"Follow blend\"></i><i aria-hidden=\"true\" class=\"fa fa-times user_remove_blend hidden\" style=\"float:right;\" title=\"Unfollow blend\"></i></td>\n",
       " <td class=\"last_price\" data-price=\"41.88\">41.88</td><td class=\"change_up flat_change_cell\" dir=\"ltr\">+0.45</td><td class=\"change_up_percent percent_change_cell\" dir=\"ltr\">+1.09%<span class=\"blend_update_text\">(11 Minutes Delay)</span></td><td class=\"last_updated\" data-stamp=\"1605713338\">(11 Minutes Delay)</td></tr>,\n",
       " <tr class=\"stripe show_graph update_on_load\" data-id=\"46\" data-spreadsheet=\"Crude Oil Brent\">\n",
       " <td class=\"flag_holder\"><div class=\"flag_uk\"></div></td><td>Brent Crude<i aria-hidden=\"true\" class=\"fa fa-plus user_add_blend hidden\" style=\"float:right;\" title=\"Follow blend\"></i><i aria-hidden=\"true\" class=\"fa fa-times user_remove_blend hidden\" style=\"float:right;\" title=\"Unfollow blend\"></i></td>\n",
       " <td class=\"last_price\" data-price=\"44.42\">44.42</td><td class=\"change_up flat_change_cell\" dir=\"ltr\">+0.67</td><td class=\"change_up_percent percent_change_cell\" dir=\"ltr\">+1.53%<span class=\"blend_update_text\">(11 Minutes Delay)</span></td><td class=\"last_updated\" data-stamp=\"1605713340\">(11 Minutes Delay)</td></tr>]"
      ]
     },
     "execution_count": 77,
     "metadata": {},
     "output_type": "execute_result"
    }
   ],
   "source": [
    "price_holders = soup_prices.find_all(class_= \"stripe show_graph update_on_load\")\n",
    "price_holders[:2]"
   ]
  },
  {
   "cell_type": "code",
   "execution_count": 78,
   "metadata": {},
   "outputs": [
    {
     "data": {
      "text/html": [
       "<div>\n",
       "<style scoped>\n",
       "    .dataframe tbody tr th:only-of-type {\n",
       "        vertical-align: middle;\n",
       "    }\n",
       "\n",
       "    .dataframe tbody tr th {\n",
       "        vertical-align: top;\n",
       "    }\n",
       "\n",
       "    .dataframe thead th {\n",
       "        text-align: right;\n",
       "    }\n",
       "</style>\n",
       "<table border=\"1\" class=\"dataframe\">\n",
       "  <thead>\n",
       "    <tr style=\"text-align: right;\">\n",
       "      <th></th>\n",
       "      <th>0</th>\n",
       "      <th>1</th>\n",
       "      <th>2</th>\n",
       "      <th>3</th>\n",
       "      <th>4</th>\n",
       "      <th>5</th>\n",
       "    </tr>\n",
       "  </thead>\n",
       "  <tbody>\n",
       "    <tr>\n",
       "      <th>0</th>\n",
       "      <td>NaN</td>\n",
       "      <td>WTI Crude</td>\n",
       "      <td>41.88</td>\n",
       "      <td>+0.45</td>\n",
       "      <td>+1.09%(11 Minutes Delay)</td>\n",
       "      <td>(11 Minutes Delay)</td>\n",
       "    </tr>\n",
       "    <tr>\n",
       "      <th>1</th>\n",
       "      <td>NaN</td>\n",
       "      <td>Brent Crude</td>\n",
       "      <td>44.42</td>\n",
       "      <td>+0.67</td>\n",
       "      <td>+1.53%(11 Minutes Delay)</td>\n",
       "      <td>(11 Minutes Delay)</td>\n",
       "    </tr>\n",
       "    <tr>\n",
       "      <th>2</th>\n",
       "      <td>NaN</td>\n",
       "      <td>Mars US</td>\n",
       "      <td>41.78</td>\n",
       "      <td>-0.01</td>\n",
       "      <td>-0.02%(15 \\tHours Delay)</td>\n",
       "      <td>(15 \\tHours Delay)</td>\n",
       "    </tr>\n",
       "    <tr>\n",
       "      <th>3</th>\n",
       "      <td>NaN</td>\n",
       "      <td>Opec Basket</td>\n",
       "      <td>42.93</td>\n",
       "      <td>+0.88</td>\n",
       "      <td>+2.09%(2 \\tdays Delay)</td>\n",
       "      <td>(2 \\tdays Delay)</td>\n",
       "    </tr>\n",
       "    <tr>\n",
       "      <th>4</th>\n",
       "      <td>NaN</td>\n",
       "      <td>Canadian Crude Index</td>\n",
       "      <td>29.26</td>\n",
       "      <td>+0.23</td>\n",
       "      <td>+0.79%(2 \\tmonths Delay)</td>\n",
       "      <td>(2 \\tmonths Delay)</td>\n",
       "    </tr>\n",
       "    <tr>\n",
       "      <th>5</th>\n",
       "      <td>NaN</td>\n",
       "      <td>DME Oman</td>\n",
       "      <td>44.06</td>\n",
       "      <td>-0.05</td>\n",
       "      <td>-0.11%(1 day Delay)</td>\n",
       "      <td>(1 day Delay)</td>\n",
       "    </tr>\n",
       "    <tr>\n",
       "      <th>6</th>\n",
       "      <td>NaN</td>\n",
       "      <td>Urals</td>\n",
       "      <td>39.60</td>\n",
       "      <td>+0.00</td>\n",
       "      <td>+0.00%(1 day Delay)</td>\n",
       "      <td>(1 day Delay)</td>\n",
       "    </tr>\n",
       "    <tr>\n",
       "      <th>7</th>\n",
       "      <td>NaN</td>\n",
       "      <td>Mexican Basket</td>\n",
       "      <td>38.00</td>\n",
       "      <td>-0.83</td>\n",
       "      <td>-2.14%(5 \\tdays Delay)</td>\n",
       "      <td>(5 \\tdays Delay)</td>\n",
       "    </tr>\n",
       "    <tr>\n",
       "      <th>8</th>\n",
       "      <td>NaN</td>\n",
       "      <td>Indian Basket</td>\n",
       "      <td>43.68</td>\n",
       "      <td>+0.81</td>\n",
       "      <td>+1.89%(2 \\tdays Delay)</td>\n",
       "      <td>(2 \\tdays Delay)</td>\n",
       "    </tr>\n",
       "    <tr>\n",
       "      <th>9</th>\n",
       "      <td>NaN</td>\n",
       "      <td>Western Canadian Select</td>\n",
       "      <td>31.83</td>\n",
       "      <td>+0.09</td>\n",
       "      <td>+0.28%(8 \\tHours Delay)</td>\n",
       "      <td>(8 \\tHours Delay)</td>\n",
       "    </tr>\n",
       "    <tr>\n",
       "      <th>10</th>\n",
       "      <td>NaN</td>\n",
       "      <td>Dubai</td>\n",
       "      <td>42.52</td>\n",
       "      <td>+0.65</td>\n",
       "      <td>+1.55%(2 \\tdays Delay)</td>\n",
       "      <td>(2 \\tdays Delay)</td>\n",
       "    </tr>\n",
       "    <tr>\n",
       "      <th>11</th>\n",
       "      <td>NaN</td>\n",
       "      <td>Brent Weighted Average</td>\n",
       "      <td>43.98</td>\n",
       "      <td>+1.00</td>\n",
       "      <td>+2.33%(2 \\tdays Delay)</td>\n",
       "      <td>(2 \\tdays Delay)</td>\n",
       "    </tr>\n",
       "    <tr>\n",
       "      <th>12</th>\n",
       "      <td>NaN</td>\n",
       "      <td>Louisiana Light</td>\n",
       "      <td>42.34</td>\n",
       "      <td>+1.21</td>\n",
       "      <td>+2.94%(2 \\tdays Delay)</td>\n",
       "      <td>(2 \\tdays Delay)</td>\n",
       "    </tr>\n",
       "    <tr>\n",
       "      <th>13</th>\n",
       "      <td>NaN</td>\n",
       "      <td>Coastal Grade A</td>\n",
       "      <td>30.75</td>\n",
       "      <td>+0.00</td>\n",
       "      <td>+0.00%(1 day Delay)</td>\n",
       "      <td>(1 day Delay)</td>\n",
       "    </tr>\n",
       "    <tr>\n",
       "      <th>14</th>\n",
       "      <td>NaN</td>\n",
       "      <td>Domestic Swt. @ Cushing</td>\n",
       "      <td>37.75</td>\n",
       "      <td>+0.00</td>\n",
       "      <td>+0.00%(1 day Delay)</td>\n",
       "      <td>(1 day Delay)</td>\n",
       "    </tr>\n",
       "    <tr>\n",
       "      <th>15</th>\n",
       "      <td>NaN</td>\n",
       "      <td>Giddings</td>\n",
       "      <td>31.50</td>\n",
       "      <td>+0.00</td>\n",
       "      <td>+0.00%(1 day Delay)</td>\n",
       "      <td>(1 day Delay)</td>\n",
       "    </tr>\n",
       "    <tr>\n",
       "      <th>16</th>\n",
       "      <td>NaN</td>\n",
       "      <td>ANS West Coast</td>\n",
       "      <td>42.35</td>\n",
       "      <td>-0.66</td>\n",
       "      <td>-1.53%(5 \\tdays Delay)</td>\n",
       "      <td>(5 \\tdays Delay)</td>\n",
       "    </tr>\n",
       "    <tr>\n",
       "      <th>17</th>\n",
       "      <td>NaN</td>\n",
       "      <td>Gulf Coast HSFO</td>\n",
       "      <td>38.91</td>\n",
       "      <td>+0.32</td>\n",
       "      <td>+0.83%(2 \\tdays Delay)</td>\n",
       "      <td>(2 \\tdays Delay)</td>\n",
       "    </tr>\n",
       "    <tr>\n",
       "      <th>18</th>\n",
       "      <td>NaN</td>\n",
       "      <td>Natural Gas</td>\n",
       "      <td>2.710</td>\n",
       "      <td>+0.018</td>\n",
       "      <td>+0.67%(11 Minutes Delay)</td>\n",
       "      <td>(11 Minutes Delay)</td>\n",
       "    </tr>\n",
       "    <tr>\n",
       "      <th>19</th>\n",
       "      <td>NaN</td>\n",
       "      <td>Heating Oil</td>\n",
       "      <td>1.265</td>\n",
       "      <td>+0.026</td>\n",
       "      <td>+2.1%(11 Minutes Delay)</td>\n",
       "      <td>(11 Minutes Delay)</td>\n",
       "    </tr>\n",
       "    <tr>\n",
       "      <th>20</th>\n",
       "      <td>NaN</td>\n",
       "      <td>Gasoline</td>\n",
       "      <td>1.169</td>\n",
       "      <td>+0.016</td>\n",
       "      <td>+1.34%(11 Minutes Delay)</td>\n",
       "      <td>(11 Minutes Delay)</td>\n",
       "    </tr>\n",
       "    <tr>\n",
       "      <th>21</th>\n",
       "      <td>NaN</td>\n",
       "      <td>Ethanol</td>\n",
       "      <td>1.420</td>\n",
       "      <td>-0.020</td>\n",
       "      <td>-1.39%(15 \\tHours Delay)</td>\n",
       "      <td>(15 \\tHours Delay)</td>\n",
       "    </tr>\n",
       "    <tr>\n",
       "      <th>22</th>\n",
       "      <td>NaN</td>\n",
       "      <td>Alberta Natural Gas</td>\n",
       "      <td>2.650</td>\n",
       "      <td>-0.260</td>\n",
       "      <td>-8.93%(2 \\tdays Delay)</td>\n",
       "      <td>(2 \\tdays Delay)</td>\n",
       "    </tr>\n",
       "    <tr>\n",
       "      <th>23</th>\n",
       "      <td>NaN</td>\n",
       "      <td>Dutch TTF Natural Gas</td>\n",
       "      <td>5.030</td>\n",
       "      <td>+0.090</td>\n",
       "      <td>+1.82%(2 \\tdays Delay)</td>\n",
       "      <td>(2 \\tdays Delay)</td>\n",
       "    </tr>\n",
       "    <tr>\n",
       "      <th>24</th>\n",
       "      <td>NaN</td>\n",
       "      <td>LNG Japan/Korea Marker</td>\n",
       "      <td>6.900</td>\n",
       "      <td>+0.000</td>\n",
       "      <td>+0.00%(2 \\tdays Delay)</td>\n",
       "      <td>(2 \\tdays Delay)</td>\n",
       "    </tr>\n",
       "    <tr>\n",
       "      <th>25</th>\n",
       "      <td>NaN</td>\n",
       "      <td>Futures &amp; Indexes</td>\n",
       "      <td>Last</td>\n",
       "      <td>Change</td>\n",
       "      <td>% Change</td>\n",
       "      <td>Last Updated</td>\n",
       "    </tr>\n",
       "  </tbody>\n",
       "</table>\n",
       "</div>"
      ],
      "text/plain": [
       "     0                        1      2       3                         4  \\\n",
       "0  NaN                WTI Crude  41.88   +0.45  +1.09%(11 Minutes Delay)   \n",
       "1  NaN              Brent Crude  44.42   +0.67  +1.53%(11 Minutes Delay)   \n",
       "2  NaN                  Mars US  41.78   -0.01  -0.02%(15 \\tHours Delay)   \n",
       "3  NaN              Opec Basket  42.93   +0.88    +2.09%(2 \\tdays Delay)   \n",
       "4  NaN     Canadian Crude Index  29.26   +0.23  +0.79%(2 \\tmonths Delay)   \n",
       "5  NaN                 DME Oman  44.06   -0.05       -0.11%(1 day Delay)   \n",
       "6  NaN                    Urals  39.60   +0.00       +0.00%(1 day Delay)   \n",
       "7  NaN           Mexican Basket  38.00   -0.83    -2.14%(5 \\tdays Delay)   \n",
       "8  NaN            Indian Basket  43.68   +0.81    +1.89%(2 \\tdays Delay)   \n",
       "9  NaN  Western Canadian Select  31.83   +0.09   +0.28%(8 \\tHours Delay)   \n",
       "10 NaN                    Dubai  42.52   +0.65    +1.55%(2 \\tdays Delay)   \n",
       "11 NaN   Brent Weighted Average  43.98   +1.00    +2.33%(2 \\tdays Delay)   \n",
       "12 NaN          Louisiana Light  42.34   +1.21    +2.94%(2 \\tdays Delay)   \n",
       "13 NaN          Coastal Grade A  30.75   +0.00       +0.00%(1 day Delay)   \n",
       "14 NaN  Domestic Swt. @ Cushing  37.75   +0.00       +0.00%(1 day Delay)   \n",
       "15 NaN                 Giddings  31.50   +0.00       +0.00%(1 day Delay)   \n",
       "16 NaN           ANS West Coast  42.35   -0.66    -1.53%(5 \\tdays Delay)   \n",
       "17 NaN          Gulf Coast HSFO  38.91   +0.32    +0.83%(2 \\tdays Delay)   \n",
       "18 NaN              Natural Gas  2.710  +0.018  +0.67%(11 Minutes Delay)   \n",
       "19 NaN              Heating Oil  1.265  +0.026   +2.1%(11 Minutes Delay)   \n",
       "20 NaN                 Gasoline  1.169  +0.016  +1.34%(11 Minutes Delay)   \n",
       "21 NaN                  Ethanol  1.420  -0.020  -1.39%(15 \\tHours Delay)   \n",
       "22 NaN      Alberta Natural Gas  2.650  -0.260    -8.93%(2 \\tdays Delay)   \n",
       "23 NaN    Dutch TTF Natural Gas  5.030  +0.090    +1.82%(2 \\tdays Delay)   \n",
       "24 NaN   LNG Japan/Korea Marker  6.900  +0.000    +0.00%(2 \\tdays Delay)   \n",
       "25 NaN        Futures & Indexes   Last  Change                  % Change   \n",
       "\n",
       "                     5  \n",
       "0   (11 Minutes Delay)  \n",
       "1   (11 Minutes Delay)  \n",
       "2   (15 \\tHours Delay)  \n",
       "3     (2 \\tdays Delay)  \n",
       "4   (2 \\tmonths Delay)  \n",
       "5        (1 day Delay)  \n",
       "6        (1 day Delay)  \n",
       "7     (5 \\tdays Delay)  \n",
       "8     (2 \\tdays Delay)  \n",
       "9    (8 \\tHours Delay)  \n",
       "10    (2 \\tdays Delay)  \n",
       "11    (2 \\tdays Delay)  \n",
       "12    (2 \\tdays Delay)  \n",
       "13       (1 day Delay)  \n",
       "14       (1 day Delay)  \n",
       "15       (1 day Delay)  \n",
       "16    (5 \\tdays Delay)  \n",
       "17    (2 \\tdays Delay)  \n",
       "18  (11 Minutes Delay)  \n",
       "19  (11 Minutes Delay)  \n",
       "20  (11 Minutes Delay)  \n",
       "21  (15 \\tHours Delay)  \n",
       "22    (2 \\tdays Delay)  \n",
       "23    (2 \\tdays Delay)  \n",
       "24    (2 \\tdays Delay)  \n",
       "25        Last Updated  "
      ]
     },
     "execution_count": 78,
     "metadata": {},
     "output_type": "execute_result"
    }
   ],
   "source": [
    "r = requests.get(url_prices)\n",
    "price_list = pd.read_html(r.text) # this parses all the tables in webpages to a list\n",
    "price_df = price_list[0]\n",
    "price_df"
   ]
  },
  {
   "cell_type": "code",
   "execution_count": 79,
   "metadata": {},
   "outputs": [
    {
     "data": {
      "text/plain": [
       "[{'Oil_Symbol': 'WTI Crude',\n",
       "  'Oil_Price': '41.88',\n",
       "  'Oil_Change_Value': '+0.45',\n",
       "  'Oil_Change_Interest': '+1.09%',\n",
       "  'Oil_Price_Delay': '(11 Minutes Delay)'},\n",
       " {'Oil_Symbol': 'Brent Crude',\n",
       "  'Oil_Price': '44.42',\n",
       "  'Oil_Change_Value': '+0.67',\n",
       "  'Oil_Change_Interest': '+1.53%',\n",
       "  'Oil_Price_Delay': '(11 Minutes Delay)'},\n",
       " {'Oil_Symbol': 'Mars US',\n",
       "  'Oil_Price': '41.78',\n",
       "  'Oil_Change_Value': '-0.01',\n",
       "  'Oil_Change_Interest': '-0.02%',\n",
       "  'Oil_Price_Delay': '(15 \\tHours Delay)'},\n",
       " {'Oil_Symbol': 'Opec Basket',\n",
       "  'Oil_Price': '42.93',\n",
       "  'Oil_Change_Value': '+0.88',\n",
       "  'Oil_Change_Interest': '+2.09%',\n",
       "  'Oil_Price_Delay': '(2 \\tdays Delay)'},\n",
       " {'Oil_Symbol': 'Canadian Crude Index',\n",
       "  'Oil_Price': '29.26',\n",
       "  'Oil_Change_Value': '+0.23',\n",
       "  'Oil_Change_Interest': '+0.79%',\n",
       "  'Oil_Price_Delay': '(2 \\tmonths Delay)'},\n",
       " {'Oil_Symbol': 'DME Oman',\n",
       "  'Oil_Price': '44.06',\n",
       "  'Oil_Change_Value': '-0.05',\n",
       "  'Oil_Change_Interest': '-0.11%',\n",
       "  'Oil_Price_Delay': '(1 day Delay)'},\n",
       " {'Oil_Symbol': 'Urals',\n",
       "  'Oil_Price': '39.60',\n",
       "  'Oil_Change_Value': '+0.00',\n",
       "  'Oil_Change_Interest': '+0.00%',\n",
       "  'Oil_Price_Delay': '(1 day Delay)'},\n",
       " {'Oil_Symbol': 'Mexican Basket',\n",
       "  'Oil_Price': '38.00',\n",
       "  'Oil_Change_Value': '-0.83',\n",
       "  'Oil_Change_Interest': '-2.14%',\n",
       "  'Oil_Price_Delay': '(5 \\tdays Delay)'},\n",
       " {'Oil_Symbol': 'Indian Basket',\n",
       "  'Oil_Price': '43.68',\n",
       "  'Oil_Change_Value': '+0.81',\n",
       "  'Oil_Change_Interest': '+1.89%',\n",
       "  'Oil_Price_Delay': '(2 \\tdays Delay)'},\n",
       " {'Oil_Symbol': 'Western Canadian Select',\n",
       "  'Oil_Price': '31.83',\n",
       "  'Oil_Change_Value': '+0.09',\n",
       "  'Oil_Change_Interest': '+0.28%',\n",
       "  'Oil_Price_Delay': '(8 \\tHours Delay)'}]"
      ]
     },
     "execution_count": 79,
     "metadata": {},
     "output_type": "execute_result"
    }
   ],
   "source": [
    "prices = []\n",
    "for price_row in price_df.iterrows():\n",
    "    row = {}\n",
    "    row['Oil_Symbol'] = price_row[1][1]\n",
    "    row['Oil_Price'] = price_row[1][2]\n",
    "    row['Oil_Change_Value'] = price_row[1][3]\n",
    "    row['Oil_Change_Interest'] = price_row[1][4].split(\"(\")[0]\n",
    "    row['Oil_Price_Delay'] = price_row[1][5]\n",
    "    prices.append(row)\n",
    "prices[:10]"
   ]
  },
  {
   "cell_type": "markdown",
   "metadata": {},
   "source": [
    "# WEB Scrapping Energy Companies News"
   ]
  },
  {
   "cell_type": "code",
   "execution_count": 67,
   "metadata": {},
   "outputs": [],
   "source": [
    "# Visit Baker Hughes\n",
    "base_url = \"https://www.bakerhughes.com\"\n",
    "url_news = \"https://www.bakerhughes.com/company/energy-forward\"\n",
    "soup = soup_url(url_news)"
   ]
  },
  {
   "cell_type": "code",
   "execution_count": 68,
   "metadata": {},
   "outputs": [
    {
     "data": {
      "text/plain": [
       "'Energy Forward Stories | Baker Hughes'"
      ]
     },
     "execution_count": 68,
     "metadata": {},
     "output_type": "execute_result"
    }
   ],
   "source": [
    "page_title = soup.title.text\n",
    "page_title"
   ]
  },
  {
   "cell_type": "code",
   "execution_count": 69,
   "metadata": {},
   "outputs": [],
   "source": [
    "articles = soup.find_all(class_= \"article-tile-ef__top-container\")\n",
    "articles_sum = soup.find_all(class_= \"article-tile-ef__metadata-summary\")"
   ]
  },
  {
   "cell_type": "code",
   "execution_count": 70,
   "metadata": {},
   "outputs": [
    {
     "data": {
      "text/plain": [
       "['We’ve only scratched the surface using AI and dron',\n",
       " 'Applying AI in a pandemic',\n",
       " 'Clear and present leadership in a time of tumult',\n",
       " 'Straight talk on decarbonization']"
      ]
     },
     "execution_count": 70,
     "metadata": {},
     "output_type": "execute_result"
    }
   ],
   "source": [
    "title_list = []\n",
    "link_list = []\n",
    "for article in articles:\n",
    "    img = article.findAll('img')\n",
    "    link = img[0].get('src')\n",
    "    link_list.append(link)\n",
    "    title = article.find_all(class_= \"article-tile-ef__title\")\n",
    "    title_list.append(title[0].text.strip())\n",
    "title_list"
   ]
  },
  {
   "cell_type": "code",
   "execution_count": 71,
   "metadata": {},
   "outputs": [
    {
     "data": {
      "text/plain": [
       "['Vice President Safety and Environment Unconventionals at Shell, Kevin McMahon talks about deploying drones for methane detection in the Permian Basin.',\n",
       " 'An alliance of technologists applies artificial intelligence (AI) to the pivotal task, achieving benefits on every front.',\n",
       " 'Russell Wilkerson, Chief Corporate Affairs Officer explains the value of being a purpose-driven company in times of uncertainty.',\n",
       " 'Rod Christie, Executive Vice President of Turbomachinery & Process Solutions wants you to know the oil & gas industry is serious about climate change.']"
      ]
     },
     "execution_count": 71,
     "metadata": {},
     "output_type": "execute_result"
    }
   ],
   "source": [
    "text_list = []\n",
    "for article in articles_sum:\n",
    "    full_text = article.find_all(class_= \"article-tile-ef__summary\")\n",
    "    text_list.append(full_text[0].text.strip())\n",
    "text_list"
   ]
  },
  {
   "cell_type": "code",
   "execution_count": 72,
   "metadata": {},
   "outputs": [
    {
     "data": {
      "text/plain": [
       "[{'News_Title': 'Baker Hughes Company (BKR), an energy technology company',\n",
       "  'News_Paragraph': 'Our portfolio of technology, equipment and services solves customer challenges in energy and industrial applications.',\n",
       "  'Image_URL': 'https://www.bakerhughes.com/sites/bakerhughes/files/styles/max_2600x2600/public/2019-09/09242019_aboutus_i4%402x.jpg'},\n",
       " {'News_Title': 'We’ve only scratched the surface using AI and dron',\n",
       "  'News_Paragraph': 'Vice President Safety and Environment Unconventionals at Shell, Kevin McMahon talks about deploying drones for methane detection in the Permian Basin.',\n",
       "  'Image_URL': 'https://www.bakerhughes.com/sites/bakerhughes/files/styles/product_services_thumbnail/public/2020-09/Avitas%20Drone%20Aug%202020%2023.JPG?itok=bvQ5skEv'},\n",
       " {'News_Title': 'Applying AI in a pandemic',\n",
       "  'News_Paragraph': 'An alliance of technologists applies artificial intelligence (AI) to the pivotal task, achieving benefits on every front.',\n",
       "  'Image_URL': 'https://www.bakerhughes.com/sites/bakerhughes/files/styles/product_services_thumbnail/public/2020-09/Image%20Hero_Applying%20AI.jpg?itok=FY7Fea40'},\n",
       " {'News_Title': 'Clear and present leadership in a time of tumult',\n",
       "  'News_Paragraph': 'Russell Wilkerson, Chief Corporate Affairs Officer explains the value of being a purpose-driven company in times of uncertainty.',\n",
       "  'Image_URL': 'https://www.bakerhughes.com/sites/bakerhughes/files/styles/product_services_thumbnail/public/2020-07/Russell%202_0.jpg?itok=VL6DKJAf'},\n",
       " {'News_Title': 'Straight talk on decarbonization',\n",
       "  'News_Paragraph': 'Rod Christie, Executive Vice President of Turbomachinery & Process Solutions wants you to know the oil & gas industry is serious about climate change.',\n",
       "  'Image_URL': 'https://www.bakerhughes.com/sites/bakerhughes/files/styles/product_services_thumbnail/public/2020-07/ROD_05_A.jpg?itok=vNzlNDfn'}]"
      ]
     },
     "execution_count": 72,
     "metadata": {},
     "output_type": "execute_result"
    }
   ],
   "source": [
    "baker = [{'News_Title': 'Baker Hughes Company (BKR), an energy technology company', \n",
    "         'News_Paragraph': 'Our portfolio of technology, equipment and services solves customer challenges in energy and industrial applications.',\n",
    "         'Image_URL': 'https://www.bakerhughes.com/sites/bakerhughes/files/styles/max_2600x2600/public/2019-09/09242019_aboutus_i4%402x.jpg'\n",
    "         }]\n",
    "for i in range(len(title_list)):\n",
    "    row = {}\n",
    "    row[\"News_Title\"] = title_list[i]\n",
    "    row[\"News_Paragraph\"] = text_list[i]\n",
    "    row[\"Image_URL\"] = link_list[i]\n",
    "    baker.append(row)\n",
    "baker"
   ]
  },
  {
   "cell_type": "code",
   "execution_count": 39,
   "metadata": {},
   "outputs": [],
   "source": [
    "# Visit Chevron\n",
    "base_url = \"https://www.chevron.com\"\n",
    "url_news = \"https://www.chevron.com/projects\"\n",
    "soup = soup_url(url_news)"
   ]
  },
  {
   "cell_type": "code",
   "execution_count": 40,
   "metadata": {},
   "outputs": [
    {
     "data": {
      "text/plain": [
       "'Chevron International Project Portfolio  — Chevron.com'"
      ]
     },
     "execution_count": 40,
     "metadata": {},
     "output_type": "execute_result"
    }
   ],
   "source": [
    "page_title = soup.title.text\n",
    "page_title"
   ]
  },
  {
   "cell_type": "code",
   "execution_count": 41,
   "metadata": {},
   "outputs": [
    {
     "data": {
      "text/plain": [
       "[]"
      ]
     },
     "execution_count": 41,
     "metadata": {},
     "output_type": "execute_result"
    }
   ],
   "source": [
    "articles = soup.find_all(class_= \"c12 container-fluid  section-bg-color bg-white\")"
   ]
  },
  {
   "cell_type": "code",
   "execution_count": 45,
   "metadata": {},
   "outputs": [],
   "source": [
    "title_list = ['Project Gorgon', 'Project the Permian Basin', 'Project Tengiz Expansion', 'Project Jack/St.Malo']\n",
    "text_list = ['One of the largest global natural gas projects is primed  to power the Asia-Pacific region.',\n",
    "             'An engine of America’s energy resurgence is delivering transformational growth for us.',\n",
    "             'For more than 20 years, we’ve been operating one of the  world’s deepest supergiant oil fields and supporting local communities in  Kazakhstan.',\n",
    "             'In the U.S. Gulf of Mexico, we’re taking deepwater  technology to new heights—nearly 30,000 feet beneath the ocean’s surface.'\n",
    "            ]\n",
    "link_list = ['https://www.chevron.com/projects/-/media/chevron/projects/images/gorgon-tile.jpg', \n",
    "             'https://www.chevron.com/projects/-/media/chevron/projects/images/permian-project-tile.jpg',\n",
    "             'https://www.chevron.com/projects/-/media/chevron/projects/images/tengizchevroil-tile.jpg',\n",
    "             'https://www.chevron.com/projects/-/media/chevron/projects/images/jack-st-malo-project-tile.jpg',]"
   ]
  },
  {
   "cell_type": "code",
   "execution_count": 63,
   "metadata": {},
   "outputs": [
    {
     "data": {
      "text/plain": [
       "[{'News_Title': 'Chevron Corporation (CVX)',\n",
       "  'News_Paragraph': 'From upstream exploration and production to midstream transportation, power and trading to downstream manufacturing and retail, each of our businesses work in concert across virtually every facet of the energy industry.',\n",
       "  'Image_URL': 'https://www.chevron.com/-/media/chevron/investors/images/ir-hero-platong-platform.jpg'},\n",
       " {'News_Title': 'Project Gorgon',\n",
       "  'News_Paragraph': 'One of the largest global natural gas projects is primed  to power the Asia-Pacific region.',\n",
       "  'Image_URL': 'https://www.chevron.com/projects/-/media/chevron/projects/images/gorgon-tile.jpg'},\n",
       " {'News_Title': 'Project the Permian Basin',\n",
       "  'News_Paragraph': 'An engine of America’s energy resurgence is delivering transformational growth for us.',\n",
       "  'Image_URL': 'https://www.chevron.com/projects/-/media/chevron/projects/images/permian-project-tile.jpg'},\n",
       " {'News_Title': 'Project Tengiz Expansion',\n",
       "  'News_Paragraph': 'For more than 20 years, we’ve been operating one of the  world’s deepest supergiant oil fields and supporting local communities in  Kazakhstan.',\n",
       "  'Image_URL': 'https://www.chevron.com/projects/-/media/chevron/projects/images/tengizchevroil-tile.jpg'},\n",
       " {'News_Title': 'Project Jack/St.Malo',\n",
       "  'News_Paragraph': 'In the U.S. Gulf of Mexico, we’re taking deepwater  technology to new heights—nearly 30,000 feet beneath the ocean’s surface.',\n",
       "  'Image_URL': 'https://www.chevron.com/projects/-/media/chevron/projects/images/jack-st-malo-project-tile.jpg'}]"
      ]
     },
     "execution_count": 63,
     "metadata": {},
     "output_type": "execute_result"
    }
   ],
   "source": [
    "chevron = [{'News_Title': 'Chevron Corporation (CVX)', \n",
    "            'News_Paragraph': 'From upstream exploration and production to midstream transportation, power and trading to downstream manufacturing and retail, each of our businesses work in concert across virtually every facet of the energy industry.',\n",
    "            'Image_URL': 'https://www.chevron.com/-/media/chevron/investors/images/ir-hero-platong-platform.jpg'}]\n",
    "for i in range(len(title_list)):\n",
    "    row = {}\n",
    "    row[\"News_Title\"] = title_list[i]\n",
    "    row[\"News_Paragraph\"] = text_list[i]\n",
    "    row[\"Image_URL\"] = link_list[i]\n",
    "    chevron.append(row)\n",
    "chevron"
   ]
  },
  {
   "cell_type": "code",
   "execution_count": 50,
   "metadata": {},
   "outputs": [],
   "source": [
    "# Visit Exxon\n",
    "base_url = \"https://corporate.exxonmobil.com\"\n",
    "url_news = \"https://corporate.exxonmobil.com/Company/Who-we-are\"\n",
    "soup = soup_url(url_news)"
   ]
  },
  {
   "cell_type": "code",
   "execution_count": 51,
   "metadata": {},
   "outputs": [
    {
     "data": {
      "text/plain": [
       "'Who we are | ExxonMobil'"
      ]
     },
     "execution_count": 51,
     "metadata": {},
     "output_type": "execute_result"
    }
   ],
   "source": [
    "page_title = soup.title.text\n",
    "page_title"
   ]
  },
  {
   "cell_type": "code",
   "execution_count": 53,
   "metadata": {},
   "outputs": [],
   "source": [
    "exxon = [{'News_Title': 'Exxon Mobil Corporation (XOM)',\n",
    "          'News_Paragraph': 'One of the world’s largest publicly traded energy providers and chemical manufacturers, develops and applies next-generation technologies to help safely and responsibly meet the world’s growing needs for energy and high-quality chemical products.',\n",
    "          'Image_URL': 'https://corporate.exxonmobil.com/Company/Who-we-are/-/media/Global/Images/Article-top-banners/Natural-gas/Loading-dock-at-PNG-LNG_banner_90512.jpg'}]"
   ]
  },
  {
   "cell_type": "code",
   "execution_count": 54,
   "metadata": {},
   "outputs": [],
   "source": [
    "url_news = 'https://finance.yahoo.com/quote/EOG/news/'\n",
    "eog = [{'News_Title': 'EOG Resources, Inc. (EOG)',\n",
    "        'News_Paragraph':'One of the best \"shale\" producers is a solid bet for a potential recovery in 2021. The company s principal producing areas are located in New Mexico, North Dakota, Texas, and Wyoming in the United States; and the Republic of Trinidad and Tobago, the People s Republic of China, and Canada',\n",
    "        'Image_URL': 'https://s7d2.scene7.com/is/image/DNB/Industry-OilandGas-hero'}]"
   ]
  },
  {
   "cell_type": "code",
   "execution_count": 55,
   "metadata": {},
   "outputs": [],
   "source": [
    "conoco = [{'News_Title':  'ConocoPhillips (COP)',\n",
    "           'News_Paragraph': 'ConocoPhillips is a multinational corporation engaged in hydrocarbon exploration. It is based in the Energy Corridor district of Houston, Texas. ',\n",
    "           'Image_URL': 'https://static.conocophillips.com/files/pages/ultrawide-med-19sr-report-cover-aplng.jpg'}]"
   ]
  },
  {
   "cell_type": "code",
   "execution_count": 56,
   "metadata": {},
   "outputs": [],
   "source": [
    "valero = [{'News_Title': 'Valero Energy Corporation (VLO)',\n",
    "           'News_Paragraph': 'Founded in 1980 and named for the mission San Antonio de Valero – the original name of the Alamo – Valero Energy Corporation has continued to grow and evolve to become the largest global independent petroleum refiner and the largest renewable fuels producer in North America.',\n",
    "           'Image_URL': 'https://www.valero.com/sites/default/files/2020-04/About_SuppliersMineralInterestInvestRecov_700X550.jpg'}]"
   ]
  },
  {
   "cell_type": "markdown",
   "metadata": {},
   "source": [
    "# Store Data in Database"
   ]
  },
  {
   "cell_type": "code",
   "execution_count": 19,
   "metadata": {},
   "outputs": [],
   "source": [
    "# Initialize PyMongo to work with MongoDBs\n",
    "conn = 'mongodb://localhost:27017'\n",
    "client = pymongo.MongoClient(conn)"
   ]
  },
  {
   "cell_type": "code",
   "execution_count": 73,
   "metadata": {},
   "outputs": [
    {
     "name": "stdout",
     "output_type": "stream",
     "text": [
      "{'_id': ObjectId('5fb484ee094f647d970de9b7'), 'News_Title': 'Baker Hughes Company (BKR), an energy technology company', 'News_Paragraph': 'Our portfolio of technology, equipment and services solves customer challenges in energy and industrial applications.', 'Image_URL': 'https://www.bakerhughes.com/sites/bakerhughes/files/styles/max_2600x2600/public/2019-09/09242019_aboutus_i4%402x.jpg'}\n",
      "{'_id': ObjectId('5fb484ee094f647d970de9b8'), 'News_Title': 'We’ve only scratched the surface using AI and dron', 'News_Paragraph': 'Vice President Safety and Environment Unconventionals at Shell, Kevin McMahon talks about deploying drones for methane detection in the Permian Basin.', 'Image_URL': 'https://www.bakerhughes.com/sites/bakerhughes/files/styles/product_services_thumbnail/public/2020-09/Avitas%20Drone%20Aug%202020%2023.JPG?itok=bvQ5skEv'}\n",
      "{'_id': ObjectId('5fb484ee094f647d970de9b9'), 'News_Title': 'Applying AI in a pandemic', 'News_Paragraph': 'An alliance of technologists applies artificial intelligence (AI) to the pivotal task, achieving benefits on every front.', 'Image_URL': 'https://www.bakerhughes.com/sites/bakerhughes/files/styles/product_services_thumbnail/public/2020-09/Image%20Hero_Applying%20AI.jpg?itok=FY7Fea40'}\n",
      "{'_id': ObjectId('5fb484ee094f647d970de9ba'), 'News_Title': 'Clear and present leadership in a time of tumult', 'News_Paragraph': 'Russell Wilkerson, Chief Corporate Affairs Officer explains the value of being a purpose-driven company in times of uncertainty.', 'Image_URL': 'https://www.bakerhughes.com/sites/bakerhughes/files/styles/product_services_thumbnail/public/2020-07/Russell%202_0.jpg?itok=VL6DKJAf'}\n",
      "{'_id': ObjectId('5fb484ee094f647d970de9bb'), 'News_Title': 'Straight talk on decarbonization', 'News_Paragraph': 'Rod Christie, Executive Vice President of Turbomachinery & Process Solutions wants you to know the oil & gas industry is serious about climate change.', 'Image_URL': 'https://www.bakerhughes.com/sites/bakerhughes/files/styles/product_services_thumbnail/public/2020-07/ROD_05_A.jpg?itok=vNzlNDfn'}\n"
     ]
    }
   ],
   "source": [
    "# BAKER HUGHES\n",
    "# Define database and collection\n",
    "db = client.oil_db\n",
    "collection = db.baker_intro_new\n",
    "# Upload collection\n",
    "for record in baker:\n",
    "    collection.insert_one(record)\n",
    "# Display the MongoDB records created above\n",
    "baker_news_db = db.baker_intro_new.find()\n",
    "for record in baker_news_db:\n",
    "    print(record)"
   ]
  },
  {
   "cell_type": "code",
   "execution_count": 74,
   "metadata": {},
   "outputs": [
    {
     "name": "stdout",
     "output_type": "stream",
     "text": [
      "{'_id': ObjectId('5fb4850d094f647d970de9bc'), 'News_Title': 'Chevron Corporation (CVX)', 'News_Paragraph': 'From upstream exploration and production to midstream transportation, power and trading to downstream manufacturing and retail, each of our businesses work in concert across virtually every facet of the energy industry.', 'Image_URL': 'https://www.chevron.com/-/media/chevron/investors/images/ir-hero-platong-platform.jpg'}\n",
      "{'_id': ObjectId('5fb4850d094f647d970de9bd'), 'News_Title': 'Project Gorgon', 'News_Paragraph': 'One of the largest global natural gas projects is primed  to power the Asia-Pacific region.', 'Image_URL': 'https://www.chevron.com/projects/-/media/chevron/projects/images/gorgon-tile.jpg'}\n",
      "{'_id': ObjectId('5fb4850d094f647d970de9be'), 'News_Title': 'Project the Permian Basin', 'News_Paragraph': 'An engine of America’s energy resurgence is delivering transformational growth for us.', 'Image_URL': 'https://www.chevron.com/projects/-/media/chevron/projects/images/permian-project-tile.jpg'}\n",
      "{'_id': ObjectId('5fb4850d094f647d970de9bf'), 'News_Title': 'Project Tengiz Expansion', 'News_Paragraph': 'For more than 20 years, we’ve been operating one of the  world’s deepest supergiant oil fields and supporting local communities in  Kazakhstan.', 'Image_URL': 'https://www.chevron.com/projects/-/media/chevron/projects/images/tengizchevroil-tile.jpg'}\n",
      "{'_id': ObjectId('5fb4850d094f647d970de9c0'), 'News_Title': 'Project Jack/St.Malo', 'News_Paragraph': 'In the U.S. Gulf of Mexico, we’re taking deepwater  technology to new heights—nearly 30,000 feet beneath the ocean’s surface.', 'Image_URL': 'https://www.chevron.com/projects/-/media/chevron/projects/images/jack-st-malo-project-tile.jpg'}\n"
     ]
    }
   ],
   "source": [
    "# CHEVRON\n",
    "# Define database and collection\n",
    "db = client.oil_db\n",
    "collection = db.chevron_intro_new\n",
    "# Upload collection\n",
    "for record in chevron:\n",
    "    collection.insert_one(record)\n",
    "# Display the MongoDB records created above\n",
    "baker_news_db = db.chevron_intro_new.find()\n",
    "for record in baker_news_db:\n",
    "    print(record)"
   ]
  },
  {
   "cell_type": "code",
   "execution_count": 59,
   "metadata": {},
   "outputs": [
    {
     "name": "stdout",
     "output_type": "stream",
     "text": [
      "{'_id': ObjectId('5fb41520094f647d970de9b3'), 'News_Title': 'ConocoPhillips (COP)', 'News_Paragraph': 'ConocoPhillips is a multinational corporation engaged in hydrocarbon exploration. It is based in the Energy Corridor district of Houston, Texas. ', 'Image_URL': 'https://static.conocophillips.com/files/pages/ultrawide-med-19sr-report-cover-aplng.jpg'}\n"
     ]
    }
   ],
   "source": [
    "# CONOCO PHILIPS\n",
    "# Define database and collection\n",
    "db = client.oil_db\n",
    "collection = db.conoco_intro\n",
    "# Upload collection\n",
    "for record in conoco:\n",
    "    collection.insert_one(record)\n",
    "# Display the MongoDB records created above\n",
    "baker_news_db = db.conoco_intro.find()\n",
    "for record in baker_news_db:\n",
    "    print(record)"
   ]
  },
  {
   "cell_type": "code",
   "execution_count": 60,
   "metadata": {},
   "outputs": [
    {
     "name": "stdout",
     "output_type": "stream",
     "text": [
      "{'_id': ObjectId('5fb41556094f647d970de9b4'), 'News_Title': 'Exxon Mobil Corporation (XOM)', 'News_Paragraph': 'One of the world’s largest publicly traded energy providers and chemical manufacturers, develops and applies next-generation technologies to help safely and responsibly meet the world’s growing needs for energy and high-quality chemical products.', 'Image_URL': 'https://corporate.exxonmobil.com/Company/Who-we-are/-/media/Global/Images/Article-top-banners/Natural-gas/Loading-dock-at-PNG-LNG_banner_90512.jpg'}\n"
     ]
    }
   ],
   "source": [
    "# EXXON MOBILE\n",
    "# Define database and collection\n",
    "db = client.oil_db\n",
    "collection = db.exxon_intro\n",
    "# Upload collection\n",
    "for record in exxon:\n",
    "    collection.insert_one(record)\n",
    "# Display the MongoDB records created above\n",
    "baker_news_db = db.exxon_intro.find()\n",
    "for record in baker_news_db:\n",
    "    print(record)"
   ]
  },
  {
   "cell_type": "code",
   "execution_count": 61,
   "metadata": {},
   "outputs": [
    {
     "name": "stdout",
     "output_type": "stream",
     "text": [
      "{'_id': ObjectId('5fb4157b094f647d970de9b5'), 'News_Title': 'Valero Energy Corporation (VLO)', 'News_Paragraph': 'Founded in 1980 and named for the mission San Antonio de Valero – the original name of the Alamo – Valero Energy Corporation has continued to grow and evolve to become the largest global independent petroleum refiner and the largest renewable fuels producer in North America.', 'Image_URL': 'https://www.valero.com/sites/default/files/2020-04/About_SuppliersMineralInterestInvestRecov_700X550.jpg'}\n"
     ]
    }
   ],
   "source": [
    "# VALERO ENERGY\n",
    "# Define database and collection\n",
    "db = client.oil_db\n",
    "collection = db.valero_intro\n",
    "# Upload collection\n",
    "for record in valero:\n",
    "    collection.insert_one(record)\n",
    "# Display the MongoDB records created above\n",
    "baker_news_db = db.valero_intro.find()\n",
    "for record in baker_news_db:\n",
    "    print(record)"
   ]
  },
  {
   "cell_type": "code",
   "execution_count": 62,
   "metadata": {},
   "outputs": [
    {
     "name": "stdout",
     "output_type": "stream",
     "text": [
      "{'_id': ObjectId('5fb4159c094f647d970de9b6'), 'News_Title': 'EOG Resources, Inc. (EOG)', 'News_Paragraph': 'One of the best \"shale\" producers is a solid bet for a potential recovery in 2021. The company s principal producing areas are located in New Mexico, North Dakota, Texas, and Wyoming in the United States; and the Republic of Trinidad and Tobago, the People s Republic of China, and Canada', 'Image_URL': 'https://s7d2.scene7.com/is/image/DNB/Industry-OilandGas-hero'}\n"
     ]
    }
   ],
   "source": [
    "# EOG RESOURCES\n",
    "# Define database and collection\n",
    "db = client.oil_db\n",
    "collection = db.eog_intro\n",
    "# Upload collection\n",
    "for record in eog:\n",
    "    collection.insert_one(record)\n",
    "# Display the MongoDB records created above\n",
    "baker_news_db = db.eog_intro.find()\n",
    "for record in baker_news_db:\n",
    "    print(record)"
   ]
  },
  {
   "cell_type": "code",
   "execution_count": 20,
   "metadata": {},
   "outputs": [],
   "source": [
    "# Define database and collection\n",
    "db = client.oil_db\n",
    "collection = db.baker_news"
   ]
  },
  {
   "cell_type": "code",
   "execution_count": 21,
   "metadata": {},
   "outputs": [],
   "source": [
    "# Upload collection\n",
    "for record in baker:\n",
    "    collection.insert_one(record)"
   ]
  },
  {
   "cell_type": "code",
   "execution_count": 22,
   "metadata": {},
   "outputs": [],
   "source": [
    "# Define database and collection\n",
    "db = client.oil_db\n",
    "collection = db.oil_news"
   ]
  },
  {
   "cell_type": "code",
   "execution_count": 31,
   "metadata": {},
   "outputs": [
    {
     "name": "stdout",
     "output_type": "stream",
     "text": [
      "{'_id': ObjectId('5fb333700b43571206b39393'), 'News_Title': 'Baker Hughes, an energy technology company', 'News_Paragraph': ' ', 'Image_URL': 'https://www.bakerhughes.com/sites/bakerhughes/files/styles/max_2600x2600/public/2019-09/09242019_aboutus_i4%402x.jpg'}\n",
      "{'_id': ObjectId('5fb333700b43571206b39394'), 'News_Title': 'We’ve only scratched the surface using AI and dron', 'News_Paragraph': 'Vice President Safety and Environment Unconventionals at Shell, Kevin McMahon talks about deploying drones for methane detection in the Permian Basin.', 'Image_URL': 'https://www.bakerhughes.com/sites/bakerhughes/files/styles/product_services_thumbnail/public/2020-09/Avitas%20Drone%20Aug%202020%2023.JPG?itok=bvQ5skEv'}\n",
      "{'_id': ObjectId('5fb333700b43571206b39395'), 'News_Title': 'Applying AI in a pandemic', 'News_Paragraph': 'An alliance of technologists applies artificial intelligence (AI) to the pivotal task, achieving benefits on every front.', 'Image_URL': 'https://www.bakerhughes.com/sites/bakerhughes/files/styles/product_services_thumbnail/public/2020-09/Image%20Hero_Applying%20AI.jpg?itok=FY7Fea40'}\n",
      "{'_id': ObjectId('5fb333700b43571206b39396'), 'News_Title': 'Clear and present leadership in a time of tumult', 'News_Paragraph': 'Russell Wilkerson, Chief Corporate Affairs Officer explains the value of being a purpose-driven company in times of uncertainty.', 'Image_URL': 'https://www.bakerhughes.com/sites/bakerhughes/files/styles/product_services_thumbnail/public/2020-07/Russell%202_0.jpg?itok=VL6DKJAf'}\n",
      "{'_id': ObjectId('5fb333700b43571206b39397'), 'News_Title': 'Straight talk on decarbonization', 'News_Paragraph': 'Rod Christie, Executive Vice President of Turbomachinery & Process Solutions wants you to know the oil & gas industry is serious about climate change.', 'Image_URL': 'https://www.bakerhughes.com/sites/bakerhughes/files/styles/product_services_thumbnail/public/2020-07/ROD_05_A.jpg?itok=vNzlNDfn'}\n",
      "{'_id': ObjectId('5fb33410094f647d970de976'), 'News_Title': 'Baker Hughes, an energy technology company', 'News_Paragraph': 'Our portfolio of technology, equipment and services solves customer challenges in energy and industrial applications.', 'Image_URL': 'https://www.bakerhughes.com/sites/bakerhughes/files/styles/max_2600x2600/public/2019-09/09242019_aboutus_i4%402x.jpg'}\n",
      "{'_id': ObjectId('5fb33410094f647d970de977'), 'News_Title': 'We’ve only scratched the surface using AI and dron', 'News_Paragraph': 'Vice President Safety and Environment Unconventionals at Shell, Kevin McMahon talks about deploying drones for methane detection in the Permian Basin.', 'Image_URL': 'https://www.bakerhughes.com/sites/bakerhughes/files/styles/product_services_thumbnail/public/2020-09/Avitas%20Drone%20Aug%202020%2023.JPG?itok=bvQ5skEv'}\n",
      "{'_id': ObjectId('5fb33410094f647d970de978'), 'News_Title': 'Applying AI in a pandemic', 'News_Paragraph': 'An alliance of technologists applies artificial intelligence (AI) to the pivotal task, achieving benefits on every front.', 'Image_URL': 'https://www.bakerhughes.com/sites/bakerhughes/files/styles/product_services_thumbnail/public/2020-09/Image%20Hero_Applying%20AI.jpg?itok=FY7Fea40'}\n",
      "{'_id': ObjectId('5fb33410094f647d970de979'), 'News_Title': 'Clear and present leadership in a time of tumult', 'News_Paragraph': 'Russell Wilkerson, Chief Corporate Affairs Officer explains the value of being a purpose-driven company in times of uncertainty.', 'Image_URL': 'https://www.bakerhughes.com/sites/bakerhughes/files/styles/product_services_thumbnail/public/2020-07/Russell%202_0.jpg?itok=VL6DKJAf'}\n",
      "{'_id': ObjectId('5fb33410094f647d970de97a'), 'News_Title': 'Straight talk on decarbonization', 'News_Paragraph': 'Rod Christie, Executive Vice President of Turbomachinery & Process Solutions wants you to know the oil & gas industry is serious about climate change.', 'Image_URL': 'https://www.bakerhughes.com/sites/bakerhughes/files/styles/product_services_thumbnail/public/2020-07/ROD_05_A.jpg?itok=vNzlNDfn'}\n"
     ]
    }
   ],
   "source": [
    "# Display the MongoDB records created above\n",
    "baker_news_db = db.baker_news.find()\n",
    "for record in baker_news_db:\n",
    "    print(record)"
   ]
  },
  {
   "cell_type": "code",
   "execution_count": 88,
   "metadata": {},
   "outputs": [],
   "source": [
    "# Upload collection\n",
    "for record in news:\n",
    "    collection.insert_one(record)"
   ]
  },
  {
   "cell_type": "code",
   "execution_count": 89,
   "metadata": {},
   "outputs": [
    {
     "name": "stdout",
     "output_type": "stream",
     "text": [
      "{'_id': ObjectId('5f8247ff1b28d0739f5c7cf1'), 'Date': 'Oct 13, 2020 at 13:10 ', 'News_Title': 'Iraq Discusses Gas Investment At Its Largest Oilfield With BP', 'News_Paragraph': \"Iraq discussed on Tuesday plans for investment in associated gas production at its largest oilfield, Rumaila, Iraq's Oil Minister Ihsan Abdul-Jabbar Ismail said in a statement to Shafaq News…\", 'Author': ' Tsvetana Paraskova', 'Image_URL': 'https://d32r1sh890xpii.cloudfront.net/news/270x200/2020-10-13_iitmjqvwez.jpg'}\n",
      "{'_id': ObjectId('5f8247ff1b28d0739f5c7cf2'), 'Date': 'Oct 09, 2020 at 13:11 ', 'News_Title': 'Norway’s Oil Strike Could End As Soon As Friday', 'News_Paragraph': 'There is a chance that the oil workers’ strike in Norway will end as soon as on Friday, the head of the trade union whose members are on strike for…', 'Author': ' Tsvetana Paraskova', 'Image_URL': 'https://d32r1sh890xpii.cloudfront.net/news/270x200/2020-10-09_zsxvky4oan.jpg'}\n",
      "{'_id': ObjectId('5f8247ff1b28d0739f5c7cf3'), 'Date': 'Oct 09, 2020 at 12:48 ', 'News_Title': 'Air Travel Collapse Makes Oil Hedges More Expensive', 'News_Paragraph': 'The pandemic and the resulting plunge in air travel have caused airlines to largely abandon oil hedges against higher oil prices, thus making it more expensive for oil producers to…', 'Author': ' Charles Kennedy', 'Image_URL': 'https://d32r1sh890xpii.cloudfront.net/news/270x200/2020-10-09_hsq3dpnwxu.jpg'}\n",
      "{'_id': ObjectId('5f8247ff1b28d0739f5c7cf4'), 'Date': 'Oct 09, 2020 at 10:31 ', 'News_Title': 'Pemex Issues $1.5-Bln Bond To Refinance Massive Debt', 'News_Paragraph': 'Mexico’s state oil company Pemex has issued a $1.5-billion bond to raise funds necessary to refinance existing debt, Reuters reported, quoting a source in the know that remained unnamed.\\nAccording…', 'Author': ' Irina Slav', 'Image_URL': 'https://d32r1sh890xpii.cloudfront.net/news/270x200/2020-10-09_sf1ekjgrhv.jpg'}\n",
      "{'_id': ObjectId('5f8247ff1b28d0739f5c7cf5'), 'Date': 'Oct 09, 2020 at 09:17 ', 'News_Title': 'More Than 90% Of Gulf Of Mexico Oil Production Shut In As Hurricane Approaches', 'News_Paragraph': 'More than 90% of all oil production in the U.S. Gulf of Mexico has been shut in ahead of the latest hurricane set to rip through offshore oil country, the…', 'Author': ' Julianne Geiger', 'Image_URL': 'https://d32r1sh890xpii.cloudfront.net/news/270x200/2020-10-09_snvmtzmyui.jpg'}\n",
      "{'_id': ObjectId('5f8247ff1b28d0739f5c7cf6'), 'Date': 'Oct 08, 2020 at 14:30 ', 'News_Title': 'Norway’s Oil & Gas Strikes Could Take 25% Of Production Offline', 'News_Paragraph': 'If the ongoing strike of oil workers in Norway extends for another week without a resolution, nearly 25 percent of Norway’s oil and gas production could be shut down, including…', 'Author': ' Josh Owens', 'Image_URL': 'https://d32r1sh890xpii.cloudfront.net/news/270x200/2020-10-08_clwzrvfq4h.jpg'}\n",
      "{'_id': ObjectId('5f8247ff1b28d0739f5c7cf7'), 'Date': 'Oct 08, 2020 at 13:35 ', 'News_Title': 'Venezuela Restarts Crude Blending Operations As Upgraders Return Online', 'News_Paragraph': 'Venezuela’s state oil firm PDVSA has recently boosted its crude oil blending operations to a six-month high after some upgraders came back online, Reuters reported on Thursday, citing PDVSA…', 'Author': ' Tsvetana Paraskova', 'Image_URL': 'https://d32r1sh890xpii.cloudfront.net/news/270x200/2020-10-08_pubc0h8o3e.jpg'}\n",
      "{'_id': ObjectId('5f8247ff1b28d0739f5c7cf8'), 'Date': 'Oct 08, 2020 at 12:01 ', 'News_Title': 'Church Of England Dumps All ExxonMobil Stock', 'News_Paragraph': 'The Church of England Pensions Board divested this week all its shares in ExxonMobil since the U.S. supermajor has failed to set targets to cut Scope 3 emissions—those generated by…', 'Author': ' Charles Kennedy', 'Image_URL': 'https://d32r1sh890xpii.cloudfront.net/news/270x200/2020-10-08_7cnn5jqtea.jpg'}\n",
      "{'_id': ObjectId('5f8247ff1b28d0739f5c7cf9'), 'Date': 'Oct 08, 2020 at 11:48 ', 'News_Title': 'Libya’s Central Banks Wants To Lift Oil Output To 1.7 Million Bpd', 'News_Paragraph': 'The governor of the Libyan central bank has called for the increase of oil production to 1.7 million bpd as soon as possible as the country’s economy continues to struggle…', 'Author': ' Irina Slav', 'Image_URL': 'https://d32r1sh890xpii.cloudfront.net/news/270x200/2020-10-08_guhajeatn4.jpg'}\n",
      "{'_id': ObjectId('5f8247ff1b28d0739f5c7cfa'), 'Date': 'Oct 08, 2020 at 11:32 ', 'News_Title': 'Shell Shuts All 9 Of Its Gulf Of Mexico Oil Platforms Ahead Of Hurricane', 'News_Paragraph': 'Shell said on Thursday that it had shut in production at all nine of its platforms in the U.S. Gulf of Mexico and evacuated all personnel, as operators rush to…', 'Author': ' Tsvetana Paraskova', 'Image_URL': 'https://d32r1sh890xpii.cloudfront.net/news/270x200/2020-10-08_ysgobvf6dq.jpg'}\n",
      "{'_id': ObjectId('5f8247ff1b28d0739f5c7cfb'), 'Date': 'Oct 08, 2020 at 10:33 ', 'News_Title': 'Green Hydrogen Projects Are Surging, But Are They Feasible?', 'News_Paragraph': 'Proposed green hydrogen projects are surging across the globe as governments seize opportunities afforded by post-pandemic green stimulus packages. Rystad Energy research shows the global pipeline of utility scale green…', 'Author': ' Rystad Energy', 'Image_URL': 'https://d32r1sh890xpii.cloudfront.net/news/270x200/2020-10-08_lezwx3rmve.jpg'}\n",
      "{'_id': ObjectId('5f8247ff1b28d0739f5c7cfc'), 'Date': 'Oct 08, 2020 at 09:31 ', 'News_Title': 'Chevron Is Making Workers Reapply For Jobs', 'News_Paragraph': 'Chevron is asking its employees to reapply for jobs, Reuters has reported, citing unnamed sources in the know. The move is part of efforts to reduce the company’s headcount…', 'Author': ' Irina Slav', 'Image_URL': 'https://d32r1sh890xpii.cloudfront.net/news/270x200/2020-10-08_drwn2xapps.jpg'}\n",
      "{'_id': ObjectId('5f8247ff1b28d0739f5c7cfd'), 'Date': 'Oct 07, 2020 at 15:41 ', 'News_Title': 'Oil Rig Evacuations Continue Ahead Of Hurricane Delta', 'News_Paragraph': 'Oil and gas companies are evacuating more platforms and rigs in the Gulf of Mexico as Hurricane Delta barrels toward the coast, according to the Bureau of Safety and Environmental…', 'Author': ' Julianne Geiger', 'Image_URL': 'https://d32r1sh890xpii.cloudfront.net/news/270x200/2020-10-07_o0xlbnwi9q.jpg'}\n",
      "{'_id': ObjectId('5f8247ff1b28d0739f5c7cfe'), 'Date': 'Oct 07, 2020 at 15:28 ', 'News_Title': 'BP Forced To Boost Security In Azerbaijan As Conflict Escalates', 'News_Paragraph': 'BP will boost security at its oil and gas assets and operations in Azerbaijan after reports of alleged attacks near an important oil pipeline as the', 'Author': ' Tsvetana Paraskova', 'Image_URL': 'https://d32r1sh890xpii.cloudfront.net/news/270x200/2020-10-07_9tm2eaibzh.jpg'}\n",
      "{'_id': ObjectId('5f8247ff1b28d0739f5c7cff'), 'Date': 'Oct 07, 2020 at 15:06 ', 'News_Title': 'The U.S. Fell Short In Providing Effective Oil And Gas Relief', 'News_Paragraph': 'Hastening to approve relief for oil companies after the price crash, the U.S. Bureau of Land Management (BLM) adopted an unclear policy for temporary royalty relief on federal…', 'Author': ' Tsvetana Paraskova', 'Image_URL': 'https://d32r1sh890xpii.cloudfront.net/news/270x200/2020-10-07_r5sc4dxenr.jpg'}\n",
      "{'_id': ObjectId('5f8247ff1b28d0739f5c7d00'), 'Date': 'Oct 07, 2020 at 12:21 ', 'News_Title': 'Big Oil Still Isn’t On Course To Hit Global Climate Goals', 'News_Paragraph': 'Despite Big Oil’s race to commit to net-zero emissions and significantly boost renewables operations, none of the major oil and gas companies have aligned their emissions targets to…', 'Author': ' Tsvetana Paraskova', 'Image_URL': 'https://d32r1sh890xpii.cloudfront.net/news/270x200/2020-10-07_viyo7c5nyg.jpg'}\n",
      "{'_id': ObjectId('5f8247ff1b28d0739f5c7d01'), 'Date': 'Oct 07, 2020 at 12:18 ', 'News_Title': 'The U.S. Moves To Ease Dependence On Foreign Rare Earths', 'News_Paragraph': 'Late last month, President Donald Trump issued an executive order that seeks to curb U.S. dependence on foreign sources of critical minerals.', 'Author': ' Ag Metal Miner', 'Image_URL': 'https://d32r1sh890xpii.cloudfront.net/news/270x200/2020-10-07_uhxklcsifk.jpg'}\n",
      "{'_id': ObjectId('5f8247ff1b28d0739f5c7d02'), 'Date': 'Oct 07, 2020 at 12:06 ', 'News_Title': 'Nigeria Looks To Ramp Up Its Oil Refining Capacity', 'News_Paragraph': 'Nigeria, Africa’s largest crude oil producer and exporter, expects to end its crude-for-fuel swap deals by 2023 when its refining capacity is set to increase with state refineries…', 'Author': ' Tsvetana Paraskova', 'Image_URL': 'https://d32r1sh890xpii.cloudfront.net/news/270x200/2020-10-07_k4asdvfzwa.jpg'}\n",
      "{'_id': ObjectId('5f8247ff1b28d0739f5c7d03'), 'Date': 'Oct 07, 2020 at 10:54 ', 'News_Title': 'Premier Oil Set To Merge With North Sea Rival', 'News_Paragraph': 'Premier Oil this morning announced that it had agreed to merge with fellow North Sea explorer Chrysaor in a deal which will make the firm the largest independent…', 'Author': ' City A.M', 'Image_URL': 'https://d32r1sh890xpii.cloudfront.net/news/270x200/2020-10-07_s21inmt0hz.jpg'}\n",
      "{'_id': ObjectId('5f8247ff1b28d0739f5c7d04'), 'Date': 'Oct 07, 2020 at 10:27 ', 'News_Title': 'Britain Blocks The Approval Of A Major Coal Mine', 'News_Paragraph': 'The UK government has temporarily blocked the development of what would be the nation’s first new deep coal mine in 30 years, while…', 'Author': ' MINING.com', 'Image_URL': 'https://d32r1sh890xpii.cloudfront.net/news/270x200/2020-10-07_hsuxvrwitn.jpg'}\n",
      "{'_id': ObjectId('5fb33432094f647d970de97b'), 'Date': 'Nov 16, 2020 at 17:31 ', 'News_Title': 'OPEC+ Meeting Concludes With Support For Cut Extension', 'News_Paragraph': 'OPEC+’s technical meeting finished on Monday with widespread support for a three-month extension of the current level of oil production cuts, sources told Reuters on Monday.\\nOPEC sources hinted last…', 'Author': ' Julianne Geiger', 'Image_URL': 'https://d32r1sh890xpii.cloudfront.net/news/270x200/2020-11-16_wgznwu6xqo.jpg'}\n",
      "{'_id': ObjectId('5fb33432094f647d970de97c'), 'Date': 'Nov 16, 2020 at 15:23 ', 'News_Title': 'Sudan To Offer 27 Oil Concessions In Global Bidding Round', 'News_Paragraph': 'The government of Sudan plans to offer to investors concessions of 27 oil blocks in the country via a global bid, Acting Energy Minister Kheiri Abdelrahman told a local television…', 'Author': ' Charles Kennedy', 'Image_URL': 'https://d32r1sh890xpii.cloudfront.net/news/270x200/2020-11-16_scg0olhwy4.jpg'}\n",
      "{'_id': ObjectId('5fb33432094f647d970de97d'), 'Date': 'Nov 16, 2020 at 14:00 ', 'News_Title': 'Oil & Gas Discoveries Resilient In 2020 Despite Pandemic', 'News_Paragraph': 'Despite delays in drilling campaigns and reduced exploration budgets due to COVID-19, the volume of oil and gas discoveries globally is set to reach 10 billion barrels of oil equivalent…', 'Author': ' Tsvetana Paraskova', 'Image_URL': 'https://d32r1sh890xpii.cloudfront.net/news/270x200/2020-11-16_vspkdhf2r5.jpg'}\n",
      "{'_id': ObjectId('5fb33432094f647d970de97e'), 'Date': 'Nov 16, 2020 at 12:33 ', 'News_Title': 'U.S. Natural Gas Stocks Close To Record-High At Refill Season End', 'News_Paragraph': 'Natural gas inventories in the United States ended the injection season between April and October 2020 close to the all-time high from 2016, the Energy Information Administration (EIA) said…', 'Author': ' Charles Kennedy', 'Image_URL': 'https://d32r1sh890xpii.cloudfront.net/news/270x200/2020-11-16_p6izcafoeo.jpg'}\n",
      "{'_id': ObjectId('5fb33432094f647d970de97f'), 'Date': 'Nov 16, 2020 at 10:47 ', 'News_Title': 'Michigan Order Enbridge To Shut Down Line 5', 'News_Paragraph': 'Michigan’s Governor Gretchen Whitmer and the director of the state’s Department of Natural Resources have revoked Enbridge’s easement for the operation of the twin Line 5 pipeline, citing repeated…', 'Author': ' Charles Kennedy', 'Image_URL': 'https://d32r1sh890xpii.cloudfront.net/news/270x200/2020-11-16_rlb18mgt0a.jpg'}\n",
      "{'_id': ObjectId('5fb33432094f647d970de980'), 'Date': 'Nov 16, 2020 at 09:28 ', 'News_Title': \"Twitter Blocks Iran Oil Minister's Account\", 'News_Paragraph': 'Twitter has blocked the official account of Bijan Zanganeh, the Petroleum Minister of Iran, IRNA has reported.\\nThe U.S. government slapped sanctions Ion Zanganeh in late October, as part…', 'Author': ' Charles Kennedy', 'Image_URL': 'https://d32r1sh890xpii.cloudfront.net/news/270x200/2020-11-16_egusafn0xg.jpg'}\n",
      "{'_id': ObjectId('5fb33432094f647d970de981'), 'Date': 'Nov 13, 2020 at 17:28 ', 'News_Title': 'OPEC+ Compliance With Cuts At 101% Ahead Of Crucial Meetings', 'News_Paragraph': 'The OPEC+ group complied 101 percent with the oil production cuts in October, keeping a high level of conformity ahead of the crucial meetings over the next two weeks, which…', 'Author': ' Charles Kennedy', 'Image_URL': 'https://d32r1sh890xpii.cloudfront.net/news/270x200/2020-11-13_on05iqr1ap.jpg'}\n",
      "{'_id': ObjectId('5fb33432094f647d970de982'), 'Date': 'Nov 13, 2020 at 17:01 ', 'News_Title': 'Libya’s Oil Production Exceeds 1.2 Million Bpd', 'News_Paragraph': 'Oil production in Libya has already exceeded 1.2 million barrels per day (bpd), a source in Libya’s oil industry told Reuters on Friday, while this faster-than-expected output resumption could…', 'Author': ' Charles Kennedy', 'Image_URL': 'https://d32r1sh890xpii.cloudfront.net/news/270x200/2020-11-13_uyytrqu2kh.jpg'}\n",
      "{'_id': ObjectId('5fb33432094f647d970de983'), 'Date': 'Nov 13, 2020 at 13:19 ', 'News_Title': 'The Price Of Permian Acreage Has Slumped By 67% After Oil Price Crash', 'News_Paragraph': 'Due to the oil price collapse earlier this year, the price for drilling rights in the Permian basin has plunged by 67 percent since 2018, setting the stage for more…', 'Author': ' Tsvetana Paraskova', 'Image_URL': 'https://d32r1sh890xpii.cloudfront.net/news/270x200/2020-11-13_kwronlvexb.jpg'}\n",
      "{'_id': ObjectId('5fb33432094f647d970de984'), 'Date': 'Nov 13, 2020 at 10:47 ', 'News_Title': 'PDVSA Chief Goes to Russia To \"Deepen Ties\"', 'News_Paragraph': 'The head of Venezuela\\'s state oil company PDVSA, Asdrubal Chavez, and Venezuelan vice-president and economy minister Delcy Rodriguez are visiting Russia today to \"deepen strategic alliances,\" Reuters reported, citing…', 'Author': ' Charles Kennedy', 'Image_URL': 'https://d32r1sh890xpii.cloudfront.net/news/270x200/2020-11-13_fyq6uhenar.jpg'}\n"
     ]
    }
   ],
   "source": [
    "# Display the MongoDB records created above\n",
    "oil_news_db = db.oil_news.find()\n",
    "for record in oil_news_db[:30]:\n",
    "    print(record)"
   ]
  },
  {
   "cell_type": "code",
   "execution_count": 80,
   "metadata": {},
   "outputs": [],
   "source": [
    "# Define new collection\n",
    "prices_collection = db.oil_prices_new"
   ]
  },
  {
   "cell_type": "code",
   "execution_count": 81,
   "metadata": {},
   "outputs": [],
   "source": [
    "# Upload collection\n",
    "for record in prices:\n",
    "    prices_collection.insert_one(record)"
   ]
  },
  {
   "cell_type": "code",
   "execution_count": 82,
   "metadata": {},
   "outputs": [
    {
     "name": "stdout",
     "output_type": "stream",
     "text": [
      "{'_id': ObjectId('5fb54146094f647d970de9c1'), 'Oil_Symbol': 'WTI Crude', 'Oil_Price': '41.88', 'Oil_Change_Value': '+0.45', 'Oil_Change_Interest': '+1.09%', 'Oil_Price_Delay': '(11 Minutes Delay)'}\n",
      "{'_id': ObjectId('5fb54146094f647d970de9c2'), 'Oil_Symbol': 'Brent Crude', 'Oil_Price': '44.42', 'Oil_Change_Value': '+0.67', 'Oil_Change_Interest': '+1.53%', 'Oil_Price_Delay': '(11 Minutes Delay)'}\n",
      "{'_id': ObjectId('5fb54146094f647d970de9c3'), 'Oil_Symbol': 'Mars US', 'Oil_Price': '41.78', 'Oil_Change_Value': '-0.01', 'Oil_Change_Interest': '-0.02%', 'Oil_Price_Delay': '(15 \\tHours Delay)'}\n",
      "{'_id': ObjectId('5fb54146094f647d970de9c4'), 'Oil_Symbol': 'Opec Basket', 'Oil_Price': '42.93', 'Oil_Change_Value': '+0.88', 'Oil_Change_Interest': '+2.09%', 'Oil_Price_Delay': '(2 \\tdays Delay)'}\n",
      "{'_id': ObjectId('5fb54146094f647d970de9c5'), 'Oil_Symbol': 'Canadian Crude Index', 'Oil_Price': '29.26', 'Oil_Change_Value': '+0.23', 'Oil_Change_Interest': '+0.79%', 'Oil_Price_Delay': '(2 \\tmonths Delay)'}\n",
      "{'_id': ObjectId('5fb54146094f647d970de9c6'), 'Oil_Symbol': 'DME Oman', 'Oil_Price': '44.06', 'Oil_Change_Value': '-0.05', 'Oil_Change_Interest': '-0.11%', 'Oil_Price_Delay': '(1 day Delay)'}\n",
      "{'_id': ObjectId('5fb54146094f647d970de9c7'), 'Oil_Symbol': 'Urals', 'Oil_Price': '39.60', 'Oil_Change_Value': '+0.00', 'Oil_Change_Interest': '+0.00%', 'Oil_Price_Delay': '(1 day Delay)'}\n",
      "{'_id': ObjectId('5fb54146094f647d970de9c8'), 'Oil_Symbol': 'Mexican Basket', 'Oil_Price': '38.00', 'Oil_Change_Value': '-0.83', 'Oil_Change_Interest': '-2.14%', 'Oil_Price_Delay': '(5 \\tdays Delay)'}\n",
      "{'_id': ObjectId('5fb54146094f647d970de9c9'), 'Oil_Symbol': 'Indian Basket', 'Oil_Price': '43.68', 'Oil_Change_Value': '+0.81', 'Oil_Change_Interest': '+1.89%', 'Oil_Price_Delay': '(2 \\tdays Delay)'}\n",
      "{'_id': ObjectId('5fb54146094f647d970de9ca'), 'Oil_Symbol': 'Western Canadian Select', 'Oil_Price': '31.83', 'Oil_Change_Value': '+0.09', 'Oil_Change_Interest': '+0.28%', 'Oil_Price_Delay': '(8 \\tHours Delay)'}\n"
     ]
    }
   ],
   "source": [
    "# Display the MongoDB records created above\n",
    "oil_prices_db = db.oil_prices_new.find()\n",
    "for record in oil_prices_db[:10]:\n",
    "    print(record)"
   ]
  },
  {
   "cell_type": "code",
   "execution_count": 29,
   "metadata": {},
   "outputs": [],
   "source": [
    "client.close()"
   ]
  },
  {
   "cell_type": "code",
   "execution_count": null,
   "metadata": {},
   "outputs": [],
   "source": []
  }
 ],
 "metadata": {
  "kernelspec": {
   "display_name": "Python 3",
   "language": "python",
   "name": "python3"
  },
  "language_info": {
   "codemirror_mode": {
    "name": "ipython",
    "version": 3
   },
   "file_extension": ".py",
   "mimetype": "text/x-python",
   "name": "python",
   "nbconvert_exporter": "python",
   "pygments_lexer": "ipython3",
   "version": "3.8.2"
  }
 },
 "nbformat": 4,
 "nbformat_minor": 4
}
