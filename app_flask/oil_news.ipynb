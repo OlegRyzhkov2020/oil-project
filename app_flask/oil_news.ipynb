{
 "cells": [
  {
   "cell_type": "code",
   "execution_count": 129,
   "metadata": {},
   "outputs": [],
   "source": [
    "from splinter import Browser\n",
    "from bs4 import BeautifulSoup as bs\n",
    "import time\n",
    "import pymongo\n",
    "import re\n",
    "import pandas as pd\n",
    "import requests"
   ]
  },
  {
   "cell_type": "code",
   "execution_count": 2,
   "metadata": {},
   "outputs": [],
   "source": [
    "def init_browser():\n",
    "    # @NOTE: Replace the path with your actual path to the chromedriver\n",
    "    executable_path = {\"executable_path\": \"/usr/local/bin/chromedriver\"}\n",
    "    return Browser(\"chrome\", **executable_path, headless=False)\n",
    "\n",
    "def soup_url (url):\n",
    "    browser = init_browser()\n",
    "    # Visit url\n",
    "    browser.visit(url)\n",
    "    time.sleep(1)\n",
    "\n",
    "    # Scrape page into Soup\n",
    "    html = browser.html\n",
    "    soup_url = bs(html, \"html.parser\")\n",
    "    \n",
    "     # Close the browser after scraping\n",
    "    browser.quit()\n",
    "    \n",
    "    return soup_url\n",
    "\n",
    "def soup_class (soup, class_name):\n",
    "    \n",
    "    # Soup data list\n",
    "    soup_class = soup.find(class_= class_name)\n",
    "    \n",
    "    return soup_class \n",
    "\n",
    "def soup_class_list (soup, class_name):\n",
    "   \n",
    "    # Soup data list\n",
    "    soup_class_list = soup.find_all(class_= class_name)\n",
    "    \n",
    "    return soup_class_list\n",
    "\n",
    "def text_list (soup_class_list):\n",
    "    text_list = []\n",
    "    [text_list.append(record.text.replace(\"\\n\", \"\")) for record in soup_class_list]\n",
    "    return text_list"
   ]
  },
  {
   "cell_type": "markdown",
   "metadata": {},
   "source": [
    "# WEB Scrapping Latest Oil News"
   ]
  },
  {
   "cell_type": "code",
   "execution_count": 3,
   "metadata": {},
   "outputs": [],
   "source": [
    "# Visit oilprice.com\n",
    "base_url = \"https://oilprice.com\"\n",
    "url_news = \"https://oilprice.com/Latest-Energy-News/World-News/\"\n",
    "soup = soup_url(url_news)"
   ]
  },
  {
   "cell_type": "code",
   "execution_count": 4,
   "metadata": {},
   "outputs": [
    {
     "data": {
      "text/plain": [
       "'Oil News Today  | OilPrice.com'"
      ]
     },
     "execution_count": 4,
     "metadata": {},
     "output_type": "execute_result"
    }
   ],
   "source": [
    "page_title = soup.title.text\n",
    "page_title"
   ]
  },
  {
   "cell_type": "code",
   "execution_count": 33,
   "metadata": {},
   "outputs": [
    {
     "data": {
      "text/plain": [
       "[<img alt=\"Crude oil prices today - Oilprice.com\" class=\"desktop_logo\" src=\"https://d1o9e4un86hhpc.cloudfront.net/a/img/oilprice-logo.png?v=3\" title=\"Oil prices - Oilprice.com\"/>,\n",
       " <img alt=\"Crude oil prices today - Oilprice.com\" class=\"mobile_logo\" src=\"https://d1o9e4un86hhpc.cloudfront.net/a/img/common/header/mobile_logo.png?v=3\" title=\"Oil prices - Oilprice.com\"/>,\n",
       " <img alt=\"OilPrice GEA\" id=\"main_nav_button\" src=\"https://d1o9e4un86hhpc.cloudfront.net/a/img/common/nav_button_green.png\" style=\"height: 25px;\" title=\"Global Energy Alert\"/>,\n",
       " <img alt=\"Link\" height=\"21\" src=\"https://d1o9e4un86hhpc.cloudfront.net/a/img/common/header/link.png\" width=\"21\"/>,\n",
       " <img alt=\"Link\" src=\"https://d1o9e4un86hhpc.cloudfront.net/a/img/common/header/link.png\"/>,\n",
       " <img alt=\"Link\" src=\"https://d1o9e4un86hhpc.cloudfront.net/a/img/common/header/link.png\"/>,\n",
       " <img alt=\"Link\" height=\"21\" src=\"https://d1o9e4un86hhpc.cloudfront.net/a/img/common/header/link.png\" width=\"21\"/>,\n",
       " <img alt=\"Link\" height=\"21\" src=\"https://d1o9e4un86hhpc.cloudfront.net/a/img/common/header/link.png\" width=\"21\"/>,\n",
       " <img alt=\"Link\" src=\"https://d1o9e4un86hhpc.cloudfront.net/a/img/common/header/link.png\"/>,\n",
       " <img alt=\"Link\" src=\"https://d1o9e4un86hhpc.cloudfront.net/a/img/common/header/link.png\"/>,\n",
       " <img alt=\"Link\" height=\"21\" src=\"https://d1o9e4un86hhpc.cloudfront.net/a/img/common/header/link.png\" width=\"21\"/>,\n",
       " <img alt=\"Link\" src=\"https://d1o9e4un86hhpc.cloudfront.net/a/img/common/header/link.png\"/>,\n",
       " <img alt=\"Link\" src=\"https://d1o9e4un86hhpc.cloudfront.net/a/img/common/header/link.png\"/>,\n",
       " <img alt=\"Link\" height=\"21\" src=\"https://d1o9e4un86hhpc.cloudfront.net/a/img/common/header/link.png\" width=\"21\"/>,\n",
       " <img alt=\"Link\" src=\"https://d1o9e4un86hhpc.cloudfront.net/a/img/common/header/link.png\"/>,\n",
       " <img alt=\"Link\" src=\"https://d1o9e4un86hhpc.cloudfront.net/a/img/common/header/link.png\"/>,\n",
       " <img class=\"lozad opacity_0 lozad-fade\" data-base=\"https://d32r1sh890xpii.cloudfront.net/header_graphs/blend_\" data-loaded=\"true\" data-src=\"https://d32r1sh890xpii.cloudfront.net/header_graphs/blend_45_2.png?cb=1602368709\" src=\"https://d32r1sh890xpii.cloudfront.net/header_graphs/blend_45_2.png?cb=1602368709\"/>,\n",
       " <img alt=\"A National Mining Emergency\" class=\"articleOtherNews__image lozad opacity_0 lozad-fade\" data-error_image=\"https://d1o9e4un86hhpc.cloudfront.net/a/img/content/115x85-default.png\" data-loaded=\"true\" data-src=\"https://d32r1sh890xpii.cloudfront.net/article/115x85/2020-10-09_tqs0wntkhv.jpg\" src=\"https://d32r1sh890xpii.cloudfront.net/article/115x85/2020-10-09_tqs0wntkhv.jpg\" title=\"A National Mining Emergency\"/>,\n",
       " <img alt=\"Venezuela’s Crude Oil Industry May Never Recover\" class=\"articleOtherNews__image lozad opacity_0 lozad-fade\" data-error_image=\"https://d1o9e4un86hhpc.cloudfront.net/a/img/content/115x85-default.png\" data-loaded=\"true\" data-src=\"https://d32r1sh890xpii.cloudfront.net/article/115x85/2020-10-02_d1syo6c53w.jpg\" src=\"https://d32r1sh890xpii.cloudfront.net/article/115x85/2020-10-02_d1syo6c53w.jpg\" title=\"Venezuela’s Crude Oil Industry May Never Recover\"/>,\n",
       " <img class=\"articleOtherNews__image\" src=\"https://d1o9e4un86hhpc.cloudfront.net/a/img/common/top3_ad_image.jpg\"/>,\n",
       " <img alt=\"Turkey’s Black Sea Gas Discovery May Be Bigger Than Thought\" class=\"categoryArticle__image lozad opacity_0 lozad-fade\" data-error_image=\"https://d1o9e4un86hhpc.cloudfront.net/a/img/content/270x200-default.png\" data-loaded=\"true\" data-src=\"https://d32r1sh890xpii.cloudfront.net/news/270x200/2020-10-09_n75uqenxd4.jpg\" height=\"200\" src=\"https://d32r1sh890xpii.cloudfront.net/news/270x200/2020-10-09_n75uqenxd4.jpg\" width=\"270\"/>,\n",
       " <img alt=\"Oil Prices Sink On Larger than Expected Crude Build\" class=\"sidebarTrendingArticles__articleImage lozad opacity_0 lozad-fade\" data-error_image=\"https://d1o9e4un86hhpc.cloudfront.net/a/img/content/115x85-default.png\" data-loaded=\"true\" data-src=\"https://d32r1sh890xpii.cloudfront.net/news/115x85/2020-10-06_pjdvcvu08q.jpg\" src=\"https://d32r1sh890xpii.cloudfront.net/news/115x85/2020-10-06_pjdvcvu08q.jpg\" title=\"Oil Prices Sink On Larger than Expected Crude Build\"/>,\n",
       " <img alt=\"Dianomi\" height=\"10\" src=\"https://www.dianomi.com/img/uploads/Ufe0-8CoyKoAADAkZXEAAAAK.png\" style=\"border: none; height: auto; outline: none; width: 10px;\" width=\"11\"/>,\n",
       " <img alt=\"Weiss Ratings\" border=\"0\" class=\"png\" height=\"90\" src=\"https://www.dianomi.com/img/a/sav2/161111/34/120x90.jpg\" srcset=\"https://www.dianomi.com/img/a/sav2/161111/34/169x127.jpg 2x,https://www.dianomi.com/img/a/sav2/161111/34/207x155.jpg 3x,https://www.dianomi.com/img/a/sav2/161111/34/240x180.jpg 4x\" style=\"display: block; float: none; height: 62.5px; margin: 0px 0px; position: absolute; width: 85px;\" width=\"120\"/>,\n",
       " <img alt=\"Church Of England Dumps All ExxonMobil Stock\" class=\"sidebarTrendingArticles__articleImage lozad opacity_0 lozad-fade\" data-error_image=\"https://d1o9e4un86hhpc.cloudfront.net/a/img/content/115x85-default.png\" data-loaded=\"true\" data-src=\"https://d32r1sh890xpii.cloudfront.net/news/115x85/2020-10-08_7cnn5jqtea.jpg\" src=\"https://d32r1sh890xpii.cloudfront.net/news/115x85/2020-10-08_7cnn5jqtea.jpg\" title=\"Church Of England Dumps All ExxonMobil Stock\"/>,\n",
       " <img alt=\"Quantcast\" border=\"0\" height=\"1\" src=\"//pixel.quantserve.com/pixel/p-mYGzvda-tntH2.gif\" width=\"1\">\n",
       " </img>,\n",
       " <img height=\"1\" src=\"https://www.facebook.com/tr?id=332667700771750&amp;ev=PageView&amp;noscript=1\" style=\"display:none\" width=\"1\">\n",
       " </img>]"
      ]
     },
     "execution_count": 33,
     "metadata": {},
     "output_type": "execute_result"
    }
   ],
   "source": [
    "image_holder = soup.find_all('img', src=True)\n",
    "image_holder"
   ]
  },
  {
   "cell_type": "code",
   "execution_count": 96,
   "metadata": {},
   "outputs": [
    {
     "data": {
      "text/plain": [
       "['https://d32r1sh890xpii.cloudfront.net/news/270x200/2020-10-09_n75uqenxd4.jpg',\n",
       " 'https://d32r1sh890xpii.cloudfront.net/news/270x200/2020-10-09_zsxvky4oan.jpg',\n",
       " 'https://d32r1sh890xpii.cloudfront.net/news/270x200/2020-10-09_hsq3dpnwxu.jpg',\n",
       " 'https://d32r1sh890xpii.cloudfront.net/news/270x200/2020-10-09_sf1ekjgrhv.jpg',\n",
       " 'https://d32r1sh890xpii.cloudfront.net/news/270x200/2020-10-09_snvmtzmyui.jpg',\n",
       " 'https://d32r1sh890xpii.cloudfront.net/news/270x200/2020-10-08_clwzrvfq4h.jpg',\n",
       " 'https://d32r1sh890xpii.cloudfront.net/news/270x200/2020-10-08_pubc0h8o3e.jpg',\n",
       " 'https://d32r1sh890xpii.cloudfront.net/news/270x200/2020-10-08_7cnn5jqtea.jpg',\n",
       " 'https://d32r1sh890xpii.cloudfront.net/news/270x200/2020-10-08_guhajeatn4.jpg',\n",
       " 'https://d32r1sh890xpii.cloudfront.net/news/270x200/2020-10-08_ysgobvf6dq.jpg',\n",
       " 'https://d32r1sh890xpii.cloudfront.net/news/270x200/2020-10-08_lezwx3rmve.jpg',\n",
       " 'https://d32r1sh890xpii.cloudfront.net/news/270x200/2020-10-08_drwn2xapps.jpg',\n",
       " 'https://d32r1sh890xpii.cloudfront.net/news/270x200/2020-10-07_o0xlbnwi9q.jpg',\n",
       " 'https://d32r1sh890xpii.cloudfront.net/news/270x200/2020-10-07_9tm2eaibzh.jpg',\n",
       " 'https://d32r1sh890xpii.cloudfront.net/news/270x200/2020-10-07_r5sc4dxenr.jpg',\n",
       " 'https://d32r1sh890xpii.cloudfront.net/news/270x200/2020-10-07_viyo7c5nyg.jpg',\n",
       " 'https://d32r1sh890xpii.cloudfront.net/news/270x200/2020-10-07_uhxklcsifk.jpg',\n",
       " 'https://d32r1sh890xpii.cloudfront.net/news/270x200/2020-10-07_k4asdvfzwa.jpg',\n",
       " 'https://d32r1sh890xpii.cloudfront.net/news/270x200/2020-10-07_s21inmt0hz.jpg',\n",
       " 'https://d32r1sh890xpii.cloudfront.net/news/270x200/2020-10-07_hsuxvrwitn.jpg']"
      ]
     },
     "execution_count": 96,
     "metadata": {},
     "output_type": "execute_result"
    }
   ],
   "source": [
    "# Scrapping News Data\n",
    "articles = soup.find_all(class_= \"categoryArticle\")\n",
    "title_list = []\n",
    "date_list = []\n",
    "excerpt_list = []\n",
    "author_list = []\n",
    "link_list = []\n",
    "for article in articles:\n",
    "    image_holder = article.find(class_= \"categoryArticle__imageHolder\")\n",
    "    img =image_holder.findAll('img')\n",
    "    link = img[0].get('data-src')\n",
    "    link_list.append(link)\n",
    "    title = article.find_all(class_= \"categoryArticle__title\")\n",
    "    full_date = article.find_all(class_= \"categoryArticle__meta\")\n",
    "    date = full_date[0].text.strip().split(\"|\")[0]\n",
    "    author = full_date[0].text.strip().split(\"|\")[1]\n",
    "    excerpt = article.find_all(class_= \"categoryArticle__excerpt\")\n",
    "    title_list.append(title[0].text.strip())\n",
    "    date_list.append(date)\n",
    "    author_list.append(author)\n",
    "    excerpt_list.append(excerpt[0].text.strip())\n",
    "link_list"
   ]
  },
  {
   "cell_type": "code",
   "execution_count": 97,
   "metadata": {},
   "outputs": [
    {
     "data": {
      "text/plain": [
       "[{'Date': 'Oct 09, 2020 at 13:29 ',\n",
       "  'News_Title': 'Turkey’s Black Sea Gas Discovery May Be Bigger Than Thought',\n",
       "  'News_Paragraph': 'Turkey is about to revise up the estimate of its natural gas discovery in the Black Sea, Bloomberg reported on Friday, quoting sources with direct knowledge of the plans.…',\n",
       "  'Author': ' Tsvetana Paraskova',\n",
       "  'Image_URL': 'https://d32r1sh890xpii.cloudfront.net/news/270x200/2020-10-09_n75uqenxd4.jpg'},\n",
       " {'Date': 'Oct 09, 2020 at 13:11 ',\n",
       "  'News_Title': 'Norway’s Oil Strike Could End As Soon As Friday',\n",
       "  'News_Paragraph': 'There is a chance that the oil workers’ strike in Norway will end as soon as on Friday, the head of the trade union whose members are on strike for…',\n",
       "  'Author': ' Tsvetana Paraskova',\n",
       "  'Image_URL': 'https://d32r1sh890xpii.cloudfront.net/news/270x200/2020-10-09_zsxvky4oan.jpg'},\n",
       " {'Date': 'Oct 09, 2020 at 12:48 ',\n",
       "  'News_Title': 'Air Travel Collapse Makes Oil Hedges More Expensive',\n",
       "  'News_Paragraph': 'The pandemic and the resulting plunge in air travel have caused airlines to largely abandon oil hedges against higher oil prices, thus making it more expensive for oil producers to…',\n",
       "  'Author': ' Charles Kennedy',\n",
       "  'Image_URL': 'https://d32r1sh890xpii.cloudfront.net/news/270x200/2020-10-09_hsq3dpnwxu.jpg'},\n",
       " {'Date': 'Oct 09, 2020 at 10:31 ',\n",
       "  'News_Title': 'Pemex Issues $1.5-Bln Bond To Refinance Massive Debt',\n",
       "  'News_Paragraph': 'Mexico’s state oil company Pemex has issued a $1.5-billion bond to raise funds necessary to refinance existing debt, Reuters reported, quoting a source in the know that remained unnamed.\\nAccording…',\n",
       "  'Author': ' Irina Slav',\n",
       "  'Image_URL': 'https://d32r1sh890xpii.cloudfront.net/news/270x200/2020-10-09_sf1ekjgrhv.jpg'},\n",
       " {'Date': 'Oct 09, 2020 at 09:17 ',\n",
       "  'News_Title': 'More Than 90% Of Gulf Of Mexico Oil Production Shut In As Hurricane Approaches',\n",
       "  'News_Paragraph': 'More than 90% of all oil production in the U.S. Gulf of Mexico has been shut in ahead of the latest hurricane set to rip through offshore oil country, the…',\n",
       "  'Author': ' Julianne Geiger',\n",
       "  'Image_URL': 'https://d32r1sh890xpii.cloudfront.net/news/270x200/2020-10-09_snvmtzmyui.jpg'}]"
      ]
     },
     "execution_count": 97,
     "metadata": {},
     "output_type": "execute_result"
    }
   ],
   "source": [
    "news = []\n",
    "for i in range(len(title_list)):\n",
    "    row = {}\n",
    "    row['Date'] = date_list[i]\n",
    "    row[\"News_Title\"] = title_list[i]\n",
    "    row[\"News_Paragraph\"] = excerpt_list[i]\n",
    "    row[\"Author\"] = author_list[i]\n",
    "    row[\"Image_URL\"] = link_list[i]\n",
    "    news.append(row)\n",
    "news[:5]"
   ]
  },
  {
   "cell_type": "markdown",
   "metadata": {},
   "source": [
    "# WEB Scrapping Latest Oil Prices"
   ]
  },
  {
   "cell_type": "code",
   "execution_count": 106,
   "metadata": {},
   "outputs": [],
   "source": [
    "# Visit oilprice.com\n",
    "url_prices = \"https://oilprice.com/oil-price-charts/#prices\"\n",
    "soup_prices = soup_url(url_prices)"
   ]
  },
  {
   "cell_type": "code",
   "execution_count": 107,
   "metadata": {},
   "outputs": [
    {
     "data": {
      "text/plain": [
       "'Oil Price Charts | Oilprice.com'"
      ]
     },
     "execution_count": 107,
     "metadata": {},
     "output_type": "execute_result"
    }
   ],
   "source": [
    "page_title = soup_prices.title.text\n",
    "page_title"
   ]
  },
  {
   "cell_type": "code",
   "execution_count": 131,
   "metadata": {},
   "outputs": [
    {
     "data": {
      "text/plain": [
       "[<tr class=\"stripe show_graph update_on_load\" data-id=\"45\" data-spreadsheet=\"Crude Oil WTI\">\n",
       " <td class=\"flag_holder\"><div class=\"flag_usa\"></div></td><td>WTI Crude<i aria-hidden=\"true\" class=\"fa fa-plus user_add_blend hidden\" style=\"float:right;\" title=\"Follow blend\"></i><i aria-hidden=\"true\" class=\"fa fa-times user_remove_blend hidden\" style=\"float:right;\" title=\"Unfollow blend\"></i></td>\n",
       " <td class=\"last_price\" data-price=\"40.6\">40.60</td><td class=\"change_down flat_change_cell\" dir=\"ltr\">-0.59</td><td class=\"change_down_percent percent_change_cell\" dir=\"ltr\">-1.43%<span class=\"blend_update_text\">(1 day Delay)</span></td><td class=\"last_updated\" data-stamp=\"1602282600\">(1 day Delay)</td></tr>,\n",
       " <tr class=\"stripe show_graph update_on_load\" data-id=\"46\" data-spreadsheet=\"Crude Oil Brent\">\n",
       " <td class=\"flag_holder\"><div class=\"flag_uk\"></div></td><td>Brent Crude<i aria-hidden=\"true\" class=\"fa fa-plus user_add_blend hidden\" style=\"float:right;\" title=\"Follow blend\"></i><i aria-hidden=\"true\" class=\"fa fa-times user_remove_blend hidden\" style=\"float:right;\" title=\"Unfollow blend\"></i></td>\n",
       " <td class=\"last_price\" data-price=\"42.85\">42.85</td><td class=\"change_down flat_change_cell\" dir=\"ltr\">-0.49</td><td class=\"change_down_percent percent_change_cell\" dir=\"ltr\">-1.13%<span class=\"blend_update_text\">(1 day Delay)</span></td><td class=\"last_updated\" data-stamp=\"1602280920\">(1 day Delay)</td></tr>]"
      ]
     },
     "execution_count": 131,
     "metadata": {},
     "output_type": "execute_result"
    }
   ],
   "source": [
    "price_holders = soup_prices.find_all(class_= \"stripe show_graph update_on_load\")\n",
    "price_holders[:2]"
   ]
  },
  {
   "cell_type": "code",
   "execution_count": 161,
   "metadata": {},
   "outputs": [
    {
     "data": {
      "text/html": [
       "<div>\n",
       "<style scoped>\n",
       "    .dataframe tbody tr th:only-of-type {\n",
       "        vertical-align: middle;\n",
       "    }\n",
       "\n",
       "    .dataframe tbody tr th {\n",
       "        vertical-align: top;\n",
       "    }\n",
       "\n",
       "    .dataframe thead th {\n",
       "        text-align: right;\n",
       "    }\n",
       "</style>\n",
       "<table border=\"1\" class=\"dataframe\">\n",
       "  <thead>\n",
       "    <tr style=\"text-align: right;\">\n",
       "      <th></th>\n",
       "      <th>0</th>\n",
       "      <th>1</th>\n",
       "      <th>2</th>\n",
       "      <th>3</th>\n",
       "      <th>4</th>\n",
       "      <th>5</th>\n",
       "    </tr>\n",
       "  </thead>\n",
       "  <tbody>\n",
       "    <tr>\n",
       "      <th>0</th>\n",
       "      <td>NaN</td>\n",
       "      <td>WTI Crude</td>\n",
       "      <td>40.32</td>\n",
       "      <td>-0.28</td>\n",
       "      <td>-0.69%(11 Minutes Delay)</td>\n",
       "      <td>(11 Minutes Delay)</td>\n",
       "    </tr>\n",
       "    <tr>\n",
       "      <th>1</th>\n",
       "      <td>NaN</td>\n",
       "      <td>Brent Crude</td>\n",
       "      <td>42.52</td>\n",
       "      <td>-0.33</td>\n",
       "      <td>-0.77%(11 Minutes Delay)</td>\n",
       "      <td>(11 Minutes Delay)</td>\n",
       "    </tr>\n",
       "    <tr>\n",
       "      <th>2</th>\n",
       "      <td>NaN</td>\n",
       "      <td>Mars US</td>\n",
       "      <td>41.05</td>\n",
       "      <td>-0.89</td>\n",
       "      <td>-2.12%(40 Minutes Delay)</td>\n",
       "      <td>(40 Minutes Delay)</td>\n",
       "    </tr>\n",
       "    <tr>\n",
       "      <th>3</th>\n",
       "      <td>NaN</td>\n",
       "      <td>Opec Basket</td>\n",
       "      <td>41.06</td>\n",
       "      <td>+0.61</td>\n",
       "      <td>+1.51%(3 \\tdays Delay)</td>\n",
       "      <td>(3 \\tdays Delay)</td>\n",
       "    </tr>\n",
       "    <tr>\n",
       "      <th>4</th>\n",
       "      <td>NaN</td>\n",
       "      <td>Canadian Crude Index</td>\n",
       "      <td>29.73</td>\n",
       "      <td>-0.23</td>\n",
       "      <td>-0.77%(3 \\tweeks Delay)</td>\n",
       "      <td>(3 \\tweeks Delay)</td>\n",
       "    </tr>\n",
       "    <tr>\n",
       "      <th>5</th>\n",
       "      <td>NaN</td>\n",
       "      <td>DME Oman</td>\n",
       "      <td>42.21</td>\n",
       "      <td>-0.76</td>\n",
       "      <td>-1.77%(2 \\tdays Delay)</td>\n",
       "      <td>(2 \\tdays Delay)</td>\n",
       "    </tr>\n",
       "    <tr>\n",
       "      <th>6</th>\n",
       "      <td>NaN</td>\n",
       "      <td>Urals</td>\n",
       "      <td>39.60</td>\n",
       "      <td>+0.00</td>\n",
       "      <td>+0.00%(2 \\tdays Delay)</td>\n",
       "      <td>(2 \\tdays Delay)</td>\n",
       "    </tr>\n",
       "    <tr>\n",
       "      <th>7</th>\n",
       "      <td>NaN</td>\n",
       "      <td>Mexican Basket</td>\n",
       "      <td>38.04</td>\n",
       "      <td>+1.13</td>\n",
       "      <td>+3.06%(3 \\tdays Delay)</td>\n",
       "      <td>(3 \\tdays Delay)</td>\n",
       "    </tr>\n",
       "    <tr>\n",
       "      <th>8</th>\n",
       "      <td>NaN</td>\n",
       "      <td>Indian Basket</td>\n",
       "      <td>41.56</td>\n",
       "      <td>+0.48</td>\n",
       "      <td>+1.17%(3 \\tdays Delay)</td>\n",
       "      <td>(3 \\tdays Delay)</td>\n",
       "    </tr>\n",
       "    <tr>\n",
       "      <th>9</th>\n",
       "      <td>NaN</td>\n",
       "      <td>Western Canadian Select</td>\n",
       "      <td>31.69</td>\n",
       "      <td>+1.49</td>\n",
       "      <td>+4.93%(2 \\tdays Delay)</td>\n",
       "      <td>(2 \\tdays Delay)</td>\n",
       "    </tr>\n",
       "    <tr>\n",
       "      <th>10</th>\n",
       "      <td>NaN</td>\n",
       "      <td>Dubai</td>\n",
       "      <td>41.88</td>\n",
       "      <td>+0.90</td>\n",
       "      <td>+2.19%(3 \\tdays Delay)</td>\n",
       "      <td>(3 \\tdays Delay)</td>\n",
       "    </tr>\n",
       "    <tr>\n",
       "      <th>11</th>\n",
       "      <td>NaN</td>\n",
       "      <td>Brent Weighted Average</td>\n",
       "      <td>42.92</td>\n",
       "      <td>+1.08</td>\n",
       "      <td>+2.58%(3 \\tdays Delay)</td>\n",
       "      <td>(3 \\tdays Delay)</td>\n",
       "    </tr>\n",
       "    <tr>\n",
       "      <th>12</th>\n",
       "      <td>NaN</td>\n",
       "      <td>Louisiana Light</td>\n",
       "      <td>42.29</td>\n",
       "      <td>+1.22</td>\n",
       "      <td>+2.97%(3 \\tdays Delay)</td>\n",
       "      <td>(3 \\tdays Delay)</td>\n",
       "    </tr>\n",
       "    <tr>\n",
       "      <th>13</th>\n",
       "      <td>NaN</td>\n",
       "      <td>Coastal Grade A</td>\n",
       "      <td>30.00</td>\n",
       "      <td>-0.50</td>\n",
       "      <td>-1.64%(2 \\tdays Delay)</td>\n",
       "      <td>(2 \\tdays Delay)</td>\n",
       "    </tr>\n",
       "    <tr>\n",
       "      <th>14</th>\n",
       "      <td>NaN</td>\n",
       "      <td>Domestic Swt. @ Cushing</td>\n",
       "      <td>37.00</td>\n",
       "      <td>-0.50</td>\n",
       "      <td>-1.33%(2 \\tdays Delay)</td>\n",
       "      <td>(2 \\tdays Delay)</td>\n",
       "    </tr>\n",
       "    <tr>\n",
       "      <th>15</th>\n",
       "      <td>NaN</td>\n",
       "      <td>Giddings</td>\n",
       "      <td>30.75</td>\n",
       "      <td>-0.50</td>\n",
       "      <td>-1.60%(2 \\tdays Delay)</td>\n",
       "      <td>(2 \\tdays Delay)</td>\n",
       "    </tr>\n",
       "    <tr>\n",
       "      <th>16</th>\n",
       "      <td>NaN</td>\n",
       "      <td>ANS West Coast</td>\n",
       "      <td>40.48</td>\n",
       "      <td>-0.24</td>\n",
       "      <td>-0.59%(4 \\tdays Delay)</td>\n",
       "      <td>(4 \\tdays Delay)</td>\n",
       "    </tr>\n",
       "    <tr>\n",
       "      <th>17</th>\n",
       "      <td>NaN</td>\n",
       "      <td>Gulf Coast HSFO</td>\n",
       "      <td>37.84</td>\n",
       "      <td>+1.24</td>\n",
       "      <td>+3.39%(3 \\tdays Delay)</td>\n",
       "      <td>(3 \\tdays Delay)</td>\n",
       "    </tr>\n",
       "    <tr>\n",
       "      <th>18</th>\n",
       "      <td>NaN</td>\n",
       "      <td>Natural Gas</td>\n",
       "      <td>2.930</td>\n",
       "      <td>+0.189</td>\n",
       "      <td>+6.9%(11 Minutes Delay)</td>\n",
       "      <td>(11 Minutes Delay)</td>\n",
       "    </tr>\n",
       "    <tr>\n",
       "      <th>19</th>\n",
       "      <td>NaN</td>\n",
       "      <td>Heating Oil</td>\n",
       "      <td>1.188</td>\n",
       "      <td>-0.005</td>\n",
       "      <td>-0.45%(11 Minutes Delay)</td>\n",
       "      <td>(11 Minutes Delay)</td>\n",
       "    </tr>\n",
       "    <tr>\n",
       "      <th>20</th>\n",
       "      <td>NaN</td>\n",
       "      <td>Gasoline</td>\n",
       "      <td>1.203</td>\n",
       "      <td>-0.001</td>\n",
       "      <td>-0.06%(14 Minutes Delay)</td>\n",
       "      <td>(14 Minutes Delay)</td>\n",
       "    </tr>\n",
       "    <tr>\n",
       "      <th>21</th>\n",
       "      <td>NaN</td>\n",
       "      <td>Ethanol</td>\n",
       "      <td>1.400</td>\n",
       "      <td>+0.005</td>\n",
       "      <td>+0.36%(2 \\tdays Delay)</td>\n",
       "      <td>(2 \\tdays Delay)</td>\n",
       "    </tr>\n",
       "    <tr>\n",
       "      <th>22</th>\n",
       "      <td>NaN</td>\n",
       "      <td>Alberta Natural Gas</td>\n",
       "      <td>1.540</td>\n",
       "      <td>-0.050</td>\n",
       "      <td>-3.14%(3 \\tdays Delay)</td>\n",
       "      <td>(3 \\tdays Delay)</td>\n",
       "    </tr>\n",
       "    <tr>\n",
       "      <th>23</th>\n",
       "      <td>NaN</td>\n",
       "      <td>Dutch TTF Natural Gas</td>\n",
       "      <td>4.790</td>\n",
       "      <td>+0.060</td>\n",
       "      <td>+1.27%(3 \\tdays Delay)</td>\n",
       "      <td>(3 \\tdays Delay)</td>\n",
       "    </tr>\n",
       "    <tr>\n",
       "      <th>24</th>\n",
       "      <td>NaN</td>\n",
       "      <td>LNG Japan/Korea Marker</td>\n",
       "      <td>5.105</td>\n",
       "      <td>+0.020</td>\n",
       "      <td>+0.39%(3 \\tdays Delay)</td>\n",
       "      <td>(3 \\tdays Delay)</td>\n",
       "    </tr>\n",
       "    <tr>\n",
       "      <th>25</th>\n",
       "      <td>NaN</td>\n",
       "      <td>Futures &amp; Indexes</td>\n",
       "      <td>Last</td>\n",
       "      <td>Change</td>\n",
       "      <td>% Change</td>\n",
       "      <td>Last Updated</td>\n",
       "    </tr>\n",
       "  </tbody>\n",
       "</table>\n",
       "</div>"
      ],
      "text/plain": [
       "     0                        1      2       3                         4  \\\n",
       "0  NaN                WTI Crude  40.32   -0.28  -0.69%(11 Minutes Delay)   \n",
       "1  NaN              Brent Crude  42.52   -0.33  -0.77%(11 Minutes Delay)   \n",
       "2  NaN                  Mars US  41.05   -0.89  -2.12%(40 Minutes Delay)   \n",
       "3  NaN              Opec Basket  41.06   +0.61    +1.51%(3 \\tdays Delay)   \n",
       "4  NaN     Canadian Crude Index  29.73   -0.23   -0.77%(3 \\tweeks Delay)   \n",
       "5  NaN                 DME Oman  42.21   -0.76    -1.77%(2 \\tdays Delay)   \n",
       "6  NaN                    Urals  39.60   +0.00    +0.00%(2 \\tdays Delay)   \n",
       "7  NaN           Mexican Basket  38.04   +1.13    +3.06%(3 \\tdays Delay)   \n",
       "8  NaN            Indian Basket  41.56   +0.48    +1.17%(3 \\tdays Delay)   \n",
       "9  NaN  Western Canadian Select  31.69   +1.49    +4.93%(2 \\tdays Delay)   \n",
       "10 NaN                    Dubai  41.88   +0.90    +2.19%(3 \\tdays Delay)   \n",
       "11 NaN   Brent Weighted Average  42.92   +1.08    +2.58%(3 \\tdays Delay)   \n",
       "12 NaN          Louisiana Light  42.29   +1.22    +2.97%(3 \\tdays Delay)   \n",
       "13 NaN          Coastal Grade A  30.00   -0.50    -1.64%(2 \\tdays Delay)   \n",
       "14 NaN  Domestic Swt. @ Cushing  37.00   -0.50    -1.33%(2 \\tdays Delay)   \n",
       "15 NaN                 Giddings  30.75   -0.50    -1.60%(2 \\tdays Delay)   \n",
       "16 NaN           ANS West Coast  40.48   -0.24    -0.59%(4 \\tdays Delay)   \n",
       "17 NaN          Gulf Coast HSFO  37.84   +1.24    +3.39%(3 \\tdays Delay)   \n",
       "18 NaN              Natural Gas  2.930  +0.189   +6.9%(11 Minutes Delay)   \n",
       "19 NaN              Heating Oil  1.188  -0.005  -0.45%(11 Minutes Delay)   \n",
       "20 NaN                 Gasoline  1.203  -0.001  -0.06%(14 Minutes Delay)   \n",
       "21 NaN                  Ethanol  1.400  +0.005    +0.36%(2 \\tdays Delay)   \n",
       "22 NaN      Alberta Natural Gas  1.540  -0.050    -3.14%(3 \\tdays Delay)   \n",
       "23 NaN    Dutch TTF Natural Gas  4.790  +0.060    +1.27%(3 \\tdays Delay)   \n",
       "24 NaN   LNG Japan/Korea Marker  5.105  +0.020    +0.39%(3 \\tdays Delay)   \n",
       "25 NaN        Futures & Indexes   Last  Change                  % Change   \n",
       "\n",
       "                     5  \n",
       "0   (11 Minutes Delay)  \n",
       "1   (11 Minutes Delay)  \n",
       "2   (40 Minutes Delay)  \n",
       "3     (3 \\tdays Delay)  \n",
       "4    (3 \\tweeks Delay)  \n",
       "5     (2 \\tdays Delay)  \n",
       "6     (2 \\tdays Delay)  \n",
       "7     (3 \\tdays Delay)  \n",
       "8     (3 \\tdays Delay)  \n",
       "9     (2 \\tdays Delay)  \n",
       "10    (3 \\tdays Delay)  \n",
       "11    (3 \\tdays Delay)  \n",
       "12    (3 \\tdays Delay)  \n",
       "13    (2 \\tdays Delay)  \n",
       "14    (2 \\tdays Delay)  \n",
       "15    (2 \\tdays Delay)  \n",
       "16    (4 \\tdays Delay)  \n",
       "17    (3 \\tdays Delay)  \n",
       "18  (11 Minutes Delay)  \n",
       "19  (11 Minutes Delay)  \n",
       "20  (14 Minutes Delay)  \n",
       "21    (2 \\tdays Delay)  \n",
       "22    (3 \\tdays Delay)  \n",
       "23    (3 \\tdays Delay)  \n",
       "24    (3 \\tdays Delay)  \n",
       "25        Last Updated  "
      ]
     },
     "execution_count": 161,
     "metadata": {},
     "output_type": "execute_result"
    }
   ],
   "source": [
    "r = requests.get(url_prices)\n",
    "price_list = pd.read_html(r.text) # this parses all the tables in webpages to a list\n",
    "price_df = price_list[0]\n",
    "price_df"
   ]
  },
  {
   "cell_type": "code",
   "execution_count": 157,
   "metadata": {},
   "outputs": [
    {
     "data": {
      "text/plain": [
       "[{'Oil_Symbol': 'WTI Crude',\n",
       "  'Oil_Price': '40.60',\n",
       "  'Oil_Change_Value': '-0.59',\n",
       "  'Oil_Change_Interest': '-1.43%',\n",
       "  'Oil_Price_Delay': '(1 day Delay)'},\n",
       " {'Oil_Symbol': 'Brent Crude',\n",
       "  'Oil_Price': '42.85',\n",
       "  'Oil_Change_Value': '-0.49',\n",
       "  'Oil_Change_Interest': '-1.13%',\n",
       "  'Oil_Price_Delay': '(1 day Delay)'},\n",
       " {'Oil_Symbol': 'Mars US',\n",
       "  'Oil_Price': '41.05',\n",
       "  'Oil_Change_Value': '-0.89',\n",
       "  'Oil_Change_Interest': '-2.12%',\n",
       "  'Oil_Price_Delay': '(45 Minutes Delay)'},\n",
       " {'Oil_Symbol': 'Opec Basket',\n",
       "  'Oil_Price': '41.06',\n",
       "  'Oil_Change_Value': '+0.61',\n",
       "  'Oil_Change_Interest': '+1.51%',\n",
       "  'Oil_Price_Delay': '(3 \\tdays Delay)'},\n",
       " {'Oil_Symbol': 'Canadian Crude Index',\n",
       "  'Oil_Price': '29.73',\n",
       "  'Oil_Change_Value': '-0.23',\n",
       "  'Oil_Change_Interest': '-0.77%',\n",
       "  'Oil_Price_Delay': '(3 \\tweeks Delay)'},\n",
       " {'Oil_Symbol': 'DME Oman',\n",
       "  'Oil_Price': '42.21',\n",
       "  'Oil_Change_Value': '-0.76',\n",
       "  'Oil_Change_Interest': '-1.77%',\n",
       "  'Oil_Price_Delay': '(2 \\tdays Delay)'},\n",
       " {'Oil_Symbol': 'Urals',\n",
       "  'Oil_Price': '39.60',\n",
       "  'Oil_Change_Value': '+0.00',\n",
       "  'Oil_Change_Interest': '+0.00%',\n",
       "  'Oil_Price_Delay': '(2 \\tdays Delay)'},\n",
       " {'Oil_Symbol': 'Mexican Basket',\n",
       "  'Oil_Price': '38.04',\n",
       "  'Oil_Change_Value': '+1.13',\n",
       "  'Oil_Change_Interest': '+3.06%',\n",
       "  'Oil_Price_Delay': '(3 \\tdays Delay)'},\n",
       " {'Oil_Symbol': 'Indian Basket',\n",
       "  'Oil_Price': '41.56',\n",
       "  'Oil_Change_Value': '+0.48',\n",
       "  'Oil_Change_Interest': '+1.17%',\n",
       "  'Oil_Price_Delay': '(3 \\tdays Delay)'},\n",
       " {'Oil_Symbol': 'Western Canadian Select',\n",
       "  'Oil_Price': '31.69',\n",
       "  'Oil_Change_Value': '+1.49',\n",
       "  'Oil_Change_Interest': '+4.93%',\n",
       "  'Oil_Price_Delay': '(2 \\tdays Delay)'}]"
      ]
     },
     "execution_count": 157,
     "metadata": {},
     "output_type": "execute_result"
    }
   ],
   "source": [
    "prices = []\n",
    "for price_row in price_df.iterrows():\n",
    "    row = {}\n",
    "    row['Oil_Symbol'] = price_row[1][1]\n",
    "    row['Oil_Price'] = price_row[1][2]\n",
    "    row['Oil_Change_Value'] = price_row[1][3]\n",
    "    row['Oil_Change_Interest'] = price_row[1][4].split(\"(\")[0]\n",
    "    row['Oil_Price_Delay'] = price_row[1][5]\n",
    "    prices.append(row)\n",
    "prices[:10]"
   ]
  },
  {
   "cell_type": "markdown",
   "metadata": {},
   "source": [
    "# Store Data in Database"
   ]
  },
  {
   "cell_type": "code",
   "execution_count": 98,
   "metadata": {},
   "outputs": [],
   "source": [
    "# Initialize PyMongo to work with MongoDBs\n",
    "conn = 'mongodb://localhost:27017'\n",
    "client = pymongo.MongoClient(conn)"
   ]
  },
  {
   "cell_type": "code",
   "execution_count": 99,
   "metadata": {},
   "outputs": [],
   "source": [
    "# Define database and collection\n",
    "db = client.oil_db\n",
    "collection = db.oil_news"
   ]
  },
  {
   "cell_type": "code",
   "execution_count": 100,
   "metadata": {},
   "outputs": [],
   "source": [
    "# Upload collection\n",
    "for record in news:\n",
    "    collection.insert_one(record)"
   ]
  },
  {
   "cell_type": "code",
   "execution_count": 147,
   "metadata": {},
   "outputs": [
    {
     "name": "stdout",
     "output_type": "stream",
     "text": [
      "{'_id': ObjectId('5f8247ff1b28d0739f5c7cf1'), 'Date': 'Oct 09, 2020 at 13:29 ', 'News_Title': 'Turkey’s Black Sea Gas Discovery May Be Bigger Than Thought', 'News_Paragraph': 'Turkey is about to revise up the estimate of its natural gas discovery in the Black Sea, Bloomberg reported on Friday, quoting sources with direct knowledge of the plans.…', 'Author': ' Tsvetana Paraskova', 'Image_URL': 'https://d32r1sh890xpii.cloudfront.net/news/270x200/2020-10-09_n75uqenxd4.jpg'}\n",
      "{'_id': ObjectId('5f8247ff1b28d0739f5c7cf2'), 'Date': 'Oct 09, 2020 at 13:11 ', 'News_Title': 'Norway’s Oil Strike Could End As Soon As Friday', 'News_Paragraph': 'There is a chance that the oil workers’ strike in Norway will end as soon as on Friday, the head of the trade union whose members are on strike for…', 'Author': ' Tsvetana Paraskova', 'Image_URL': 'https://d32r1sh890xpii.cloudfront.net/news/270x200/2020-10-09_zsxvky4oan.jpg'}\n",
      "{'_id': ObjectId('5f8247ff1b28d0739f5c7cf3'), 'Date': 'Oct 09, 2020 at 12:48 ', 'News_Title': 'Air Travel Collapse Makes Oil Hedges More Expensive', 'News_Paragraph': 'The pandemic and the resulting plunge in air travel have caused airlines to largely abandon oil hedges against higher oil prices, thus making it more expensive for oil producers to…', 'Author': ' Charles Kennedy', 'Image_URL': 'https://d32r1sh890xpii.cloudfront.net/news/270x200/2020-10-09_hsq3dpnwxu.jpg'}\n",
      "{'_id': ObjectId('5f8247ff1b28d0739f5c7cf4'), 'Date': 'Oct 09, 2020 at 10:31 ', 'News_Title': 'Pemex Issues $1.5-Bln Bond To Refinance Massive Debt', 'News_Paragraph': 'Mexico’s state oil company Pemex has issued a $1.5-billion bond to raise funds necessary to refinance existing debt, Reuters reported, quoting a source in the know that remained unnamed.\\nAccording…', 'Author': ' Irina Slav', 'Image_URL': 'https://d32r1sh890xpii.cloudfront.net/news/270x200/2020-10-09_sf1ekjgrhv.jpg'}\n",
      "{'_id': ObjectId('5f8247ff1b28d0739f5c7cf5'), 'Date': 'Oct 09, 2020 at 09:17 ', 'News_Title': 'More Than 90% Of Gulf Of Mexico Oil Production Shut In As Hurricane Approaches', 'News_Paragraph': 'More than 90% of all oil production in the U.S. Gulf of Mexico has been shut in ahead of the latest hurricane set to rip through offshore oil country, the…', 'Author': ' Julianne Geiger', 'Image_URL': 'https://d32r1sh890xpii.cloudfront.net/news/270x200/2020-10-09_snvmtzmyui.jpg'}\n",
      "{'_id': ObjectId('5f8247ff1b28d0739f5c7cf6'), 'Date': 'Oct 08, 2020 at 14:30 ', 'News_Title': 'Norway’s Oil & Gas Strikes Could Take 25% Of Production Offline', 'News_Paragraph': 'If the ongoing strike of oil workers in Norway extends for another week without a resolution, nearly 25 percent of Norway’s oil and gas production could be shut down, including…', 'Author': ' Josh Owens', 'Image_URL': 'https://d32r1sh890xpii.cloudfront.net/news/270x200/2020-10-08_clwzrvfq4h.jpg'}\n",
      "{'_id': ObjectId('5f8247ff1b28d0739f5c7cf7'), 'Date': 'Oct 08, 2020 at 13:35 ', 'News_Title': 'Venezuela Restarts Crude Blending Operations As Upgraders Return Online', 'News_Paragraph': 'Venezuela’s state oil firm PDVSA has recently boosted its crude oil blending operations to a six-month high after some upgraders came back online, Reuters reported on Thursday, citing PDVSA…', 'Author': ' Tsvetana Paraskova', 'Image_URL': 'https://d32r1sh890xpii.cloudfront.net/news/270x200/2020-10-08_pubc0h8o3e.jpg'}\n",
      "{'_id': ObjectId('5f8247ff1b28d0739f5c7cf8'), 'Date': 'Oct 08, 2020 at 12:01 ', 'News_Title': 'Church Of England Dumps All ExxonMobil Stock', 'News_Paragraph': 'The Church of England Pensions Board divested this week all its shares in ExxonMobil since the U.S. supermajor has failed to set targets to cut Scope 3 emissions—those generated by…', 'Author': ' Charles Kennedy', 'Image_URL': 'https://d32r1sh890xpii.cloudfront.net/news/270x200/2020-10-08_7cnn5jqtea.jpg'}\n",
      "{'_id': ObjectId('5f8247ff1b28d0739f5c7cf9'), 'Date': 'Oct 08, 2020 at 11:48 ', 'News_Title': 'Libya’s Central Banks Wants To Lift Oil Output To 1.7 Million Bpd', 'News_Paragraph': 'The governor of the Libyan central bank has called for the increase of oil production to 1.7 million bpd as soon as possible as the country’s economy continues to struggle…', 'Author': ' Irina Slav', 'Image_URL': 'https://d32r1sh890xpii.cloudfront.net/news/270x200/2020-10-08_guhajeatn4.jpg'}\n",
      "{'_id': ObjectId('5f8247ff1b28d0739f5c7cfa'), 'Date': 'Oct 08, 2020 at 11:32 ', 'News_Title': 'Shell Shuts All 9 Of Its Gulf Of Mexico Oil Platforms Ahead Of Hurricane', 'News_Paragraph': 'Shell said on Thursday that it had shut in production at all nine of its platforms in the U.S. Gulf of Mexico and evacuated all personnel, as operators rush to…', 'Author': ' Tsvetana Paraskova', 'Image_URL': 'https://d32r1sh890xpii.cloudfront.net/news/270x200/2020-10-08_ysgobvf6dq.jpg'}\n"
     ]
    }
   ],
   "source": [
    "# Display the MongoDB records created above\n",
    "oil_news_db = db.oil_news.find()\n",
    "for record in oil_news_db[:10]:\n",
    "    print(record)"
   ]
  },
  {
   "cell_type": "code",
   "execution_count": 148,
   "metadata": {},
   "outputs": [],
   "source": [
    "# Define new collection\n",
    "prices_collection = db.oil_prices"
   ]
  },
  {
   "cell_type": "code",
   "execution_count": 149,
   "metadata": {},
   "outputs": [],
   "source": [
    "# Upload collection\n",
    "for record in prices:\n",
    "    prices_collection.insert_one(record)"
   ]
  },
  {
   "cell_type": "code",
   "execution_count": 151,
   "metadata": {},
   "outputs": [
    {
     "name": "stdout",
     "output_type": "stream",
     "text": [
      "{'_id': ObjectId('5f8383741b28d0739f5c7d05'), 'Oil_Symbol': 'WTI Crude', 'Oil_Price': '40.60', 'Oil_Change_Value': '-0.59', 'Oil_Change_Interest': '-1.43%', 'Oil_Price_Delay': '(1 day Delay)'}\n",
      "{'_id': ObjectId('5f8383751b28d0739f5c7d06'), 'Oil_Symbol': 'Brent Crude', 'Oil_Price': '42.85', 'Oil_Change_Value': '-0.49', 'Oil_Change_Interest': '-1.13%', 'Oil_Price_Delay': '(1 day Delay)'}\n",
      "{'_id': ObjectId('5f8383751b28d0739f5c7d07'), 'Oil_Symbol': 'Mars US', 'Oil_Price': '41.05', 'Oil_Change_Value': '-0.89', 'Oil_Change_Interest': '-2.12%', 'Oil_Price_Delay': '(45 Minutes Delay)'}\n",
      "{'_id': ObjectId('5f8383751b28d0739f5c7d08'), 'Oil_Symbol': 'Opec Basket', 'Oil_Price': '41.06', 'Oil_Change_Value': '+0.61', 'Oil_Change_Interest': '+1.51%', 'Oil_Price_Delay': '(3 \\tdays Delay)'}\n",
      "{'_id': ObjectId('5f8383751b28d0739f5c7d09'), 'Oil_Symbol': 'Canadian Crude Index', 'Oil_Price': '29.73', 'Oil_Change_Value': '-0.23', 'Oil_Change_Interest': '-0.77%', 'Oil_Price_Delay': '(3 \\tweeks Delay)'}\n",
      "{'_id': ObjectId('5f8383751b28d0739f5c7d0a'), 'Oil_Symbol': 'DME Oman', 'Oil_Price': '42.21', 'Oil_Change_Value': '-0.76', 'Oil_Change_Interest': '-1.77%', 'Oil_Price_Delay': '(2 \\tdays Delay)'}\n",
      "{'_id': ObjectId('5f8383751b28d0739f5c7d0b'), 'Oil_Symbol': 'Urals', 'Oil_Price': '39.60', 'Oil_Change_Value': '+0.00', 'Oil_Change_Interest': '+0.00%', 'Oil_Price_Delay': '(2 \\tdays Delay)'}\n",
      "{'_id': ObjectId('5f8383751b28d0739f5c7d0c'), 'Oil_Symbol': 'Mexican Basket', 'Oil_Price': '38.04', 'Oil_Change_Value': '+1.13', 'Oil_Change_Interest': '+3.06%', 'Oil_Price_Delay': '(3 \\tdays Delay)'}\n",
      "{'_id': ObjectId('5f8383751b28d0739f5c7d0d'), 'Oil_Symbol': 'Indian Basket', 'Oil_Price': '41.56', 'Oil_Change_Value': '+0.48', 'Oil_Change_Interest': '+1.17%', 'Oil_Price_Delay': '(3 \\tdays Delay)'}\n",
      "{'_id': ObjectId('5f8383751b28d0739f5c7d0e'), 'Oil_Symbol': 'Western Canadian Select', 'Oil_Price': '31.69', 'Oil_Change_Value': '+1.49', 'Oil_Change_Interest': '+4.93%', 'Oil_Price_Delay': '(2 \\tdays Delay)'}\n"
     ]
    }
   ],
   "source": [
    "# Display the MongoDB records created above\n",
    "oil_prices_db = db.oil_prices.find()\n",
    "for record in oil_prices_db[:10]:\n",
    "    print(record)"
   ]
  },
  {
   "cell_type": "code",
   "execution_count": null,
   "metadata": {},
   "outputs": [],
   "source": [
    "client.close()"
   ]
  }
 ],
 "metadata": {
  "kernelspec": {
   "display_name": "Python 3",
   "language": "python",
   "name": "python3"
  },
  "language_info": {
   "codemirror_mode": {
    "name": "ipython",
    "version": 3
   },
   "file_extension": ".py",
   "mimetype": "text/x-python",
   "name": "python",
   "nbconvert_exporter": "python",
   "pygments_lexer": "ipython3",
   "version": "3.8.2"
  }
 },
 "nbformat": 4,
 "nbformat_minor": 4
}
