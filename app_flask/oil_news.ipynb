{
 "cells": [
  {
   "cell_type": "code",
   "execution_count": 1,
   "metadata": {},
   "outputs": [],
   "source": [
    "from splinter import Browser\n",
    "from bs4 import BeautifulSoup as bs\n",
    "import time\n",
    "import pymongo\n",
    "import re\n",
    "import pandas as pd\n",
    "import requests"
   ]
  },
  {
   "cell_type": "code",
   "execution_count": 2,
   "metadata": {},
   "outputs": [],
   "source": [
    "def init_browser():\n",
    "    # @NOTE: Replace the path with your actual path to the chromedriver\n",
    "    executable_path = {\"executable_path\": \"/usr/local/bin/chromedriver\"}\n",
    "    return Browser(\"chrome\", **executable_path, headless=False)\n",
    "\n",
    "def soup_url (url):\n",
    "    browser = init_browser()\n",
    "    # Visit url\n",
    "    browser.visit(url)\n",
    "    time.sleep(1)\n",
    "\n",
    "    # Scrape page into Soup\n",
    "    html = browser.html\n",
    "    soup_url = bs(html, \"html.parser\")\n",
    "    \n",
    "     # Close the browser after scraping\n",
    "    browser.quit()\n",
    "    \n",
    "    return soup_url\n",
    "\n",
    "def soup_class (soup, class_name):\n",
    "    \n",
    "    # Soup data list\n",
    "    soup_class = soup.find(class_= class_name)\n",
    "    \n",
    "    return soup_class \n",
    "\n",
    "def soup_class_list (soup, class_name):\n",
    "   \n",
    "    # Soup data list\n",
    "    soup_class_list = soup.find_all(class_= class_name)\n",
    "    \n",
    "    return soup_class_list\n",
    "\n",
    "def text_list (soup_class_list):\n",
    "    text_list = []\n",
    "    [text_list.append(record.text.replace(\"\\n\", \"\")) for record in soup_class_list]\n",
    "    return text_list"
   ]
  },
  {
   "cell_type": "markdown",
   "metadata": {},
   "source": [
    "# WEB Scrapping Latest Oil News"
   ]
  },
  {
   "cell_type": "code",
   "execution_count": 3,
   "metadata": {},
   "outputs": [],
   "source": [
    "# Visit oilprice.com\n",
    "base_url = \"https://oilprice.com\"\n",
    "url_news = \"https://oilprice.com/Latest-Energy-News/World-News/\"\n",
    "soup = soup_url(url_news)"
   ]
  },
  {
   "cell_type": "code",
   "execution_count": 4,
   "metadata": {},
   "outputs": [
    {
     "data": {
      "text/plain": [
       "'Oil News Today  | OilPrice.com'"
      ]
     },
     "execution_count": 4,
     "metadata": {},
     "output_type": "execute_result"
    }
   ],
   "source": [
    "page_title = soup.title.text\n",
    "page_title"
   ]
  },
  {
   "cell_type": "code",
   "execution_count": 5,
   "metadata": {},
   "outputs": [
    {
     "data": {
      "text/plain": [
       "[<img alt=\"Crude oil prices today - Oilprice.com\" class=\"desktop_logo\" src=\"https://d1o9e4un86hhpc.cloudfront.net/a/img/oilprice-logo.png?v=3\" title=\"Oil prices - Oilprice.com\"/>,\n",
       " <img alt=\"Crude oil prices today - Oilprice.com\" class=\"mobile_logo\" src=\"https://d1o9e4un86hhpc.cloudfront.net/a/img/common/header/mobile_logo.png?v=3\" title=\"Oil prices - Oilprice.com\"/>,\n",
       " <img alt=\"OilPrice GEA\" id=\"main_nav_button\" src=\"https://d1o9e4un86hhpc.cloudfront.net/a/img/common/nav_button_green.png\" style=\"height: 25px;\" title=\"Global Energy Alert\"/>,\n",
       " <img alt=\"Link\" height=\"21\" src=\"https://d1o9e4un86hhpc.cloudfront.net/a/img/common/header/link.png\" width=\"21\"/>,\n",
       " <img alt=\"Link\" src=\"https://d1o9e4un86hhpc.cloudfront.net/a/img/common/header/link.png\"/>,\n",
       " <img alt=\"Link\" src=\"https://d1o9e4un86hhpc.cloudfront.net/a/img/common/header/link.png\"/>,\n",
       " <img alt=\"Link\" height=\"21\" src=\"https://d1o9e4un86hhpc.cloudfront.net/a/img/common/header/link.png\" width=\"21\"/>,\n",
       " <img alt=\"Link\" height=\"21\" src=\"https://d1o9e4un86hhpc.cloudfront.net/a/img/common/header/link.png\" width=\"21\"/>,\n",
       " <img alt=\"Link\" src=\"https://d1o9e4un86hhpc.cloudfront.net/a/img/common/header/link.png\"/>,\n",
       " <img alt=\"Link\" src=\"https://d1o9e4un86hhpc.cloudfront.net/a/img/common/header/link.png\"/>,\n",
       " <img alt=\"Link\" height=\"21\" src=\"https://d1o9e4un86hhpc.cloudfront.net/a/img/common/header/link.png\" width=\"21\"/>,\n",
       " <img alt=\"Link\" src=\"https://d1o9e4un86hhpc.cloudfront.net/a/img/common/header/link.png\"/>,\n",
       " <img alt=\"Link\" src=\"https://d1o9e4un86hhpc.cloudfront.net/a/img/common/header/link.png\"/>,\n",
       " <img alt=\"Link\" height=\"21\" src=\"https://d1o9e4un86hhpc.cloudfront.net/a/img/common/header/link.png\" width=\"21\"/>,\n",
       " <img alt=\"Link\" src=\"https://d1o9e4un86hhpc.cloudfront.net/a/img/common/header/link.png\"/>,\n",
       " <img alt=\"Link\" src=\"https://d1o9e4un86hhpc.cloudfront.net/a/img/common/header/link.png\"/>,\n",
       " <img class=\"lozad opacity_0 lozad-fade\" data-base=\"https://d32r1sh890xpii.cloudfront.net/header_graphs/blend_\" data-loaded=\"true\" data-src=\"https://d32r1sh890xpii.cloudfront.net/header_graphs/blend_45_2.png?cb=1607550611\" src=\"https://d32r1sh890xpii.cloudfront.net/header_graphs/blend_45_2.png?cb=1607550611\"/>,\n",
       " <img alt=\"West Texas Intermediate Could Form Part Of Brent Benchmark\" class=\"articleOtherNews__image lozad opacity_0 lozad-fade\" data-error_image=\"https://d1o9e4un86hhpc.cloudfront.net/a/img/content/115x85-default.png\" data-loaded=\"true\" data-src=\"https://d32r1sh890xpii.cloudfront.net/article/115x85/2020-12-03_9ykd4n5qfb.jpg\" src=\"https://d32r1sh890xpii.cloudfront.net/article/115x85/2020-12-03_9ykd4n5qfb.jpg\" title=\"West Texas Intermediate Could Form Part Of Brent Benchmark\"/>,\n",
       " <img alt=\"Can EV Batteries Get Any Cheaper?\" class=\"articleOtherNews__image lozad opacity_0 lozad-fade\" data-error_image=\"https://d1o9e4un86hhpc.cloudfront.net/a/img/content/115x85-default.png\" data-loaded=\"true\" data-src=\"https://d32r1sh890xpii.cloudfront.net/article/115x85/2020-12-03_qdarlgnkfu.jpg\" src=\"https://d32r1sh890xpii.cloudfront.net/article/115x85/2020-12-03_qdarlgnkfu.jpg\" title=\"Can EV Batteries Get Any Cheaper?\"/>,\n",
       " <img class=\"articleOtherNews__image\" src=\"https://d1o9e4un86hhpc.cloudfront.net/a/img/common/top3_ad_image.jpg\"/>,\n",
       " <img alt=\"Big Oil Boosts Earnings From Tax-Haven Affiliates\" class=\"categoryArticle__image lozad opacity_0 lozad-fade\" data-error_image=\"https://d1o9e4un86hhpc.cloudfront.net/a/img/content/270x200-default.png\" data-loaded=\"true\" data-src=\"https://d32r1sh890xpii.cloudfront.net/news/270x200/2020-12-09_amtgbxq0jv.jpg\" height=\"200\" src=\"https://d32r1sh890xpii.cloudfront.net/news/270x200/2020-12-09_amtgbxq0jv.jpg\" width=\"270\"/>,\n",
       " <img alt=\"Lithuanians Urged To Stockpile Food Amid Reports Of Nuclear Power Incident\" class=\"sidebarTrendingArticles__articleImage lozad opacity_0 lozad-fade\" data-error_image=\"https://d1o9e4un86hhpc.cloudfront.net/a/img/content/115x85-default.png\" data-loaded=\"true\" data-src=\"https://d32r1sh890xpii.cloudfront.net/news/115x85/2020-12-03_bexxcfkpjt.jpg\" src=\"https://d32r1sh890xpii.cloudfront.net/news/115x85/2020-12-03_bexxcfkpjt.jpg\" title=\"Lithuanians Urged To Stockpile Food Amid Reports Of Nuclear Power Incident\"/>,\n",
       " <img alt=\"Dianomi\" height=\"10\" src=\"https://www.dianomi.com/img/uploads/Ufe0-8CoyKoAADAkZXEAAAAK.png\" style=\"border: none; height: auto; outline: none; width: 10px;\" width=\"11\"/>,\n",
       " <img alt=\"E*TRADE Advisor Services\" border=\"0\" class=\"png\" height=\"90\" src=\"https://www.dianomi.com/img/a/sav2/153730/30/120x90.jpg\" srcset=\"https://www.dianomi.com/img/a/sav2/153730/30/169x127.jpg 2x,https://www.dianomi.com/img/a/sav2/153730/30/207x155.jpg 3x,https://www.dianomi.com/img/a/sav2/153730/30/240x180.jpg 4x\" style=\"display: block; float: none; height: 62.5px; margin: 0px 0px; position: absolute; width: 85px;\" width=\"120\"/>,\n",
       " <img class=\"dianomiTrack\" height=\"1\" src=\"https://ad.doubleclick.net/ddm/trackimp/N84001.3498843DIANOMI.COM/B24689438.283088158;dc_trk_aid=477129939;dc_trk_cid=138242562;ord=1607550740;dc_lat=;dc_rdid=;tag_for_child_directed_treatment=;tfua=;gdpr=${GDPR};gdpr_consent=${GDPR_CONSENT_755}?\" width=\"1\"/>,\n",
       " <img alt=\"Venezuela’s Oil Exports Double in November As Mysterious New Buyers Emerge\" class=\"sidebarTrendingArticles__articleImage lozad opacity_0 lozad-fade\" data-error_image=\"https://d1o9e4un86hhpc.cloudfront.net/a/img/content/115x85-default.png\" data-loaded=\"true\" data-src=\"https://d32r1sh890xpii.cloudfront.net/news/115x85/2020-12-02_hgk5z0eqsr.jpg\" src=\"https://d32r1sh890xpii.cloudfront.net/news/115x85/2020-12-02_hgk5z0eqsr.jpg\" title=\"Venezuela’s Oil Exports Double in November As Mysterious New Buyers Emerge\"/>,\n",
       " <img alt=\"Quantcast\" border=\"0\" height=\"1\" src=\"//pixel.quantserve.com/pixel/p-mYGzvda-tntH2.gif\" width=\"1\">\n",
       " </img>,\n",
       " <img height=\"1\" src=\"https://www.facebook.com/tr?id=332667700771750&amp;ev=PageView&amp;noscript=1\" style=\"display:none\" width=\"1\">\n",
       " </img>,\n",
       " <img alt=\"\" border=\"0\" height=\"1\" src=\"https://p1.zemanta.com/p/1500/2012/\" width=\"1\"/>]"
      ]
     },
     "execution_count": 5,
     "metadata": {},
     "output_type": "execute_result"
    }
   ],
   "source": [
    "image_holder = soup.find_all('img', src=True)\n",
    "image_holder"
   ]
  },
  {
   "cell_type": "code",
   "execution_count": 6,
   "metadata": {},
   "outputs": [
    {
     "data": {
      "text/plain": [
       "['https://d32r1sh890xpii.cloudfront.net/news/270x200/2020-12-09_amtgbxq0jv.jpg',\n",
       " 'https://d32r1sh890xpii.cloudfront.net/news/270x200/2020-12-09_pmmcvsuii9.jpg',\n",
       " 'https://d32r1sh890xpii.cloudfront.net/news/270x200/2020-12-09_x21hgxy496.jpg',\n",
       " 'https://d32r1sh890xpii.cloudfront.net/news/270x200/2020-12-09_25zs7tooxw.jpg',\n",
       " 'https://d32r1sh890xpii.cloudfront.net/news/270x200/2020-12-09_5htbeuygso.jpg',\n",
       " 'https://d32r1sh890xpii.cloudfront.net/news/270x200/2020-12-08_ygt0erondp.jpg',\n",
       " 'https://d32r1sh890xpii.cloudfront.net/news/270x200/2020-12-08_xbgja9u6ri.jpg',\n",
       " 'https://d32r1sh890xpii.cloudfront.net/news/270x200/2020-12-08_rbg9uv6tkp.jpg',\n",
       " 'https://d32r1sh890xpii.cloudfront.net/news/270x200/2020-12-08_ddu9cwlbvo.jpg',\n",
       " 'https://d32r1sh890xpii.cloudfront.net/news/270x200/2020-12-08_tzsfkjgoqe.jpg',\n",
       " 'https://d32r1sh890xpii.cloudfront.net/news/270x200/2020-12-08_gteqvhpzrb.jpg',\n",
       " 'https://d32r1sh890xpii.cloudfront.net/news/270x200/2020-12-07_fbciprydsj.jpg',\n",
       " 'https://d32r1sh890xpii.cloudfront.net/news/270x200/2020-12-07_ebrgao2lyf.jpg',\n",
       " 'https://d32r1sh890xpii.cloudfront.net/news/270x200/2020-12-07_4cmjy9pfo0.jpg',\n",
       " 'https://d32r1sh890xpii.cloudfront.net/news/270x200/2020-12-07_uk3cy8vphp.jpg',\n",
       " 'https://d32r1sh890xpii.cloudfront.net/news/270x200/2020-12-07_hvmhixr3kt.jpg',\n",
       " 'https://d32r1sh890xpii.cloudfront.net/news/270x200/2020-12-07_hy3ondtybl.jpg',\n",
       " 'https://d32r1sh890xpii.cloudfront.net/news/270x200/2020-12-04_kgv2ydh7bl.jpg',\n",
       " 'https://d32r1sh890xpii.cloudfront.net/news/270x200/2020-12-04_wrobmh2qza.jpg',\n",
       " 'https://d32r1sh890xpii.cloudfront.net/news/270x200/2020-12-04_gqxuqs0o9t.jpg']"
      ]
     },
     "execution_count": 6,
     "metadata": {},
     "output_type": "execute_result"
    }
   ],
   "source": [
    "# Scrapping News Data\n",
    "articles = soup.find_all(class_= \"categoryArticle\")\n",
    "title_list = []\n",
    "date_list = []\n",
    "excerpt_list = []\n",
    "author_list = []\n",
    "link_list = []\n",
    "for article in articles:\n",
    "    image_holder = article.find(class_= \"categoryArticle__imageHolder\")\n",
    "    img =image_holder.findAll('img')\n",
    "    link = img[0].get('data-src')\n",
    "    link_list.append(link)\n",
    "    title = article.find_all(class_= \"categoryArticle__title\")\n",
    "    full_date = article.find_all(class_= \"categoryArticle__meta\")\n",
    "    date = full_date[0].text.strip().split(\"|\")[0]\n",
    "    author = full_date[0].text.strip().split(\"|\")[1]\n",
    "    excerpt = article.find_all(class_= \"categoryArticle__excerpt\")\n",
    "    title_list.append(title[0].text.strip())\n",
    "    date_list.append(date)\n",
    "    author_list.append(author)\n",
    "    excerpt_list.append(excerpt[0].text.strip())\n",
    "link_list"
   ]
  },
  {
   "cell_type": "code",
   "execution_count": 7,
   "metadata": {},
   "outputs": [
    {
     "data": {
      "text/plain": [
       "[{'Date': 'Dec 09, 2020 at 14:05 ',\n",
       "  'News_Title': 'Big Oil Boosts Earnings From Tax-Haven Affiliates',\n",
       "  'News_Paragraph': 'Some of the world’s biggest oil corporations have boosted their earnings in recent years by paying very little or no taxes at all on profits of their affiliates in offshore…',\n",
       "  'Author': ' Charles Kennedy',\n",
       "  'Image_URL': 'https://d32r1sh890xpii.cloudfront.net/news/270x200/2020-12-09_amtgbxq0jv.jpg'},\n",
       " {'Date': 'Dec 09, 2020 at 13:19 ',\n",
       "  'News_Title': 'Kurdistan To Hand Over Oil Revenue To Iraq In Exchange For Funds',\n",
       "  'News_Paragraph': 'The Kurdistan Regional Government (KRG) will comply with the recent Iraqi federal fiscal deficit bill under which the semi-autonomous region in Iraq is set to hand over an \"unspecified amount…',\n",
       "  'Author': ' Tsvetana Paraskova',\n",
       "  'Image_URL': 'https://d32r1sh890xpii.cloudfront.net/news/270x200/2020-12-09_pmmcvsuii9.jpg'},\n",
       " {'Date': 'Dec 09, 2020 at 12:06 ',\n",
       "  'News_Title': 'Maduro Accuses CIA Of Bribing Oil Workers',\n",
       "  'News_Paragraph': 'Venezuelan dictator Nicolas Maduro has accused the Central Intelligence Agency and the National Security Agency of corrupting hundreds of oil industry employees, including former Energy Minister and Venezuela representative of…',\n",
       "  'Author': ' Charles Kennedy',\n",
       "  'Image_URL': 'https://d32r1sh890xpii.cloudfront.net/news/270x200/2020-12-09_x21hgxy496.jpg'},\n",
       " {'Date': 'Dec 09, 2020 at 09:29 ',\n",
       "  'News_Title': \"''Widowmaker'' Natural Gas Trade Collapses On Mild Winter Forecast\",\n",
       "  'News_Paragraph': 'The spread between March and April natural gas futures collapsed to zero on Tuesday. The spread is critical in gauging how tight supplies will be for the North American winter.…',\n",
       "  'Author': ' ZeroHedge',\n",
       "  'Image_URL': 'https://d32r1sh890xpii.cloudfront.net/news/270x200/2020-12-09_25zs7tooxw.jpg'},\n",
       " {'Date': 'Dec 09, 2020 at 08:56 ',\n",
       "  'News_Title': 'Oil Wells On Fire After Attack On Iraqi Oilfield',\n",
       "  'News_Paragraph': 'A terrorist attack set ablaze two oil wells at a small oilfield in northern Iraq on Wednesday, but total production at the 25,000-bpd field has not been affected, the…',\n",
       "  'Author': ' Tsvetana Paraskova',\n",
       "  'Image_URL': 'https://d32r1sh890xpii.cloudfront.net/news/270x200/2020-12-09_5htbeuygso.jpg'}]"
      ]
     },
     "execution_count": 7,
     "metadata": {},
     "output_type": "execute_result"
    }
   ],
   "source": [
    "news = []\n",
    "for i in range(len(title_list)):\n",
    "    row = {}\n",
    "    row['Date'] = date_list[i]\n",
    "    row[\"News_Title\"] = title_list[i]\n",
    "    row[\"News_Paragraph\"] = excerpt_list[i]\n",
    "    row[\"Author\"] = author_list[i]\n",
    "    row[\"Image_URL\"] = link_list[i]\n",
    "    news.append(row)\n",
    "news[:5]"
   ]
  },
  {
   "cell_type": "markdown",
   "metadata": {},
   "source": [
    "# WEB Scrapping Latest Oil Prices"
   ]
  },
  {
   "cell_type": "code",
   "execution_count": 8,
   "metadata": {},
   "outputs": [],
   "source": [
    "# Visit oilprice.com\n",
    "url_prices = \"https://oilprice.com/oil-price-charts/#prices\"\n",
    "soup_prices = soup_url(url_prices)"
   ]
  },
  {
   "cell_type": "code",
   "execution_count": 9,
   "metadata": {},
   "outputs": [
    {
     "data": {
      "text/plain": [
       "'Oil Price Charts | Oilprice.com'"
      ]
     },
     "execution_count": 9,
     "metadata": {},
     "output_type": "execute_result"
    }
   ],
   "source": [
    "page_title = soup_prices.title.text\n",
    "page_title"
   ]
  },
  {
   "cell_type": "code",
   "execution_count": 10,
   "metadata": {},
   "outputs": [
    {
     "data": {
      "text/plain": [
       "[<tr class=\"stripe show_graph update_on_load\" data-id=\"45\" data-spreadsheet=\"Crude Oil WTI\">\n",
       " <td class=\"flag_holder\"><div class=\"flag_usa\"></div></td><td>WTI Crude<i aria-hidden=\"true\" class=\"fa fa-plus user_add_blend hidden\" style=\"float:right;\" title=\"Follow blend\"></i><i aria-hidden=\"true\" class=\"fa fa-times user_remove_blend hidden\" style=\"float:right;\" title=\"Unfollow blend\"></i></td>\n",
       " <td class=\"last_price\" data-price=\"45.64\">45.64</td><td class=\"change_up flat_change_cell\" dir=\"ltr\">+0.04</td><td class=\"change_up_percent percent_change_cell\" dir=\"ltr\">+0.09%<span class=\"blend_update_text\">(10 Minutes Delay)</span></td><td class=\"last_updated\" data-stamp=\"1607550000\">(10 Minutes Delay)</td></tr>,\n",
       " <tr class=\"stripe show_graph update_on_load\" data-id=\"46\" data-spreadsheet=\"Crude Oil Brent\">\n",
       " <td class=\"flag_holder\"><div class=\"flag_uk\"></div></td><td>Brent Crude<i aria-hidden=\"true\" class=\"fa fa-plus user_add_blend hidden\" style=\"float:right;\" title=\"Follow blend\"></i><i aria-hidden=\"true\" class=\"fa fa-times user_remove_blend hidden\" style=\"float:right;\" title=\"Unfollow blend\"></i></td>\n",
       " <td class=\"last_price\" data-price=\"48.98\">48.98</td><td class=\"change_up flat_change_cell\" dir=\"ltr\">+0.14</td><td class=\"change_up_percent percent_change_cell\" dir=\"ltr\">+0.29%<span class=\"blend_update_text\">(11 Minutes Delay)</span></td><td class=\"last_updated\" data-stamp=\"1607549900\">(11 Minutes Delay)</td></tr>]"
      ]
     },
     "execution_count": 10,
     "metadata": {},
     "output_type": "execute_result"
    }
   ],
   "source": [
    "price_holders = soup_prices.find_all(class_= \"stripe show_graph update_on_load\")\n",
    "price_holders[:2]"
   ]
  },
  {
   "cell_type": "code",
   "execution_count": 11,
   "metadata": {},
   "outputs": [
    {
     "data": {
      "text/html": [
       "<div>\n",
       "<style scoped>\n",
       "    .dataframe tbody tr th:only-of-type {\n",
       "        vertical-align: middle;\n",
       "    }\n",
       "\n",
       "    .dataframe tbody tr th {\n",
       "        vertical-align: top;\n",
       "    }\n",
       "\n",
       "    .dataframe thead th {\n",
       "        text-align: right;\n",
       "    }\n",
       "</style>\n",
       "<table border=\"1\" class=\"dataframe\">\n",
       "  <thead>\n",
       "    <tr style=\"text-align: right;\">\n",
       "      <th></th>\n",
       "      <th>0</th>\n",
       "      <th>1</th>\n",
       "      <th>2</th>\n",
       "      <th>3</th>\n",
       "      <th>4</th>\n",
       "      <th>5</th>\n",
       "    </tr>\n",
       "  </thead>\n",
       "  <tbody>\n",
       "    <tr>\n",
       "      <th>0</th>\n",
       "      <td>NaN</td>\n",
       "      <td>WTI Crude</td>\n",
       "      <td>45.64</td>\n",
       "      <td>+0.04</td>\n",
       "      <td>+0.09%(10 Minutes Delay)</td>\n",
       "      <td>(10 Minutes Delay)</td>\n",
       "    </tr>\n",
       "    <tr>\n",
       "      <th>1</th>\n",
       "      <td>NaN</td>\n",
       "      <td>Brent Crude</td>\n",
       "      <td>48.98</td>\n",
       "      <td>+0.14</td>\n",
       "      <td>+0.29%(11 Minutes Delay)</td>\n",
       "      <td>(11 Minutes Delay)</td>\n",
       "    </tr>\n",
       "    <tr>\n",
       "      <th>2</th>\n",
       "      <td>NaN</td>\n",
       "      <td>Mars US</td>\n",
       "      <td>46.40</td>\n",
       "      <td>-0.01</td>\n",
       "      <td>-0.02%(21 \\tHours Delay)</td>\n",
       "      <td>(21 \\tHours Delay)</td>\n",
       "    </tr>\n",
       "    <tr>\n",
       "      <th>3</th>\n",
       "      <td>NaN</td>\n",
       "      <td>Opec Basket</td>\n",
       "      <td>47.79</td>\n",
       "      <td>-0.56</td>\n",
       "      <td>-1.16%(1 day Delay)</td>\n",
       "      <td>(1 day Delay)</td>\n",
       "    </tr>\n",
       "    <tr>\n",
       "      <th>4</th>\n",
       "      <td>NaN</td>\n",
       "      <td>Canadian Crude Index</td>\n",
       "      <td>32.22</td>\n",
       "      <td>-0.65</td>\n",
       "      <td>-1.98%(2 \\tweeks Delay)</td>\n",
       "      <td>(2 \\tweeks Delay)</td>\n",
       "    </tr>\n",
       "    <tr>\n",
       "      <th>5</th>\n",
       "      <td>NaN</td>\n",
       "      <td>DME Oman</td>\n",
       "      <td>48.90</td>\n",
       "      <td>+0.24</td>\n",
       "      <td>+0.49%(1 day Delay)</td>\n",
       "      <td>(1 day Delay)</td>\n",
       "    </tr>\n",
       "    <tr>\n",
       "      <th>6</th>\n",
       "      <td>NaN</td>\n",
       "      <td>Urals</td>\n",
       "      <td>39.60</td>\n",
       "      <td>+0.00</td>\n",
       "      <td>+0.00%(3 \\tweeks Delay)</td>\n",
       "      <td>(3 \\tweeks Delay)</td>\n",
       "    </tr>\n",
       "    <tr>\n",
       "      <th>7</th>\n",
       "      <td>NaN</td>\n",
       "      <td>Mexican Basket</td>\n",
       "      <td>44.17</td>\n",
       "      <td>+0.01</td>\n",
       "      <td>+0.02%(1 day Delay)</td>\n",
       "      <td>(1 day Delay)</td>\n",
       "    </tr>\n",
       "    <tr>\n",
       "      <th>8</th>\n",
       "      <td>NaN</td>\n",
       "      <td>Indian Basket</td>\n",
       "      <td>48.50</td>\n",
       "      <td>-0.02</td>\n",
       "      <td>-0.04%(1 day Delay)</td>\n",
       "      <td>(1 day Delay)</td>\n",
       "    </tr>\n",
       "    <tr>\n",
       "      <th>9</th>\n",
       "      <td>NaN</td>\n",
       "      <td>Western Canadian Select</td>\n",
       "      <td>33.45</td>\n",
       "      <td>-0.11</td>\n",
       "      <td>-0.33%(14 \\tHours Delay)</td>\n",
       "      <td>(14 \\tHours Delay)</td>\n",
       "    </tr>\n",
       "    <tr>\n",
       "      <th>10</th>\n",
       "      <td>NaN</td>\n",
       "      <td>Dubai</td>\n",
       "      <td>48.28</td>\n",
       "      <td>+0.06</td>\n",
       "      <td>+0.12%(1 day Delay)</td>\n",
       "      <td>(1 day Delay)</td>\n",
       "    </tr>\n",
       "    <tr>\n",
       "      <th>11</th>\n",
       "      <td>NaN</td>\n",
       "      <td>Brent Weighted Average</td>\n",
       "      <td>48.69</td>\n",
       "      <td>-0.21</td>\n",
       "      <td>-0.43%(1 day Delay)</td>\n",
       "      <td>(1 day Delay)</td>\n",
       "    </tr>\n",
       "    <tr>\n",
       "      <th>12</th>\n",
       "      <td>NaN</td>\n",
       "      <td>Louisiana Light</td>\n",
       "      <td>47.49</td>\n",
       "      <td>+0.07</td>\n",
       "      <td>+0.15%(1 day Delay)</td>\n",
       "      <td>(1 day Delay)</td>\n",
       "    </tr>\n",
       "    <tr>\n",
       "      <th>13</th>\n",
       "      <td>NaN</td>\n",
       "      <td>Coastal Grade A</td>\n",
       "      <td>35.00</td>\n",
       "      <td>-0.25</td>\n",
       "      <td>-0.71%(1 day Delay)</td>\n",
       "      <td>(1 day Delay)</td>\n",
       "    </tr>\n",
       "    <tr>\n",
       "      <th>14</th>\n",
       "      <td>NaN</td>\n",
       "      <td>Domestic Swt. @ Cushing</td>\n",
       "      <td>42.00</td>\n",
       "      <td>-0.25</td>\n",
       "      <td>-0.59%(1 day Delay)</td>\n",
       "      <td>(1 day Delay)</td>\n",
       "    </tr>\n",
       "    <tr>\n",
       "      <th>15</th>\n",
       "      <td>NaN</td>\n",
       "      <td>Giddings</td>\n",
       "      <td>35.75</td>\n",
       "      <td>-0.25</td>\n",
       "      <td>-0.69%(1 day Delay)</td>\n",
       "      <td>(1 day Delay)</td>\n",
       "    </tr>\n",
       "    <tr>\n",
       "      <th>16</th>\n",
       "      <td>NaN</td>\n",
       "      <td>ANS West Coast</td>\n",
       "      <td>47.94</td>\n",
       "      <td>-0.51</td>\n",
       "      <td>-1.05%(2 \\tdays Delay)</td>\n",
       "      <td>(2 \\tdays Delay)</td>\n",
       "    </tr>\n",
       "    <tr>\n",
       "      <th>17</th>\n",
       "      <td>NaN</td>\n",
       "      <td>Gulf Coast HSFO</td>\n",
       "      <td>42.92</td>\n",
       "      <td>-0.09</td>\n",
       "      <td>-0.21%(1 day Delay)</td>\n",
       "      <td>(1 day Delay)</td>\n",
       "    </tr>\n",
       "    <tr>\n",
       "      <th>18</th>\n",
       "      <td>NaN</td>\n",
       "      <td>Natural Gas</td>\n",
       "      <td>2.425</td>\n",
       "      <td>+0.026</td>\n",
       "      <td>+1.08%(11 Minutes Delay)</td>\n",
       "      <td>(11 Minutes Delay)</td>\n",
       "    </tr>\n",
       "    <tr>\n",
       "      <th>19</th>\n",
       "      <td>NaN</td>\n",
       "      <td>Heating Oil</td>\n",
       "      <td>1.402</td>\n",
       "      <td>-0.004</td>\n",
       "      <td>-0.31%(11 Minutes Delay)</td>\n",
       "      <td>(11 Minutes Delay)</td>\n",
       "    </tr>\n",
       "    <tr>\n",
       "      <th>20</th>\n",
       "      <td>NaN</td>\n",
       "      <td>Gasoline</td>\n",
       "      <td>1.283</td>\n",
       "      <td>+0.027</td>\n",
       "      <td>+2.16%(11 Minutes Delay)</td>\n",
       "      <td>(11 Minutes Delay)</td>\n",
       "    </tr>\n",
       "    <tr>\n",
       "      <th>21</th>\n",
       "      <td>NaN</td>\n",
       "      <td>Ethanol</td>\n",
       "      <td>1.320</td>\n",
       "      <td>-0.040</td>\n",
       "      <td>-3.30%(2 \\tHours Delay)</td>\n",
       "      <td>(2 \\tHours Delay)</td>\n",
       "    </tr>\n",
       "    <tr>\n",
       "      <th>22</th>\n",
       "      <td>NaN</td>\n",
       "      <td>Alberta Natural Gas</td>\n",
       "      <td>2.190</td>\n",
       "      <td>+0.090</td>\n",
       "      <td>+4.29%(1 day Delay)</td>\n",
       "      <td>(1 day Delay)</td>\n",
       "    </tr>\n",
       "    <tr>\n",
       "      <th>23</th>\n",
       "      <td>NaN</td>\n",
       "      <td>Dutch TTF Natural Gas</td>\n",
       "      <td>5.138</td>\n",
       "      <td>+0.020</td>\n",
       "      <td>+0.49%(1 day Delay)</td>\n",
       "      <td>(1 day Delay)</td>\n",
       "    </tr>\n",
       "    <tr>\n",
       "      <th>24</th>\n",
       "      <td>NaN</td>\n",
       "      <td>LNG Japan/Korea Marker</td>\n",
       "      <td>7.695</td>\n",
       "      <td>+0.100</td>\n",
       "      <td>+1.25%(1 day Delay)</td>\n",
       "      <td>(1 day Delay)</td>\n",
       "    </tr>\n",
       "    <tr>\n",
       "      <th>25</th>\n",
       "      <td>NaN</td>\n",
       "      <td>Futures &amp; Indexes</td>\n",
       "      <td>Last</td>\n",
       "      <td>Change</td>\n",
       "      <td>% Change</td>\n",
       "      <td>Last Updated</td>\n",
       "    </tr>\n",
       "  </tbody>\n",
       "</table>\n",
       "</div>"
      ],
      "text/plain": [
       "     0                        1      2       3                         4  \\\n",
       "0  NaN                WTI Crude  45.64   +0.04  +0.09%(10 Minutes Delay)   \n",
       "1  NaN              Brent Crude  48.98   +0.14  +0.29%(11 Minutes Delay)   \n",
       "2  NaN                  Mars US  46.40   -0.01  -0.02%(21 \\tHours Delay)   \n",
       "3  NaN              Opec Basket  47.79   -0.56       -1.16%(1 day Delay)   \n",
       "4  NaN     Canadian Crude Index  32.22   -0.65   -1.98%(2 \\tweeks Delay)   \n",
       "5  NaN                 DME Oman  48.90   +0.24       +0.49%(1 day Delay)   \n",
       "6  NaN                    Urals  39.60   +0.00   +0.00%(3 \\tweeks Delay)   \n",
       "7  NaN           Mexican Basket  44.17   +0.01       +0.02%(1 day Delay)   \n",
       "8  NaN            Indian Basket  48.50   -0.02       -0.04%(1 day Delay)   \n",
       "9  NaN  Western Canadian Select  33.45   -0.11  -0.33%(14 \\tHours Delay)   \n",
       "10 NaN                    Dubai  48.28   +0.06       +0.12%(1 day Delay)   \n",
       "11 NaN   Brent Weighted Average  48.69   -0.21       -0.43%(1 day Delay)   \n",
       "12 NaN          Louisiana Light  47.49   +0.07       +0.15%(1 day Delay)   \n",
       "13 NaN          Coastal Grade A  35.00   -0.25       -0.71%(1 day Delay)   \n",
       "14 NaN  Domestic Swt. @ Cushing  42.00   -0.25       -0.59%(1 day Delay)   \n",
       "15 NaN                 Giddings  35.75   -0.25       -0.69%(1 day Delay)   \n",
       "16 NaN           ANS West Coast  47.94   -0.51    -1.05%(2 \\tdays Delay)   \n",
       "17 NaN          Gulf Coast HSFO  42.92   -0.09       -0.21%(1 day Delay)   \n",
       "18 NaN              Natural Gas  2.425  +0.026  +1.08%(11 Minutes Delay)   \n",
       "19 NaN              Heating Oil  1.402  -0.004  -0.31%(11 Minutes Delay)   \n",
       "20 NaN                 Gasoline  1.283  +0.027  +2.16%(11 Minutes Delay)   \n",
       "21 NaN                  Ethanol  1.320  -0.040   -3.30%(2 \\tHours Delay)   \n",
       "22 NaN      Alberta Natural Gas  2.190  +0.090       +4.29%(1 day Delay)   \n",
       "23 NaN    Dutch TTF Natural Gas  5.138  +0.020       +0.49%(1 day Delay)   \n",
       "24 NaN   LNG Japan/Korea Marker  7.695  +0.100       +1.25%(1 day Delay)   \n",
       "25 NaN        Futures & Indexes   Last  Change                  % Change   \n",
       "\n",
       "                     5  \n",
       "0   (10 Minutes Delay)  \n",
       "1   (11 Minutes Delay)  \n",
       "2   (21 \\tHours Delay)  \n",
       "3        (1 day Delay)  \n",
       "4    (2 \\tweeks Delay)  \n",
       "5        (1 day Delay)  \n",
       "6    (3 \\tweeks Delay)  \n",
       "7        (1 day Delay)  \n",
       "8        (1 day Delay)  \n",
       "9   (14 \\tHours Delay)  \n",
       "10       (1 day Delay)  \n",
       "11       (1 day Delay)  \n",
       "12       (1 day Delay)  \n",
       "13       (1 day Delay)  \n",
       "14       (1 day Delay)  \n",
       "15       (1 day Delay)  \n",
       "16    (2 \\tdays Delay)  \n",
       "17       (1 day Delay)  \n",
       "18  (11 Minutes Delay)  \n",
       "19  (11 Minutes Delay)  \n",
       "20  (11 Minutes Delay)  \n",
       "21   (2 \\tHours Delay)  \n",
       "22       (1 day Delay)  \n",
       "23       (1 day Delay)  \n",
       "24       (1 day Delay)  \n",
       "25        Last Updated  "
      ]
     },
     "execution_count": 11,
     "metadata": {},
     "output_type": "execute_result"
    }
   ],
   "source": [
    "r = requests.get(url_prices)\n",
    "price_list = pd.read_html(r.text) # this parses all the tables in webpages to a list\n",
    "price_df = price_list[0]\n",
    "price_df"
   ]
  },
  {
   "cell_type": "code",
   "execution_count": 12,
   "metadata": {},
   "outputs": [
    {
     "data": {
      "text/plain": [
       "[{'Oil_Symbol': 'WTI Crude',\n",
       "  'Oil_Price': '45.64',\n",
       "  'Oil_Change_Value': '+0.04',\n",
       "  'Oil_Change_Interest': '+0.09%',\n",
       "  'Oil_Price_Delay': '(10 Minutes Delay)'},\n",
       " {'Oil_Symbol': 'Brent Crude',\n",
       "  'Oil_Price': '48.98',\n",
       "  'Oil_Change_Value': '+0.14',\n",
       "  'Oil_Change_Interest': '+0.29%',\n",
       "  'Oil_Price_Delay': '(11 Minutes Delay)'},\n",
       " {'Oil_Symbol': 'Mars US',\n",
       "  'Oil_Price': '46.40',\n",
       "  'Oil_Change_Value': '-0.01',\n",
       "  'Oil_Change_Interest': '-0.02%',\n",
       "  'Oil_Price_Delay': '(21 \\tHours Delay)'},\n",
       " {'Oil_Symbol': 'Opec Basket',\n",
       "  'Oil_Price': '47.79',\n",
       "  'Oil_Change_Value': '-0.56',\n",
       "  'Oil_Change_Interest': '-1.16%',\n",
       "  'Oil_Price_Delay': '(1 day Delay)'},\n",
       " {'Oil_Symbol': 'Canadian Crude Index',\n",
       "  'Oil_Price': '32.22',\n",
       "  'Oil_Change_Value': '-0.65',\n",
       "  'Oil_Change_Interest': '-1.98%',\n",
       "  'Oil_Price_Delay': '(2 \\tweeks Delay)'},\n",
       " {'Oil_Symbol': 'DME Oman',\n",
       "  'Oil_Price': '48.90',\n",
       "  'Oil_Change_Value': '+0.24',\n",
       "  'Oil_Change_Interest': '+0.49%',\n",
       "  'Oil_Price_Delay': '(1 day Delay)'},\n",
       " {'Oil_Symbol': 'Urals',\n",
       "  'Oil_Price': '39.60',\n",
       "  'Oil_Change_Value': '+0.00',\n",
       "  'Oil_Change_Interest': '+0.00%',\n",
       "  'Oil_Price_Delay': '(3 \\tweeks Delay)'},\n",
       " {'Oil_Symbol': 'Mexican Basket',\n",
       "  'Oil_Price': '44.17',\n",
       "  'Oil_Change_Value': '+0.01',\n",
       "  'Oil_Change_Interest': '+0.02%',\n",
       "  'Oil_Price_Delay': '(1 day Delay)'},\n",
       " {'Oil_Symbol': 'Indian Basket',\n",
       "  'Oil_Price': '48.50',\n",
       "  'Oil_Change_Value': '-0.02',\n",
       "  'Oil_Change_Interest': '-0.04%',\n",
       "  'Oil_Price_Delay': '(1 day Delay)'},\n",
       " {'Oil_Symbol': 'Western Canadian Select',\n",
       "  'Oil_Price': '33.45',\n",
       "  'Oil_Change_Value': '-0.11',\n",
       "  'Oil_Change_Interest': '-0.33%',\n",
       "  'Oil_Price_Delay': '(14 \\tHours Delay)'}]"
      ]
     },
     "execution_count": 12,
     "metadata": {},
     "output_type": "execute_result"
    }
   ],
   "source": [
    "prices = []\n",
    "for price_row in price_df.iterrows():\n",
    "    row = {}\n",
    "    row['Oil_Symbol'] = price_row[1][1]\n",
    "    row['Oil_Price'] = price_row[1][2]\n",
    "    row['Oil_Change_Value'] = price_row[1][3]\n",
    "    row['Oil_Change_Interest'] = price_row[1][4].split(\"(\")[0]\n",
    "    row['Oil_Price_Delay'] = price_row[1][5]\n",
    "    prices.append(row)\n",
    "prices[:10]"
   ]
  },
  {
   "cell_type": "markdown",
   "metadata": {},
   "source": [
    "# WEB Scrapping Energy Companies News"
   ]
  },
  {
   "cell_type": "code",
   "execution_count": 13,
   "metadata": {},
   "outputs": [],
   "source": [
    "# Visit Baker Hughes\n",
    "base_url = \"https://www.bakerhughes.com\"\n",
    "url_news = \"https://www.bakerhughes.com/company/energy-forward\"\n",
    "soup = soup_url(url_news)"
   ]
  },
  {
   "cell_type": "code",
   "execution_count": 14,
   "metadata": {},
   "outputs": [
    {
     "data": {
      "text/plain": [
       "'Energy Forward Stories | Baker Hughes'"
      ]
     },
     "execution_count": 14,
     "metadata": {},
     "output_type": "execute_result"
    }
   ],
   "source": [
    "page_title = soup.title.text\n",
    "page_title"
   ]
  },
  {
   "cell_type": "code",
   "execution_count": 15,
   "metadata": {},
   "outputs": [],
   "source": [
    "articles = soup.find_all(class_= \"article-tile-ef__top-container\")\n",
    "articles_sum = soup.find_all(class_= \"article-tile-ef__metadata-summary\")"
   ]
  },
  {
   "cell_type": "code",
   "execution_count": 16,
   "metadata": {},
   "outputs": [
    {
     "data": {
      "text/plain": [
       "['We’ve only scratched the surface using AI and dron',\n",
       " 'Applying AI in a pandemic',\n",
       " '8 things you should know about hydrogen energy',\n",
       " 'Straight talk on decarbonization']"
      ]
     },
     "execution_count": 16,
     "metadata": {},
     "output_type": "execute_result"
    }
   ],
   "source": [
    "title_list = []\n",
    "link_list = []\n",
    "for article in articles:\n",
    "    img = article.findAll('img')\n",
    "    link = img[0].get('src')\n",
    "    link_list.append(link)\n",
    "    title = article.find_all(class_= \"article-tile-ef__title\")\n",
    "    title_list.append(title[0].text.strip())\n",
    "title_list"
   ]
  },
  {
   "cell_type": "code",
   "execution_count": 17,
   "metadata": {},
   "outputs": [
    {
     "data": {
      "text/plain": [
       "['Vice President Safety and Environment Unconventionals at Shell, Kevin McMahon talks about deploying drones for methane detection in the Permian Basin.',\n",
       " 'An alliance of technologists applies artificial intelligence (AI) to the pivotal task, achieving benefits on every front.',\n",
       " 'CEO Richard Dyson, and Mary Snowdon, Principal Consultant at io consulting list what to consider before joining the hydrogen revolution.',\n",
       " 'Rod Christie, Executive Vice President of Turbomachinery & Process Solutions wants you to know the oil & gas industry is serious about climate change.']"
      ]
     },
     "execution_count": 17,
     "metadata": {},
     "output_type": "execute_result"
    }
   ],
   "source": [
    "text_list = []\n",
    "for article in articles_sum:\n",
    "    full_text = article.find_all(class_= \"article-tile-ef__summary\")\n",
    "    text_list.append(full_text[0].text.strip())\n",
    "text_list"
   ]
  },
  {
   "cell_type": "code",
   "execution_count": 18,
   "metadata": {},
   "outputs": [
    {
     "data": {
      "text/plain": [
       "[{'News_Title': 'Baker Hughes Company (BKR), an energy technology company',\n",
       "  'News_Paragraph': 'Our portfolio of technology, equipment and services solves customer challenges in energy and industrial applications.',\n",
       "  'Image_URL': 'https://www.bakerhughes.com/sites/bakerhughes/files/styles/max_2600x2600/public/2019-09/09242019_aboutus_i4%402x.jpg'},\n",
       " {'News_Title': 'We’ve only scratched the surface using AI and dron',\n",
       "  'News_Paragraph': 'Vice President Safety and Environment Unconventionals at Shell, Kevin McMahon talks about deploying drones for methane detection in the Permian Basin.',\n",
       "  'Image_URL': 'https://www.bakerhughes.com/sites/bakerhughes/files/styles/product_services_thumbnail/public/2020-09/Avitas%20Drone%20Aug%202020%2023.JPG?itok=bvQ5skEv'},\n",
       " {'News_Title': 'Applying AI in a pandemic',\n",
       "  'News_Paragraph': 'An alliance of technologists applies artificial intelligence (AI) to the pivotal task, achieving benefits on every front.',\n",
       "  'Image_URL': 'https://www.bakerhughes.com/sites/bakerhughes/files/styles/product_services_thumbnail/public/2020-09/Image%20Hero_Applying%20AI.jpg?itok=FY7Fea40'},\n",
       " {'News_Title': '8 things you should know about hydrogen energy',\n",
       "  'News_Paragraph': 'CEO Richard Dyson, and Mary Snowdon, Principal Consultant at io consulting list what to consider before joining the hydrogen revolution.',\n",
       "  'Image_URL': 'https://www.bakerhughes.com/sites/bakerhughes/files/styles/product_services_thumbnail/public/2020-10/Hydrogen-Pipeline.jpg?itok=M9ArG2Jk'},\n",
       " {'News_Title': 'Straight talk on decarbonization',\n",
       "  'News_Paragraph': 'Rod Christie, Executive Vice President of Turbomachinery & Process Solutions wants you to know the oil & gas industry is serious about climate change.',\n",
       "  'Image_URL': 'https://www.bakerhughes.com/sites/bakerhughes/files/styles/product_services_thumbnail/public/2020-07/ROD_05_A.jpg?itok=vNzlNDfn'}]"
      ]
     },
     "execution_count": 18,
     "metadata": {},
     "output_type": "execute_result"
    }
   ],
   "source": [
    "baker = [{'News_Title': 'Baker Hughes Company (BKR), an energy technology company', \n",
    "         'News_Paragraph': 'Our portfolio of technology, equipment and services solves customer challenges in energy and industrial applications.',\n",
    "         'Image_URL': 'https://www.bakerhughes.com/sites/bakerhughes/files/styles/max_2600x2600/public/2019-09/09242019_aboutus_i4%402x.jpg'\n",
    "         }]\n",
    "for i in range(len(title_list)):\n",
    "    row = {}\n",
    "    row[\"News_Title\"] = title_list[i]\n",
    "    row[\"News_Paragraph\"] = text_list[i]\n",
    "    row[\"Image_URL\"] = link_list[i]\n",
    "    baker.append(row)\n",
    "baker"
   ]
  },
  {
   "cell_type": "code",
   "execution_count": 19,
   "metadata": {},
   "outputs": [],
   "source": [
    "# Visit Chevron\n",
    "base_url = \"https://www.chevron.com\"\n",
    "url_news = \"https://www.chevron.com/projects\"\n",
    "soup = soup_url(url_news)"
   ]
  },
  {
   "cell_type": "code",
   "execution_count": 20,
   "metadata": {},
   "outputs": [
    {
     "data": {
      "text/plain": [
       "'Chevron International Project Portfolio  — Chevron.com'"
      ]
     },
     "execution_count": 20,
     "metadata": {},
     "output_type": "execute_result"
    }
   ],
   "source": [
    "page_title = soup.title.text\n",
    "page_title"
   ]
  },
  {
   "cell_type": "code",
   "execution_count": 41,
   "metadata": {},
   "outputs": [
    {
     "data": {
      "text/plain": [
       "[]"
      ]
     },
     "execution_count": 41,
     "metadata": {},
     "output_type": "execute_result"
    }
   ],
   "source": [
    "articles = soup.find_all(class_= \"c12 container-fluid  section-bg-color bg-white\")"
   ]
  },
  {
   "cell_type": "code",
   "execution_count": 45,
   "metadata": {},
   "outputs": [],
   "source": [
    "title_list = ['Project Gorgon', 'Project the Permian Basin', 'Project Tengiz Expansion', 'Project Jack/St.Malo']\n",
    "text_list = ['One of the largest global natural gas projects is primed  to power the Asia-Pacific region.',\n",
    "             'An engine of America’s energy resurgence is delivering transformational growth for us.',\n",
    "             'For more than 20 years, we’ve been operating one of the  world’s deepest supergiant oil fields and supporting local communities in  Kazakhstan.',\n",
    "             'In the U.S. Gulf of Mexico, we’re taking deepwater  technology to new heights—nearly 30,000 feet beneath the ocean’s surface.'\n",
    "            ]\n",
    "link_list = ['https://www.chevron.com/projects/-/media/chevron/projects/images/gorgon-tile.jpg', \n",
    "             'https://www.chevron.com/projects/-/media/chevron/projects/images/permian-project-tile.jpg',\n",
    "             'https://www.chevron.com/projects/-/media/chevron/projects/images/tengizchevroil-tile.jpg',\n",
    "             'https://www.chevron.com/projects/-/media/chevron/projects/images/jack-st-malo-project-tile.jpg',]"
   ]
  },
  {
   "cell_type": "code",
   "execution_count": 63,
   "metadata": {},
   "outputs": [
    {
     "data": {
      "text/plain": [
       "[{'News_Title': 'Chevron Corporation (CVX)',\n",
       "  'News_Paragraph': 'From upstream exploration and production to midstream transportation, power and trading to downstream manufacturing and retail, each of our businesses work in concert across virtually every facet of the energy industry.',\n",
       "  'Image_URL': 'https://www.chevron.com/-/media/chevron/investors/images/ir-hero-platong-platform.jpg'},\n",
       " {'News_Title': 'Project Gorgon',\n",
       "  'News_Paragraph': 'One of the largest global natural gas projects is primed  to power the Asia-Pacific region.',\n",
       "  'Image_URL': 'https://www.chevron.com/projects/-/media/chevron/projects/images/gorgon-tile.jpg'},\n",
       " {'News_Title': 'Project the Permian Basin',\n",
       "  'News_Paragraph': 'An engine of America’s energy resurgence is delivering transformational growth for us.',\n",
       "  'Image_URL': 'https://www.chevron.com/projects/-/media/chevron/projects/images/permian-project-tile.jpg'},\n",
       " {'News_Title': 'Project Tengiz Expansion',\n",
       "  'News_Paragraph': 'For more than 20 years, we’ve been operating one of the  world’s deepest supergiant oil fields and supporting local communities in  Kazakhstan.',\n",
       "  'Image_URL': 'https://www.chevron.com/projects/-/media/chevron/projects/images/tengizchevroil-tile.jpg'},\n",
       " {'News_Title': 'Project Jack/St.Malo',\n",
       "  'News_Paragraph': 'In the U.S. Gulf of Mexico, we’re taking deepwater  technology to new heights—nearly 30,000 feet beneath the ocean’s surface.',\n",
       "  'Image_URL': 'https://www.chevron.com/projects/-/media/chevron/projects/images/jack-st-malo-project-tile.jpg'}]"
      ]
     },
     "execution_count": 63,
     "metadata": {},
     "output_type": "execute_result"
    }
   ],
   "source": [
    "chevron = [{'News_Title': 'Chevron Corporation (CVX)', \n",
    "            'News_Paragraph': 'From upstream exploration and production to midstream transportation, power and trading to downstream manufacturing and retail, each of our businesses work in concert across virtually every facet of the energy industry.',\n",
    "            'Image_URL': 'https://www.chevron.com/-/media/chevron/investors/images/ir-hero-platong-platform.jpg'}]\n",
    "for i in range(len(title_list)):\n",
    "    row = {}\n",
    "    row[\"News_Title\"] = title_list[i]\n",
    "    row[\"News_Paragraph\"] = text_list[i]\n",
    "    row[\"Image_URL\"] = link_list[i]\n",
    "    chevron.append(row)\n",
    "chevron"
   ]
  },
  {
   "cell_type": "code",
   "execution_count": 50,
   "metadata": {},
   "outputs": [],
   "source": [
    "# Visit Exxon\n",
    "base_url = \"https://corporate.exxonmobil.com\"\n",
    "url_news = \"https://corporate.exxonmobil.com/Company/Who-we-are\"\n",
    "soup = soup_url(url_news)"
   ]
  },
  {
   "cell_type": "code",
   "execution_count": 51,
   "metadata": {},
   "outputs": [
    {
     "data": {
      "text/plain": [
       "'Who we are | ExxonMobil'"
      ]
     },
     "execution_count": 51,
     "metadata": {},
     "output_type": "execute_result"
    }
   ],
   "source": [
    "page_title = soup.title.text\n",
    "page_title"
   ]
  },
  {
   "cell_type": "code",
   "execution_count": 53,
   "metadata": {},
   "outputs": [],
   "source": [
    "exxon = [{'News_Title': 'Exxon Mobil Corporation (XOM)',\n",
    "          'News_Paragraph': 'One of the world’s largest publicly traded energy providers and chemical manufacturers, develops and applies next-generation technologies to help safely and responsibly meet the world’s growing needs for energy and high-quality chemical products.',\n",
    "          'Image_URL': 'https://corporate.exxonmobil.com/Company/Who-we-are/-/media/Global/Images/Article-top-banners/Natural-gas/Loading-dock-at-PNG-LNG_banner_90512.jpg'}]"
   ]
  },
  {
   "cell_type": "code",
   "execution_count": 54,
   "metadata": {},
   "outputs": [],
   "source": [
    "url_news = 'https://finance.yahoo.com/quote/EOG/news/'\n",
    "eog = [{'News_Title': 'EOG Resources, Inc. (EOG)',\n",
    "        'News_Paragraph':'One of the best \"shale\" producers is a solid bet for a potential recovery in 2021. The company s principal producing areas are located in New Mexico, North Dakota, Texas, and Wyoming in the United States; and the Republic of Trinidad and Tobago, the People s Republic of China, and Canada',\n",
    "        'Image_URL': 'https://s7d2.scene7.com/is/image/DNB/Industry-OilandGas-hero'}]"
   ]
  },
  {
   "cell_type": "code",
   "execution_count": 55,
   "metadata": {},
   "outputs": [],
   "source": [
    "conoco = [{'News_Title':  'ConocoPhillips (COP)',\n",
    "           'News_Paragraph': 'ConocoPhillips is a multinational corporation engaged in hydrocarbon exploration. It is based in the Energy Corridor district of Houston, Texas. ',\n",
    "           'Image_URL': 'https://static.conocophillips.com/files/pages/ultrawide-med-19sr-report-cover-aplng.jpg'}]"
   ]
  },
  {
   "cell_type": "code",
   "execution_count": 56,
   "metadata": {},
   "outputs": [],
   "source": [
    "valero = [{'News_Title': 'Valero Energy Corporation (VLO)',\n",
    "           'News_Paragraph': 'Founded in 1980 and named for the mission San Antonio de Valero – the original name of the Alamo – Valero Energy Corporation has continued to grow and evolve to become the largest global independent petroleum refiner and the largest renewable fuels producer in North America.',\n",
    "           'Image_URL': 'https://www.valero.com/sites/default/files/2020-04/About_SuppliersMineralInterestInvestRecov_700X550.jpg'}]"
   ]
  },
  {
   "cell_type": "markdown",
   "metadata": {},
   "source": [
    "# Store Data in Database"
   ]
  },
  {
   "cell_type": "code",
   "execution_count": 21,
   "metadata": {},
   "outputs": [],
   "source": [
    "# Initialize PyMongo to work with MongoDBs\n",
    "conn = 'mongodb://localhost:27017'\n",
    "client = pymongo.MongoClient(conn)"
   ]
  },
  {
   "cell_type": "code",
   "execution_count": 73,
   "metadata": {},
   "outputs": [
    {
     "name": "stdout",
     "output_type": "stream",
     "text": [
      "{'_id': ObjectId('5fb484ee094f647d970de9b7'), 'News_Title': 'Baker Hughes Company (BKR), an energy technology company', 'News_Paragraph': 'Our portfolio of technology, equipment and services solves customer challenges in energy and industrial applications.', 'Image_URL': 'https://www.bakerhughes.com/sites/bakerhughes/files/styles/max_2600x2600/public/2019-09/09242019_aboutus_i4%402x.jpg'}\n",
      "{'_id': ObjectId('5fb484ee094f647d970de9b8'), 'News_Title': 'We’ve only scratched the surface using AI and dron', 'News_Paragraph': 'Vice President Safety and Environment Unconventionals at Shell, Kevin McMahon talks about deploying drones for methane detection in the Permian Basin.', 'Image_URL': 'https://www.bakerhughes.com/sites/bakerhughes/files/styles/product_services_thumbnail/public/2020-09/Avitas%20Drone%20Aug%202020%2023.JPG?itok=bvQ5skEv'}\n",
      "{'_id': ObjectId('5fb484ee094f647d970de9b9'), 'News_Title': 'Applying AI in a pandemic', 'News_Paragraph': 'An alliance of technologists applies artificial intelligence (AI) to the pivotal task, achieving benefits on every front.', 'Image_URL': 'https://www.bakerhughes.com/sites/bakerhughes/files/styles/product_services_thumbnail/public/2020-09/Image%20Hero_Applying%20AI.jpg?itok=FY7Fea40'}\n",
      "{'_id': ObjectId('5fb484ee094f647d970de9ba'), 'News_Title': 'Clear and present leadership in a time of tumult', 'News_Paragraph': 'Russell Wilkerson, Chief Corporate Affairs Officer explains the value of being a purpose-driven company in times of uncertainty.', 'Image_URL': 'https://www.bakerhughes.com/sites/bakerhughes/files/styles/product_services_thumbnail/public/2020-07/Russell%202_0.jpg?itok=VL6DKJAf'}\n",
      "{'_id': ObjectId('5fb484ee094f647d970de9bb'), 'News_Title': 'Straight talk on decarbonization', 'News_Paragraph': 'Rod Christie, Executive Vice President of Turbomachinery & Process Solutions wants you to know the oil & gas industry is serious about climate change.', 'Image_URL': 'https://www.bakerhughes.com/sites/bakerhughes/files/styles/product_services_thumbnail/public/2020-07/ROD_05_A.jpg?itok=vNzlNDfn'}\n"
     ]
    }
   ],
   "source": [
    "# BAKER HUGHES\n",
    "# Define database and collection\n",
    "db = client.oil_db\n",
    "collection = db.baker_intro_new\n",
    "# Upload collection\n",
    "for record in baker:\n",
    "    collection.insert_one(record)\n",
    "# Display the MongoDB records created above\n",
    "baker_news_db = db.baker_intro_new.find()\n",
    "for record in baker_news_db:\n",
    "    print(record)"
   ]
  },
  {
   "cell_type": "code",
   "execution_count": 74,
   "metadata": {},
   "outputs": [
    {
     "name": "stdout",
     "output_type": "stream",
     "text": [
      "{'_id': ObjectId('5fb4850d094f647d970de9bc'), 'News_Title': 'Chevron Corporation (CVX)', 'News_Paragraph': 'From upstream exploration and production to midstream transportation, power and trading to downstream manufacturing and retail, each of our businesses work in concert across virtually every facet of the energy industry.', 'Image_URL': 'https://www.chevron.com/-/media/chevron/investors/images/ir-hero-platong-platform.jpg'}\n",
      "{'_id': ObjectId('5fb4850d094f647d970de9bd'), 'News_Title': 'Project Gorgon', 'News_Paragraph': 'One of the largest global natural gas projects is primed  to power the Asia-Pacific region.', 'Image_URL': 'https://www.chevron.com/projects/-/media/chevron/projects/images/gorgon-tile.jpg'}\n",
      "{'_id': ObjectId('5fb4850d094f647d970de9be'), 'News_Title': 'Project the Permian Basin', 'News_Paragraph': 'An engine of America’s energy resurgence is delivering transformational growth for us.', 'Image_URL': 'https://www.chevron.com/projects/-/media/chevron/projects/images/permian-project-tile.jpg'}\n",
      "{'_id': ObjectId('5fb4850d094f647d970de9bf'), 'News_Title': 'Project Tengiz Expansion', 'News_Paragraph': 'For more than 20 years, we’ve been operating one of the  world’s deepest supergiant oil fields and supporting local communities in  Kazakhstan.', 'Image_URL': 'https://www.chevron.com/projects/-/media/chevron/projects/images/tengizchevroil-tile.jpg'}\n",
      "{'_id': ObjectId('5fb4850d094f647d970de9c0'), 'News_Title': 'Project Jack/St.Malo', 'News_Paragraph': 'In the U.S. Gulf of Mexico, we’re taking deepwater  technology to new heights—nearly 30,000 feet beneath the ocean’s surface.', 'Image_URL': 'https://www.chevron.com/projects/-/media/chevron/projects/images/jack-st-malo-project-tile.jpg'}\n"
     ]
    }
   ],
   "source": [
    "# CHEVRON\n",
    "# Define database and collection\n",
    "db = client.oil_db\n",
    "collection = db.chevron_intro_new\n",
    "# Upload collection\n",
    "for record in chevron:\n",
    "    collection.insert_one(record)\n",
    "# Display the MongoDB records created above\n",
    "baker_news_db = db.chevron_intro_new.find()\n",
    "for record in baker_news_db:\n",
    "    print(record)"
   ]
  },
  {
   "cell_type": "code",
   "execution_count": 59,
   "metadata": {},
   "outputs": [
    {
     "name": "stdout",
     "output_type": "stream",
     "text": [
      "{'_id': ObjectId('5fb41520094f647d970de9b3'), 'News_Title': 'ConocoPhillips (COP)', 'News_Paragraph': 'ConocoPhillips is a multinational corporation engaged in hydrocarbon exploration. It is based in the Energy Corridor district of Houston, Texas. ', 'Image_URL': 'https://static.conocophillips.com/files/pages/ultrawide-med-19sr-report-cover-aplng.jpg'}\n"
     ]
    }
   ],
   "source": [
    "# CONOCO PHILIPS\n",
    "# Define database and collection\n",
    "db = client.oil_db\n",
    "collection = db.conoco_intro\n",
    "# Upload collection\n",
    "for record in conoco:\n",
    "    collection.insert_one(record)\n",
    "# Display the MongoDB records created above\n",
    "baker_news_db = db.conoco_intro.find()\n",
    "for record in baker_news_db:\n",
    "    print(record)"
   ]
  },
  {
   "cell_type": "code",
   "execution_count": 60,
   "metadata": {},
   "outputs": [
    {
     "name": "stdout",
     "output_type": "stream",
     "text": [
      "{'_id': ObjectId('5fb41556094f647d970de9b4'), 'News_Title': 'Exxon Mobil Corporation (XOM)', 'News_Paragraph': 'One of the world’s largest publicly traded energy providers and chemical manufacturers, develops and applies next-generation technologies to help safely and responsibly meet the world’s growing needs for energy and high-quality chemical products.', 'Image_URL': 'https://corporate.exxonmobil.com/Company/Who-we-are/-/media/Global/Images/Article-top-banners/Natural-gas/Loading-dock-at-PNG-LNG_banner_90512.jpg'}\n"
     ]
    }
   ],
   "source": [
    "# EXXON MOBILE\n",
    "# Define database and collection\n",
    "db = client.oil_db\n",
    "collection = db.exxon_intro\n",
    "# Upload collection\n",
    "for record in exxon:\n",
    "    collection.insert_one(record)\n",
    "# Display the MongoDB records created above\n",
    "baker_news_db = db.exxon_intro.find()\n",
    "for record in baker_news_db:\n",
    "    print(record)"
   ]
  },
  {
   "cell_type": "code",
   "execution_count": 61,
   "metadata": {},
   "outputs": [
    {
     "name": "stdout",
     "output_type": "stream",
     "text": [
      "{'_id': ObjectId('5fb4157b094f647d970de9b5'), 'News_Title': 'Valero Energy Corporation (VLO)', 'News_Paragraph': 'Founded in 1980 and named for the mission San Antonio de Valero – the original name of the Alamo – Valero Energy Corporation has continued to grow and evolve to become the largest global independent petroleum refiner and the largest renewable fuels producer in North America.', 'Image_URL': 'https://www.valero.com/sites/default/files/2020-04/About_SuppliersMineralInterestInvestRecov_700X550.jpg'}\n"
     ]
    }
   ],
   "source": [
    "# VALERO ENERGY\n",
    "# Define database and collection\n",
    "db = client.oil_db\n",
    "collection = db.valero_intro\n",
    "# Upload collection\n",
    "for record in valero:\n",
    "    collection.insert_one(record)\n",
    "# Display the MongoDB records created above\n",
    "baker_news_db = db.valero_intro.find()\n",
    "for record in baker_news_db:\n",
    "    print(record)"
   ]
  },
  {
   "cell_type": "code",
   "execution_count": 62,
   "metadata": {},
   "outputs": [
    {
     "name": "stdout",
     "output_type": "stream",
     "text": [
      "{'_id': ObjectId('5fb4159c094f647d970de9b6'), 'News_Title': 'EOG Resources, Inc. (EOG)', 'News_Paragraph': 'One of the best \"shale\" producers is a solid bet for a potential recovery in 2021. The company s principal producing areas are located in New Mexico, North Dakota, Texas, and Wyoming in the United States; and the Republic of Trinidad and Tobago, the People s Republic of China, and Canada', 'Image_URL': 'https://s7d2.scene7.com/is/image/DNB/Industry-OilandGas-hero'}\n"
     ]
    }
   ],
   "source": [
    "# EOG RESOURCES\n",
    "# Define database and collection\n",
    "db = client.oil_db\n",
    "collection = db.eog_intro\n",
    "# Upload collection\n",
    "for record in eog:\n",
    "    collection.insert_one(record)\n",
    "# Display the MongoDB records created above\n",
    "baker_news_db = db.eog_intro.find()\n",
    "for record in baker_news_db:\n",
    "    print(record)"
   ]
  },
  {
   "cell_type": "code",
   "execution_count": 20,
   "metadata": {},
   "outputs": [],
   "source": [
    "# Define database and collection\n",
    "db = client.oil_db\n",
    "collection = db.baker_news"
   ]
  },
  {
   "cell_type": "code",
   "execution_count": 21,
   "metadata": {},
   "outputs": [],
   "source": [
    "# Upload collection\n",
    "for record in baker:\n",
    "    collection.insert_one(record)"
   ]
  },
  {
   "cell_type": "code",
   "execution_count": null,
   "metadata": {},
   "outputs": [],
   "source": [
    "# Display the MongoDB records created above\n",
    "baker_news_db = db.baker_news.find()\n",
    "for record in baker_news_db:\n",
    "    print(record)"
   ]
  },
  {
   "cell_type": "code",
   "execution_count": 23,
   "metadata": {},
   "outputs": [],
   "source": [
    "# Define database and collection\n",
    "db = client.oil_db\n",
    "collection = db.oil_news"
   ]
  },
  {
   "cell_type": "code",
   "execution_count": 24,
   "metadata": {},
   "outputs": [],
   "source": [
    "# Upload collection\n",
    "for record in news:\n",
    "    collection.insert_one(record)"
   ]
  },
  {
   "cell_type": "code",
   "execution_count": 26,
   "metadata": {},
   "outputs": [
    {
     "name": "stdout",
     "output_type": "stream",
     "text": [
      "{'_id': ObjectId('5f8247ff1b28d0739f5c7cf1'), 'Date': 'Oct 13, 2020 at 13:10 ', 'News_Title': 'Iraq Discusses Gas Investment At Its Largest Oilfield With BP', 'News_Paragraph': \"Iraq discussed on Tuesday plans for investment in associated gas production at its largest oilfield, Rumaila, Iraq's Oil Minister Ihsan Abdul-Jabbar Ismail said in a statement to Shafaq News…\", 'Author': ' Tsvetana Paraskova', 'Image_URL': 'https://d32r1sh890xpii.cloudfront.net/news/270x200/2020-10-13_iitmjqvwez.jpg'}\n",
      "{'_id': ObjectId('5f8247ff1b28d0739f5c7cf2'), 'Date': 'Oct 09, 2020 at 13:11 ', 'News_Title': 'Norway’s Oil Strike Could End As Soon As Friday', 'News_Paragraph': 'There is a chance that the oil workers’ strike in Norway will end as soon as on Friday, the head of the trade union whose members are on strike for…', 'Author': ' Tsvetana Paraskova', 'Image_URL': 'https://d32r1sh890xpii.cloudfront.net/news/270x200/2020-10-09_zsxvky4oan.jpg'}\n",
      "{'_id': ObjectId('5f8247ff1b28d0739f5c7cf3'), 'Date': 'Oct 09, 2020 at 12:48 ', 'News_Title': 'Air Travel Collapse Makes Oil Hedges More Expensive', 'News_Paragraph': 'The pandemic and the resulting plunge in air travel have caused airlines to largely abandon oil hedges against higher oil prices, thus making it more expensive for oil producers to…', 'Author': ' Charles Kennedy', 'Image_URL': 'https://d32r1sh890xpii.cloudfront.net/news/270x200/2020-10-09_hsq3dpnwxu.jpg'}\n",
      "{'_id': ObjectId('5f8247ff1b28d0739f5c7cf4'), 'Date': 'Oct 09, 2020 at 10:31 ', 'News_Title': 'Pemex Issues $1.5-Bln Bond To Refinance Massive Debt', 'News_Paragraph': 'Mexico’s state oil company Pemex has issued a $1.5-billion bond to raise funds necessary to refinance existing debt, Reuters reported, quoting a source in the know that remained unnamed.\\nAccording…', 'Author': ' Irina Slav', 'Image_URL': 'https://d32r1sh890xpii.cloudfront.net/news/270x200/2020-10-09_sf1ekjgrhv.jpg'}\n",
      "{'_id': ObjectId('5f8247ff1b28d0739f5c7cf5'), 'Date': 'Oct 09, 2020 at 09:17 ', 'News_Title': 'More Than 90% Of Gulf Of Mexico Oil Production Shut In As Hurricane Approaches', 'News_Paragraph': 'More than 90% of all oil production in the U.S. Gulf of Mexico has been shut in ahead of the latest hurricane set to rip through offshore oil country, the…', 'Author': ' Julianne Geiger', 'Image_URL': 'https://d32r1sh890xpii.cloudfront.net/news/270x200/2020-10-09_snvmtzmyui.jpg'}\n",
      "{'_id': ObjectId('5f8247ff1b28d0739f5c7cf6'), 'Date': 'Oct 08, 2020 at 14:30 ', 'News_Title': 'Norway’s Oil & Gas Strikes Could Take 25% Of Production Offline', 'News_Paragraph': 'If the ongoing strike of oil workers in Norway extends for another week without a resolution, nearly 25 percent of Norway’s oil and gas production could be shut down, including…', 'Author': ' Josh Owens', 'Image_URL': 'https://d32r1sh890xpii.cloudfront.net/news/270x200/2020-10-08_clwzrvfq4h.jpg'}\n",
      "{'_id': ObjectId('5f8247ff1b28d0739f5c7cf7'), 'Date': 'Oct 08, 2020 at 13:35 ', 'News_Title': 'Venezuela Restarts Crude Blending Operations As Upgraders Return Online', 'News_Paragraph': 'Venezuela’s state oil firm PDVSA has recently boosted its crude oil blending operations to a six-month high after some upgraders came back online, Reuters reported on Thursday, citing PDVSA…', 'Author': ' Tsvetana Paraskova', 'Image_URL': 'https://d32r1sh890xpii.cloudfront.net/news/270x200/2020-10-08_pubc0h8o3e.jpg'}\n",
      "{'_id': ObjectId('5f8247ff1b28d0739f5c7cf8'), 'Date': 'Oct 08, 2020 at 12:01 ', 'News_Title': 'Church Of England Dumps All ExxonMobil Stock', 'News_Paragraph': 'The Church of England Pensions Board divested this week all its shares in ExxonMobil since the U.S. supermajor has failed to set targets to cut Scope 3 emissions—those generated by…', 'Author': ' Charles Kennedy', 'Image_URL': 'https://d32r1sh890xpii.cloudfront.net/news/270x200/2020-10-08_7cnn5jqtea.jpg'}\n",
      "{'_id': ObjectId('5f8247ff1b28d0739f5c7cf9'), 'Date': 'Oct 08, 2020 at 11:48 ', 'News_Title': 'Libya’s Central Banks Wants To Lift Oil Output To 1.7 Million Bpd', 'News_Paragraph': 'The governor of the Libyan central bank has called for the increase of oil production to 1.7 million bpd as soon as possible as the country’s economy continues to struggle…', 'Author': ' Irina Slav', 'Image_URL': 'https://d32r1sh890xpii.cloudfront.net/news/270x200/2020-10-08_guhajeatn4.jpg'}\n",
      "{'_id': ObjectId('5f8247ff1b28d0739f5c7cfa'), 'Date': 'Oct 08, 2020 at 11:32 ', 'News_Title': 'Shell Shuts All 9 Of Its Gulf Of Mexico Oil Platforms Ahead Of Hurricane', 'News_Paragraph': 'Shell said on Thursday that it had shut in production at all nine of its platforms in the U.S. Gulf of Mexico and evacuated all personnel, as operators rush to…', 'Author': ' Tsvetana Paraskova', 'Image_URL': 'https://d32r1sh890xpii.cloudfront.net/news/270x200/2020-10-08_ysgobvf6dq.jpg'}\n",
      "{'_id': ObjectId('5f8247ff1b28d0739f5c7cfb'), 'Date': 'Oct 08, 2020 at 10:33 ', 'News_Title': 'Green Hydrogen Projects Are Surging, But Are They Feasible?', 'News_Paragraph': 'Proposed green hydrogen projects are surging across the globe as governments seize opportunities afforded by post-pandemic green stimulus packages. Rystad Energy research shows the global pipeline of utility scale green…', 'Author': ' Rystad Energy', 'Image_URL': 'https://d32r1sh890xpii.cloudfront.net/news/270x200/2020-10-08_lezwx3rmve.jpg'}\n",
      "{'_id': ObjectId('5f8247ff1b28d0739f5c7cfc'), 'Date': 'Oct 08, 2020 at 09:31 ', 'News_Title': 'Chevron Is Making Workers Reapply For Jobs', 'News_Paragraph': 'Chevron is asking its employees to reapply for jobs, Reuters has reported, citing unnamed sources in the know. The move is part of efforts to reduce the company’s headcount…', 'Author': ' Irina Slav', 'Image_URL': 'https://d32r1sh890xpii.cloudfront.net/news/270x200/2020-10-08_drwn2xapps.jpg'}\n",
      "{'_id': ObjectId('5f8247ff1b28d0739f5c7cfd'), 'Date': 'Oct 07, 2020 at 15:41 ', 'News_Title': 'Oil Rig Evacuations Continue Ahead Of Hurricane Delta', 'News_Paragraph': 'Oil and gas companies are evacuating more platforms and rigs in the Gulf of Mexico as Hurricane Delta barrels toward the coast, according to the Bureau of Safety and Environmental…', 'Author': ' Julianne Geiger', 'Image_URL': 'https://d32r1sh890xpii.cloudfront.net/news/270x200/2020-10-07_o0xlbnwi9q.jpg'}\n",
      "{'_id': ObjectId('5f8247ff1b28d0739f5c7cfe'), 'Date': 'Oct 07, 2020 at 15:28 ', 'News_Title': 'BP Forced To Boost Security In Azerbaijan As Conflict Escalates', 'News_Paragraph': 'BP will boost security at its oil and gas assets and operations in Azerbaijan after reports of alleged attacks near an important oil pipeline as the', 'Author': ' Tsvetana Paraskova', 'Image_URL': 'https://d32r1sh890xpii.cloudfront.net/news/270x200/2020-10-07_9tm2eaibzh.jpg'}\n",
      "{'_id': ObjectId('5f8247ff1b28d0739f5c7cff'), 'Date': 'Oct 07, 2020 at 15:06 ', 'News_Title': 'The U.S. Fell Short In Providing Effective Oil And Gas Relief', 'News_Paragraph': 'Hastening to approve relief for oil companies after the price crash, the U.S. Bureau of Land Management (BLM) adopted an unclear policy for temporary royalty relief on federal…', 'Author': ' Tsvetana Paraskova', 'Image_URL': 'https://d32r1sh890xpii.cloudfront.net/news/270x200/2020-10-07_r5sc4dxenr.jpg'}\n",
      "{'_id': ObjectId('5f8247ff1b28d0739f5c7d00'), 'Date': 'Oct 07, 2020 at 12:21 ', 'News_Title': 'Big Oil Still Isn’t On Course To Hit Global Climate Goals', 'News_Paragraph': 'Despite Big Oil’s race to commit to net-zero emissions and significantly boost renewables operations, none of the major oil and gas companies have aligned their emissions targets to…', 'Author': ' Tsvetana Paraskova', 'Image_URL': 'https://d32r1sh890xpii.cloudfront.net/news/270x200/2020-10-07_viyo7c5nyg.jpg'}\n",
      "{'_id': ObjectId('5f8247ff1b28d0739f5c7d01'), 'Date': 'Oct 07, 2020 at 12:18 ', 'News_Title': 'The U.S. Moves To Ease Dependence On Foreign Rare Earths', 'News_Paragraph': 'Late last month, President Donald Trump issued an executive order that seeks to curb U.S. dependence on foreign sources of critical minerals.', 'Author': ' Ag Metal Miner', 'Image_URL': 'https://d32r1sh890xpii.cloudfront.net/news/270x200/2020-10-07_uhxklcsifk.jpg'}\n",
      "{'_id': ObjectId('5f8247ff1b28d0739f5c7d02'), 'Date': 'Oct 07, 2020 at 12:06 ', 'News_Title': 'Nigeria Looks To Ramp Up Its Oil Refining Capacity', 'News_Paragraph': 'Nigeria, Africa’s largest crude oil producer and exporter, expects to end its crude-for-fuel swap deals by 2023 when its refining capacity is set to increase with state refineries…', 'Author': ' Tsvetana Paraskova', 'Image_URL': 'https://d32r1sh890xpii.cloudfront.net/news/270x200/2020-10-07_k4asdvfzwa.jpg'}\n",
      "{'_id': ObjectId('5f8247ff1b28d0739f5c7d03'), 'Date': 'Oct 07, 2020 at 10:54 ', 'News_Title': 'Premier Oil Set To Merge With North Sea Rival', 'News_Paragraph': 'Premier Oil this morning announced that it had agreed to merge with fellow North Sea explorer Chrysaor in a deal which will make the firm the largest independent…', 'Author': ' City A.M', 'Image_URL': 'https://d32r1sh890xpii.cloudfront.net/news/270x200/2020-10-07_s21inmt0hz.jpg'}\n",
      "{'_id': ObjectId('5f8247ff1b28d0739f5c7d04'), 'Date': 'Oct 07, 2020 at 10:27 ', 'News_Title': 'Britain Blocks The Approval Of A Major Coal Mine', 'News_Paragraph': 'The UK government has temporarily blocked the development of what would be the nation’s first new deep coal mine in 30 years, while…', 'Author': ' MINING.com', 'Image_URL': 'https://d32r1sh890xpii.cloudfront.net/news/270x200/2020-10-07_hsuxvrwitn.jpg'}\n",
      "{'_id': ObjectId('5fb33432094f647d970de97b'), 'Date': 'Nov 16, 2020 at 17:31 ', 'News_Title': 'OPEC+ Meeting Concludes With Support For Cut Extension', 'News_Paragraph': 'OPEC+’s technical meeting finished on Monday with widespread support for a three-month extension of the current level of oil production cuts, sources told Reuters on Monday.\\nOPEC sources hinted last…', 'Author': ' Julianne Geiger', 'Image_URL': 'https://d32r1sh890xpii.cloudfront.net/news/270x200/2020-11-16_wgznwu6xqo.jpg'}\n",
      "{'_id': ObjectId('5fb33432094f647d970de97c'), 'Date': 'Nov 16, 2020 at 15:23 ', 'News_Title': 'Sudan To Offer 27 Oil Concessions In Global Bidding Round', 'News_Paragraph': 'The government of Sudan plans to offer to investors concessions of 27 oil blocks in the country via a global bid, Acting Energy Minister Kheiri Abdelrahman told a local television…', 'Author': ' Charles Kennedy', 'Image_URL': 'https://d32r1sh890xpii.cloudfront.net/news/270x200/2020-11-16_scg0olhwy4.jpg'}\n",
      "{'_id': ObjectId('5fb33432094f647d970de97d'), 'Date': 'Nov 16, 2020 at 14:00 ', 'News_Title': 'Oil & Gas Discoveries Resilient In 2020 Despite Pandemic', 'News_Paragraph': 'Despite delays in drilling campaigns and reduced exploration budgets due to COVID-19, the volume of oil and gas discoveries globally is set to reach 10 billion barrels of oil equivalent…', 'Author': ' Tsvetana Paraskova', 'Image_URL': 'https://d32r1sh890xpii.cloudfront.net/news/270x200/2020-11-16_vspkdhf2r5.jpg'}\n",
      "{'_id': ObjectId('5fb33432094f647d970de97e'), 'Date': 'Nov 16, 2020 at 12:33 ', 'News_Title': 'U.S. Natural Gas Stocks Close To Record-High At Refill Season End', 'News_Paragraph': 'Natural gas inventories in the United States ended the injection season between April and October 2020 close to the all-time high from 2016, the Energy Information Administration (EIA) said…', 'Author': ' Charles Kennedy', 'Image_URL': 'https://d32r1sh890xpii.cloudfront.net/news/270x200/2020-11-16_p6izcafoeo.jpg'}\n",
      "{'_id': ObjectId('5fb33432094f647d970de97f'), 'Date': 'Nov 16, 2020 at 10:47 ', 'News_Title': 'Michigan Order Enbridge To Shut Down Line 5', 'News_Paragraph': 'Michigan’s Governor Gretchen Whitmer and the director of the state’s Department of Natural Resources have revoked Enbridge’s easement for the operation of the twin Line 5 pipeline, citing repeated…', 'Author': ' Charles Kennedy', 'Image_URL': 'https://d32r1sh890xpii.cloudfront.net/news/270x200/2020-11-16_rlb18mgt0a.jpg'}\n",
      "{'_id': ObjectId('5fb33432094f647d970de980'), 'Date': 'Nov 16, 2020 at 09:28 ', 'News_Title': \"Twitter Blocks Iran Oil Minister's Account\", 'News_Paragraph': 'Twitter has blocked the official account of Bijan Zanganeh, the Petroleum Minister of Iran, IRNA has reported.\\nThe U.S. government slapped sanctions Ion Zanganeh in late October, as part…', 'Author': ' Charles Kennedy', 'Image_URL': 'https://d32r1sh890xpii.cloudfront.net/news/270x200/2020-11-16_egusafn0xg.jpg'}\n",
      "{'_id': ObjectId('5fb33432094f647d970de981'), 'Date': 'Nov 13, 2020 at 17:28 ', 'News_Title': 'OPEC+ Compliance With Cuts At 101% Ahead Of Crucial Meetings', 'News_Paragraph': 'The OPEC+ group complied 101 percent with the oil production cuts in October, keeping a high level of conformity ahead of the crucial meetings over the next two weeks, which…', 'Author': ' Charles Kennedy', 'Image_URL': 'https://d32r1sh890xpii.cloudfront.net/news/270x200/2020-11-13_on05iqr1ap.jpg'}\n",
      "{'_id': ObjectId('5fb33432094f647d970de982'), 'Date': 'Nov 13, 2020 at 17:01 ', 'News_Title': 'Libya’s Oil Production Exceeds 1.2 Million Bpd', 'News_Paragraph': 'Oil production in Libya has already exceeded 1.2 million barrels per day (bpd), a source in Libya’s oil industry told Reuters on Friday, while this faster-than-expected output resumption could…', 'Author': ' Charles Kennedy', 'Image_URL': 'https://d32r1sh890xpii.cloudfront.net/news/270x200/2020-11-13_uyytrqu2kh.jpg'}\n",
      "{'_id': ObjectId('5fb33432094f647d970de983'), 'Date': 'Nov 13, 2020 at 13:19 ', 'News_Title': 'The Price Of Permian Acreage Has Slumped By 67% After Oil Price Crash', 'News_Paragraph': 'Due to the oil price collapse earlier this year, the price for drilling rights in the Permian basin has plunged by 67 percent since 2018, setting the stage for more…', 'Author': ' Tsvetana Paraskova', 'Image_URL': 'https://d32r1sh890xpii.cloudfront.net/news/270x200/2020-11-13_kwronlvexb.jpg'}\n",
      "{'_id': ObjectId('5fb33432094f647d970de984'), 'Date': 'Nov 13, 2020 at 10:47 ', 'News_Title': 'PDVSA Chief Goes to Russia To \"Deepen Ties\"', 'News_Paragraph': 'The head of Venezuela\\'s state oil company PDVSA, Asdrubal Chavez, and Venezuelan vice-president and economy minister Delcy Rodriguez are visiting Russia today to \"deepen strategic alliances,\" Reuters reported, citing…', 'Author': ' Charles Kennedy', 'Image_URL': 'https://d32r1sh890xpii.cloudfront.net/news/270x200/2020-11-13_fyq6uhenar.jpg'}\n",
      "{'_id': ObjectId('5fb33432094f647d970de985'), 'Date': 'Nov 13, 2020 at 09:33 ', 'News_Title': 'Enbridge Gets More Permits For Line 3', 'News_Paragraph': 'Enbridge received a set of permits from Minnesota regulators that will allow it to push ahead with its Line 3 replacement project, the Minnesota Pollution Control Agency said.\\nThe…', 'Author': ' Irina Slav', 'Image_URL': 'https://d32r1sh890xpii.cloudfront.net/news/270x200/2020-11-13_tqpvghbr5o.jpg'}\n",
      "{'_id': ObjectId('5fb33432094f647d970de986'), 'Date': 'Nov 12, 2020 at 16:39 ', 'News_Title': 'Fuel Demand Slump Speeds Up Refinery Closures', 'News_Paragraph': 'Refiners around the world have been announcing permanent closures of refinery capacity this year after the pandemic crushed fuel demand worldwide, and significant overcapacity still remains, the International Energy Agency…', 'Author': ' Tsvetana Paraskova', 'Image_URL': 'https://d32r1sh890xpii.cloudfront.net/news/270x200/2020-11-12_4ud1wktmso.jpg'}\n",
      "{'_id': ObjectId('5fb33432094f647d970de987'), 'Date': 'Nov 12, 2020 at 15:50 ', 'News_Title': 'Japan Could Restart Nuclear Reactor Damaged In 2011 Disaster', 'News_Paragraph': 'A local governor in Japan has approved plans from utility Tohoku Electric Power to restart one of its nuclear reactors that was damaged in the 2011 earthquake and the following…', 'Author': ' Tsvetana Paraskova', 'Image_URL': 'https://d32r1sh890xpii.cloudfront.net/news/270x200/2020-11-12_vjw3vdlse9.jpg'}\n",
      "{'_id': ObjectId('5fb33432094f647d970de988'), 'Date': 'Nov 12, 2020 at 14:37 ', 'News_Title': 'Energy Has Become Bargaining Chip In Brexit Talks', 'News_Paragraph': 'The European Union (EU) is conditioning the United Kingdom’s access to the EU energy market to Britain, making concessions on the fishing rights in British waters, Bloomberg reports.\\nIn…', 'Author': ' Charles Kennedy', 'Image_URL': 'https://d32r1sh890xpii.cloudfront.net/news/270x200/2020-11-12_pkefk19s7d.jpg'}\n",
      "{'_id': ObjectId('5fb33432094f647d970de989'), 'Date': 'Nov 12, 2020 at 12:33 ', 'News_Title': 'Australia-China Spat Threatens LNG Deal', 'News_Paragraph': 'A sharp worsening in relations between Australia and China could threaten a deal that would have seen Woodside Petroleum sell a stake in a natural gas field and in the…', 'Author': ' Irina Slav', 'Image_URL': 'https://d32r1sh890xpii.cloudfront.net/news/270x200/2020-11-12_y8sawifdgy.jpg'}\n",
      "{'_id': ObjectId('5fb33432094f647d970de98a'), 'Date': 'Nov 12, 2020 at 11:22 ', 'News_Title': 'African Oil Producers Face Slump In Production', 'News_Paragraph': 'The five largest producers of crude oil in Africa face a combined production decline of 19 percent as a result of the pandemic’s effect on oil demand and the acceleration…', 'Author': ' Charles Kennedy', 'Image_URL': 'https://d32r1sh890xpii.cloudfront.net/news/270x200/2020-11-12_tcup9nvrcx.jpg'}\n",
      "{'_id': ObjectId('5fb33432094f647d970de98b'), 'Date': 'Nov 12, 2020 at 10:01 ', 'News_Title': 'Record-Breaking Hurricane Season Took Major Toll On Gulf Of Mexico Production', 'News_Paragraph': 'On Thursday morning, Tropical Storm Eta made landfall over North Florida and has become the 12th named storm to make landfall out of a record-breaking year of 29 named storms.…', 'Author': ' ZeroHedge', 'Image_URL': 'https://d32r1sh890xpii.cloudfront.net/news/270x200/2020-11-12_wqqv0kasu8.jpg'}\n",
      "{'_id': ObjectId('5fb33432094f647d970de98c'), 'Date': 'Nov 12, 2020 at 09:38 ', 'News_Title': 'Ghana Tells Eni To Merge Oil Field With Local Discovery', 'News_Paragraph': 'Ghana has told Italy’s Eni to merge its Sankofa offshore discovery with another field, discovered by a locally based company, Bloomberg reports, citing a letter by Ghanaian Energy Minister…', 'Author': ' Irina Slav', 'Image_URL': 'https://d32r1sh890xpii.cloudfront.net/news/270x200/2020-11-12_xyiaz9fvmc.jpg'}\n",
      "{'_id': ObjectId('5fb33432094f647d970de98d'), 'Date': 'Nov 11, 2020 at 17:04 ', 'News_Title': 'Iran Claims Its Oil Exports Have Been At 700,000 Bpd Since March', 'News_Paragraph': 'Iran said on Wednesday that its oil exports have averaged between 600,000 barrels per day (bpd) and 700,000 bpd since the start of the Iranian year in March, yet analysts…', 'Author': ' Tsvetana Paraskova', 'Image_URL': 'https://d32r1sh890xpii.cloudfront.net/news/270x200/2020-11-11_pxloniqetx.jpg'}\n",
      "{'_id': ObjectId('5fb33432094f647d970de98e'), 'Date': 'Nov 11, 2020 at 16:46 ', 'News_Title': 'Lockdowns And More Lockdowns Threaten Oil Demand', 'News_Paragraph': 'After parts of Europe went into lockdown again last week, a new wave of lockdowns throughout the world are threatening to tamp down oil demand yet again—and just when things…', 'Author': ' Julianne Geiger', 'Image_URL': 'https://d32r1sh890xpii.cloudfront.net/news/270x200/2020-11-11_nlx73seis4.jpg'}\n",
      "{'_id': ObjectId('5fd147d32ba1680045c07f66'), 'Date': 'Dec 09, 2020 at 14:05 ', 'News_Title': 'Big Oil Boosts Earnings From Tax-Haven Affiliates', 'News_Paragraph': 'Some of the world’s biggest oil corporations have boosted their earnings in recent years by paying very little or no taxes at all on profits of their affiliates in offshore…', 'Author': ' Charles Kennedy', 'Image_URL': 'https://d32r1sh890xpii.cloudfront.net/news/270x200/2020-12-09_amtgbxq0jv.jpg'}\n",
      "{'_id': ObjectId('5fd147d32ba1680045c07f67'), 'Date': 'Dec 09, 2020 at 13:19 ', 'News_Title': 'Kurdistan To Hand Over Oil Revenue To Iraq In Exchange For Funds', 'News_Paragraph': 'The Kurdistan Regional Government (KRG) will comply with the recent Iraqi federal fiscal deficit bill under which the semi-autonomous region in Iraq is set to hand over an \"unspecified amount…', 'Author': ' Tsvetana Paraskova', 'Image_URL': 'https://d32r1sh890xpii.cloudfront.net/news/270x200/2020-12-09_pmmcvsuii9.jpg'}\n",
      "{'_id': ObjectId('5fd147d32ba1680045c07f68'), 'Date': 'Dec 09, 2020 at 12:06 ', 'News_Title': 'Maduro Accuses CIA Of Bribing Oil Workers', 'News_Paragraph': 'Venezuelan dictator Nicolas Maduro has accused the Central Intelligence Agency and the National Security Agency of corrupting hundreds of oil industry employees, including former Energy Minister and Venezuela representative of…', 'Author': ' Charles Kennedy', 'Image_URL': 'https://d32r1sh890xpii.cloudfront.net/news/270x200/2020-12-09_x21hgxy496.jpg'}\n",
      "{'_id': ObjectId('5fd147d32ba1680045c07f69'), 'Date': 'Dec 09, 2020 at 09:29 ', 'News_Title': \"''Widowmaker'' Natural Gas Trade Collapses On Mild Winter Forecast\", 'News_Paragraph': 'The spread between March and April natural gas futures collapsed to zero on Tuesday. The spread is critical in gauging how tight supplies will be for the North American winter.…', 'Author': ' ZeroHedge', 'Image_URL': 'https://d32r1sh890xpii.cloudfront.net/news/270x200/2020-12-09_25zs7tooxw.jpg'}\n",
      "{'_id': ObjectId('5fd147d32ba1680045c07f6a'), 'Date': 'Dec 09, 2020 at 08:56 ', 'News_Title': 'Oil Wells On Fire After Attack On Iraqi Oilfield', 'News_Paragraph': 'A terrorist attack set ablaze two oil wells at a small oilfield in northern Iraq on Wednesday, but total production at the 25,000-bpd field has not been affected, the…', 'Author': ' Tsvetana Paraskova', 'Image_URL': 'https://d32r1sh890xpii.cloudfront.net/news/270x200/2020-12-09_5htbeuygso.jpg'}\n",
      "{'_id': ObjectId('5fd147d32ba1680045c07f6b'), 'Date': 'Dec 08, 2020 at 15:39 ', 'News_Title': 'Oil Prices Slip As Oil And Product Inventories Continue To Build', 'News_Paragraph': 'The American Petroleum Institute (API) reported on Tuesday a build in crude oil inventories of 1.141 million barrels for the week ending December 4.\\nAnalysts had predicted an inventory draw…', 'Author': ' Julianne Geiger', 'Image_URL': 'https://d32r1sh890xpii.cloudfront.net/news/270x200/2020-12-08_ygt0erondp.jpg'}\n",
      "{'_id': ObjectId('5fd147d32ba1680045c07f6c'), 'Date': 'Dec 08, 2020 at 14:28 ', 'News_Title': 'Major Oil Pipeline Operators Plan Higher Dividends', 'News_Paragraph': 'The major North American pipeline operators Kinder Morgan and Enbridge issued upbeat updates to the market on Tuesday, planning higher dividends and expecting more profits next year, after the challenges…', 'Author': ' Tsvetana Paraskova', 'Image_URL': 'https://d32r1sh890xpii.cloudfront.net/news/270x200/2020-12-08_xbgja9u6ri.jpg'}\n",
      "{'_id': ObjectId('5fd147d32ba1680045c07f6d'), 'Date': 'Dec 08, 2020 at 13:28 ', 'News_Title': 'OPEC Members Are Being Forced To Compensate For Missed Targets', 'News_Paragraph': 'Angola is set to cut 261,000 barrels per day (bpd) from its reference 2018 oil production in January as part of the OPEC+ pact, setting its production quota slightly above…', 'Author': ' Charles Kennedy', 'Image_URL': 'https://d32r1sh890xpii.cloudfront.net/news/270x200/2020-12-08_rbg9uv6tkp.jpg'}\n",
      "{'_id': ObjectId('5fd147d32ba1680045c07f6e'), 'Date': 'Dec 08, 2020 at 13:00 ', 'News_Title': 'Tesla Cashes In On Stock Price Explosion With Another $5B Share Sale', 'News_Paragraph': 'Tesla (NASDAQ: TSLA) plans to raise up to $5 billion in its third share sale this year as the EV maker looks to capitalize on the surge in its…', 'Author': ' Charles Kennedy', 'Image_URL': 'https://d32r1sh890xpii.cloudfront.net/news/270x200/2020-12-08_ddu9cwlbvo.jpg'}\n",
      "{'_id': ObjectId('5fd147d32ba1680045c07f6f'), 'Date': 'Dec 08, 2020 at 10:38 ', 'News_Title': 'Asia Free Trade Deal Widens Oil Supply Channels To China', 'News_Paragraph': 'The Regional Comprehensive Economic Partnership that 15 Asian nations signed last month will place South Korea and Japan in a more favorable position as oil product suppliers to China, Bloomberg…', 'Author': ' Irina Slav', 'Image_URL': 'https://d32r1sh890xpii.cloudfront.net/news/270x200/2020-12-08_tzsfkjgoqe.jpg'}\n"
     ]
    }
   ],
   "source": [
    "# Display the MongoDB records created above\n",
    "oil_news_db = db.oil_news.find()\n",
    "for record in oil_news_db[:50]:\n",
    "    print(record)"
   ]
  },
  {
   "cell_type": "code",
   "execution_count": 27,
   "metadata": {},
   "outputs": [],
   "source": [
    "# Define new collection\n",
    "prices_collection = db.oil_prices_dec"
   ]
  },
  {
   "cell_type": "code",
   "execution_count": 28,
   "metadata": {},
   "outputs": [],
   "source": [
    "# Upload collection\n",
    "for record in prices:\n",
    "    prices_collection.insert_one(record)"
   ]
  },
  {
   "cell_type": "code",
   "execution_count": 29,
   "metadata": {},
   "outputs": [
    {
     "name": "stdout",
     "output_type": "stream",
     "text": [
      "{'_id': ObjectId('5fd149c52ba1680045c07f7a'), 'Oil_Symbol': 'WTI Crude', 'Oil_Price': '45.64', 'Oil_Change_Value': '+0.04', 'Oil_Change_Interest': '+0.09%', 'Oil_Price_Delay': '(10 Minutes Delay)'}\n",
      "{'_id': ObjectId('5fd149c52ba1680045c07f7b'), 'Oil_Symbol': 'Brent Crude', 'Oil_Price': '48.98', 'Oil_Change_Value': '+0.14', 'Oil_Change_Interest': '+0.29%', 'Oil_Price_Delay': '(11 Minutes Delay)'}\n",
      "{'_id': ObjectId('5fd149c52ba1680045c07f7c'), 'Oil_Symbol': 'Mars US', 'Oil_Price': '46.40', 'Oil_Change_Value': '-0.01', 'Oil_Change_Interest': '-0.02%', 'Oil_Price_Delay': '(21 \\tHours Delay)'}\n",
      "{'_id': ObjectId('5fd149c52ba1680045c07f7d'), 'Oil_Symbol': 'Opec Basket', 'Oil_Price': '47.79', 'Oil_Change_Value': '-0.56', 'Oil_Change_Interest': '-1.16%', 'Oil_Price_Delay': '(1 day Delay)'}\n",
      "{'_id': ObjectId('5fd149c52ba1680045c07f7e'), 'Oil_Symbol': 'Canadian Crude Index', 'Oil_Price': '32.22', 'Oil_Change_Value': '-0.65', 'Oil_Change_Interest': '-1.98%', 'Oil_Price_Delay': '(2 \\tweeks Delay)'}\n",
      "{'_id': ObjectId('5fd149c52ba1680045c07f7f'), 'Oil_Symbol': 'DME Oman', 'Oil_Price': '48.90', 'Oil_Change_Value': '+0.24', 'Oil_Change_Interest': '+0.49%', 'Oil_Price_Delay': '(1 day Delay)'}\n",
      "{'_id': ObjectId('5fd149c52ba1680045c07f80'), 'Oil_Symbol': 'Urals', 'Oil_Price': '39.60', 'Oil_Change_Value': '+0.00', 'Oil_Change_Interest': '+0.00%', 'Oil_Price_Delay': '(3 \\tweeks Delay)'}\n",
      "{'_id': ObjectId('5fd149c52ba1680045c07f81'), 'Oil_Symbol': 'Mexican Basket', 'Oil_Price': '44.17', 'Oil_Change_Value': '+0.01', 'Oil_Change_Interest': '+0.02%', 'Oil_Price_Delay': '(1 day Delay)'}\n",
      "{'_id': ObjectId('5fd149c52ba1680045c07f82'), 'Oil_Symbol': 'Indian Basket', 'Oil_Price': '48.50', 'Oil_Change_Value': '-0.02', 'Oil_Change_Interest': '-0.04%', 'Oil_Price_Delay': '(1 day Delay)'}\n",
      "{'_id': ObjectId('5fd149c52ba1680045c07f83'), 'Oil_Symbol': 'Western Canadian Select', 'Oil_Price': '33.45', 'Oil_Change_Value': '-0.11', 'Oil_Change_Interest': '-0.33%', 'Oil_Price_Delay': '(14 \\tHours Delay)'}\n"
     ]
    }
   ],
   "source": [
    "# Display the MongoDB records created above\n",
    "oil_prices_db = db.oil_prices_dec.find()\n",
    "for record in oil_prices_db[:10]:\n",
    "    print(record)"
   ]
  },
  {
   "cell_type": "code",
   "execution_count": 30,
   "metadata": {},
   "outputs": [],
   "source": [
    "client.close()"
   ]
  },
  {
   "cell_type": "code",
   "execution_count": null,
   "metadata": {},
   "outputs": [],
   "source": []
  }
 ],
 "metadata": {
  "kernelspec": {
   "display_name": "Python 3",
   "language": "python",
   "name": "python3"
  },
  "language_info": {
   "codemirror_mode": {
    "name": "ipython",
    "version": 3
   },
   "file_extension": ".py",
   "mimetype": "text/x-python",
   "name": "python",
   "nbconvert_exporter": "python",
   "pygments_lexer": "ipython3",
   "version": "3.8.2"
  }
 },
 "nbformat": 4,
 "nbformat_minor": 4
}
