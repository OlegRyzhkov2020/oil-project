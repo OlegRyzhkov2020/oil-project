{
 "cells": [
  {
   "cell_type": "code",
   "execution_count": 1,
   "metadata": {},
   "outputs": [],
   "source": [
    "from splinter import Browser\n",
    "from bs4 import BeautifulSoup as bs\n",
    "import time\n",
    "import pymongo\n",
    "import re"
   ]
  },
  {
   "cell_type": "code",
   "execution_count": 2,
   "metadata": {},
   "outputs": [],
   "source": [
    "def init_browser():\n",
    "    # @NOTE: Replace the path with your actual path to the chromedriver\n",
    "    executable_path = {\"executable_path\": \"/usr/local/bin/chromedriver\"}\n",
    "    return Browser(\"chrome\", **executable_path, headless=False)\n",
    "\n",
    "def soup_url (url):\n",
    "    browser = init_browser()\n",
    "    # Visit url\n",
    "    browser.visit(url)\n",
    "    time.sleep(1)\n",
    "\n",
    "    # Scrape page into Soup\n",
    "    html = browser.html\n",
    "    soup_url = bs(html, \"html.parser\")\n",
    "    \n",
    "     # Close the browser after scraping\n",
    "    browser.quit()\n",
    "    \n",
    "    return soup_url\n",
    "\n",
    "def soup_class (soup, class_name):\n",
    "    \n",
    "    # Soup data list\n",
    "    soup_class = soup.find(class_= class_name)\n",
    "    \n",
    "    return soup_class \n",
    "\n",
    "def soup_class_list (soup, class_name):\n",
    "   \n",
    "    # Soup data list\n",
    "    soup_class_list = soup.find_all(class_= class_name)\n",
    "    \n",
    "    return soup_class_list\n",
    "\n",
    "def text_list (soup_class_list):\n",
    "    text_list = []\n",
    "    [text_list.append(record.text.replace(\"\\n\", \"\")) for record in soup_class_list]\n",
    "    return text_list"
   ]
  },
  {
   "cell_type": "code",
   "execution_count": 3,
   "metadata": {},
   "outputs": [],
   "source": [
    "# Visit mars.nasa.gov\n",
    "base_url = \"https://oilprice.com\"\n",
    "url_news = \"https://oilprice.com/Latest-Energy-News/World-News/\"\n",
    "soup = soup_url(url_news)"
   ]
  },
  {
   "cell_type": "code",
   "execution_count": 4,
   "metadata": {},
   "outputs": [
    {
     "data": {
      "text/plain": [
       "'Oil News Today  | OilPrice.com'"
      ]
     },
     "execution_count": 4,
     "metadata": {},
     "output_type": "execute_result"
    }
   ],
   "source": [
    "page_title = soup.title.text\n",
    "page_title"
   ]
  },
  {
   "cell_type": "code",
   "execution_count": 33,
   "metadata": {},
   "outputs": [
    {
     "data": {
      "text/plain": [
       "[<img alt=\"Crude oil prices today - Oilprice.com\" class=\"desktop_logo\" src=\"https://d1o9e4un86hhpc.cloudfront.net/a/img/oilprice-logo.png?v=3\" title=\"Oil prices - Oilprice.com\"/>,\n",
       " <img alt=\"Crude oil prices today - Oilprice.com\" class=\"mobile_logo\" src=\"https://d1o9e4un86hhpc.cloudfront.net/a/img/common/header/mobile_logo.png?v=3\" title=\"Oil prices - Oilprice.com\"/>,\n",
       " <img alt=\"OilPrice GEA\" id=\"main_nav_button\" src=\"https://d1o9e4un86hhpc.cloudfront.net/a/img/common/nav_button_green.png\" style=\"height: 25px;\" title=\"Global Energy Alert\"/>,\n",
       " <img alt=\"Link\" height=\"21\" src=\"https://d1o9e4un86hhpc.cloudfront.net/a/img/common/header/link.png\" width=\"21\"/>,\n",
       " <img alt=\"Link\" src=\"https://d1o9e4un86hhpc.cloudfront.net/a/img/common/header/link.png\"/>,\n",
       " <img alt=\"Link\" src=\"https://d1o9e4un86hhpc.cloudfront.net/a/img/common/header/link.png\"/>,\n",
       " <img alt=\"Link\" height=\"21\" src=\"https://d1o9e4un86hhpc.cloudfront.net/a/img/common/header/link.png\" width=\"21\"/>,\n",
       " <img alt=\"Link\" height=\"21\" src=\"https://d1o9e4un86hhpc.cloudfront.net/a/img/common/header/link.png\" width=\"21\"/>,\n",
       " <img alt=\"Link\" src=\"https://d1o9e4un86hhpc.cloudfront.net/a/img/common/header/link.png\"/>,\n",
       " <img alt=\"Link\" src=\"https://d1o9e4un86hhpc.cloudfront.net/a/img/common/header/link.png\"/>,\n",
       " <img alt=\"Link\" height=\"21\" src=\"https://d1o9e4un86hhpc.cloudfront.net/a/img/common/header/link.png\" width=\"21\"/>,\n",
       " <img alt=\"Link\" src=\"https://d1o9e4un86hhpc.cloudfront.net/a/img/common/header/link.png\"/>,\n",
       " <img alt=\"Link\" src=\"https://d1o9e4un86hhpc.cloudfront.net/a/img/common/header/link.png\"/>,\n",
       " <img alt=\"Link\" height=\"21\" src=\"https://d1o9e4un86hhpc.cloudfront.net/a/img/common/header/link.png\" width=\"21\"/>,\n",
       " <img alt=\"Link\" src=\"https://d1o9e4un86hhpc.cloudfront.net/a/img/common/header/link.png\"/>,\n",
       " <img alt=\"Link\" src=\"https://d1o9e4un86hhpc.cloudfront.net/a/img/common/header/link.png\"/>,\n",
       " <img class=\"lozad opacity_0 lozad-fade\" data-base=\"https://d32r1sh890xpii.cloudfront.net/header_graphs/blend_\" data-loaded=\"true\" data-src=\"https://d32r1sh890xpii.cloudfront.net/header_graphs/blend_45_2.png?cb=1602368709\" src=\"https://d32r1sh890xpii.cloudfront.net/header_graphs/blend_45_2.png?cb=1602368709\"/>,\n",
       " <img alt=\"A National Mining Emergency\" class=\"articleOtherNews__image lozad opacity_0 lozad-fade\" data-error_image=\"https://d1o9e4un86hhpc.cloudfront.net/a/img/content/115x85-default.png\" data-loaded=\"true\" data-src=\"https://d32r1sh890xpii.cloudfront.net/article/115x85/2020-10-09_tqs0wntkhv.jpg\" src=\"https://d32r1sh890xpii.cloudfront.net/article/115x85/2020-10-09_tqs0wntkhv.jpg\" title=\"A National Mining Emergency\"/>,\n",
       " <img alt=\"Venezuela’s Crude Oil Industry May Never Recover\" class=\"articleOtherNews__image lozad opacity_0 lozad-fade\" data-error_image=\"https://d1o9e4un86hhpc.cloudfront.net/a/img/content/115x85-default.png\" data-loaded=\"true\" data-src=\"https://d32r1sh890xpii.cloudfront.net/article/115x85/2020-10-02_d1syo6c53w.jpg\" src=\"https://d32r1sh890xpii.cloudfront.net/article/115x85/2020-10-02_d1syo6c53w.jpg\" title=\"Venezuela’s Crude Oil Industry May Never Recover\"/>,\n",
       " <img class=\"articleOtherNews__image\" src=\"https://d1o9e4un86hhpc.cloudfront.net/a/img/common/top3_ad_image.jpg\"/>,\n",
       " <img alt=\"Turkey’s Black Sea Gas Discovery May Be Bigger Than Thought\" class=\"categoryArticle__image lozad opacity_0 lozad-fade\" data-error_image=\"https://d1o9e4un86hhpc.cloudfront.net/a/img/content/270x200-default.png\" data-loaded=\"true\" data-src=\"https://d32r1sh890xpii.cloudfront.net/news/270x200/2020-10-09_n75uqenxd4.jpg\" height=\"200\" src=\"https://d32r1sh890xpii.cloudfront.net/news/270x200/2020-10-09_n75uqenxd4.jpg\" width=\"270\"/>,\n",
       " <img alt=\"Oil Prices Sink On Larger than Expected Crude Build\" class=\"sidebarTrendingArticles__articleImage lozad opacity_0 lozad-fade\" data-error_image=\"https://d1o9e4un86hhpc.cloudfront.net/a/img/content/115x85-default.png\" data-loaded=\"true\" data-src=\"https://d32r1sh890xpii.cloudfront.net/news/115x85/2020-10-06_pjdvcvu08q.jpg\" src=\"https://d32r1sh890xpii.cloudfront.net/news/115x85/2020-10-06_pjdvcvu08q.jpg\" title=\"Oil Prices Sink On Larger than Expected Crude Build\"/>,\n",
       " <img alt=\"Dianomi\" height=\"10\" src=\"https://www.dianomi.com/img/uploads/Ufe0-8CoyKoAADAkZXEAAAAK.png\" style=\"border: none; height: auto; outline: none; width: 10px;\" width=\"11\"/>,\n",
       " <img alt=\"Weiss Ratings\" border=\"0\" class=\"png\" height=\"90\" src=\"https://www.dianomi.com/img/a/sav2/161111/34/120x90.jpg\" srcset=\"https://www.dianomi.com/img/a/sav2/161111/34/169x127.jpg 2x,https://www.dianomi.com/img/a/sav2/161111/34/207x155.jpg 3x,https://www.dianomi.com/img/a/sav2/161111/34/240x180.jpg 4x\" style=\"display: block; float: none; height: 62.5px; margin: 0px 0px; position: absolute; width: 85px;\" width=\"120\"/>,\n",
       " <img alt=\"Church Of England Dumps All ExxonMobil Stock\" class=\"sidebarTrendingArticles__articleImage lozad opacity_0 lozad-fade\" data-error_image=\"https://d1o9e4un86hhpc.cloudfront.net/a/img/content/115x85-default.png\" data-loaded=\"true\" data-src=\"https://d32r1sh890xpii.cloudfront.net/news/115x85/2020-10-08_7cnn5jqtea.jpg\" src=\"https://d32r1sh890xpii.cloudfront.net/news/115x85/2020-10-08_7cnn5jqtea.jpg\" title=\"Church Of England Dumps All ExxonMobil Stock\"/>,\n",
       " <img alt=\"Quantcast\" border=\"0\" height=\"1\" src=\"//pixel.quantserve.com/pixel/p-mYGzvda-tntH2.gif\" width=\"1\">\n",
       " </img>,\n",
       " <img height=\"1\" src=\"https://www.facebook.com/tr?id=332667700771750&amp;ev=PageView&amp;noscript=1\" style=\"display:none\" width=\"1\">\n",
       " </img>]"
      ]
     },
     "execution_count": 33,
     "metadata": {},
     "output_type": "execute_result"
    }
   ],
   "source": [
    "image_holder = soup.find_all('img', src=True)\n",
    "image_holder"
   ]
  },
  {
   "cell_type": "code",
   "execution_count": 32,
   "metadata": {},
   "outputs": [
    {
     "ename": "TypeError",
     "evalue": "string indices must be integers",
     "output_type": "error",
     "traceback": [
      "\u001b[0;31m---------------------------------------------------------------------------\u001b[0m",
      "\u001b[0;31mTypeError\u001b[0m                                 Traceback (most recent call last)",
      "\u001b[0;32m<ipython-input-32-37d226e006d7>\u001b[0m in \u001b[0;36m<module>\u001b[0;34m\u001b[0m\n\u001b[1;32m      3\u001b[0m \u001b[0;32mfor\u001b[0m \u001b[0mimage\u001b[0m \u001b[0;32min\u001b[0m \u001b[0mimage_holder\u001b[0m\u001b[0;34m:\u001b[0m\u001b[0;34m\u001b[0m\u001b[0;34m\u001b[0m\u001b[0m\n\u001b[1;32m      4\u001b[0m     \u001b[0;32mfor\u001b[0m \u001b[0mlink\u001b[0m \u001b[0;32min\u001b[0m \u001b[0mimage\u001b[0m\u001b[0;34m:\u001b[0m\u001b[0;34m\u001b[0m\u001b[0;34m\u001b[0m\u001b[0m\n\u001b[0;32m----> 5\u001b[0;31m         \u001b[0mlink\u001b[0m \u001b[0;34m=\u001b[0m \u001b[0mlink\u001b[0m\u001b[0;34m[\u001b[0m\u001b[0;34m\"src\"\u001b[0m\u001b[0;34m]\u001b[0m\u001b[0;34m.\u001b[0m\u001b[0msplit\u001b[0m\u001b[0;34m(\u001b[0m\u001b[0;34m\"src=\"\u001b[0m\u001b[0;34m)\u001b[0m\u001b[0;34m[\u001b[0m\u001b[0;34m-\u001b[0m\u001b[0;36m1\u001b[0m\u001b[0;34m]\u001b[0m\u001b[0;34m\u001b[0m\u001b[0;34m\u001b[0m\u001b[0m\n\u001b[0m\u001b[1;32m      6\u001b[0m     \u001b[0mlink_list\u001b[0m\u001b[0;34m.\u001b[0m\u001b[0mappend\u001b[0m\u001b[0;34m(\u001b[0m\u001b[0mlink\u001b[0m\u001b[0;34m)\u001b[0m\u001b[0;34m\u001b[0m\u001b[0;34m\u001b[0m\u001b[0m\n\u001b[1;32m      7\u001b[0m \u001b[0mlink_list\u001b[0m\u001b[0;34m\u001b[0m\u001b[0;34m\u001b[0m\u001b[0m\n",
      "\u001b[0;31mTypeError\u001b[0m: string indices must be integers"
     ]
    }
   ],
   "source": [
    "link_list = []\n",
    "image_holder = soup.find_all('img', src=True)\n",
    "for image in image_holder:\n",
    "    for link in image:\n",
    "        link = link[\"src\"].split(\"src=\")[-1]\n",
    "    link_list.append(link)\n",
    "link_list"
   ]
  },
  {
   "cell_type": "code",
   "execution_count": 42,
   "metadata": {},
   "outputs": [
    {
     "data": {
      "text/plain": [
       "[' Tsvetana Paraskova',\n",
       " ' Tsvetana Paraskova',\n",
       " ' Charles Kennedy',\n",
       " ' Irina Slav',\n",
       " ' Julianne Geiger',\n",
       " ' Josh Owens',\n",
       " ' Tsvetana Paraskova',\n",
       " ' Charles Kennedy',\n",
       " ' Irina Slav',\n",
       " ' Tsvetana Paraskova',\n",
       " ' Rystad Energy',\n",
       " ' Irina Slav',\n",
       " ' Julianne Geiger',\n",
       " ' Tsvetana Paraskova',\n",
       " ' Tsvetana Paraskova',\n",
       " ' Tsvetana Paraskova',\n",
       " ' Ag Metal Miner',\n",
       " ' Tsvetana Paraskova',\n",
       " ' City A.M',\n",
       " ' MINING.com']"
      ]
     },
     "execution_count": 42,
     "metadata": {},
     "output_type": "execute_result"
    }
   ],
   "source": [
    "articles = soup.find_all(class_= \"categoryArticle\")\n",
    "title_list = []\n",
    "date_list = []\n",
    "excerpt_list = []\n",
    "author_list = []\n",
    "link_list = []\n",
    "for article in articles:\n",
    "    image_holder = article.find_all('img', src=True)\n",
    "    for link in image_holder:\n",
    "        link = link[\"src\"].split(\"src=\")[-1]\n",
    "    link_list.append(link)\n",
    "    title = article.find_all(class_= \"categoryArticle__title\")\n",
    "    full_date = article.find_all(class_= \"categoryArticle__meta\")\n",
    "    date = full_date[0].text.strip().split(\"|\")[0]\n",
    "    author = full_date[0].text.strip().split(\"|\")[1]\n",
    "    excerpt = article.find_all(class_= \"categoryArticle__excerpt\")\n",
    "    title_list.append(title[0].text.strip())\n",
    "    date_list.append(date)\n",
    "    author_list.append(author)\n",
    "    excerpt_list.append(excerpt[0].text.strip())\n",
    "author_list"
   ]
  },
  {
   "cell_type": "code",
   "execution_count": 37,
   "metadata": {},
   "outputs": [
    {
     "data": {
      "text/plain": [
       "'\\n'"
      ]
     },
     "execution_count": 37,
     "metadata": {},
     "output_type": "execute_result"
    }
   ],
   "source": [
    "image_holder = articles[1].find_all('img', src=True)\n",
    "# img = image_holder.find_all('img', src=True)\n",
    "for link in image_holder:\n",
    "    link = link[\"src\"].split(\"src=\")[-1]\n",
    "link"
   ]
  },
  {
   "cell_type": "code",
   "execution_count": 83,
   "metadata": {},
   "outputs": [
    {
     "name": "stdout",
     "output_type": "stream",
     "text": [
      "<img alt=\"Norway’s Oil Strike Could End As Soon As Friday\" class=\"categoryArticle__image lozad opacity_0\" data-error_image=\"https://d1o9e4un86hhpc.cloudfront.net/a/img/content/270x200-default.png\" data-src=\"https://d32r1sh890xpii.cloudfront.net/news/270x200/2020-10-09_zsxvky4oan.jpg\" height=\"200\" width=\"270\"/>\n"
     ]
    }
   ],
   "source": [
    "image_holder = articles[1].find(class_= \"categoryArticle__imageHolder\")\n",
    "img =image_holder.findAll('img')\n",
    "#img[0][\"src\"].split(\"src=\")[-1]"
   ]
  },
  {
   "cell_type": "code",
   "execution_count": 72,
   "metadata": {},
   "outputs": [
    {
     "data": {
      "text/plain": [
       "<a class=\"categoryArticle__imageHolder\" href=\"https://oilprice.com/Latest-Energy-News/World-News/Norways-Oil-Strike-Could-End-As-Soon-As-Friday.html\" style=\"background-image:url(data:image/png;base64,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)\"><img alt=\"Norway’s Oil Strike Could End As Soon As Friday\" class=\"categoryArticle__image lozad opacity_0\" data-error_image=\"https://d1o9e4un86hhpc.cloudfront.net/a/img/content/270x200-default.png\" data-src=\"https://d32r1sh890xpii.cloudfront.net/news/270x200/2020-10-09_zsxvky4oan.jpg\" height=\"200\" width=\"270\"/></a>"
      ]
     },
     "execution_count": 72,
     "metadata": {},
     "output_type": "execute_result"
    }
   ],
   "source": [
    "image_holder"
   ]
  },
  {
   "cell_type": "code",
   "execution_count": null,
   "metadata": {},
   "outputs": [],
   "source": []
  }
 ],
 "metadata": {
  "kernelspec": {
   "display_name": "Python 3",
   "language": "python",
   "name": "python3"
  },
  "language_info": {
   "codemirror_mode": {
    "name": "ipython",
    "version": 3
   },
   "file_extension": ".py",
   "mimetype": "text/x-python",
   "name": "python",
   "nbconvert_exporter": "python",
   "pygments_lexer": "ipython3",
   "version": "3.8.2"
  }
 },
 "nbformat": 4,
 "nbformat_minor": 4
}
