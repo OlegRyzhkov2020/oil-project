{
 "cells": [
  {
   "cell_type": "markdown",
   "metadata": {},
   "source": [
    "# Oil Project\n",
    "### Market Analysis by Countries"
   ]
  },
  {
   "cell_type": "code",
   "execution_count": 6,
   "metadata": {},
   "outputs": [],
   "source": [
    "import sqlalchemy as sqlalchemy_package\n",
    "from sqlalchemy.ext.automap import automap_base\n",
    "from sqlalchemy.orm import Session\n",
    "from sqlalchemy.orm import sessionmaker\n",
    "from sqlalchemy.orm import relationship\n",
    "from sqlalchemy.ext.automap import automap_base\n",
    "from sqlalchemy.ext.declarative import declarative_base\n",
    "from sqlalchemy.ext.declarative import DeferredReflection\n",
    "from sqlalchemy import *\n",
    "import pandas as pd\n",
    "import gmaps\n",
    "import warnings\n",
    "import config as creds\n",
    "import seaborn as sns\n",
    "import matplotlib.pyplot as plt\n",
    "from matplotlib.pylab import rcParams\n",
    "from matplotlib.cm import viridis, plasma\n",
    "from my_func import GoogleMapClient, GmapsAnalysis\n",
    "\n",
    "sns.set()\n",
    "warnings.filterwarnings('ignore')\n",
    "plt.rc('lines', linewidth=1)\n",
    "rcParams['figure.figsize'] = 12,6\n",
    "pd.set_option('display.max_colwidth', 40)\n",
    "pd.options.display.float_format = '{:,.2f}'.format"
   ]
  },
  {
   "cell_type": "code",
   "execution_count": 20,
   "metadata": {},
   "outputs": [],
   "source": [
    "# Set up a connection to the postgres server\n",
    "class postgre_sql():\n",
    "    def __init__(self, dbase = creds.PGDATABASE, dbschema = 'countries'):\n",
    "        DATABASE_URL = f\"postgres://{creds.PGUSER}:{creds.PGPASSWORD}@{creds.PGHOST}:5432/{dbase}\"\n",
    "        engine = sqlalchemy_package.create_engine(DATABASE_URL,\n",
    "                connect_args={'options': '-csearch_path={}'.format(dbschema)})\n",
    "        self.engine = engine\n",
    "    def auto_map(self):\n",
    "        # Declare a Base with explicit schema using `automap_base()`\n",
    "        Base = automap_base(bind=self.engine)\n",
    "        # Use the Base class to reflect the database tables\n",
    "        Base.prepare(self.engine, reflect=True)\n",
    "        return Base\n",
    "    def read_df(self, table='countries'):\n",
    "        return pd.read_sql(table, self.engine)"
   ]
  },
  {
   "cell_type": "code",
   "execution_count": 22,
   "metadata": {},
   "outputs": [
    {
     "data": {
      "text/plain": [
       "['countries', 'production']"
      ]
     },
     "execution_count": 22,
     "metadata": {},
     "output_type": "execute_result"
    }
   ],
   "source": [
    "# Print all of the classes mapped to the Base\n",
    "countries_db = postgre_sql()\n",
    "base = countries_db.auto_map()\n",
    "base.classes.keys()"
   ]
  },
  {
   "cell_type": "code",
   "execution_count": 24,
   "metadata": {},
   "outputs": [
    {
     "data": {
      "text/html": [
       "<div>\n",
       "<style scoped>\n",
       "    .dataframe tbody tr th:only-of-type {\n",
       "        vertical-align: middle;\n",
       "    }\n",
       "\n",
       "    .dataframe tbody tr th {\n",
       "        vertical-align: top;\n",
       "    }\n",
       "\n",
       "    .dataframe thead th {\n",
       "        text-align: right;\n",
       "    }\n",
       "</style>\n",
       "<table border=\"1\" class=\"dataframe\">\n",
       "  <thead>\n",
       "    <tr style=\"text-align: right;\">\n",
       "      <th></th>\n",
       "      <th>country</th>\n",
       "      <th>2019</th>\n",
       "    </tr>\n",
       "  </thead>\n",
       "  <tbody>\n",
       "    <tr>\n",
       "      <th>0</th>\n",
       "      <td>Saudi Arabia</td>\n",
       "      <td>12,328.50</td>\n",
       "    </tr>\n",
       "    <tr>\n",
       "      <th>1</th>\n",
       "      <td>Russia</td>\n",
       "      <td>11,509.50</td>\n",
       "    </tr>\n",
       "    <tr>\n",
       "      <th>2</th>\n",
       "      <td>United States of America</td>\n",
       "      <td>7,545.20</td>\n",
       "    </tr>\n",
       "    <tr>\n",
       "      <th>3</th>\n",
       "      <td>Canada</td>\n",
       "      <td>5,382.50</td>\n",
       "    </tr>\n",
       "    <tr>\n",
       "      <th>4</th>\n",
       "      <td>Iraq</td>\n",
       "      <td>4,615.00</td>\n",
       "    </tr>\n",
       "    <tr>\n",
       "      <th>5</th>\n",
       "      <td>United Arab Emirates</td>\n",
       "      <td>4,315.00</td>\n",
       "    </tr>\n",
       "    <tr>\n",
       "      <th>6</th>\n",
       "      <td>Brazil</td>\n",
       "      <td>3,445.00</td>\n",
       "    </tr>\n",
       "    <tr>\n",
       "      <th>7</th>\n",
       "      <td>Kuwait</td>\n",
       "      <td>3,082.50</td>\n",
       "    </tr>\n",
       "    <tr>\n",
       "      <th>8</th>\n",
       "      <td>China</td>\n",
       "      <td>3,073.67</td>\n",
       "    </tr>\n",
       "    <tr>\n",
       "      <th>9</th>\n",
       "      <td>Iran</td>\n",
       "      <td>2,902.00</td>\n",
       "    </tr>\n",
       "  </tbody>\n",
       "</table>\n",
       "</div>"
      ],
      "text/plain": [
       "                    country      2019\n",
       "0              Saudi Arabia 12,328.50\n",
       "1                    Russia 11,509.50\n",
       "2  United States of America  7,545.20\n",
       "3                    Canada  5,382.50\n",
       "4                      Iraq  4,615.00\n",
       "5      United Arab Emirates  4,315.00\n",
       "6                    Brazil  3,445.00\n",
       "7                    Kuwait  3,082.50\n",
       "8                     China  3,073.67\n",
       "9                      Iran  2,902.00"
      ]
     },
     "execution_count": 24,
     "metadata": {},
     "output_type": "execute_result"
    }
   ],
   "source": [
    "sql_product = base.classes.production\n",
    "# Create a session\n",
    "session = Session(countries_db.engine)\n",
    "# Use the session to query Demographics table and display the first 5 locations\n",
    "stmt = session.query(sql_product.country, func.avg(sql_product.oil_production).label('2019')).\\\n",
    "                    filter(sql_product.year == 2020).group_by(sql_product.country).\\\n",
    "                    order_by(desc('2019')).statement\n",
    "data = pd.read_sql_query(stmt, session.bind)\n",
    "data.head(10)"
   ]
  },
  {
   "cell_type": "code",
   "execution_count": 97,
   "metadata": {},
   "outputs": [
    {
     "data": {
      "application/vnd.jupyter.widget-view+json": {
       "model_id": "4eb5aa60535e41d9a5366bc153ab1bec",
       "version_major": 2,
       "version_minor": 0
      },
      "text/plain": [
       "Figure(layout=FigureLayout(height='420px'))"
      ]
     },
     "metadata": {},
     "output_type": "display_data"
    }
   ],
   "source": [
    "oil_map = GmapsAnalysis(data)\n",
    "oil_map.color_map(cmap_color = plasma)\n",
    "oil_map.fig"
   ]
  },
  {
   "cell_type": "markdown",
   "metadata": {},
   "source": [
    "![oil_map](images/oil_prod_2019.png)"
   ]
  },
  {
   "cell_type": "code",
   "execution_count": null,
   "metadata": {},
   "outputs": [],
   "source": []
  }
 ],
 "metadata": {
  "kernelspec": {
   "display_name": "Python 3",
   "language": "python",
   "name": "python3"
  },
  "language_info": {
   "codemirror_mode": {
    "name": "ipython",
    "version": 3
   },
   "file_extension": ".py",
   "mimetype": "text/x-python",
   "name": "python",
   "nbconvert_exporter": "python",
   "pygments_lexer": "ipython3",
   "version": "3.8.2"
  }
 },
 "nbformat": 4,
 "nbformat_minor": 4
}
