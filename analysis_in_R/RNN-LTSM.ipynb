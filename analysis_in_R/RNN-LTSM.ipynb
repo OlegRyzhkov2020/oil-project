{
 "cells": [
  {
   "cell_type": "code",
   "execution_count": 3,
   "metadata": {},
   "outputs": [],
   "source": [
    "#importing the libraries for dataset\n",
    "import math\n",
    "import matplotlib.pyplot as plt\n",
    "import keras\n",
    "import pandas as pd\n",
    "import numpy as np\n",
    "import datetime\n",
    "from keras.models import Sequential\n",
    "from keras.layers import Dense\n",
    "from keras.layers import LSTM\n",
    "from keras.layers import Dropout\n",
    "from keras.layers import *\n",
    "from sklearn.preprocessing import MinMaxScaler\n",
    "from sklearn import metrics\n",
    "from sklearn.metrics import mean_squared_error\n",
    "from sklearn.metrics import mean_absolute_error\n",
    "from sklearn.metrics import r2_score\n",
    "from sklearn.model_selection import train_test_split\n",
    "from keras.callbacks import EarlyStopping"
   ]
  },
  {
   "cell_type": "code",
   "execution_count": 4,
   "metadata": {},
   "outputs": [],
   "source": [
    "#Import daily train and test sets (from ARIMA time series models) to use for RRN-LTSM models\n",
    "WTI_train = pd.read_csv('WTI_train.csv')\n",
    "WTI_test = pd.read_csv('WTI_test.csv')\n",
    "BRENT_train = pd.read_csv('BRENT_train.csv')\n",
    "BRENT_test = pd.read_csv('BRENT_test.csv')"
   ]
  },
  {
   "cell_type": "code",
   "execution_count": 76,
   "metadata": {},
   "outputs": [],
   "source": [
    "WTI_train['date'] = pd.to_datetime(WTI_train['date'],yearfirst=True)\n",
    "WTI_test['date'] = pd.to_datetime(WTI_test['date'],yearfirst=True)\n",
    "BRENT_train['date'] = pd.to_datetime(BRENT_train['date'],yearfirst=True)\n",
    "BRENT_test['date'] = pd.to_datetime(BRENT_test['date'],yearfirst=True)\n",
    "WTI_train= WTI_train.rename(columns={\"WTI\": \"WTI_train\"})\n",
    "WTI_test= WTI_test.rename(columns={\"WTI\": \"WTI_test\"})\n",
    "BRENT_train= BRENT_train.rename(columns={\"BRENT\": \"BRENT_train\"})\n",
    "BRENT_test= BRENT_test.rename(columns={\"BRENT\": \"BRENT_test\"})\n",
    "WTI_train.set_index('date')\n",
    "WTI_train.index = pd.to_datetime(WTI_train['date'],yearfirst=True)\n",
    "WTI_test.set_index('date')\n",
    "WTI_test.index = pd.to_datetime(WTI_test['date'],yearfirst=True)\n",
    "BRENT_train.set_index('date')\n",
    "BRENT_train.index = pd.to_datetime(BRENT_train['date'],yearfirst=True)\n",
    "BRENT_test.set_index('date')\n",
    "BRENT_test.index = pd.to_datetime(BRENT_test['date'],yearfirst=True)"
   ]
  },
  {
   "cell_type": "code",
   "execution_count": 6,
   "metadata": {},
   "outputs": [],
   "source": [
    "WTI_train_data=WTI_train.iloc[:,1:2].values\n",
    "WTI_test_data=WTI_test.iloc[:,1:2].values\n",
    "BRENT_train_data=BRENT_train.iloc[:,1:2].values\n",
    "BRENT_test_data=BRENT_test.iloc[:,1:2].values"
   ]
  },
  {
   "cell_type": "code",
   "execution_count": 7,
   "metadata": {},
   "outputs": [],
   "source": [
    "#Scale and normalize the oil price data to (0, 1) values by creating a scalar object.   \n",
    "scaler=MinMaxScaler(feature_range=(0,1))\n",
    "WTI_scaled_train_data=scaler.fit_transform(WTI_train_data)\n",
    "WTI_scaled_test_data=scaler.fit_transform(WTI_test_data)\n",
    "BRENT_scaled_train_data=scaler.fit_transform(BRENT_train_data)\n",
    "BRENT_scaled_test_data=scaler.fit_transform(BRENT_test_data)"
   ]
  },
  {
   "cell_type": "code",
   "execution_count": 8,
   "metadata": {},
   "outputs": [
    {
     "name": "stdout",
     "output_type": "stream",
     "text": [
      "(7218, 1) (351, 1) (7218, 1) (351, 1)\n"
     ]
    }
   ],
   "source": [
    "print(WTI_scaled_train_data.shape, WTI_scaled_test_data.shape, BRENT_scaled_train_data.shape, BRENT_scaled_test_data.shape)"
   ]
  },
  {
   "cell_type": "markdown",
   "metadata": {},
   "source": [
    "# RNN-LTSM Model for WTI Daily Data"
   ]
  },
  {
   "cell_type": "code",
   "execution_count": 101,
   "metadata": {},
   "outputs": [
    {
     "name": "stdout",
     "output_type": "stream",
     "text": [
      "(7158, 60, 1)\n"
     ]
    }
   ],
   "source": [
    "# Create a data structure with 60 lags\n",
    "WTI_X_train=[]\n",
    "WTI_y_train=[]\n",
    "for i in range(60,len(WTI_scaled_train_data)):\n",
    "    WTI_X_train.append(WTI_scaled_train_data[i-60:i,0])\n",
    "    WTI_y_train.append(WTI_scaled_train_data[i,0])\n",
    "\n",
    "#Converting the data to the numpy array as it is expected by our RNN model\n",
    "WTI_X_train=np.array(WTI_X_train)\n",
    "WTI_y_train=np.array(WTI_y_train)    \n",
    "\n",
    "#Reshaping training data to the following format (# values, # time steps, #1 dimensional output)\n",
    "WTI_X_train=np.reshape(WTI_X_train,(WTI_X_train.shape[0],WTI_X_train.shape[1],1))\n",
    "print(WTI_X_train.shape)    \n"
   ]
  },
  {
   "cell_type": "code",
   "execution_count": null,
   "metadata": {},
   "outputs": [
    {
     "name": "stdout",
     "output_type": "stream",
     "text": [
      "Epoch 1/100\n",
      "224/224 [==============================] - 62s 276ms/step - loss: 0.0044\n",
      "Epoch 2/100\n",
      "224/224 [==============================] - 76s 340ms/step - loss: 0.0018\n",
      "Epoch 3/100\n",
      "224/224 [==============================] - 68s 302ms/step - loss: 0.0015\n",
      "Epoch 4/100\n",
      "224/224 [==============================] - 54s 243ms/step - loss: 0.0013\n",
      "Epoch 5/100\n",
      "224/224 [==============================] - 57s 255ms/step - loss: 0.0012\n",
      "Epoch 6/100\n",
      "224/224 [==============================] - 53s 236ms/step - loss: 0.0011\n",
      "Epoch 7/100\n",
      "224/224 [==============================] - 58s 261ms/step - loss: 0.0011\n",
      "Epoch 8/100\n",
      "224/224 [==============================] - 55s 244ms/step - loss: 0.0010\n",
      "Epoch 9/100\n",
      "224/224 [==============================] - 62s 277ms/step - loss: 9.3071e-04\n",
      "Epoch 10/100\n",
      "224/224 [==============================] - 59s 263ms/step - loss: 9.3447e-04\n",
      "Epoch 11/100\n",
      "224/224 [==============================] - 61s 271ms/step - loss: 8.8525e-04\n",
      "Epoch 12/100\n",
      "224/224 [==============================] - 52s 231ms/step - loss: 8.0342e-04\n",
      "Epoch 13/100\n",
      "224/224 [==============================] - 71s 316ms/step - loss: 8.6012e-04\n",
      "Epoch 14/100\n",
      "224/224 [==============================] - 69s 307ms/step - loss: 8.1915e-04\n",
      "Epoch 15/100\n",
      "180/224 [=======================>......] - ETA: 9s - loss: 7.9338e-04"
     ]
    }
   ],
   "source": [
    "#Build the LTSM model (LTSM with 50 neurons and 4 hidden layers using the MSE loss function and the Adam stoachastic gradient descent optimizer)\n",
    "#(See https://medium.com/ai-in-plain-english/time-series-forecasting-predicting-stock-prices-using-an-lstm-model-30d6f1ca2640)\n",
    "\n",
    "WTI_model=Sequential()\n",
    "\n",
    "#Adding the first layer and dropout regularization\n",
    "WTI_model.add(LSTM(units=50,return_sequences=True,input_shape=(WTI_X_train.shape[1],1)))\n",
    "WTI_model.add(Dropout(0.2))\n",
    "#Second layer\n",
    "WTI_model.add(LSTM(units=50,return_sequences=True))\n",
    "WTI_model.add(Dropout(0.2))\n",
    "#Third layer\n",
    "WTI_model.add(LSTM(units=50,return_sequences=True))\n",
    "WTI_model.add(Dropout(0.2))\n",
    "#Fourth Layer\n",
    "WTI_model.add(LSTM(units=50,return_sequences=False))\n",
    "WTI_model.add(Dropout(0.2))\n",
    "#Output Layer\n",
    "WTI_model.add(Dense(units=1))\n",
    "\n",
    "#Compiling the RNN model\n",
    "WTI_model.compile(optimizer='adam',loss='mean_squared_error')\n",
    "\n",
    "#fitting the RNN model on our training dataset\n",
    "WTI_model.fit(WTI_X_train,WTI_y_train,epochs=100,batch_size=32)\n",
    "\n"
   ]
  },
  {
   "cell_type": "code",
   "execution_count": null,
   "metadata": {},
   "outputs": [],
   "source": [
    "#Preparing and reshaping test data \n",
    "WTI_dataset_total=pd.concat((WTI_train[\"WTI_train\"], WTI_test[\"WTI_test\"]), axis=0)\n",
    "WTI_inputs = WTI_dataset_total[len(WTI_dataset_total) - len(WTI_test_data) - 60:].values\n",
    "\n",
    "WTI_inputs = WTI_inputs.reshape(-1,1)\n",
    "WTI_inputs = scaler.transform(WTI_inputs)\n",
    "WTI_X_test = []\n",
    "for i in range(60, len(WTI_scaled_test_data)):\n",
    "    WTI_X_test.append(WTI_inputs[i-60:i, 0])\n",
    "    \n",
    "WTI_X_test = np.array(WTI_scaled_test_data)\n",
    "WTI_X_test = np.reshape(WTI_X_test, (WTI_X_test.shape[0], WTI_X_test.shape[1], 1))\n",
    "print(WTI_X_test.shape)"
   ]
  },
  {
   "cell_type": "code",
   "execution_count": null,
   "metadata": {},
   "outputs": [],
   "source": [
    "# setting dates for the prediction index\n",
    "prediction_index= BRENT_test[\"date\"].iloc[60:]\n",
    "prediction_index"
   ]
  },
  {
   "cell_type": "code",
   "execution_count": null,
   "metadata": {},
   "outputs": [],
   "source": [
    "#Making predictions using the test data\n",
    "prediction_index= WTI_test[\"date\"]\n",
    "WTI_predictions=WTI_model.predict(WTI_X_test)\n",
    "WTI_predictions=scaler.inverse_transform(WTI_predictions)\n",
    "WTI_predictions = pd.DataFrame(WTI_predictions,index=prediction_index.index)\n",
    "WTI_predictions"
   ]
  },
  {
   "cell_type": "code",
   "execution_count": null,
   "metadata": {},
   "outputs": [],
   "source": [
    "#Adjusting test data to account for lag of 60 \n",
    "WTI_test60=WTI_test_data[60:]"
   ]
  },
  {
   "cell_type": "code",
   "execution_count": null,
   "metadata": {},
   "outputs": [],
   "source": [
    "#Calculate the model fit and accuracy scores of RNN-LTSM model for predicting WTI test data \n",
    "WTI_accuracy = metrics.r2_score(WTI_test_data, WTI_predictions)\n",
    "WTI_MSE = metrics.mean_squared_error(WTI_test_data, WTI_predictions)\n",
    "\n",
    "print(f'the RNN-LTSM Model Fit for predicting WTI oil price data is: R2 = {WTI_accuracy} and MSE = {WTI_MSE}')"
   ]
  },
  {
   "cell_type": "code",
   "execution_count": null,
   "metadata": {},
   "outputs": [],
   "source": [
    "#Visualising the predictions and original data\n",
    "\n",
    "plt.xlabel('Year')\n",
    "plt.ylabel('Price($)/Barrel')\n",
    "plt.plot(WTI_train[\"WTI_train\"],label=\"WTI Train\")\n",
    "plt.plot(WTI_test[\"WTI_test\"], label = \"WTI Daily Test\")\n",
    "plt.plot(WTI_predictions, label = \"RNN-LTSM WTI Predicted\")\n",
    "plt.title(f'RNN-LTSM model for WTI Daily Oil Price Over Time; MSE = {WTI_MSE}')\n",
    "plt.xlim([datetime.date(2015, 1, 1), datetime.date(2020, 6, 1)])\n",
    "plt.legend()\n",
    "plt.show()"
   ]
  },
  {
   "cell_type": "markdown",
   "metadata": {},
   "source": [
    "# RNN-LTSM Model for BRENT Daily Data"
   ]
  },
  {
   "cell_type": "code",
   "execution_count": 99,
   "metadata": {},
   "outputs": [
    {
     "name": "stdout",
     "output_type": "stream",
     "text": [
      "(7158, 60, 1)\n"
     ]
    }
   ],
   "source": [
    "# Create a data structure with 60 time-steps and 1 output \n",
    "BRENT_X_train=[]\n",
    "BRENT_y_train=[]\n",
    "for i in range(60,len(BRENT_scaled_train_data)):\n",
    "    BRENT_X_train.append(BRENT_scaled_train_data[i-60:i,0])\n",
    "    BRENT_y_train.append(BRENT_scaled_train_data[i,0])\n",
    "\n",
    "#Converting the data to the numpy array as it is expected by our RNN model\n",
    "BRENT_X_train=np.array(BRENT_X_train)\n",
    "BRENT_y_train=np.array(BRENT_y_train)    \n",
    "\n",
    "#Reshaping training data to the following format (# values, # time steps, #1 dimensional output)\n",
    "BRENT_X_train=np.reshape(BRENT_X_train,(BRENT_X_train.shape[0],BRENT_X_train.shape[1],1))\n",
    "print(BRENT_X_train.shape)"
   ]
  },
  {
   "cell_type": "code",
   "execution_count": 35,
   "metadata": {},
   "outputs": [
    {
     "name": "stdout",
     "output_type": "stream",
     "text": [
      "Epoch 1/100\n",
      "224/224 [==============================] - 28s 123ms/step - loss: 0.0052\n",
      "Epoch 2/100\n",
      "224/224 [==============================] - 29s 131ms/step - loss: 0.0020\n",
      "Epoch 3/100\n",
      "224/224 [==============================] - 31s 140ms/step - loss: 0.0020\n",
      "Epoch 4/100\n",
      "224/224 [==============================] - 32s 141ms/step - loss: 0.0015\n",
      "Epoch 5/100\n",
      "224/224 [==============================] - 32s 143ms/step - loss: 0.0014\n",
      "Epoch 6/100\n",
      "224/224 [==============================] - 32s 142ms/step - loss: 0.0013\n",
      "Epoch 7/100\n",
      "224/224 [==============================] - 31s 141ms/step - loss: 0.0013\n",
      "Epoch 8/100\n",
      "224/224 [==============================] - 31s 140ms/step - loss: 0.0012\n",
      "Epoch 9/100\n",
      "224/224 [==============================] - 34s 151ms/step - loss: 0.0011\n",
      "Epoch 10/100\n",
      "224/224 [==============================] - 35s 156ms/step - loss: 9.9241e-04\n",
      "Epoch 11/100\n",
      "224/224 [==============================] - 31s 139ms/step - loss: 9.7742e-04\n",
      "Epoch 12/100\n",
      "224/224 [==============================] - 33s 147ms/step - loss: 9.5226e-04\n",
      "Epoch 13/100\n",
      "224/224 [==============================] - 35s 157ms/step - loss: 9.4321e-04\n",
      "Epoch 14/100\n",
      "224/224 [==============================] - 37s 166ms/step - loss: 9.1822e-04\n",
      "Epoch 15/100\n",
      "224/224 [==============================] - 32s 143ms/step - loss: 9.4416e-04\n",
      "Epoch 16/100\n",
      "224/224 [==============================] - 34s 154ms/step - loss: 8.5473e-04\n",
      "Epoch 17/100\n",
      "224/224 [==============================] - 32s 142ms/step - loss: 7.9943e-04\n",
      "Epoch 18/100\n",
      "224/224 [==============================] - 31s 140ms/step - loss: 7.7549e-04\n",
      "Epoch 19/100\n",
      "224/224 [==============================] - 34s 150ms/step - loss: 8.3561e-04\n",
      "Epoch 20/100\n",
      "224/224 [==============================] - 30s 135ms/step - loss: 8.0525e-04\n",
      "Epoch 21/100\n",
      "224/224 [==============================] - 37s 164ms/step - loss: 8.2063e-04\n",
      "Epoch 22/100\n",
      "224/224 [==============================] - 28s 126ms/step - loss: 7.2201e-04\n",
      "Epoch 23/100\n",
      "224/224 [==============================] - 29s 128ms/step - loss: 8.0271e-04\n",
      "Epoch 24/100\n",
      "224/224 [==============================] - 31s 139ms/step - loss: 7.7036e-04\n",
      "Epoch 25/100\n",
      "224/224 [==============================] - 31s 138ms/step - loss: 7.2901e-04\n",
      "Epoch 26/100\n",
      "224/224 [==============================] - 34s 151ms/step - loss: 7.7016e-04\n",
      "Epoch 27/100\n",
      "224/224 [==============================] - 29s 128ms/step - loss: 7.2866e-04\n",
      "Epoch 28/100\n",
      "224/224 [==============================] - 31s 140ms/step - loss: 6.7307e-04\n",
      "Epoch 29/100\n",
      "224/224 [==============================] - 31s 137ms/step - loss: 6.6934e-04\n",
      "Epoch 30/100\n",
      "224/224 [==============================] - 30s 134ms/step - loss: 6.9479e-04\n",
      "Epoch 31/100\n",
      "224/224 [==============================] - 30s 136ms/step - loss: 6.5835e-04\n",
      "Epoch 32/100\n",
      "224/224 [==============================] - 35s 157ms/step - loss: 6.8955e-04\n",
      "Epoch 33/100\n",
      "224/224 [==============================] - 43s 191ms/step - loss: 6.7261e-04\n",
      "Epoch 34/100\n",
      "224/224 [==============================] - 34s 150ms/step - loss: 6.7356e-04\n",
      "Epoch 35/100\n",
      "224/224 [==============================] - 37s 164ms/step - loss: 6.6893e-04\n",
      "Epoch 36/100\n",
      "224/224 [==============================] - 36s 163ms/step - loss: 6.3484e-04\n",
      "Epoch 37/100\n",
      "224/224 [==============================] - 40s 178ms/step - loss: 6.7358e-04\n",
      "Epoch 38/100\n",
      "224/224 [==============================] - 45s 200ms/step - loss: 6.6379e-04\n",
      "Epoch 39/100\n",
      "224/224 [==============================] - 52s 234ms/step - loss: 6.1989e-04\n",
      "Epoch 40/100\n",
      "224/224 [==============================] - 59s 263ms/step - loss: 6.5928e-04\n",
      "Epoch 41/100\n",
      "224/224 [==============================] - 52s 234ms/step - loss: 6.8918e-04\n",
      "Epoch 42/100\n",
      "224/224 [==============================] - 49s 221ms/step - loss: 5.8227e-04\n",
      "Epoch 43/100\n",
      "224/224 [==============================] - 52s 233ms/step - loss: 5.9086e-04\n",
      "Epoch 44/100\n",
      "224/224 [==============================] - 54s 243ms/step - loss: 6.0853e-04\n",
      "Epoch 45/100\n",
      "224/224 [==============================] - 62s 278ms/step - loss: 6.0293e-04\n",
      "Epoch 46/100\n",
      "224/224 [==============================] - 60s 268ms/step - loss: 5.8788e-04\n",
      "Epoch 47/100\n",
      "224/224 [==============================] - 62s 277ms/step - loss: 5.7059e-04\n",
      "Epoch 48/100\n",
      "224/224 [==============================] - 58s 260ms/step - loss: 5.8635e-04\n",
      "Epoch 49/100\n",
      "224/224 [==============================] - 59s 264ms/step - loss: 6.7222e-04\n",
      "Epoch 50/100\n",
      "224/224 [==============================] - 61s 273ms/step - loss: 6.1647e-04\n",
      "Epoch 51/100\n",
      "224/224 [==============================] - 66s 294ms/step - loss: 5.8541e-04\n",
      "Epoch 52/100\n",
      "224/224 [==============================] - 70s 312ms/step - loss: 5.3243e-04\n",
      "Epoch 53/100\n",
      "224/224 [==============================] - 78s 347ms/step - loss: 5.8312e-04\n",
      "Epoch 54/100\n",
      "224/224 [==============================] - 81s 359ms/step - loss: 5.7445e-04\n",
      "Epoch 55/100\n",
      "224/224 [==============================] - 74s 329ms/step - loss: 5.5921e-04\n",
      "Epoch 56/100\n",
      "224/224 [==============================] - 75s 337ms/step - loss: 5.9342e-04\n",
      "Epoch 57/100\n",
      "224/224 [==============================] - 83s 370ms/step - loss: 5.5444e-04\n",
      "Epoch 58/100\n",
      "224/224 [==============================] - 60s 269ms/step - loss: 5.7018e-04\n",
      "Epoch 59/100\n",
      "224/224 [==============================] - 65s 291ms/step - loss: 5.6203e-04\n",
      "Epoch 60/100\n",
      "224/224 [==============================] - 73s 325ms/step - loss: 5.7580e-04\n",
      "Epoch 61/100\n",
      "224/224 [==============================] - 77s 343ms/step - loss: 5.7886e-04\n",
      "Epoch 62/100\n",
      "224/224 [==============================] - 70s 312ms/step - loss: 5.4543e-04\n",
      "Epoch 63/100\n",
      "224/224 [==============================] - 76s 341ms/step - loss: 5.5756e-04\n",
      "Epoch 64/100\n",
      "224/224 [==============================] - 72s 319ms/step - loss: 5.5499e-04\n",
      "Epoch 65/100\n",
      "224/224 [==============================] - 74s 331ms/step - loss: 5.5328e-04\n",
      "Epoch 66/100\n",
      "224/224 [==============================] - 73s 324ms/step - loss: 5.6405e-04\n",
      "Epoch 67/100\n",
      "224/224 [==============================] - 67s 301ms/step - loss: 5.1784e-04\n",
      "Epoch 68/100\n",
      "224/224 [==============================] - 73s 326ms/step - loss: 5.4502e-04\n",
      "Epoch 69/100\n",
      "224/224 [==============================] - 74s 329ms/step - loss: 5.4152e-04\n",
      "Epoch 70/100\n",
      "224/224 [==============================] - 64s 285ms/step - loss: 5.6128e-04\n",
      "Epoch 71/100\n",
      "224/224 [==============================] - 66s 296ms/step - loss: 5.6827e-04\n",
      "Epoch 72/100\n",
      "224/224 [==============================] - 66s 293ms/step - loss: 5.6913e-04\n",
      "Epoch 73/100\n",
      "224/224 [==============================] - 73s 325ms/step - loss: 5.1779e-04\n",
      "Epoch 74/100\n",
      "224/224 [==============================] - 60s 266ms/step - loss: 5.2436e-04\n",
      "Epoch 75/100\n",
      "224/224 [==============================] - 53s 236ms/step - loss: 5.1589e-04\n",
      "Epoch 76/100\n",
      "224/224 [==============================] - 90s 402ms/step - loss: 4.9979e-04\n",
      "Epoch 77/100\n",
      "224/224 [==============================] - 65s 290ms/step - loss: 5.6640e-04\n",
      "Epoch 78/100\n",
      "224/224 [==============================] - 69s 310ms/step - loss: 5.4853e-04\n",
      "Epoch 79/100\n",
      "224/224 [==============================] - 81s 361ms/step - loss: 5.2912e-04\n",
      "Epoch 80/100\n",
      "224/224 [==============================] - 76s 341ms/step - loss: 4.9762e-04\n",
      "Epoch 81/100\n",
      "224/224 [==============================] - 72s 323ms/step - loss: 5.3020e-04\n",
      "Epoch 82/100\n",
      "224/224 [==============================] - 73s 324ms/step - loss: 5.1157e-04\n",
      "Epoch 83/100\n",
      "224/224 [==============================] - 70s 310ms/step - loss: 5.1398e-04\n",
      "Epoch 84/100\n",
      "224/224 [==============================] - 63s 283ms/step - loss: 5.1616e-04\n",
      "Epoch 85/100\n",
      "224/224 [==============================] - 62s 278ms/step - loss: 5.3125e-04\n",
      "Epoch 86/100\n",
      "224/224 [==============================] - 37s 164ms/step - loss: 5.5571e-04\n",
      "Epoch 87/100\n",
      "224/224 [==============================] - 36s 163ms/step - loss: 5.1873e-04\n",
      "Epoch 88/100\n",
      "224/224 [==============================] - 33s 147ms/step - loss: 5.2299e-04\n",
      "Epoch 89/100\n",
      "224/224 [==============================] - 29s 129ms/step - loss: 5.2928e-04\n",
      "Epoch 90/100\n",
      "224/224 [==============================] - 28s 127ms/step - loss: 5.2486e-04\n",
      "Epoch 91/100\n",
      "224/224 [==============================] - 28s 127ms/step - loss: 5.3867e-04\n",
      "Epoch 92/100\n",
      "224/224 [==============================] - 39s 174ms/step - loss: 5.1602e-04\n",
      "Epoch 93/100\n",
      "224/224 [==============================] - 42s 188ms/step - loss: 4.8716e-04\n",
      "Epoch 94/100\n",
      "224/224 [==============================] - 35s 158ms/step - loss: 5.4708e-04\n",
      "Epoch 95/100\n",
      "224/224 [==============================] - 40s 178ms/step - loss: 5.2216e-04\n",
      "Epoch 96/100\n",
      "224/224 [==============================] - 57s 254ms/step - loss: 5.2031e-04\n",
      "Epoch 97/100\n",
      "224/224 [==============================] - 90s 401ms/step - loss: 5.2956e-04\n",
      "Epoch 98/100\n",
      "224/224 [==============================] - 70s 312ms/step - loss: 5.0210e-04\n",
      "Epoch 99/100\n",
      "224/224 [==============================] - 48s 216ms/step - loss: 4.9650e-04\n",
      "Epoch 100/100\n",
      "224/224 [==============================] - 52s 232ms/step - loss: 5.5101e-04\n"
     ]
    },
    {
     "data": {
      "text/plain": [
       "<tensorflow.python.keras.callbacks.History at 0x7f90032c1710>"
      ]
     },
     "execution_count": 35,
     "metadata": {},
     "output_type": "execute_result"
    }
   ],
   "source": [
    "#Build the LTSM model (LTSM with 50 neurons and 4 hidden layers using the MSE loss function and the Adam stoachastic gradient descent optimizer)\n",
    "#(See https://medium.com/ai-in-plain-english/time-series-forecasting-predicting-stock-prices-using-an-lstm-model-30d6f1ca2640)\n",
    "\n",
    "BRENT_model=Sequential()\n",
    "\n",
    "#Adding the first layer and dropout regularization\n",
    "BRENT_model.add(LSTM(units=50,return_sequences=True,input_shape=(BRENT_X_train.shape[1],1)))\n",
    "BRENT_model.add(Dropout(0.2))\n",
    "#Second layer\n",
    "BRENT_model.add(LSTM(units=50,return_sequences=True))\n",
    "BRENT_model.add(Dropout(0.2))\n",
    "#Third layer\n",
    "BRENT_model.add(LSTM(units=50,return_sequences=True))\n",
    "BRENT_model.add(Dropout(0.2))\n",
    "#Fourth Layer\n",
    "BRENT_model.add(LSTM(units=50,return_sequences=False))\n",
    "BRENT_model.add(Dropout(0.2))\n",
    "#Output Layer\n",
    "BRENT_model.add(Dense(units=1))\n",
    "\n",
    "#Compiling the RNN model\n",
    "BRENT_model.compile(optimizer='adam',loss='mean_squared_error')\n",
    "\n",
    "#fitting the RNN model on our training dataset\n",
    "BRENT_model.fit(BRENT_X_train,BRENT_y_train,epochs=100,batch_size=32)\n"
   ]
  },
  {
   "cell_type": "code",
   "execution_count": 43,
   "metadata": {},
   "outputs": [
    {
     "name": "stdout",
     "output_type": "stream",
     "text": [
      "(291, 60, 1)\n"
     ]
    }
   ],
   "source": [
    "#Preparing and reshaping test data \n",
    "BRENT_dataset_total=pd.concat((BRENT_train[\"BRENT_train\"], BRENT_test[\"BRENT_test\"]), axis=0)\n",
    "BRENT_inputs = BRENT_dataset_total[len(BRENT_dataset_total) - len(BRENT_test_data) - 60:].values\n",
    "\n",
    "BRENT_inputs = BRENT_inputs.reshape(-1,1)\n",
    "BRENT_inputs = scaler.transform(BRENT_inputs)\n",
    "BRENT_X_test = []\n",
    "for i in range(60, len(BRENT_scaled_test_data)):\n",
    "    BRENT_X_test.append(BRENT_inputs[i-60:i, 0])\n",
    "BRENT_X_test = np.array(BRENT_X_test)\n",
    "BRENT_X_test = np.reshape(BRENT_X_test, (BRENT_X_test.shape[0], BRENT_X_test.shape[1], 1))\n",
    "print(BRENT_X_test.shape)"
   ]
  },
  {
   "cell_type": "code",
   "execution_count": 45,
   "metadata": {},
   "outputs": [
    {
     "data": {
      "text/plain": [
       "date\n",
       "2019-03-29   2019-03-29\n",
       "2019-04-01   2019-04-01\n",
       "2019-04-02   2019-04-02\n",
       "2019-04-03   2019-04-03\n",
       "2019-04-04   2019-04-04\n",
       "                ...    \n",
       "2020-05-22   2020-05-22\n",
       "2020-05-26   2020-05-26\n",
       "2020-05-27   2020-05-27\n",
       "2020-05-28   2020-05-28\n",
       "2020-05-29   2020-05-29\n",
       "Name: date, Length: 291, dtype: datetime64[ns]"
      ]
     },
     "execution_count": 45,
     "metadata": {},
     "output_type": "execute_result"
    }
   ],
   "source": [
    "#setting prediction index\n",
    "prediction_index= BRENT_test[\"date\"].iloc[60:]\n",
    "prediction_index"
   ]
  },
  {
   "cell_type": "code",
   "execution_count": 46,
   "metadata": {},
   "outputs": [
    {
     "data": {
      "text/html": [
       "<div>\n",
       "<style scoped>\n",
       "    .dataframe tbody tr th:only-of-type {\n",
       "        vertical-align: middle;\n",
       "    }\n",
       "\n",
       "    .dataframe tbody tr th {\n",
       "        vertical-align: top;\n",
       "    }\n",
       "\n",
       "    .dataframe thead th {\n",
       "        text-align: right;\n",
       "    }\n",
       "</style>\n",
       "<table border=\"1\" class=\"dataframe\">\n",
       "  <thead>\n",
       "    <tr style=\"text-align: right;\">\n",
       "      <th></th>\n",
       "      <th>0</th>\n",
       "    </tr>\n",
       "    <tr>\n",
       "      <th>date</th>\n",
       "      <th></th>\n",
       "    </tr>\n",
       "  </thead>\n",
       "  <tbody>\n",
       "    <tr>\n",
       "      <th>2019-03-29</th>\n",
       "      <td>49.891418</td>\n",
       "    </tr>\n",
       "    <tr>\n",
       "      <th>2019-04-01</th>\n",
       "      <td>52.270546</td>\n",
       "    </tr>\n",
       "    <tr>\n",
       "      <th>2019-04-02</th>\n",
       "      <td>52.503563</td>\n",
       "    </tr>\n",
       "    <tr>\n",
       "      <th>2019-04-03</th>\n",
       "      <td>54.509014</td>\n",
       "    </tr>\n",
       "    <tr>\n",
       "      <th>2019-04-04</th>\n",
       "      <td>56.351185</td>\n",
       "    </tr>\n",
       "    <tr>\n",
       "      <th>...</th>\n",
       "      <td>...</td>\n",
       "    </tr>\n",
       "    <tr>\n",
       "      <th>2020-05-22</th>\n",
       "      <td>56.869152</td>\n",
       "    </tr>\n",
       "    <tr>\n",
       "      <th>2020-05-26</th>\n",
       "      <td>55.503220</td>\n",
       "    </tr>\n",
       "    <tr>\n",
       "      <th>2020-05-27</th>\n",
       "      <td>54.623158</td>\n",
       "    </tr>\n",
       "    <tr>\n",
       "      <th>2020-05-28</th>\n",
       "      <td>52.340511</td>\n",
       "    </tr>\n",
       "    <tr>\n",
       "      <th>2020-05-29</th>\n",
       "      <td>51.035027</td>\n",
       "    </tr>\n",
       "  </tbody>\n",
       "</table>\n",
       "<p>291 rows × 1 columns</p>\n",
       "</div>"
      ],
      "text/plain": [
       "                    0\n",
       "date                 \n",
       "2019-03-29  49.891418\n",
       "2019-04-01  52.270546\n",
       "2019-04-02  52.503563\n",
       "2019-04-03  54.509014\n",
       "2019-04-04  56.351185\n",
       "...               ...\n",
       "2020-05-22  56.869152\n",
       "2020-05-26  55.503220\n",
       "2020-05-27  54.623158\n",
       "2020-05-28  52.340511\n",
       "2020-05-29  51.035027\n",
       "\n",
       "[291 rows x 1 columns]"
      ]
     },
     "execution_count": 46,
     "metadata": {},
     "output_type": "execute_result"
    }
   ],
   "source": [
    "#Making predictions using the test data\n",
    "BRENT_predictions=BRENT_model.predict(BRENT_X_test)\n",
    "BRENT_predictions=scaler.inverse_transform(BRENT_predictions)\n",
    "BRENT_predictions = pd.DataFrame(BRENT_predictions,index=prediction_index.index)\n",
    "BRENT_predictions"
   ]
  },
  {
   "cell_type": "code",
   "execution_count": 81,
   "metadata": {},
   "outputs": [],
   "source": [
    "#Adjusting test data for lag of 60\n",
    "BRENT_test60=BRENT_test_data[60:]"
   ]
  },
  {
   "cell_type": "code",
   "execution_count": 83,
   "metadata": {},
   "outputs": [],
   "source": [
    "#Calculate the model fit and accuracy scores of RNN-LTSM model for predicting BRENT test data \n",
    "BRENT_accuracy = metrics.r2_score(BRENT_test60, BRENT_predictions)\n",
    "BRENT_MSE = metrics.mean_squared_error(BRENT_test60, BRENT_predictions)"
   ]
  },
  {
   "cell_type": "code",
   "execution_count": 88,
   "metadata": {},
   "outputs": [
    {
     "data": {
      "image/png": "[encoded data removed]",
      "text/plain": [
       "<Figure size 432x288 with 1 Axes>"
      ]
     },
     "metadata": {
      "needs_background": "light"
     },
     "output_type": "display_data"
    }
   ],
   "source": [
    "#Visualising the predictions and original data\n",
    "plt.xlabel('Year')\n",
    "plt.ylabel('Price($)/Barrel')\n",
    "plt.plot(BRENT_train[\"BRENT_train\"],label=\"BRENT Train\")\n",
    "plt.plot(BRENT_test[\"BRENT_test\"], label = \"BRENT Daily Test\")\n",
    "plt.plot(BRENT_predictions, label = \"RNN-LTSM BRENT Predicted\")\n",
    "plt.title(f'RNN-LTSM model for BRENT Daily Oil Price Over Time: MSE = {BRENT_MSE}')\n",
    "plt.xlim([datetime.date(2015, 1, 1), datetime.date(2020, 6, 1)])\n",
    "plt.legend()\n",
    "plt.show()"
   ]
  }
 ],
 "metadata": {
  "kernelspec": {
   "display_name": "p36workshop",
   "language": "python",
   "name": "p36workshop"
  },
  "language_info": {
   "codemirror_mode": {
    "name": "ipython",
    "version": 3
   },
   "file_extension": ".py",
   "mimetype": "text/x-python",
   "name": "python",
   "nbconvert_exporter": "python",
   "pygments_lexer": "ipython3",
   "version": "3.6.10"
  }
 },
 "nbformat": 4,
 "nbformat_minor": 2
}
