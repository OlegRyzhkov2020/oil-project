{
 "cells": [
  {
   "cell_type": "code",
   "execution_count": 1,
   "metadata": {},
   "outputs": [],
   "source": [
    "%matplotlib inline\n",
    "import pandas as pd\n",
    "import numpy as np\n",
    "from sklearn.linear_model import LinearRegression\n",
    "from matplotlib import pyplot as plt"
   ]
  },
  {
   "cell_type": "markdown",
   "metadata": {},
   "source": [
    "## Import Oil Dataset in DataFrame"
   ]
  },
  {
   "cell_type": "code",
   "execution_count": 2,
   "metadata": {},
   "outputs": [
    {
     "data": {
      "text/html": [
       "<div>\n",
       "<style scoped>\n",
       "    .dataframe tbody tr th:only-of-type {\n",
       "        vertical-align: middle;\n",
       "    }\n",
       "\n",
       "    .dataframe tbody tr th {\n",
       "        vertical-align: top;\n",
       "    }\n",
       "\n",
       "    .dataframe thead th {\n",
       "        text-align: right;\n",
       "    }\n",
       "</style>\n",
       "<table border=\"1\" class=\"dataframe\">\n",
       "  <thead>\n",
       "    <tr style=\"text-align: right;\">\n",
       "      <th></th>\n",
       "      <th>Unnamed: 0</th>\n",
       "      <th>WTI</th>\n",
       "      <th>BRENT</th>\n",
       "      <th>ARAB_LIGHT</th>\n",
       "      <th>RIGS</th>\n",
       "      <th>FUEL_CONS</th>\n",
       "      <th>USA_OIL</th>\n",
       "    </tr>\n",
       "  </thead>\n",
       "  <tbody>\n",
       "    <tr>\n",
       "      <th>0</th>\n",
       "      <td>1</td>\n",
       "      <td>22.69</td>\n",
       "      <td>20.50</td>\n",
       "      <td>19.73</td>\n",
       "      <td>514</td>\n",
       "      <td>100.859751</td>\n",
       "      <td>11.311850</td>\n",
       "    </tr>\n",
       "    <tr>\n",
       "      <th>1</th>\n",
       "      <td>2</td>\n",
       "      <td>21.55</td>\n",
       "      <td>19.20</td>\n",
       "      <td>18.71</td>\n",
       "      <td>492</td>\n",
       "      <td>100.248437</td>\n",
       "      <td>11.264940</td>\n",
       "    </tr>\n",
       "    <tr>\n",
       "      <th>2</th>\n",
       "      <td>3</td>\n",
       "      <td>20.34</td>\n",
       "      <td>17.95</td>\n",
       "      <td>16.76</td>\n",
       "      <td>478</td>\n",
       "      <td>99.413921</td>\n",
       "      <td>11.085530</td>\n",
       "    </tr>\n",
       "    <tr>\n",
       "      <th>3</th>\n",
       "      <td>4</td>\n",
       "      <td>18.50</td>\n",
       "      <td>16.35</td>\n",
       "      <td>14.86</td>\n",
       "      <td>484</td>\n",
       "      <td>100.126514</td>\n",
       "      <td>11.155130</td>\n",
       "    </tr>\n",
       "    <tr>\n",
       "      <th>4</th>\n",
       "      <td>5</td>\n",
       "      <td>17.47</td>\n",
       "      <td>15.30</td>\n",
       "      <td>14.72</td>\n",
       "      <td>493</td>\n",
       "      <td>99.861039</td>\n",
       "      <td>11.027760</td>\n",
       "    </tr>\n",
       "    <tr>\n",
       "      <th>...</th>\n",
       "      <td>...</td>\n",
       "      <td>...</td>\n",
       "      <td>...</td>\n",
       "      <td>...</td>\n",
       "      <td>...</td>\n",
       "      <td>...</td>\n",
       "      <td>...</td>\n",
       "    </tr>\n",
       "    <tr>\n",
       "      <th>361</th>\n",
       "      <td>362</td>\n",
       "      <td>44.83</td>\n",
       "      <td>51.31</td>\n",
       "      <td>52.48</td>\n",
       "      <td>678</td>\n",
       "      <td>68.295183</td>\n",
       "      <td>7.327776</td>\n",
       "    </tr>\n",
       "    <tr>\n",
       "      <th>362</th>\n",
       "      <td>363</td>\n",
       "      <td>20.51</td>\n",
       "      <td>14.85</td>\n",
       "      <td>24.14</td>\n",
       "      <td>663</td>\n",
       "      <td>68.269186</td>\n",
       "      <td>7.437338</td>\n",
       "    </tr>\n",
       "    <tr>\n",
       "      <th>363</th>\n",
       "      <td>364</td>\n",
       "      <td>19.23</td>\n",
       "      <td>18.11</td>\n",
       "      <td>22.30</td>\n",
       "      <td>471</td>\n",
       "      <td>66.229312</td>\n",
       "      <td>7.367632</td>\n",
       "    </tr>\n",
       "    <tr>\n",
       "      <th>364</th>\n",
       "      <td>365</td>\n",
       "      <td>35.57</td>\n",
       "      <td>34.15</td>\n",
       "      <td>31.84</td>\n",
       "      <td>267</td>\n",
       "      <td>66.664741</td>\n",
       "      <td>7.316165</td>\n",
       "    </tr>\n",
       "    <tr>\n",
       "      <th>365</th>\n",
       "      <td>366</td>\n",
       "      <td>35.49</td>\n",
       "      <td>36.74</td>\n",
       "      <td>31.84</td>\n",
       "      <td>196</td>\n",
       "      <td>66.444432</td>\n",
       "      <td>7.346955</td>\n",
       "    </tr>\n",
       "  </tbody>\n",
       "</table>\n",
       "<p>366 rows × 7 columns</p>\n",
       "</div>"
      ],
      "text/plain": [
       "     Unnamed: 0    WTI  BRENT  ARAB_LIGHT  RIGS   FUEL_CONS    USA_OIL\n",
       "0             1  22.69  20.50       19.73   514  100.859751  11.311850\n",
       "1             2  21.55  19.20       18.71   492  100.248437  11.264940\n",
       "2             3  20.34  17.95       16.76   478   99.413921  11.085530\n",
       "3             4  18.50  16.35       14.86   484  100.126514  11.155130\n",
       "4             5  17.47  15.30       14.72   493   99.861039  11.027760\n",
       "..          ...    ...    ...         ...   ...         ...        ...\n",
       "361         362  44.83  51.31       52.48   678   68.295183   7.327776\n",
       "362         363  20.51  14.85       24.14   663   68.269186   7.437338\n",
       "363         364  19.23  18.11       22.30   471   66.229312   7.367632\n",
       "364         365  35.57  34.15       31.84   267   66.664741   7.316165\n",
       "365         366  35.49  36.74       31.84   196   66.444432   7.346955\n",
       "\n",
       "[366 rows x 7 columns]"
      ]
     },
     "execution_count": 2,
     "metadata": {},
     "output_type": "execute_result"
    }
   ],
   "source": [
    "oil_df = pd.read_csv('model_data.csv')\n",
    "oil_df"
   ]
  },
  {
   "cell_type": "markdown",
   "metadata": {},
   "source": [
    "# Step 1: Univariate Linear Regressions Predicting Oil Price"
   ]
  },
  {
   "cell_type": "markdown",
   "metadata": {},
   "source": [
    "## Step 1a) Predicting WTI Oil Price from the Number of Rigs"
   ]
  },
  {
   "cell_type": "code",
   "execution_count": 3,
   "metadata": {},
   "outputs": [
    {
     "name": "stdout",
     "output_type": "stream",
     "text": [
      "(366, 1) (366, 1)\n"
     ]
    }
   ],
   "source": [
    "X = oil_df[[\"RIGS\"]]\n",
    "y = oil_df[\"WTI\"].values.reshape(-1, 1)\n",
    "print(X.shape, y.shape)"
   ]
  },
  {
   "cell_type": "code",
   "execution_count": 4,
   "metadata": {},
   "outputs": [
    {
     "name": "stdout",
     "output_type": "stream",
     "text": [
      "WTI Oil Single Predictor (Number of Rigs) Training Score R2:0.4160317643332272\n",
      "WTI Oil Single Predictor (Number of Rigs) Testing Score R2: 0.34201320376673316\n",
      "WTI Oil Model MSE: 0.6402515223320081\n"
     ]
    }
   ],
   "source": [
    "# Use train_test_split to create training and testing data\n",
    "\n",
    "from sklearn.model_selection import train_test_split\n",
    "\n",
    "X_train, X_test, y_train, y_test = train_test_split(X, y, random_state=42)\n",
    "\n",
    "# Create a StandardScaler model and fit it to the training data\n",
    "\n",
    "from sklearn.preprocessing import StandardScaler\n",
    "X_scaler = StandardScaler().fit(X_train)\n",
    "y_scaler = StandardScaler().fit(y_train)\n",
    "\n",
    "# Transform the training and testing data using the X_scaler and y_scaler models\n",
    "X_train_scaled = X_scaler.transform(X_train)\n",
    "X_test_scaled = X_scaler.transform(X_test)\n",
    "y_train_scaled = y_scaler.transform(y_train)\n",
    "y_test_scaled = y_scaler.transform(y_test)\n",
    "\n",
    "# Fit the model to the training data and calculate the scores for the training and testing data\n",
    "\n",
    "from sklearn.linear_model import LinearRegression\n",
    "model = LinearRegression()\n",
    "\n",
    "from sklearn.metrics import mean_squared_error\n",
    "model.fit(X_train_scaled, y_train_scaled)\n",
    "predictions = model.predict(X_test_scaled)\n",
    "\n",
    "\n",
    "training_score = model.score(X_train_scaled, y_train_scaled)\n",
    "testing_score = model.score(X_test_scaled, y_test_scaled)\n",
    "MSE = mean_squared_error(y_test_scaled, predictions)\n",
    "\n",
    "\n",
    "print(f\"WTI Oil Single Predictor (Number of Rigs) Training Score R2:{training_score}\")\n",
    "print(f\"WTI Oil Single Predictor (Number of Rigs) Testing Score R2: {testing_score}\")\n",
    "print(f\"WTI Oil Model MSE: {MSE}\")"
   ]
  },
  {
   "cell_type": "markdown",
   "metadata": {},
   "source": [
    "##  Step 1b) Predicting BRENT Oil Price from the Number of Rigs"
   ]
  },
  {
   "cell_type": "code",
   "execution_count": 5,
   "metadata": {},
   "outputs": [
    {
     "name": "stdout",
     "output_type": "stream",
     "text": [
      "(366, 1) (366, 1)\n"
     ]
    }
   ],
   "source": [
    "X = oil_df[[\"RIGS\"]]\n",
    "y = oil_df[\"BRENT\"].values.reshape(-1, 1)\n",
    "print(X.shape, y.shape)"
   ]
  },
  {
   "cell_type": "code",
   "execution_count": 6,
   "metadata": {},
   "outputs": [
    {
     "name": "stdout",
     "output_type": "stream",
     "text": [
      "BRENT Oil Single Predictor (Number of Rigs) Training Score R2:0.5029417433099234\n",
      "BRENT Oil Single Predictor (Number of Rigs) Testing Score R2: 0.42732837288995895\n",
      "BRENT Oil Model MSE: 0.5462568848933652\n"
     ]
    }
   ],
   "source": [
    "# Use train_test_split to create training and testing data\n",
    "\n",
    "from sklearn.model_selection import train_test_split\n",
    "\n",
    "X_train, X_test, y_train, y_test = train_test_split(X, y, random_state=42)\n",
    "\n",
    "# Create a StandardScaler model and fit it to the training data\n",
    "\n",
    "from sklearn.preprocessing import StandardScaler\n",
    "X_scaler = StandardScaler().fit(X_train)\n",
    "y_scaler = StandardScaler().fit(y_train)\n",
    "\n",
    "# Transform the training and testing data using the X_scaler and y_scaler models\n",
    "X_train_scaled = X_scaler.transform(X_train)\n",
    "X_test_scaled = X_scaler.transform(X_test)\n",
    "y_train_scaled = y_scaler.transform(y_train)\n",
    "y_test_scaled = y_scaler.transform(y_test)\n",
    "\n",
    "# Fit the model to the training data and calculate the scores for the training and testing data\n",
    "\n",
    "from sklearn.linear_model import LinearRegression\n",
    "model = LinearRegression()\n",
    "\n",
    "from sklearn.metrics import mean_squared_error\n",
    "model.fit(X_train_scaled, y_train_scaled)\n",
    "predictions = model.predict(X_test_scaled)\n",
    "\n",
    "\n",
    "training_score = model.score(X_train_scaled, y_train_scaled)\n",
    "testing_score = model.score(X_test_scaled, y_test_scaled)\n",
    "MSE = mean_squared_error(y_test_scaled, predictions)\n",
    "\n",
    "\n",
    "print(f\"BRENT Oil Single Predictor (Number of Rigs) Training Score R2:{training_score}\")\n",
    "print(f\"BRENT Oil Single Predictor (Number of Rigs) Testing Score R2: {testing_score}\")\n",
    "print(f\"BRENT Oil Model MSE: {MSE}\")"
   ]
  },
  {
   "cell_type": "markdown",
   "metadata": {},
   "source": [
    "##  Step 1c) Predicting ARAB LIGHT Oil Price from the Number of Rigs"
   ]
  },
  {
   "cell_type": "code",
   "execution_count": 7,
   "metadata": {},
   "outputs": [
    {
     "name": "stdout",
     "output_type": "stream",
     "text": [
      "(366, 1) (366, 1)\n"
     ]
    }
   ],
   "source": [
    "X = oil_df[[\"RIGS\"]]\n",
    "y = oil_df[\"ARAB_LIGHT\"].values.reshape(-1, 1)\n",
    "print(X.shape, y.shape)"
   ]
  },
  {
   "cell_type": "code",
   "execution_count": 8,
   "metadata": {},
   "outputs": [
    {
     "name": "stdout",
     "output_type": "stream",
     "text": [
      "ARAB LIGHT Oil Single Predictor (Number of Rigs) Training Score R2:0.50413428540349\n",
      "ARAB LIGHT Oil Single Predictor (Number of Rigs) Testing Score R2: 0.44143797213536584\n",
      "ARAB LIGHT Oil Model MSE: 0.4997081324748195\n"
     ]
    }
   ],
   "source": [
    "# Use train_test_split to create training and testing data\n",
    "\n",
    "from sklearn.model_selection import train_test_split\n",
    "\n",
    "X_train, X_test, y_train, y_test = train_test_split(X, y, random_state=42)\n",
    "\n",
    "# Create a StandardScaler model and fit it to the training data\n",
    "\n",
    "from sklearn.preprocessing import StandardScaler\n",
    "X_scaler = StandardScaler().fit(X_train)\n",
    "y_scaler = StandardScaler().fit(y_train)\n",
    "\n",
    "# Transform the training and testing data using the X_scaler and y_scaler models\n",
    "X_train_scaled = X_scaler.transform(X_train)\n",
    "X_test_scaled = X_scaler.transform(X_test)\n",
    "y_train_scaled = y_scaler.transform(y_train)\n",
    "y_test_scaled = y_scaler.transform(y_test)\n",
    "\n",
    "# Fit the model to the training data and calculate the scores for the training and testing data\n",
    "\n",
    "from sklearn.linear_model import LinearRegression\n",
    "model = LinearRegression()\n",
    "\n",
    "from sklearn.metrics import mean_squared_error\n",
    "model.fit(X_train_scaled, y_train_scaled)\n",
    "predictions = model.predict(X_test_scaled)\n",
    "\n",
    "\n",
    "training_score = model.score(X_train_scaled, y_train_scaled)\n",
    "testing_score = model.score(X_test_scaled, y_test_scaled)\n",
    "MSE = mean_squared_error(y_test_scaled, predictions)\n",
    "\n",
    "\n",
    "print(f\"ARAB LIGHT Oil Single Predictor (Number of Rigs) Training Score R2:{training_score}\")\n",
    "print(f\"ARAB LIGHT Oil Single Predictor (Number of Rigs) Testing Score R2: {testing_score}\")\n",
    "print(f\"ARAB LIGHT Oil Model MSE: {MSE}\")"
   ]
  },
  {
   "cell_type": "markdown",
   "metadata": {},
   "source": [
    "##  Step 1d) Predicting WTI Oil Price from Fuel Consumption"
   ]
  },
  {
   "cell_type": "code",
   "execution_count": 9,
   "metadata": {},
   "outputs": [
    {
     "name": "stdout",
     "output_type": "stream",
     "text": [
      "(366, 1) (366, 1)\n"
     ]
    }
   ],
   "source": [
    "X = oil_df[[\"FUEL_CONS\"]]\n",
    "y = oil_df[\"WTI\"].values.reshape(-1, 1)\n",
    "print(X.shape, y.shape)"
   ]
  },
  {
   "cell_type": "code",
   "execution_count": 10,
   "metadata": {},
   "outputs": [
    {
     "name": "stdout",
     "output_type": "stream",
     "text": [
      "WTI Oil Single Predictor (Fuel Consumption) Training Score R2:0.4310409778980112\n",
      "WTI Oil Single Predictor (Fuel Consumption) Testing Score R2: 0.443020992818289\n",
      "WTI Oil Model MSE: 0.5419662815371119\n"
     ]
    }
   ],
   "source": [
    "# Use train_test_split to create training and testing data\n",
    "\n",
    "from sklearn.model_selection import train_test_split\n",
    "\n",
    "X_train, X_test, y_train, y_test = train_test_split(X, y, random_state=42)\n",
    "\n",
    "# Create a StandardScaler model and fit it to the training data\n",
    "\n",
    "from sklearn.preprocessing import StandardScaler\n",
    "X_scaler = StandardScaler().fit(X_train)\n",
    "y_scaler = StandardScaler().fit(y_train)\n",
    "\n",
    "# Transform the training and testing data using the X_scaler and y_scaler models\n",
    "X_train_scaled = X_scaler.transform(X_train)\n",
    "X_test_scaled = X_scaler.transform(X_test)\n",
    "y_train_scaled = y_scaler.transform(y_train)\n",
    "y_test_scaled = y_scaler.transform(y_test)\n",
    "\n",
    "# Fit the model to the training data and calculate the scores for the training and testing data\n",
    "\n",
    "from sklearn.linear_model import LinearRegression\n",
    "model = LinearRegression()\n",
    "\n",
    "from sklearn.metrics import mean_squared_error\n",
    "model.fit(X_train_scaled, y_train_scaled)\n",
    "predictions = model.predict(X_test_scaled)\n",
    "\n",
    "\n",
    "training_score = model.score(X_train_scaled, y_train_scaled)\n",
    "testing_score = model.score(X_test_scaled, y_test_scaled)\n",
    "MSE = mean_squared_error(y_test_scaled, predictions)\n",
    "\n",
    "\n",
    "print(f\"WTI Oil Single Predictor (Fuel Consumption) Training Score R2:{training_score}\")\n",
    "print(f\"WTI Oil Single Predictor (Fuel Consumption) Testing Score R2: {testing_score}\")\n",
    "print(f\"WTI Oil Model MSE: {MSE}\")"
   ]
  },
  {
   "cell_type": "markdown",
   "metadata": {},
   "source": [
    "##  Step 1e) Predicting BRENT Oil Price from Fuel Consumption"
   ]
  },
  {
   "cell_type": "code",
   "execution_count": 11,
   "metadata": {},
   "outputs": [
    {
     "name": "stdout",
     "output_type": "stream",
     "text": [
      "(366, 1) (366, 1)\n"
     ]
    }
   ],
   "source": [
    "X = oil_df[[\"FUEL_CONS\"]]\n",
    "y = oil_df[\"BRENT\"].values.reshape(-1, 1)\n",
    "print(X.shape, y.shape)"
   ]
  },
  {
   "cell_type": "code",
   "execution_count": 12,
   "metadata": {},
   "outputs": [
    {
     "name": "stdout",
     "output_type": "stream",
     "text": [
      "BRENT Oil Single Predictor (Fuel Consumption) Training Score R2:0.45204273395532024\n",
      "BRENT Oil Single Predictor (Fuel Consumption) Testing Score R2: 0.47037474173289195\n",
      "BRENT Oil Model MSE: 0.5051960496136858\n"
     ]
    }
   ],
   "source": [
    "# Use train_test_split to create training and testing data\n",
    "\n",
    "from sklearn.model_selection import train_test_split\n",
    "\n",
    "X_train, X_test, y_train, y_test = train_test_split(X, y, random_state=42)\n",
    "\n",
    "# Create a StandardScaler model and fit it to the training data\n",
    "\n",
    "from sklearn.preprocessing import StandardScaler\n",
    "X_scaler = StandardScaler().fit(X_train)\n",
    "y_scaler = StandardScaler().fit(y_train)\n",
    "\n",
    "# Transform the training and testing data using the X_scaler and y_scaler models\n",
    "X_train_scaled = X_scaler.transform(X_train)\n",
    "X_test_scaled = X_scaler.transform(X_test)\n",
    "y_train_scaled = y_scaler.transform(y_train)\n",
    "y_test_scaled = y_scaler.transform(y_test)\n",
    "\n",
    "# Fit the model to the training data and calculate the scores for the training and testing data\n",
    "\n",
    "from sklearn.linear_model import LinearRegression\n",
    "model = LinearRegression()\n",
    "\n",
    "from sklearn.metrics import mean_squared_error\n",
    "model.fit(X_train_scaled, y_train_scaled)\n",
    "predictions = model.predict(X_test_scaled)\n",
    "\n",
    "\n",
    "training_score = model.score(X_train_scaled, y_train_scaled)\n",
    "testing_score = model.score(X_test_scaled, y_test_scaled)\n",
    "MSE = mean_squared_error(y_test_scaled, predictions)\n",
    "\n",
    "\n",
    "print(f\"BRENT Oil Single Predictor (Fuel Consumption) Training Score R2:{training_score}\")\n",
    "print(f\"BRENT Oil Single Predictor (Fuel Consumption) Testing Score R2: {testing_score}\")\n",
    "print(f\"BRENT Oil Model MSE: {MSE}\")"
   ]
  },
  {
   "cell_type": "markdown",
   "metadata": {},
   "source": [
    "##  Step 1f) Predicting ARAB LIGHT Oil Price from Fuel Consumption"
   ]
  },
  {
   "cell_type": "code",
   "execution_count": 13,
   "metadata": {},
   "outputs": [
    {
     "name": "stdout",
     "output_type": "stream",
     "text": [
      "(366, 1) (366, 1)\n"
     ]
    }
   ],
   "source": [
    "X = oil_df[[\"FUEL_CONS\"]]\n",
    "y = oil_df[\"ARAB_LIGHT\"].values.reshape(-1, 1)\n",
    "print(X.shape, y.shape)"
   ]
  },
  {
   "cell_type": "code",
   "execution_count": 14,
   "metadata": {},
   "outputs": [
    {
     "name": "stdout",
     "output_type": "stream",
     "text": [
      "ARAB LIGHT Oil Single Predictor (Fuel Consumption) Training Score R2:0.4579732097827405\n",
      "ARAB LIGHT Oil Single Predictor (Fuel Consumption) Testing Score R2: 0.49174429328756464\n",
      "ARAB LIGHT Oil Model MSE: 0.45470242757442114\n"
     ]
    }
   ],
   "source": [
    "# Use train_test_split to create training and testing data\n",
    "\n",
    "from sklearn.model_selection import train_test_split\n",
    "\n",
    "X_train, X_test, y_train, y_test = train_test_split(X, y, random_state=42)\n",
    "\n",
    "# Create a StandardScaler model and fit it to the training data\n",
    "\n",
    "from sklearn.preprocessing import StandardScaler\n",
    "X_scaler = StandardScaler().fit(X_train)\n",
    "y_scaler = StandardScaler().fit(y_train)\n",
    "\n",
    "# Transform the training and testing data using the X_scaler and y_scaler models\n",
    "X_train_scaled = X_scaler.transform(X_train)\n",
    "X_test_scaled = X_scaler.transform(X_test)\n",
    "y_train_scaled = y_scaler.transform(y_train)\n",
    "y_test_scaled = y_scaler.transform(y_test)\n",
    "\n",
    "# Fit the model to the training data and calculate the scores for the training and testing data\n",
    "\n",
    "from sklearn.linear_model import LinearRegression\n",
    "model = LinearRegression()\n",
    "\n",
    "from sklearn.metrics import mean_squared_error\n",
    "model.fit(X_train_scaled, y_train_scaled)\n",
    "predictions = model.predict(X_test_scaled)\n",
    "\n",
    "\n",
    "training_score = model.score(X_train_scaled, y_train_scaled)\n",
    "testing_score = model.score(X_test_scaled, y_test_scaled)\n",
    "MSE = mean_squared_error(y_test_scaled, predictions)\n",
    "\n",
    "\n",
    "print(f\"ARAB LIGHT Oil Single Predictor (Fuel Consumption) Training Score R2:{training_score}\")\n",
    "print(f\"ARAB LIGHT Oil Single Predictor (Fuel Consumption) Testing Score R2: {testing_score}\")\n",
    "print(f\"ARAB LIGHT Oil Model MSE: {MSE}\")"
   ]
  },
  {
   "cell_type": "markdown",
   "metadata": {},
   "source": [
    "##  Step 1g) Predicting WTI Oil Price from USA Oil Production"
   ]
  },
  {
   "cell_type": "code",
   "execution_count": 15,
   "metadata": {},
   "outputs": [
    {
     "name": "stdout",
     "output_type": "stream",
     "text": [
      "(366, 1) (366, 1)\n"
     ]
    }
   ],
   "source": [
    "X = oil_df[[\"USA_OIL\"]]\n",
    "y = oil_df[\"WTI\"].values.reshape(-1, 1)\n",
    "print(X.shape, y.shape)"
   ]
  },
  {
   "cell_type": "code",
   "execution_count": 16,
   "metadata": {},
   "outputs": [
    {
     "name": "stdout",
     "output_type": "stream",
     "text": [
      "WTI Oil Single Predictor (USA Oil Production) Training Score R2:0.23515457011198848\n",
      "WTI Oil Single Predictor (USA Oil Production) Testing Score R2: 0.3705252318106321\n",
      "WTI Oil Model MSE: 0.6125080030632605\n"
     ]
    }
   ],
   "source": [
    "# Use train_test_split to create training and testing data\n",
    "\n",
    "from sklearn.model_selection import train_test_split\n",
    "\n",
    "X_train, X_test, y_train, y_test = train_test_split(X, y, random_state=42)\n",
    "\n",
    "# Create a StandardScaler model and fit it to the training data\n",
    "\n",
    "from sklearn.preprocessing import StandardScaler\n",
    "X_scaler = StandardScaler().fit(X_train)\n",
    "y_scaler = StandardScaler().fit(y_train)\n",
    "\n",
    "# Transform the training and testing data using the X_scaler and y_scaler models\n",
    "X_train_scaled = X_scaler.transform(X_train)\n",
    "X_test_scaled = X_scaler.transform(X_test)\n",
    "y_train_scaled = y_scaler.transform(y_train)\n",
    "y_test_scaled = y_scaler.transform(y_test)\n",
    "\n",
    "# Fit the model to the training data and calculate the scores for the training and testing data\n",
    "\n",
    "from sklearn.linear_model import LinearRegression\n",
    "model = LinearRegression()\n",
    "\n",
    "from sklearn.metrics import mean_squared_error\n",
    "model.fit(X_train_scaled, y_train_scaled)\n",
    "predictions = model.predict(X_test_scaled)\n",
    "\n",
    "\n",
    "training_score = model.score(X_train_scaled, y_train_scaled)\n",
    "testing_score = model.score(X_test_scaled, y_test_scaled)\n",
    "MSE = mean_squared_error(y_test_scaled, predictions)\n",
    "\n",
    "\n",
    "print(f\"WTI Oil Single Predictor (USA Oil Production) Training Score R2:{training_score}\")\n",
    "print(f\"WTI Oil Single Predictor (USA Oil Production) Testing Score R2: {testing_score}\")\n",
    "print(f\"WTI Oil Model MSE: {MSE}\")"
   ]
  },
  {
   "cell_type": "markdown",
   "metadata": {},
   "source": [
    "##  Step 1h) Predicting BRENT Oil Price from USA Oil Production"
   ]
  },
  {
   "cell_type": "code",
   "execution_count": 17,
   "metadata": {},
   "outputs": [
    {
     "name": "stdout",
     "output_type": "stream",
     "text": [
      "(366, 1) (366, 1)\n"
     ]
    }
   ],
   "source": [
    "X = oil_df[[\"USA_OIL\"]]\n",
    "y = oil_df[\"BRENT\"].values.reshape(-1, 1)\n",
    "print(X.shape, y.shape)"
   ]
  },
  {
   "cell_type": "code",
   "execution_count": 18,
   "metadata": {},
   "outputs": [
    {
     "name": "stdout",
     "output_type": "stream",
     "text": [
      "BRENT Oil Single Predictor (USA Oil Production) Training Score R2:0.20770985198309788\n",
      "BRENT Oil Single Predictor (USA Oil Production) Testing Score R2: 0.34744130927416883\n",
      "BRENT Oil Model MSE: 0.6224591209536026\n"
     ]
    }
   ],
   "source": [
    "# Use train_test_split to create training and testing data\n",
    "\n",
    "from sklearn.model_selection import train_test_split\n",
    "\n",
    "X_train, X_test, y_train, y_test = train_test_split(X, y, random_state=42)\n",
    "\n",
    "# Create a StandardScaler model and fit it to the training data\n",
    "\n",
    "from sklearn.preprocessing import StandardScaler\n",
    "X_scaler = StandardScaler().fit(X_train)\n",
    "y_scaler = StandardScaler().fit(y_train)\n",
    "\n",
    "# Transform the training and testing data using the X_scaler and y_scaler models\n",
    "X_train_scaled = X_scaler.transform(X_train)\n",
    "X_test_scaled = X_scaler.transform(X_test)\n",
    "y_train_scaled = y_scaler.transform(y_train)\n",
    "y_test_scaled = y_scaler.transform(y_test)\n",
    "\n",
    "# Fit the model to the training data and calculate the scores for the training and testing data\n",
    "\n",
    "from sklearn.linear_model import LinearRegression\n",
    "model = LinearRegression()\n",
    "\n",
    "from sklearn.metrics import mean_squared_error\n",
    "model.fit(X_train_scaled, y_train_scaled)\n",
    "predictions = model.predict(X_test_scaled)\n",
    "\n",
    "\n",
    "training_score = model.score(X_train_scaled, y_train_scaled)\n",
    "testing_score = model.score(X_test_scaled, y_test_scaled)\n",
    "MSE = mean_squared_error(y_test_scaled, predictions)\n",
    "\n",
    "\n",
    "print(f\"BRENT Oil Single Predictor (USA Oil Production) Training Score R2:{training_score}\")\n",
    "print(f\"BRENT Oil Single Predictor (USA Oil Production) Testing Score R2: {testing_score}\")\n",
    "print(f\"BRENT Oil Model MSE: {MSE}\")"
   ]
  },
  {
   "cell_type": "markdown",
   "metadata": {},
   "source": [
    "##  Step 1i) Predicting ARAB LIGHT Oil Price from USA Oil Production"
   ]
  },
  {
   "cell_type": "code",
   "execution_count": 19,
   "metadata": {},
   "outputs": [
    {
     "name": "stdout",
     "output_type": "stream",
     "text": [
      "(366, 1) (366, 1)\n"
     ]
    }
   ],
   "source": [
    "X = oil_df[[\"USA_OIL\"]]\n",
    "y = oil_df[\"ARAB_LIGHT\"].values.reshape(-1, 1)\n",
    "print(X.shape, y.shape)"
   ]
  },
  {
   "cell_type": "code",
   "execution_count": 20,
   "metadata": {},
   "outputs": [
    {
     "name": "stdout",
     "output_type": "stream",
     "text": [
      "ARAB LIGHT Oil Single Predictor (USA Oil Production) Training Score R2:0.21199948751233977\n",
      "ARAB LIGHT Oil Single Predictor (USA Oil Production) Testing Score R2: 0.35262369464613186\n",
      "ARAB LIGHT Oil Model MSE: 0.5791643334466499\n"
     ]
    }
   ],
   "source": [
    "# Use train_test_split to create training and testing data\n",
    "\n",
    "from sklearn.model_selection import train_test_split\n",
    "\n",
    "X_train, X_test, y_train, y_test = train_test_split(X, y, random_state=42)\n",
    "\n",
    "# Create a StandardScaler model and fit it to the training data\n",
    "\n",
    "from sklearn.preprocessing import StandardScaler\n",
    "X_scaler = StandardScaler().fit(X_train)\n",
    "y_scaler = StandardScaler().fit(y_train)\n",
    "\n",
    "# Transform the training and testing data using the X_scaler and y_scaler models\n",
    "X_train_scaled = X_scaler.transform(X_train)\n",
    "X_test_scaled = X_scaler.transform(X_test)\n",
    "y_train_scaled = y_scaler.transform(y_train)\n",
    "y_test_scaled = y_scaler.transform(y_test)\n",
    "\n",
    "# Fit the model to the training data and calculate the scores for the training and testing data\n",
    "\n",
    "from sklearn.linear_model import LinearRegression\n",
    "model = LinearRegression()\n",
    "\n",
    "from sklearn.metrics import mean_squared_error\n",
    "model.fit(X_train_scaled, y_train_scaled)\n",
    "predictions = model.predict(X_test_scaled)\n",
    "\n",
    "\n",
    "training_score = model.score(X_train_scaled, y_train_scaled)\n",
    "testing_score = model.score(X_test_scaled, y_test_scaled)\n",
    "MSE = mean_squared_error(y_test_scaled, predictions)\n",
    "\n",
    "\n",
    "print(f\"ARAB LIGHT Oil Single Predictor (USA Oil Production) Training Score R2:{training_score}\")\n",
    "print(f\"ARAB LIGHT Oil Single Predictor (USA Oil Production) Testing Score R2: {testing_score}\")\n",
    "print(f\"ARAB LIGHT Oil Model MSE: {MSE}\")"
   ]
  },
  {
   "cell_type": "markdown",
   "metadata": {},
   "source": [
    "##  Step 1 Conclusion: Univariate Linear Regression (Models with Single Predictor):\n",
    "### The accuracy scores for our models with single predictors are poor (R2 testing scores ranging from 0.34 to 0.49. We will explore models including 2 and 3 predictors simultaneously using multiple linear regressions"
   ]
  },
  {
   "cell_type": "markdown",
   "metadata": {},
   "source": [
    "# Step 2: Multiple Linear Regressions (2 Predictors) Predicting Oil Price"
   ]
  },
  {
   "cell_type": "markdown",
   "metadata": {},
   "source": [
    "##  Step 2a) Predicting WTI Oil Price from the Number of Rigs and Fuel Consumption"
   ]
  },
  {
   "cell_type": "code",
   "execution_count": 21,
   "metadata": {},
   "outputs": [
    {
     "name": "stdout",
     "output_type": "stream",
     "text": [
      "(366, 2) (366, 1)\n"
     ]
    }
   ],
   "source": [
    "X = oil_df[[\"RIGS\", \"FUEL_CONS\"]]\n",
    "y = oil_df[\"WTI\"].values.reshape(-1, 1)\n",
    "print(X.shape, y.shape)"
   ]
  },
  {
   "cell_type": "code",
   "execution_count": 22,
   "metadata": {},
   "outputs": [
    {
     "name": "stdout",
     "output_type": "stream",
     "text": [
      "WTI Oil Two Predictors (Number of Rigs and Fuel Consumption) Training Score R2:0.5518974982392305\n",
      "WTI Oil Two Predictors (Number of Rigs and Fuel Consumption) Testing Score R2: 0.5037895849048161\n",
      "WTI Oil Model MSE: 0.4828356366425621\n"
     ]
    }
   ],
   "source": [
    "# Use train_test_split to create training and testing data\n",
    "\n",
    "from sklearn.model_selection import train_test_split\n",
    "\n",
    "X_train, X_test, y_train, y_test = train_test_split(X, y, random_state=42)\n",
    "\n",
    "# Create a StandardScaler model and fit it to the training data\n",
    "\n",
    "from sklearn.preprocessing import StandardScaler\n",
    "X_scaler = StandardScaler().fit(X_train)\n",
    "y_scaler = StandardScaler().fit(y_train)\n",
    "\n",
    "# Transform the training and testing data using the X_scaler and y_scaler models\n",
    "X_train_scaled = X_scaler.transform(X_train)\n",
    "X_test_scaled = X_scaler.transform(X_test)\n",
    "y_train_scaled = y_scaler.transform(y_train)\n",
    "y_test_scaled = y_scaler.transform(y_test)\n",
    "\n",
    "# Fit the model to the training data and calculate the scores for the training and testing data\n",
    "\n",
    "from sklearn.linear_model import LinearRegression\n",
    "model = LinearRegression()\n",
    "\n",
    "from sklearn.metrics import mean_squared_error\n",
    "model.fit(X_train_scaled, y_train_scaled)\n",
    "predictions = model.predict(X_test_scaled)\n",
    "\n",
    "\n",
    "training_score = model.score(X_train_scaled, y_train_scaled)\n",
    "testing_score = model.score(X_test_scaled, y_test_scaled)\n",
    "MSE = mean_squared_error(y_test_scaled, predictions)\n",
    "\n",
    "\n",
    "print(f\"WTI Oil Two Predictors (Number of Rigs and Fuel Consumption) Training Score R2:{training_score}\")\n",
    "print(f\"WTI Oil Two Predictors (Number of Rigs and Fuel Consumption) Testing Score R2: {testing_score}\")\n",
    "print(f\"WTI Oil Model MSE: {MSE}\")"
   ]
  },
  {
   "cell_type": "markdown",
   "metadata": {},
   "source": [
    "##  Step 2b) Predicting WTI Oil Price from the Number of Rigs and USA Oil Production"
   ]
  },
  {
   "cell_type": "code",
   "execution_count": 23,
   "metadata": {},
   "outputs": [
    {
     "name": "stdout",
     "output_type": "stream",
     "text": [
      "(366, 2) (366, 1)\n"
     ]
    }
   ],
   "source": [
    "X = oil_df[[\"RIGS\", \"USA_OIL\"]]\n",
    "y = oil_df[\"WTI\"].values.reshape(-1, 1)\n",
    "print(X.shape, y.shape)"
   ]
  },
  {
   "cell_type": "code",
   "execution_count": 24,
   "metadata": {},
   "outputs": [
    {
     "name": "stdout",
     "output_type": "stream",
     "text": [
      "WTI Oil Two Predictors (Number of Rigs and USA Oil Production) Training Score R2:0.642175800252509\n",
      "WTI Oil Two Predictors (Number of Rigs and USA Oil Production) Testing Score R2: 0.6513048570086506\n",
      "WTI Oil Model MSE: 0.33929646826961873\n"
     ]
    }
   ],
   "source": [
    "# Use train_test_split to create training and testing data\n",
    "\n",
    "from sklearn.model_selection import train_test_split\n",
    "\n",
    "X_train, X_test, y_train, y_test = train_test_split(X, y, random_state=42)\n",
    "\n",
    "# Create a StandardScaler model and fit it to the training data\n",
    "\n",
    "from sklearn.preprocessing import StandardScaler\n",
    "X_scaler = StandardScaler().fit(X_train)\n",
    "y_scaler = StandardScaler().fit(y_train)\n",
    "\n",
    "# Transform the training and testing data using the X_scaler and y_scaler models\n",
    "X_train_scaled = X_scaler.transform(X_train)\n",
    "X_test_scaled = X_scaler.transform(X_test)\n",
    "y_train_scaled = y_scaler.transform(y_train)\n",
    "y_test_scaled = y_scaler.transform(y_test)\n",
    "\n",
    "# Fit the model to the training data and calculate the scores for the training and testing data\n",
    "\n",
    "from sklearn.linear_model import LinearRegression\n",
    "model = LinearRegression()\n",
    "\n",
    "from sklearn.metrics import mean_squared_error\n",
    "model.fit(X_train_scaled, y_train_scaled)\n",
    "predictions = model.predict(X_test_scaled)\n",
    "\n",
    "\n",
    "training_score = model.score(X_train_scaled, y_train_scaled)\n",
    "testing_score = model.score(X_test_scaled, y_test_scaled)\n",
    "MSE = mean_squared_error(y_test_scaled, predictions)\n",
    "\n",
    "\n",
    "print(f\"WTI Oil Two Predictors (Number of Rigs and USA Oil Production) Training Score R2:{training_score}\")\n",
    "print(f\"WTI Oil Two Predictors (Number of Rigs and USA Oil Production) Testing Score R2: {testing_score}\")\n",
    "print(f\"WTI Oil Model MSE: {MSE}\")"
   ]
  },
  {
   "cell_type": "markdown",
   "metadata": {},
   "source": [
    "##  Step 2c) Predicting WTI Oil Price from Fuel Consumption and USA Oil Production"
   ]
  },
  {
   "cell_type": "code",
   "execution_count": 25,
   "metadata": {},
   "outputs": [
    {
     "name": "stdout",
     "output_type": "stream",
     "text": [
      "(366, 2) (366, 1)\n"
     ]
    }
   ],
   "source": [
    "X = oil_df[[\"FUEL_CONS\", \"USA_OIL\"]]\n",
    "y = oil_df[\"WTI\"].values.reshape(-1, 1)\n",
    "print(X.shape, y.shape)"
   ]
  },
  {
   "cell_type": "code",
   "execution_count": 26,
   "metadata": {},
   "outputs": [
    {
     "name": "stdout",
     "output_type": "stream",
     "text": [
      "WTI Oil Two Predictors (Fuel Consumption and USA Oil Production) Training Score R2:0.4509155778559111\n",
      "WTI Oil Two Predictors (Fuel Consumption and USA Oil Production) Testing Score R2: 0.49210026038877763\n",
      "WTI Oil Model MSE: 0.49420988892128603\n"
     ]
    }
   ],
   "source": [
    "# Use train_test_split to create training and testing data\n",
    "\n",
    "from sklearn.model_selection import train_test_split\n",
    "\n",
    "X_train, X_test, y_train, y_test = train_test_split(X, y, random_state=42)\n",
    "\n",
    "# Create a StandardScaler model and fit it to the training data\n",
    "\n",
    "from sklearn.preprocessing import StandardScaler\n",
    "X_scaler = StandardScaler().fit(X_train)\n",
    "y_scaler = StandardScaler().fit(y_train)\n",
    "\n",
    "# Transform the training and testing data using the X_scaler and y_scaler models\n",
    "X_train_scaled = X_scaler.transform(X_train)\n",
    "X_test_scaled = X_scaler.transform(X_test)\n",
    "y_train_scaled = y_scaler.transform(y_train)\n",
    "y_test_scaled = y_scaler.transform(y_test)\n",
    "\n",
    "# Fit the model to the training data and calculate the scores for the training and testing data\n",
    "\n",
    "from sklearn.linear_model import LinearRegression\n",
    "model = LinearRegression()\n",
    "\n",
    "from sklearn.metrics import mean_squared_error\n",
    "model.fit(X_train_scaled, y_train_scaled)\n",
    "predictions = model.predict(X_test_scaled)\n",
    "\n",
    "\n",
    "training_score = model.score(X_train_scaled, y_train_scaled)\n",
    "testing_score = model.score(X_test_scaled, y_test_scaled)\n",
    "MSE = mean_squared_error(y_test_scaled, predictions)\n",
    "\n",
    "\n",
    "print(f\"WTI Oil Two Predictors (Fuel Consumption and USA Oil Production) Training Score R2:{training_score}\")\n",
    "print(f\"WTI Oil Two Predictors (Fuel Consumption and USA Oil Production) Testing Score R2: {testing_score}\")\n",
    "print(f\"WTI Oil Model MSE: {MSE}\")"
   ]
  },
  {
   "cell_type": "markdown",
   "metadata": {},
   "source": [
    "##  Step 2d) Predicting BRENT Oil Price from Number of Rigs and Fuel Consumption "
   ]
  },
  {
   "cell_type": "code",
   "execution_count": 27,
   "metadata": {},
   "outputs": [
    {
     "name": "stdout",
     "output_type": "stream",
     "text": [
      "(366, 2) (366, 1)\n"
     ]
    }
   ],
   "source": [
    "X = oil_df[[\"RIGS\", \"FUEL_CONS\"]]\n",
    "y = oil_df[\"BRENT\"].values.reshape(-1, 1)\n",
    "print(X.shape, y.shape)"
   ]
  },
  {
   "cell_type": "code",
   "execution_count": 28,
   "metadata": {},
   "outputs": [
    {
     "name": "stdout",
     "output_type": "stream",
     "text": [
      "BRENT Oil Two Predictors (Number of Rigs and Fuel Consumption) Training Score R2:0.6231111441154837\n",
      "BRENT Oil Two Predictors (Number of Rigs and Fuel Consumption) Testing Score R2: 0.570670930520619\n",
      "BRENT Oil Model MSE: 0.40952606866781116\n"
     ]
    }
   ],
   "source": [
    "# Use train_test_split to create training and testing data\n",
    "\n",
    "from sklearn.model_selection import train_test_split\n",
    "\n",
    "X_train, X_test, y_train, y_test = train_test_split(X, y, random_state=42)\n",
    "\n",
    "# Create a StandardScaler model and fit it to the training data\n",
    "\n",
    "from sklearn.preprocessing import StandardScaler\n",
    "X_scaler = StandardScaler().fit(X_train)\n",
    "y_scaler = StandardScaler().fit(y_train)\n",
    "\n",
    "# Transform the training and testing data using the X_scaler and y_scaler models\n",
    "X_train_scaled = X_scaler.transform(X_train)\n",
    "X_test_scaled = X_scaler.transform(X_test)\n",
    "y_train_scaled = y_scaler.transform(y_train)\n",
    "y_test_scaled = y_scaler.transform(y_test)\n",
    "\n",
    "# Fit the model to the training data and calculate the scores for the training and testing data\n",
    "\n",
    "from sklearn.linear_model import LinearRegression\n",
    "model = LinearRegression()\n",
    "\n",
    "from sklearn.metrics import mean_squared_error\n",
    "model.fit(X_train_scaled, y_train_scaled)\n",
    "predictions = model.predict(X_test_scaled)\n",
    "\n",
    "\n",
    "training_score = model.score(X_train_scaled, y_train_scaled)\n",
    "testing_score = model.score(X_test_scaled, y_test_scaled)\n",
    "MSE = mean_squared_error(y_test_scaled, predictions)\n",
    "\n",
    "\n",
    "print(f\"BRENT Oil Two Predictors (Number of Rigs and Fuel Consumption) Training Score R2:{training_score}\")\n",
    "print(f\"BRENT Oil Two Predictors (Number of Rigs and Fuel Consumption) Testing Score R2: {testing_score}\")\n",
    "print(f\"BRENT Oil Model MSE: {MSE}\")"
   ]
  },
  {
   "cell_type": "markdown",
   "metadata": {},
   "source": [
    "##  Step 2e) Predicting BRENT Oil Price from Number of Rigs and USA Oil Production"
   ]
  },
  {
   "cell_type": "code",
   "execution_count": 29,
   "metadata": {},
   "outputs": [
    {
     "name": "stdout",
     "output_type": "stream",
     "text": [
      "(366, 2) (366, 1)\n"
     ]
    }
   ],
   "source": [
    "X = oil_df[[\"RIGS\", \"USA_OIL\"]]\n",
    "y = oil_df[\"BRENT\"].values.reshape(-1, 1)\n",
    "print(X.shape, y.shape)"
   ]
  },
  {
   "cell_type": "code",
   "execution_count": 30,
   "metadata": {},
   "outputs": [
    {
     "name": "stdout",
     "output_type": "stream",
     "text": [
      "BRENT Oil Two Predictors (Number of Rigs and USA Oil Production) Training Score R2:0.7013486340215016\n",
      "BRENT Oil Two Predictors (Number of Rigs and USA Oil Production) Testing Score R2: 0.7068545311272456\n",
      "BRENT Oil Model MSE: 0.27962399928059584\n"
     ]
    }
   ],
   "source": [
    "# Use train_test_split to create training and testing data\n",
    "\n",
    "from sklearn.model_selection import train_test_split\n",
    "\n",
    "X_train, X_test, y_train, y_test = train_test_split(X, y, random_state=42)\n",
    "\n",
    "# Create a StandardScaler model and fit it to the training data\n",
    "\n",
    "from sklearn.preprocessing import StandardScaler\n",
    "X_scaler = StandardScaler().fit(X_train)\n",
    "y_scaler = StandardScaler().fit(y_train)\n",
    "\n",
    "# Transform the training and testing data using the X_scaler and y_scaler models\n",
    "X_train_scaled = X_scaler.transform(X_train)\n",
    "X_test_scaled = X_scaler.transform(X_test)\n",
    "y_train_scaled = y_scaler.transform(y_train)\n",
    "y_test_scaled = y_scaler.transform(y_test)\n",
    "\n",
    "# Fit the model to the training data and calculate the scores for the training and testing data\n",
    "\n",
    "from sklearn.linear_model import LinearRegression\n",
    "model = LinearRegression()\n",
    "\n",
    "from sklearn.metrics import mean_squared_error\n",
    "model.fit(X_train_scaled, y_train_scaled)\n",
    "predictions = model.predict(X_test_scaled)\n",
    "\n",
    "\n",
    "training_score = model.score(X_train_scaled, y_train_scaled)\n",
    "testing_score = model.score(X_test_scaled, y_test_scaled)\n",
    "MSE = mean_squared_error(y_test_scaled, predictions)\n",
    "\n",
    "\n",
    "print(f\"BRENT Oil Two Predictors (Number of Rigs and USA Oil Production) Training Score R2:{training_score}\")\n",
    "print(f\"BRENT Oil Two Predictors (Number of Rigs and USA Oil Production) Testing Score R2: {testing_score}\")\n",
    "print(f\"BRENT Oil Model MSE: {MSE}\")"
   ]
  },
  {
   "cell_type": "markdown",
   "metadata": {},
   "source": [
    "##  Step 2f) Predicting BRENT Oil Price from Fuel Consumption and USA Oil Production"
   ]
  },
  {
   "cell_type": "code",
   "execution_count": 31,
   "metadata": {},
   "outputs": [
    {
     "name": "stdout",
     "output_type": "stream",
     "text": [
      "(366, 2) (366, 1)\n"
     ]
    }
   ],
   "source": [
    "X = oil_df[[\"FUEL_CONS\", \"USA_OIL\"]]\n",
    "y = oil_df[\"BRENT\"].values.reshape(-1, 1)\n",
    "print(X.shape, y.shape)"
   ]
  },
  {
   "cell_type": "code",
   "execution_count": 32,
   "metadata": {},
   "outputs": [
    {
     "name": "stdout",
     "output_type": "stream",
     "text": [
      "BRENT Oil Two Predictors (Number of Rigs and Fuel Consumption) Training Score R2:0.4610739312496632\n",
      "BRENT Oil Two Predictors (Number of Rigs and Fuel Consumption) Testing Score R2: 0.5001284644011448\n",
      "BRENT Oil Model MSE: 0.47681473108955746\n"
     ]
    }
   ],
   "source": [
    "# Use train_test_split to create training and testing data\n",
    "\n",
    "from sklearn.model_selection import train_test_split\n",
    "\n",
    "X_train, X_test, y_train, y_test = train_test_split(X, y, random_state=42)\n",
    "\n",
    "# Create a StandardScaler model and fit it to the training data\n",
    "\n",
    "from sklearn.preprocessing import StandardScaler\n",
    "X_scaler = StandardScaler().fit(X_train)\n",
    "y_scaler = StandardScaler().fit(y_train)\n",
    "\n",
    "# Transform the training and testing data using the X_scaler and y_scaler models\n",
    "X_train_scaled = X_scaler.transform(X_train)\n",
    "X_test_scaled = X_scaler.transform(X_test)\n",
    "y_train_scaled = y_scaler.transform(y_train)\n",
    "y_test_scaled = y_scaler.transform(y_test)\n",
    "\n",
    "# Fit the model to the training data and calculate the scores for the training and testing data\n",
    "\n",
    "from sklearn.linear_model import LinearRegression\n",
    "model = LinearRegression()\n",
    "\n",
    "from sklearn.metrics import mean_squared_error\n",
    "model.fit(X_train_scaled, y_train_scaled)\n",
    "predictions = model.predict(X_test_scaled)\n",
    "\n",
    "\n",
    "training_score = model.score(X_train_scaled, y_train_scaled)\n",
    "testing_score = model.score(X_test_scaled, y_test_scaled)\n",
    "MSE = mean_squared_error(y_test_scaled, predictions)\n",
    "\n",
    "\n",
    "print(f\"BRENT Oil Two Predictors (Number of Rigs and Fuel Consumption) Training Score R2:{training_score}\")\n",
    "print(f\"BRENT Oil Two Predictors (Number of Rigs and Fuel Consumption) Testing Score R2: {testing_score}\")\n",
    "print(f\"BRENT Oil Model MSE: {MSE}\")"
   ]
  },
  {
   "cell_type": "markdown",
   "metadata": {},
   "source": [
    "##  Step 2g) Predicting ARAB LIGHT Oil Price from Number of Rigs and Fuel Consumption"
   ]
  },
  {
   "cell_type": "code",
   "execution_count": 33,
   "metadata": {},
   "outputs": [
    {
     "name": "stdout",
     "output_type": "stream",
     "text": [
      "(366, 2) (366, 1)\n"
     ]
    }
   ],
   "source": [
    "X = oil_df[[\"RIGS\", \"FUEL_CONS\"]]\n",
    "y = oil_df[\"ARAB_LIGHT\"].values.reshape(-1, 1)\n",
    "print(X.shape, y.shape)"
   ]
  },
  {
   "cell_type": "code",
   "execution_count": 34,
   "metadata": {},
   "outputs": [
    {
     "name": "stdout",
     "output_type": "stream",
     "text": [
      "ARAB LIGHT Oil Two Predictors (Number of Rigs and Fuel Consumption) Training Score R2:0.6275642267459594\n",
      "ARAB LIGHT Oil Two Predictors (Number of Rigs and Fuel Consumption) Testing Score R2: 0.5937433111359769\n",
      "ARAB LIGHT Oil Model MSE: 0.36345072018902713\n"
     ]
    }
   ],
   "source": [
    "# Use train_test_split to create training and testing data\n",
    "\n",
    "from sklearn.model_selection import train_test_split\n",
    "\n",
    "X_train, X_test, y_train, y_test = train_test_split(X, y, random_state=42)\n",
    "\n",
    "# Create a StandardScaler model and fit it to the training data\n",
    "\n",
    "from sklearn.preprocessing import StandardScaler\n",
    "X_scaler = StandardScaler().fit(X_train)\n",
    "y_scaler = StandardScaler().fit(y_train)\n",
    "\n",
    "# Transform the training and testing data using the X_scaler and y_scaler models\n",
    "X_train_scaled = X_scaler.transform(X_train)\n",
    "X_test_scaled = X_scaler.transform(X_test)\n",
    "y_train_scaled = y_scaler.transform(y_train)\n",
    "y_test_scaled = y_scaler.transform(y_test)\n",
    "\n",
    "# Fit the model to the training data and calculate the scores for the training and testing data\n",
    "\n",
    "from sklearn.linear_model import LinearRegression\n",
    "model = LinearRegression()\n",
    "\n",
    "from sklearn.metrics import mean_squared_error\n",
    "model.fit(X_train_scaled, y_train_scaled)\n",
    "predictions = model.predict(X_test_scaled)\n",
    "\n",
    "\n",
    "training_score = model.score(X_train_scaled, y_train_scaled)\n",
    "testing_score = model.score(X_test_scaled, y_test_scaled)\n",
    "MSE = mean_squared_error(y_test_scaled, predictions)\n",
    "\n",
    "\n",
    "print(f\"ARAB LIGHT Oil Two Predictors (Number of Rigs and Fuel Consumption) Training Score R2:{training_score}\")\n",
    "print(f\"ARAB LIGHT Oil Two Predictors (Number of Rigs and Fuel Consumption) Testing Score R2: {testing_score}\")\n",
    "print(f\"ARAB LIGHT Oil Model MSE: {MSE}\")"
   ]
  },
  {
   "cell_type": "markdown",
   "metadata": {},
   "source": [
    "##  Step 2h) Predicting ARAB LIGHT Oil Price from Number of Rigs and USA Oil Production\n"
   ]
  },
  {
   "cell_type": "code",
   "execution_count": 35,
   "metadata": {},
   "outputs": [
    {
     "name": "stdout",
     "output_type": "stream",
     "text": [
      "(366, 2) (366, 1)\n"
     ]
    }
   ],
   "source": [
    "X = oil_df[[\"RIGS\", \"USA_OIL\"]]\n",
    "y = oil_df[\"ARAB_LIGHT\"].values.reshape(-1, 1)\n",
    "print(X.shape, y.shape)"
   ]
  },
  {
   "cell_type": "code",
   "execution_count": 36,
   "metadata": {},
   "outputs": [
    {
     "name": "stdout",
     "output_type": "stream",
     "text": [
      "ARAB LIGHT Oil Two Predictors (Number of Rigs and USA Oil Production) Training Score R2:0.7067235330113115\n",
      "ARAB LIGHT Oil Two Predictors (Number of Rigs and USA Oil Production) Testing Score R2: 0.7239447252354152\n",
      "ARAB LIGHT Oil Model MSE: 0.24696821289445914\n"
     ]
    }
   ],
   "source": [
    "# Use train_test_split to create training and testing data\n",
    "\n",
    "from sklearn.model_selection import train_test_split\n",
    "\n",
    "X_train, X_test, y_train, y_test = train_test_split(X, y, random_state=42)\n",
    "\n",
    "# Create a StandardScaler model and fit it to the training data\n",
    "\n",
    "from sklearn.preprocessing import StandardScaler\n",
    "X_scaler = StandardScaler().fit(X_train)\n",
    "y_scaler = StandardScaler().fit(y_train)\n",
    "\n",
    "# Transform the training and testing data using the X_scaler and y_scaler models\n",
    "X_train_scaled = X_scaler.transform(X_train)\n",
    "X_test_scaled = X_scaler.transform(X_test)\n",
    "y_train_scaled = y_scaler.transform(y_train)\n",
    "y_test_scaled = y_scaler.transform(y_test)\n",
    "\n",
    "# Fit the model to the training data and calculate the scores for the training and testing data\n",
    "\n",
    "from sklearn.linear_model import LinearRegression\n",
    "model = LinearRegression()\n",
    "\n",
    "from sklearn.metrics import mean_squared_error\n",
    "model.fit(X_train_scaled, y_train_scaled)\n",
    "predictions = model.predict(X_test_scaled)\n",
    "\n",
    "\n",
    "training_score = model.score(X_train_scaled, y_train_scaled)\n",
    "testing_score = model.score(X_test_scaled, y_test_scaled)\n",
    "MSE = mean_squared_error(y_test_scaled, predictions)\n",
    "\n",
    "print(f\"ARAB LIGHT Oil Two Predictors (Number of Rigs and USA Oil Production) Training Score R2:{training_score}\")\n",
    "print(f\"ARAB LIGHT Oil Two Predictors (Number of Rigs and USA Oil Production) Testing Score R2: {testing_score}\")\n",
    "print(f\"ARAB LIGHT Oil Model MSE: {MSE}\")"
   ]
  },
  {
   "cell_type": "markdown",
   "metadata": {},
   "source": [
    "##  Step 2i) Predicting ARAB LIGHT Oil Price from Fuel Consumption and USA Oil Production"
   ]
  },
  {
   "cell_type": "code",
   "execution_count": 37,
   "metadata": {},
   "outputs": [
    {
     "name": "stdout",
     "output_type": "stream",
     "text": [
      "(366, 2) (366, 1)\n"
     ]
    }
   ],
   "source": [
    "X = oil_df[[\"FUEL_CONS\", \"USA_OIL\"]]\n",
    "y = oil_df[\"ARAB_LIGHT\"].values.reshape(-1, 1)\n",
    "print(X.shape, y.shape)"
   ]
  },
  {
   "cell_type": "code",
   "execution_count": 38,
   "metadata": {},
   "outputs": [
    {
     "name": "stdout",
     "output_type": "stream",
     "text": [
      "ARAB LIGHT Oil Two Predictors (Fuel Consumption and USA Oil Production) Training Score R2:0.4675204483048644\n",
      "ARAB LIGHT Oil Two Predictors (Fuel Consumption  and USA Oil Production) Testing Score R2: 0.5204226890598074\n",
      "ARAB LIGHT Oil Model MSE: 0.42904578269201216\n"
     ]
    }
   ],
   "source": [
    "# Use train_test_split to create training and testing data\n",
    "\n",
    "from sklearn.model_selection import train_test_split\n",
    "\n",
    "X_train, X_test, y_train, y_test = train_test_split(X, y, random_state=42)\n",
    "\n",
    "# Create a StandardScaler model and fit it to the training data\n",
    "\n",
    "from sklearn.preprocessing import StandardScaler\n",
    "X_scaler = StandardScaler().fit(X_train)\n",
    "y_scaler = StandardScaler().fit(y_train)\n",
    "\n",
    "# Transform the training and testing data using the X_scaler and y_scaler models\n",
    "X_train_scaled = X_scaler.transform(X_train)\n",
    "X_test_scaled = X_scaler.transform(X_test)\n",
    "y_train_scaled = y_scaler.transform(y_train)\n",
    "y_test_scaled = y_scaler.transform(y_test)\n",
    "\n",
    "# Fit the model to the training data and calculate the scores for the training and testing data\n",
    "\n",
    "from sklearn.linear_model import LinearRegression\n",
    "model = LinearRegression()\n",
    "\n",
    "from sklearn.metrics import mean_squared_error\n",
    "model.fit(X_train_scaled, y_train_scaled)\n",
    "predictions = model.predict(X_test_scaled)\n",
    "\n",
    "\n",
    "training_score = model.score(X_train_scaled, y_train_scaled)\n",
    "testing_score = model.score(X_test_scaled, y_test_scaled)\n",
    "MSE = mean_squared_error(y_test_scaled, predictions)\n",
    "\n",
    "print(f\"ARAB LIGHT Oil Two Predictors (Fuel Consumption and USA Oil Production) Training Score R2:{training_score}\")\n",
    "print(f\"ARAB LIGHT Oil Two Predictors (Fuel Consumption  and USA Oil Production) Testing Score R2: {testing_score}\")\n",
    "print(f\"ARAB LIGHT Oil Model MSE: {MSE}\")"
   ]
  },
  {
   "cell_type": "markdown",
   "metadata": {},
   "source": [
    "##  Step 2 Conclusion: Multivariate Linear Regressions (Models with Two Predictors):\n",
    "### The accuracy scores for our models with two predictors are improved relative to the single predictors (R2 testing scores ranging from 0.49 to 0.49. We will explore models including all 3 predictors simultaneously using multiple linear regressions"
   ]
  },
  {
   "cell_type": "markdown",
   "metadata": {},
   "source": [
    "# Step 3: Multiple Linear Regressions (all 3 Predictors Simultaneously) Predicting Oil Price"
   ]
  },
  {
   "cell_type": "markdown",
   "metadata": {},
   "source": [
    "## Step 3a) Predicting WTI Oil Price from Number of Rigs, Fuel Consumption and USA Oil Production"
   ]
  },
  {
   "cell_type": "code",
   "execution_count": 39,
   "metadata": {},
   "outputs": [
    {
     "name": "stdout",
     "output_type": "stream",
     "text": [
      "(366, 3) (366, 1)\n"
     ]
    }
   ],
   "source": [
    "# Assign the data to X and y\n",
    "\n",
    "X = oil_df[[\"RIGS\", \"FUEL_CONS\", \"USA_OIL\"]]\n",
    "y = oil_df[\"WTI\"].values.reshape(-1, 1)\n",
    "print(X.shape, y.shape)\n"
   ]
  },
  {
   "cell_type": "code",
   "execution_count": 40,
   "metadata": {},
   "outputs": [
    {
     "name": "stdout",
     "output_type": "stream",
     "text": [
      "WTI Oil All Three Predictors (Number of Rigs, Fuel Consumption, and USA Oil Production) Training Score R2: 0.6479149966237274\n",
      "WTI Oil All Three Predictors (Number of Rigs, Fuel Consumption, and USA Oil Production) Testing Score R2:0.646753203660285\n",
      "WTI Oil  Three Predictors (Number of Rigs, Fuel Consumption, and USA Oil Production) MSE: 0.3437254370606362\n"
     ]
    }
   ],
   "source": [
    "# Use train_test_split to create training and testing data\n",
    "\n",
    "from sklearn.model_selection import train_test_split\n",
    "\n",
    "X_train, X_test, y_train, y_test = train_test_split(X, y, random_state=42)\n",
    "\n",
    "# Create a StandardScaler model and fit it to the training data\n",
    "\n",
    "from sklearn.preprocessing import StandardScaler\n",
    "X_scaler = StandardScaler().fit(X_train)\n",
    "y_scaler = StandardScaler().fit(y_train)\n",
    "\n",
    "# Transform the training and testing data using the X_scaler and y_scaler models\n",
    "X_train_scaled = X_scaler.transform(X_train)\n",
    "X_test_scaled = X_scaler.transform(X_test)\n",
    "y_train_scaled = y_scaler.transform(y_train)\n",
    "y_test_scaled = y_scaler.transform(y_test)\n",
    "\n",
    "# Fit the model to the training data and calculate the scores for the training and testing data\n",
    "\n",
    "from sklearn.linear_model import LinearRegression\n",
    "model = LinearRegression()\n",
    "\n",
    "from sklearn.metrics import mean_squared_error\n",
    "model.fit(X_train_scaled, y_train_scaled)\n",
    "predictions = model.predict(X_test_scaled)\n",
    "\n",
    "\n",
    "training_score = model.score(X_train_scaled, y_train_scaled)\n",
    "testing_score = model.score(X_test_scaled, y_test_scaled)\n",
    "MSE = mean_squared_error(y_test_scaled, predictions)\n",
    "\n",
    "\n",
    "print(f\"WTI Oil All Three Predictors (Number of Rigs, Fuel Consumption, and USA Oil Production) Training Score R2: {training_score}\")\n",
    "print(f\"WTI Oil All Three Predictors (Number of Rigs, Fuel Consumption, and USA Oil Production) Testing Score R2:{testing_score}\")\n",
    "print(f\"WTI Oil  Three Predictors (Number of Rigs, Fuel Consumption, and USA Oil Production) MSE: {MSE}\")\n"
   ]
  },
  {
   "cell_type": "code",
   "execution_count": 41,
   "metadata": {},
   "outputs": [
    {
     "data": {
      "image/png": "[encoded data removed]",
      "text/plain": [
       "<Figure size 432x288 with 1 Axes>"
      ]
     },
     "metadata": {
      "needs_background": "light"
     },
     "output_type": "display_data"
    }
   ],
   "source": [
    "# Plot the results \n",
    "from sklearn.linear_model import LinearRegression\n",
    "model = LinearRegression()\n",
    "model.fit(X_train_scaled, y_train_scaled)\n",
    "plt.scatter(model.predict(X_train_scaled), model.predict(X_train_scaled) - y_train_scaled, c=\"blue\", label=\"WTI Training Data\")\n",
    "plt.scatter(model.predict(X_test_scaled), model.predict(X_test_scaled) - y_test_scaled, c=\"orange\", label=\"WTI Testing Data\")\n",
    "plt.legend()\n",
    "plt.hlines(y=0, xmin=y_test_scaled.min(), xmax=y_test_scaled.max())\n",
    "plt.title(\"WTI Oil Price Residual Plot\")\n",
    "plt.show()"
   ]
  },
  {
   "cell_type": "markdown",
   "metadata": {},
   "source": [
    "## Step 3b) Predicting BRENT Oil Price from Number of Rigs, Fuel Consumption and USA Oil Production"
   ]
  },
  {
   "cell_type": "code",
   "execution_count": 42,
   "metadata": {},
   "outputs": [
    {
     "name": "stdout",
     "output_type": "stream",
     "text": [
      "(366, 3) (366, 1)\n"
     ]
    }
   ],
   "source": [
    "# Assign the data to X and y\n",
    "\n",
    "X = oil_df[[\"RIGS\", \"FUEL_CONS\", \"USA_OIL\"]]\n",
    "y = oil_df[\"BRENT\"].values.reshape(-1, 1)\n",
    "print(X.shape, y.shape)"
   ]
  },
  {
   "cell_type": "code",
   "execution_count": 43,
   "metadata": {},
   "outputs": [
    {
     "name": "stdout",
     "output_type": "stream",
     "text": [
      "BRENT Oil All Three Predictors (Number of Rigs, Fuel Consumption, and USA Oil Production) Training Score R2: 0.7066499798450274\n",
      "BRENT Oil All Three Predictors (Number of Rigs, Fuel Consumption, and USA Oil Production) Testing Score R2:0.7017482899724101\n",
      "BRENT Oil  Three Predictors (Number of Rigs, Fuel Consumption, and USA Oil Production) MSE: 0.28449471271340704\n"
     ]
    }
   ],
   "source": [
    "# Use train_test_split to create training and testing data\n",
    "\n",
    "from sklearn.model_selection import train_test_split\n",
    "\n",
    "X_train, X_test, y_train, y_test = train_test_split(X, y, random_state=42)\n",
    "\n",
    "# Create a StandardScaler model and fit it to the training data\n",
    "\n",
    "from sklearn.preprocessing import StandardScaler\n",
    "X_scaler = StandardScaler().fit(X_train)\n",
    "y_scaler = StandardScaler().fit(y_train)\n",
    "\n",
    "# Transform the training and testing data using the X_scaler and y_scaler models\n",
    "X_train_scaled = X_scaler.transform(X_train)\n",
    "X_test_scaled = X_scaler.transform(X_test)\n",
    "y_train_scaled = y_scaler.transform(y_train)\n",
    "y_test_scaled = y_scaler.transform(y_test)\n",
    "\n",
    "# Fit the model to the training data and calculate the scores for the training and testing data\n",
    "\n",
    "from sklearn.linear_model import LinearRegression\n",
    "model = LinearRegression()\n",
    "\n",
    "from sklearn.metrics import mean_squared_error\n",
    "model.fit(X_train_scaled, y_train_scaled)\n",
    "predictions = model.predict(X_test_scaled)\n",
    "\n",
    "\n",
    "training_score = model.score(X_train_scaled, y_train_scaled)\n",
    "testing_score = model.score(X_test_scaled, y_test_scaled)\n",
    "MSE = mean_squared_error(y_test_scaled, predictions)\n",
    "\n",
    "\n",
    "print(f\"BRENT Oil All Three Predictors (Number of Rigs, Fuel Consumption, and USA Oil Production) Training Score R2: {training_score}\")\n",
    "print(f\"BRENT Oil All Three Predictors (Number of Rigs, Fuel Consumption, and USA Oil Production) Testing Score R2:{testing_score}\")\n",
    "print(f\"BRENT Oil  Three Predictors (Number of Rigs, Fuel Consumption, and USA Oil Production) MSE: {MSE}\")\n"
   ]
  },
  {
   "cell_type": "code",
   "execution_count": 44,
   "metadata": {},
   "outputs": [
    {
     "data": {
      "image/png": "[encoded data removed]",
      "text/plain": [
       "<Figure size 432x288 with 1 Axes>"
      ]
     },
     "metadata": {
      "needs_background": "light"
     },
     "output_type": "display_data"
    }
   ],
   "source": [
    "# Plot the results \n",
    "from sklearn.linear_model import LinearRegression\n",
    "model = LinearRegression()\n",
    "model.fit(X_train_scaled, y_train_scaled)\n",
    "plt.scatter(model.predict(X_train_scaled), model.predict(X_train_scaled) - y_train_scaled, c=\"blue\", label=\"BRENT Training Data\")\n",
    "plt.scatter(model.predict(X_test_scaled), model.predict(X_test_scaled) - y_test_scaled, c=\"orange\", label=\"BRENT Testing Data\")\n",
    "plt.legend()\n",
    "plt.hlines(y=0, xmin=y_test_scaled.min(), xmax=y_test_scaled.max())\n",
    "plt.title(\"BRENT Oil Price Residual Plot\")\n",
    "plt.show()"
   ]
  },
  {
   "cell_type": "markdown",
   "metadata": {},
   "source": [
    "## Step 3c) Predicting ARAB LIGHT Oil Price from Number of Rigs, Fuel Consumption and USA Oil Production"
   ]
  },
  {
   "cell_type": "code",
   "execution_count": 45,
   "metadata": {},
   "outputs": [
    {
     "name": "stdout",
     "output_type": "stream",
     "text": [
      "(366, 3) (366, 1)\n"
     ]
    }
   ],
   "source": [
    "X = oil_df[[\"RIGS\", \"FUEL_CONS\", \"USA_OIL\"]]\n",
    "y = oil_df[\"ARAB_LIGHT\"].values.reshape(-1, 1)\n",
    "print(X.shape, y.shape)"
   ]
  },
  {
   "cell_type": "code",
   "execution_count": 46,
   "metadata": {},
   "outputs": [
    {
     "name": "stdout",
     "output_type": "stream",
     "text": [
      "ARAB LIGHT Oil All Three Predictors (Number of Rigs, Fuel Consumption, and USA Oil Production) Training Score R2: 0.7123403322651868\n",
      "ARAB LIGHT Oil All Three Predictors (Number of Rigs, Fuel Consumption, and USA Oil Production) Testing Score R2:0.7202569259370255\n",
      "ARAB LIGHT Oil  Three Predictors (Number of Rigs, Fuel Consumption, and USA Oil Production) MSE: 0.2502674405691103\n"
     ]
    }
   ],
   "source": [
    "# Use train_test_split to create training and testing data\n",
    "\n",
    "from sklearn.model_selection import train_test_split\n",
    "\n",
    "X_train, X_test, y_train, y_test = train_test_split(X, y, random_state=42)\n",
    "\n",
    "# Create a StandardScaler model and fit it to the training data\n",
    "\n",
    "from sklearn.preprocessing import StandardScaler\n",
    "X_scaler = StandardScaler().fit(X_train)\n",
    "y_scaler = StandardScaler().fit(y_train)\n",
    "\n",
    "# Transform the training and testing data using the X_scaler and y_scaler models\n",
    "X_train_scaled = X_scaler.transform(X_train)\n",
    "X_test_scaled = X_scaler.transform(X_test)\n",
    "y_train_scaled = y_scaler.transform(y_train)\n",
    "y_test_scaled = y_scaler.transform(y_test)\n",
    "\n",
    "# Fit the model to the training data and calculate the scores for the training and testing data\n",
    "\n",
    "from sklearn.linear_model import LinearRegression\n",
    "model = LinearRegression()\n",
    "\n",
    "from sklearn.metrics import mean_squared_error\n",
    "model.fit(X_train_scaled, y_train_scaled)\n",
    "predictions = model.predict(X_test_scaled)\n",
    "\n",
    "\n",
    "training_score = model.score(X_train_scaled, y_train_scaled)\n",
    "testing_score = model.score(X_test_scaled, y_test_scaled)\n",
    "MSE = mean_squared_error(y_test_scaled, predictions)\n",
    "\n",
    "\n",
    "print(f\"ARAB LIGHT Oil All Three Predictors (Number of Rigs, Fuel Consumption, and USA Oil Production) Training Score R2: {training_score}\")\n",
    "print(f\"ARAB LIGHT Oil All Three Predictors (Number of Rigs, Fuel Consumption, and USA Oil Production) Testing Score R2:{testing_score}\")\n",
    "print(f\"ARAB LIGHT Oil  Three Predictors (Number of Rigs, Fuel Consumption, and USA Oil Production) MSE: {MSE}\")\n"
   ]
  },
  {
   "cell_type": "code",
   "execution_count": 47,
   "metadata": {},
   "outputs": [
    {
     "data": {
      "image/png": "[encoded data removed]",
      "text/plain": [
       "<Figure size 432x288 with 1 Axes>"
      ]
     },
     "metadata": {
      "needs_background": "light"
     },
     "output_type": "display_data"
    }
   ],
   "source": [
    "# Plot the results \n",
    "from sklearn.linear_model import LinearRegression\n",
    "model = LinearRegression()\n",
    "model.fit(X_train_scaled, y_train_scaled)\n",
    "plt.scatter(model.predict(X_train_scaled), model.predict(X_train_scaled) - y_train_scaled, c=\"blue\", label=\"BRENT Training Data\")\n",
    "plt.scatter(model.predict(X_test_scaled), model.predict(X_test_scaled) - y_test_scaled, c=\"orange\", label=\"BRENT Testing Data\")\n",
    "plt.legend()\n",
    "plt.hlines(y=0, xmin=y_test_scaled.min(), xmax=y_test_scaled.max())\n",
    "plt.title(\"ARAB LIGHT Oil Price Residual Plot\")\n",
    "plt.show()"
   ]
  },
  {
   "cell_type": "markdown",
   "metadata": {},
   "source": [
    "##  Step 3 Conclusion: Multivariate Linear Regressions (Models with all three Predictors):\n",
    "### The accuracy scores for our models with all three predictors are the best relative to the models with one or two predictors. Our R2 testing scores for the models with all 3 predictors range from 0.65 to 0.72. "
   ]
  },
  {
   "cell_type": "markdown",
   "metadata": {},
   "source": [
    "# Overall Conclusion: Including all 3 predictors in our models simultaneously leads to the best fitting models."
   ]
  }
 ],
 "metadata": {
  "kernelspec": {
   "display_name": "p36workshop",
   "language": "python",
   "name": "p36workshop"
  },
  "language_info": {
   "codemirror_mode": {
    "name": "ipython",
    "version": 3
   },
   "file_extension": ".py",
   "mimetype": "text/x-python",
   "name": "python",
   "nbconvert_exporter": "python",
   "pygments_lexer": "ipython3",
   "version": "3.6.10"
  }
 },
 "nbformat": 4,
 "nbformat_minor": 2
}
